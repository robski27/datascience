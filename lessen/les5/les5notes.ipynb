{
 "cells": [
  {
   "cell_type": "code",
   "execution_count": null,
   "id": "initial_id",
   "metadata": {
    "collapsed": true
   },
   "outputs": [],
   "source": []
  },
  {
   "cell_type": "markdown",
   "source": [
    "NULL\n",
    "    Cart:6\n",
    "        Printer:3\n",
    "            Ball:1\n",
    "        Paper:3\n",
    "            Ball:1\n",
    "    print:2\n",
    "        ball:1\n",
    "        paper:1\n",
    "            ball:1\n"
   ],
   "metadata": {
    "collapsed": false
   },
   "id": "9a07195ce631685a"
  },
  {
   "cell_type": "markdown",
   "source": [
    "1. 6/8\n",
    "2. 5/8\n",
    "3. 4/8\n",
    "4. 4/8\n",
    "5. 3/8\n",
    "6. 2/8\n",
    "7. 3/8\n",
    "8. 1/8\n",
    "9. 1/8"
   ],
   "metadata": {
    "collapsed": false
   },
   "id": "fcb046ad4ef4ac67"
  }
 ],
 "metadata": {
  "kernelspec": {
   "display_name": "Python 3",
   "language": "python",
   "name": "python3"
  },
  "language_info": {
   "codemirror_mode": {
    "name": "ipython",
    "version": 2
   },
   "file_extension": ".py",
   "mimetype": "text/x-python",
   "name": "python",
   "nbconvert_exporter": "python",
   "pygments_lexer": "ipython2",
   "version": "2.7.6"
  }
 },
 "nbformat": 4,
 "nbformat_minor": 5
}
