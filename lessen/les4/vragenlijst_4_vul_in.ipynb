{
 "cells": [
  {
   "cell_type": "markdown",
   "id": "ecb8a20e-9bd9-4d1c-a67f-7b5b964a2c71",
   "metadata": {},
   "source": [
    "# P3W4 Vragenlijst"
   ]
  },
  {
   "cell_type": "code",
   "execution_count": 4,
   "id": "70eb5c52-bddc-4350-ad17-2da61ba1c8f3",
   "metadata": {
    "ExecuteTime": {
     "end_time": "2024-03-06T15:10:34.187757500Z",
     "start_time": "2024-03-06T15:10:33.205500800Z"
    }
   },
   "outputs": [],
   "source": [
    "import math\n",
    "import pandas as pd \n",
    "from scipy.stats import binom, norm, poisson, t, ttest_1samp, chi2, chisquare\n",
    "studenq = pd.read_csv('vragenlijst 21-22.csv', delimiter=';', decimal=',') # decimal is komma hier"
   ]
  },
  {
   "cell_type": "code",
   "execution_count": 5,
   "id": "69323307-4b76-4908-a8ea-c5f0767bd196",
   "metadata": {
    "ExecuteTime": {
     "end_time": "2024-03-06T15:10:34.198792500Z",
     "start_time": "2024-03-06T15:10:34.189325600Z"
    }
   },
   "outputs": [
    {
     "name": "stdout",
     "output_type": "stream",
     "text": [
      "<class 'pandas.core.frame.DataFrame'>\n",
      "RangeIndex: 89 entries, 0 to 88\n",
      "Data columns (total 33 columns):\n",
      " #   Column                  Non-Null Count  Dtype  \n",
      "---  ------                  --------------  -----  \n",
      " 0   gapminder               89 non-null     object \n",
      " 1   schrijfhand             89 non-null     object \n",
      " 2   schoenmaat              89 non-null     float64\n",
      " 3   lengte                  89 non-null     int64  \n",
      " 4   bloedgroep              89 non-null     object \n",
      " 5   resus                   89 non-null     object \n",
      " 6   siblings                89 non-null     int64  \n",
      " 7   Samenzweringen          82 non-null     object \n",
      " 8   rijbewijs               89 non-null     object \n",
      " 9   domicilie in Antwerpen  89 non-null     object \n",
      " 10  afstudeerrichting       89 non-null     object \n",
      " 11  vrijetijdsbesteding     89 non-null     object \n",
      " 12  uren wiskunde           89 non-null     object \n",
      " 13  informatica belangrijk  89 non-null     object \n",
      " 14  uren buiten schooluren  89 non-null     object \n",
      " 15  afstand tot KdG         89 non-null     float64\n",
      " 16  vervoersmiddel          89 non-null     object \n",
      " 17  klimaatopwarming        89 non-null     object \n",
      " 18  zakgeld                 89 non-null     object \n",
      " 19  stukken fruit           89 non-null     int64  \n",
      " 20  fruitvoorkeur           89 non-null     object \n",
      " 21  besturingssysteem       89 non-null     object \n",
      " 22  belangrijkste app       89 non-null     object \n",
      " 23  M1 - stelen             89 non-null     int64  \n",
      " 24  M2 - team               89 non-null     int64  \n",
      " 25  M3 - beschermen         89 non-null     int64  \n",
      " 26  M4 - voorbeeld          89 non-null     int64  \n",
      " 27  M5 - embryo             89 non-null     int64  \n",
      " 28  M6 - vrijheid           88 non-null     float64\n",
      " 29  mascotte                89 non-null     object \n",
      " 30  zwaarste vak            89 non-null     object \n",
      " 31  boeienste vak           89 non-null     object \n",
      " 32  studiepunt              89 non-null     object \n",
      "dtypes: float64(3), int64(8), object(22)\n",
      "memory usage: 23.1+ KB\n"
     ]
    }
   ],
   "source": [
    "studenq.info()"
   ]
  },
  {
   "cell_type": "markdown",
   "id": "04dc94fd-23fd-4680-99ef-62872f93c5c0",
   "metadata": {},
   "source": [
    "## 1.a Voeg een kolom toe aan het dataframe en plaats daarin de gestalte van een persoon uitgedrukt in zijn schoenmaat (maw lengte gedeeld door schoenmaat)"
   ]
  },
  {
   "cell_type": "code",
   "execution_count": 6,
   "id": "6e5b96df-79bb-4a61-8f71-524c84f9744c",
   "metadata": {
    "ExecuteTime": {
     "end_time": "2024-03-06T15:10:34.203596500Z",
     "start_time": "2024-03-06T15:10:34.198792500Z"
    }
   },
   "outputs": [],
   "source": [
    "##\n",
    "aantalschoenen = studenq.lengte / studenq.schoenmaat\n",
    "studenq[\"lengte in schoenmaat\"] = pd.Series(aantalschoenen)"
   ]
  },
  {
   "cell_type": "markdown",
   "id": "0173703d-1f3e-409e-ab70-88d6f6a8a00a",
   "metadata": {},
   "source": [
    "## 1.b Iemand beweert dat de verhouding gestalte-schoenmaat van een mens gelijk is aan 4,2 met als standaardafwijking 0,05. Kan je op basis van de gegevens uit de vragenlijst dit bijtreden? En dit vanaf welk significantieniveau (alpha)?\n"
   ]
  },
  {
   "cell_type": "code",
   "execution_count": 7,
   "id": "242dc2af-eb07-466d-b626-1006b8d938da",
   "metadata": {
    "ExecuteTime": {
     "end_time": "2024-03-06T15:10:34.213719200Z",
     "start_time": "2024-03-06T15:10:34.202358900Z"
    }
   },
   "outputs": [
    {
     "data": {
      "text/plain": "TtestResult(statistic=-2.0274209177487434, pvalue=0.04564487432748237, df=88)"
     },
     "execution_count": 7,
     "metadata": {},
     "output_type": "execute_result"
    }
   ],
   "source": [
    "# \n",
    "ttest_1samp(studenq[\"lengte in schoenmaat\"],4.2)"
   ]
  },
  {
   "cell_type": "markdown",
   "id": "57156fac-d39e-402f-a027-00d7aad33354",
   "metadata": {},
   "source": [
    "## 2.a Bepaal het 99% betrouwbaarheidsinterval voor de afstand tot KdG (verwijder eerst de uitschieters!). \n",
    "\n"
   ]
  },
  {
   "cell_type": "code",
   "execution_count": 8,
   "id": "77436008-e2fc-4362-8813-af3f37115dfe",
   "metadata": {
    "ExecuteTime": {
     "end_time": "2024-03-06T15:10:34.258789500Z",
     "start_time": "2024-03-06T15:10:34.214256700Z"
    }
   },
   "outputs": [
    {
     "name": "stdout",
     "output_type": "stream",
     "text": [
      "<class 'pandas.core.series.Series'>\n",
      "Low:  -16.650000000000002\n",
      "High: 43.75\n",
      "Len:  89\n",
      "Outliers:\n",
      "9     48.0\n",
      "44    44.0\n",
      "60    44.0\n",
      "Name: afstand tot KdG, dtype: float64\n"
     ]
    },
    {
     "data": {
      "text/plain": "(10.652390235958102, 16.5383074384605)"
     },
     "execution_count": 8,
     "metadata": {},
     "output_type": "execute_result"
    }
   ],
   "source": [
    "def no_outliers(data):\n",
    "    print(type(data))\n",
    "    Q1 = data.quantile(0.25)\n",
    "    Q3 = data.quantile(0.75)\n",
    "    I = Q3 - Q1\n",
    "    low = Q1 - 1.5 * I\n",
    "    high = Q3 + 1.5 * I\n",
    "    print(\"Low: \",low)\n",
    "    print(\"High:\",high)\n",
    "    print(\"Len: \",len(data))\n",
    "    print(\"Outliers:\")\n",
    "    print(data[(data < low) | (data > high)])\n",
    "    return data[(data >= low) & (data <= high)]\n",
    "afstand = no_outliers(studenq['afstand tot KdG'])\n",
    "t.interval(confidence=0.99,df= afstand.count()-1,loc=afstand.mean(),scale=afstand.std()/math.sqrt(afstand.count()))"
   ]
  },
  {
   "cell_type": "code",
   "execution_count": 9,
   "id": "cc510d37-09cb-49e5-b502-984e47d6e0fc",
   "metadata": {
    "ExecuteTime": {
     "end_time": "2024-03-06T15:10:34.260215700Z",
     "start_time": "2024-03-06T15:10:34.223996100Z"
    }
   },
   "outputs": [],
   "source": [
    "#"
   ]
  },
  {
   "cell_type": "markdown",
   "id": "eddbb3d5-cd57-4052-89a0-13b4e7ce4832",
   "metadata": {},
   "source": [
    "## 2.b Iemand beweert dat de afstand tot KdG gemiddeld 19 km bedraagt. Vanaf welk significantieniveau (alpha) kan je de bewering niet weerleggen?\n",
    "\n"
   ]
  },
  {
   "cell_type": "code",
   "execution_count": 10,
   "id": "ea40b7dc-33ed-4471-b6e4-23b3b4c47f81",
   "metadata": {
    "ExecuteTime": {
     "end_time": "2024-03-06T15:10:34.260720900Z",
     "start_time": "2024-03-06T15:10:34.227796800Z"
    }
   },
   "outputs": [
    {
     "data": {
      "text/plain": "TtestResult(statistic=-4.8389366398146825, pvalue=5.769460649567065e-06, df=85)"
     },
     "execution_count": 10,
     "metadata": {},
     "output_type": "execute_result"
    }
   ],
   "source": [
    "ttest_1samp(afstand,19)"
   ]
  },
  {
   "cell_type": "markdown",
   "id": "b31ece27-0e7c-49f7-8c5b-d251ab99edf0",
   "metadata": {},
   "source": [
    "## 3. Verdeling over de verschillende bloedgroepen {\"O\":0.45, \"A\":0.4, \"B\":0.1, \"AB\":0.05}. Kan je dit op basis van de steekproef weerleggen? Neem alpha = 0,05.\n"
   ]
  },
  {
   "cell_type": "code",
   "execution_count": 25,
   "id": "e2834c98-a613-48b6-9401-0eb629f067a3",
   "metadata": {
    "ExecuteTime": {
     "end_time": "2024-03-06T15:15:33.633545100Z",
     "start_time": "2024-03-06T15:15:33.625379Z"
    }
   },
   "outputs": [
    {
     "name": "stdout",
     "output_type": "stream",
     "text": [
      "bloedgroep\n",
      "O     27\n",
      "A     18\n",
      "B      7\n",
      "AB     3\n",
      "Name: count, dtype: int64\n"
     ]
    },
    {
     "data": {
      "text/plain": "Power_divergenceResult(statistic=1.3636363636363638, pvalue=0.7140802613047242)"
     },
     "execution_count": 25,
     "metadata": {},
     "output_type": "execute_result"
    }
   ],
   "source": [
    "#\n",
    "bloedgroep = studenq[studenq['bloedgroep'] != \"Weet ik niet\"]\n",
    "fo = bloedgroep.bloedgroep.value_counts()\n",
    "print(fo)\n",
    "aantal = fo.sum()\n",
    "fe = [0.45*aantal,0.4*aantal,0.1*aantal,0.05*aantal]\n",
    "chisquare(fo,fe)\n",
    "#p-value is boven 0.05 (alpha)\n",
    "# chi2.ppf(0.95,4-1)"
   ]
  }
 ],
 "metadata": {
  "kernelspec": {
   "display_name": "Python 3 (ipykernel)",
   "language": "python",
   "name": "python3"
  },
  "language_info": {
   "codemirror_mode": {
    "name": "ipython",
    "version": 3
   },
   "file_extension": ".py",
   "mimetype": "text/x-python",
   "name": "python",
   "nbconvert_exporter": "python",
   "pygments_lexer": "ipython3",
   "version": "3.9.13"
  }
 },
 "nbformat": 4,
 "nbformat_minor": 5
}
