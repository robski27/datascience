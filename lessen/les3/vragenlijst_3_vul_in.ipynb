{
 "cells": [
  {
   "cell_type": "markdown",
   "id": "ecb8a20e-9bd9-4d1c-a67f-7b5b964a2c71",
   "metadata": {},
   "source": [
    "# P3W3 Vragenlijst"
   ]
  },
  {
   "cell_type": "code",
   "execution_count": 31,
   "id": "70eb5c52-bddc-4350-ad17-2da61ba1c8f3",
   "metadata": {
    "ExecuteTime": {
     "end_time": "2024-02-28T15:20:11.546484200Z",
     "start_time": "2024-02-28T15:20:11.518602300Z"
    }
   },
   "outputs": [],
   "source": [
    "import math\n",
    "import pandas as pd \n",
    "from scipy.stats import binom, norm, poisson, t\n",
    "studenq = pd.read_csv('vragenlijst 21-22.csv', delimiter=';', decimal=',') # decimal is komma hier"
   ]
  },
  {
   "cell_type": "markdown",
   "id": "04dc94fd-23fd-4680-99ef-62872f93c5c0",
   "metadata": {},
   "source": [
    "## 1.a Voeg een kolom toe aan het dataframe en plaats daarin de gestalte van een persoon uitgedrukt in zijn schoenmaat (maw lengte gedeeld door schoenmaat)"
   ]
  },
  {
   "cell_type": "code",
   "execution_count": 32,
   "id": "6e5b96df-79bb-4a61-8f71-524c84f9744c",
   "metadata": {
    "ExecuteTime": {
     "end_time": "2024-02-28T15:20:11.558787500Z",
     "start_time": "2024-02-28T15:20:11.541971Z"
    }
   },
   "outputs": [],
   "source": [
    "#\n",
    "aantalschoenen = studenq.lengte / studenq.schoenmaat\n",
    "studenq[\"lengte in schoenmaat\"] = pd.Series(aantalschoenen)\n"
   ]
  },
  {
   "cell_type": "markdown",
   "id": "0173703d-1f3e-409e-ab70-88d6f6a8a00a",
   "metadata": {},
   "source": [
    "## 1.b Bepaal het gemiddelde en de standaardafwijking"
   ]
  },
  {
   "cell_type": "code",
   "execution_count": 33,
   "id": "242dc2af-eb07-466d-b626-1006b8d938da",
   "metadata": {
    "ExecuteTime": {
     "end_time": "2024-02-28T15:20:11.560072500Z",
     "start_time": "2024-02-28T15:20:11.551582400Z"
    }
   },
   "outputs": [
    {
     "name": "stdout",
     "output_type": "stream",
     "text": [
      "4.167049413790356\n",
      "0.15332544212731153\n"
     ]
    }
   ],
   "source": [
    "#\n",
    "x_bar = studenq[\"lengte in schoenmaat\"].mean()\n",
    "s= studenq[\"lengte in schoenmaat\"].std()\n",
    "print(studenq[\"lengte in schoenmaat\"].mean())\n",
    "print(studenq[\"lengte in schoenmaat\"].std())\n"
   ]
  },
  {
   "cell_type": "markdown",
   "id": "57156fac-d39e-402f-a027-00d7aad33354",
   "metadata": {},
   "source": [
    "## 2. Geef het betrouwbaarheidsinterval (alpha=5%) voor de gemiddelde verhouding gestalte-schoenmaat\n"
   ]
  },
  {
   "cell_type": "code",
   "execution_count": 34,
   "id": "77436008-e2fc-4362-8813-af3f37115dfe",
   "metadata": {
    "ExecuteTime": {
     "end_time": "2024-02-28T15:20:11.573141Z",
     "start_time": "2024-02-28T15:20:11.562433300Z"
    }
   },
   "outputs": [],
   "source": [
    "#\n",
    "p = 0.95\n",
    "n = len(studenq)\n",
    "\n"
   ]
  },
  {
   "cell_type": "markdown",
   "id": "eddbb3d5-cd57-4052-89a0-13b4e7ce4832",
   "metadata": {},
   "source": [
    "## 3. Iemand beweert dat de verhouding gestalte-schoenmaat van een mens gelijk is aan 4,2. Kan je op basis van de gegevens uit de vragenlijst dit (alpha = 5%) bijtreden? En indien alpha = 2.5% ?\n"
   ]
  },
  {
   "cell_type": "code",
   "execution_count": 35,
   "id": "ea40b7dc-33ed-4471-b6e4-23b3b4c47f81",
   "metadata": {
    "ExecuteTime": {
     "end_time": "2024-02-28T15:20:11.604358400Z",
     "start_time": "2024-02-28T15:20:11.566809Z"
    }
   },
   "outputs": [
    {
     "name": "stdout",
     "output_type": "stream",
     "text": [
      "(4.167701642299932, 4.232298357700069)\n",
      "(4.162937872634452, 4.237062127365548)\n"
     ]
    }
   ],
   "source": [
    "mu0 = 4.2\n",
    "p1 = 0.95\n",
    "p2=0.975\n",
    "print(t.interval(confidence=p1, df=n-1, loc=mu0, scale=s/math.sqrt(n)))\n",
    "# 4.167049413790356 ligt er niet in --> verwerpen\n",
    "print(t.interval(confidence=p2, df=n-1, loc=mu0, scale=s/math.sqrt(n)))\n",
    "# 4.167049413790356 ligt wel in het interval --> niet verwerpen "
   ]
  }
 ],
 "metadata": {
  "kernelspec": {
   "display_name": "Python 3 (ipykernel)",
   "language": "python",
   "name": "python3"
  },
  "language_info": {
   "codemirror_mode": {
    "name": "ipython",
    "version": 3
   },
   "file_extension": ".py",
   "mimetype": "text/x-python",
   "name": "python",
   "nbconvert_exporter": "python",
   "pygments_lexer": "ipython3",
   "version": "3.9.13"
  }
 },
 "nbformat": 4,
 "nbformat_minor": 5
}
