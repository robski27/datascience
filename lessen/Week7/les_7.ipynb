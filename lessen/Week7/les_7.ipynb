{
 "cells": [
  {
   "cell_type": "markdown",
   "id": "831118b3-f9c0-47e1-adf6-610205c9ef9e",
   "metadata": {},
   "source": [
    "# P4W1: Discriminantanalyse"
   ]
  },
  {
   "cell_type": "code",
   "execution_count": 2,
   "id": "890c2b95-d7d0-4718-821e-7cf4949b5dd6",
   "metadata": {
    "ExecuteTime": {
     "end_time": "2024-04-17T12:20:10.590369400Z",
     "start_time": "2024-04-17T12:20:04.683234700Z"
    }
   },
   "outputs": [],
   "source": [
    "import math\n",
    "import numpy as np\n",
    "import pandas as pd\n",
    "import matplotlib.pyplot as plt\n",
    "from sklearn.discriminant_analysis import LinearDiscriminantAnalysis"
   ]
  },
  {
   "cell_type": "markdown",
   "id": "24974218-3186-4b5d-8164-a476730fe710",
   "metadata": {},
   "source": [
    "## 1. Biopsy dataset"
   ]
  },
  {
   "cell_type": "code",
   "execution_count": 3,
   "id": "8ecaa5cf-d6ae-496f-ba80-572c3b1a847b",
   "metadata": {
    "ExecuteTime": {
     "end_time": "2024-04-17T12:20:10.634719700Z",
     "start_time": "2024-04-17T12:20:10.591438400Z"
    }
   },
   "outputs": [
    {
     "name": "stdout",
     "output_type": "stream",
     "text": [
      "<class 'pandas.core.frame.DataFrame'>\n",
      "RangeIndex: 699 entries, 0 to 698\n",
      "Data columns (total 11 columns):\n",
      " #   Column  Non-Null Count  Dtype  \n",
      "---  ------  --------------  -----  \n",
      " 0   ID      699 non-null    int64  \n",
      " 1   V1      699 non-null    int64  \n",
      " 2   V2      699 non-null    int64  \n",
      " 3   V3      699 non-null    int64  \n",
      " 4   V4      699 non-null    int64  \n",
      " 5   V5      699 non-null    int64  \n",
      " 6   V6      683 non-null    float64\n",
      " 7   V7      699 non-null    int64  \n",
      " 8   V8      699 non-null    int64  \n",
      " 9   V9      699 non-null    int64  \n",
      " 10  class   699 non-null    object \n",
      "dtypes: float64(1), int64(9), object(1)\n",
      "memory usage: 60.2+ KB\n"
     ]
    },
    {
     "data": {
      "text/plain": "array(['benign', 'malignant'], dtype=object)"
     },
     "execution_count": 3,
     "metadata": {},
     "output_type": "execute_result"
    }
   ],
   "source": [
    "\n",
    "biopsy = pd.read_csv('../../oefeningen/DataSets/biopsy.csv',delimiter=';')\n",
    "biopsy.info()\n",
    "biopsy['class'].unique()"
   ]
  },
  {
   "cell_type": "code",
   "execution_count": 20,
   "id": "352d967d",
   "metadata": {
    "collapsed": false,
    "ExecuteTime": {
     "end_time": "2024-04-17T12:25:24.120904500Z",
     "start_time": "2024-04-17T12:25:23.980180500Z"
    }
   },
   "outputs": [
    {
     "data": {
      "text/plain": "<Figure size 640x480 with 0 Axes>"
     },
     "metadata": {},
     "output_type": "display_data"
    },
    {
     "data": {
      "text/plain": "<Figure size 1000x500 with 1 Axes>",
      "image/png": "[encoded data removed]"
     },
     "metadata": {},
     "output_type": "display_data"
    }
   ],
   "source": [
    "feature = \"V1\"\n",
    "plt.figure()\n",
    "fig, ax = plt.subplots(figsize=(10,5))\n",
    "biopsy[feature][biopsy['class'] == 'benign'].hist(ax=ax, bins=25, density = True, edgecolor='black', color='green', label='benign')\n",
    "biopsy[feature][biopsy['class'] == 'malignant'].hist(ax=ax, bins=25, density = True, edgecolor='black', color='red', alpha=0.7, label='malignant')\n",
    "ax.legend()\n",
    "ax.grid(False)\n",
    "plt.show()"
   ]
  },
  {
   "cell_type": "markdown",
   "id": "22b80276-a1f4-4ea9-96e1-f3abde11206a",
   "metadata": {},
   "source": [
    "## 2. Train model"
   ]
  },
  {
   "cell_type": "code",
   "execution_count": 5,
   "id": "f10b2cf6-ddb4-4ac1-96fc-7ed5b931adcd",
   "metadata": {
    "ExecuteTime": {
     "end_time": "2024-04-17T12:20:10.867084Z",
     "start_time": "2024-04-17T12:20:10.838033400Z"
    }
   },
   "outputs": [
    {
     "data": {
      "text/plain": "LinearDiscriminantAnalysis()",
      "text/html": "<style>#sk-container-id-1 {\n  /* Definition of color scheme common for light and dark mode */\n  --sklearn-color-text: black;\n  --sklearn-color-line: gray;\n  /* Definition of color scheme for unfitted estimators */\n  --sklearn-color-unfitted-level-0: #fff5e6;\n  --sklearn-color-unfitted-level-1: #f6e4d2;\n  --sklearn-color-unfitted-level-2: #ffe0b3;\n  --sklearn-color-unfitted-level-3: chocolate;\n  /* Definition of color scheme for fitted estimators */\n  --sklearn-color-fitted-level-0: #f0f8ff;\n  --sklearn-color-fitted-level-1: #d4ebff;\n  --sklearn-color-fitted-level-2: #b3dbfd;\n  --sklearn-color-fitted-level-3: cornflowerblue;\n\n  /* Specific color for light theme */\n  --sklearn-color-text-on-default-background: var(--sg-text-color, var(--theme-code-foreground, var(--jp-content-font-color1, black)));\n  --sklearn-color-background: var(--sg-background-color, var(--theme-background, var(--jp-layout-color0, white)));\n  --sklearn-color-border-box: var(--sg-text-color, var(--theme-code-foreground, var(--jp-content-font-color1, black)));\n  --sklearn-color-icon: #696969;\n\n  @media (prefers-color-scheme: dark) {\n    /* Redefinition of color scheme for dark theme */\n    --sklearn-color-text-on-default-background: var(--sg-text-color, var(--theme-code-foreground, var(--jp-content-font-color1, white)));\n    --sklearn-color-background: var(--sg-background-color, var(--theme-background, var(--jp-layout-color0, #111)));\n    --sklearn-color-border-box: var(--sg-text-color, var(--theme-code-foreground, var(--jp-content-font-color1, white)));\n    --sklearn-color-icon: #878787;\n  }\n}\n\n#sk-container-id-1 {\n  color: var(--sklearn-color-text);\n}\n\n#sk-container-id-1 pre {\n  padding: 0;\n}\n\n#sk-container-id-1 input.sk-hidden--visually {\n  border: 0;\n  clip: rect(1px 1px 1px 1px);\n  clip: rect(1px, 1px, 1px, 1px);\n  height: 1px;\n  margin: -1px;\n  overflow: hidden;\n  padding: 0;\n  position: absolute;\n  width: 1px;\n}\n\n#sk-container-id-1 div.sk-dashed-wrapped {\n  border: 1px dashed var(--sklearn-color-line);\n  margin: 0 0.4em 0.5em 0.4em;\n  box-sizing: border-box;\n  padding-bottom: 0.4em;\n  background-color: var(--sklearn-color-background);\n}\n\n#sk-container-id-1 div.sk-container {\n  /* jupyter's `normalize.less` sets `[hidden] { display: none; }`\n     but bootstrap.min.css set `[hidden] { display: none !important; }`\n     so we also need the `!important` here to be able to override the\n     default hidden behavior on the sphinx rendered scikit-learn.org.\n     See: https://github.com/scikit-learn/scikit-learn/issues/21755 */\n  display: inline-block !important;\n  position: relative;\n}\n\n#sk-container-id-1 div.sk-text-repr-fallback {\n  display: none;\n}\n\ndiv.sk-parallel-item,\ndiv.sk-serial,\ndiv.sk-item {\n  /* draw centered vertical line to link estimators */\n  background-image: linear-gradient(var(--sklearn-color-text-on-default-background), var(--sklearn-color-text-on-default-background));\n  background-size: 2px 100%;\n  background-repeat: no-repeat;\n  background-position: center center;\n}\n\n/* Parallel-specific style estimator block */\n\n#sk-container-id-1 div.sk-parallel-item::after {\n  content: \"\";\n  width: 100%;\n  border-bottom: 2px solid var(--sklearn-color-text-on-default-background);\n  flex-grow: 1;\n}\n\n#sk-container-id-1 div.sk-parallel {\n  display: flex;\n  align-items: stretch;\n  justify-content: center;\n  background-color: var(--sklearn-color-background);\n  position: relative;\n}\n\n#sk-container-id-1 div.sk-parallel-item {\n  display: flex;\n  flex-direction: column;\n}\n\n#sk-container-id-1 div.sk-parallel-item:first-child::after {\n  align-self: flex-end;\n  width: 50%;\n}\n\n#sk-container-id-1 div.sk-parallel-item:last-child::after {\n  align-self: flex-start;\n  width: 50%;\n}\n\n#sk-container-id-1 div.sk-parallel-item:only-child::after {\n  width: 0;\n}\n\n/* Serial-specific style estimator block */\n\n#sk-container-id-1 div.sk-serial {\n  display: flex;\n  flex-direction: column;\n  align-items: center;\n  background-color: var(--sklearn-color-background);\n  padding-right: 1em;\n  padding-left: 1em;\n}\n\n\n/* Toggleable style: style used for estimator/Pipeline/ColumnTransformer box that is\nclickable and can be expanded/collapsed.\n- Pipeline and ColumnTransformer use this feature and define the default style\n- Estimators will overwrite some part of the style using the `sk-estimator` class\n*/\n\n/* Pipeline and ColumnTransformer style (default) */\n\n#sk-container-id-1 div.sk-toggleable {\n  /* Default theme specific background. It is overwritten whether we have a\n  specific estimator or a Pipeline/ColumnTransformer */\n  background-color: var(--sklearn-color-background);\n}\n\n/* Toggleable label */\n#sk-container-id-1 label.sk-toggleable__label {\n  cursor: pointer;\n  display: block;\n  width: 100%;\n  margin-bottom: 0;\n  padding: 0.5em;\n  box-sizing: border-box;\n  text-align: center;\n}\n\n#sk-container-id-1 label.sk-toggleable__label-arrow:before {\n  /* Arrow on the left of the label */\n  content: \"▸\";\n  float: left;\n  margin-right: 0.25em;\n  color: var(--sklearn-color-icon);\n}\n\n#sk-container-id-1 label.sk-toggleable__label-arrow:hover:before {\n  color: var(--sklearn-color-text);\n}\n\n/* Toggleable content - dropdown */\n\n#sk-container-id-1 div.sk-toggleable__content {\n  max-height: 0;\n  max-width: 0;\n  overflow: hidden;\n  text-align: left;\n  /* unfitted */\n  background-color: var(--sklearn-color-unfitted-level-0);\n}\n\n#sk-container-id-1 div.sk-toggleable__content.fitted {\n  /* fitted */\n  background-color: var(--sklearn-color-fitted-level-0);\n}\n\n#sk-container-id-1 div.sk-toggleable__content pre {\n  margin: 0.2em;\n  border-radius: 0.25em;\n  color: var(--sklearn-color-text);\n  /* unfitted */\n  background-color: var(--sklearn-color-unfitted-level-0);\n}\n\n#sk-container-id-1 div.sk-toggleable__content.fitted pre {\n  /* unfitted */\n  background-color: var(--sklearn-color-fitted-level-0);\n}\n\n#sk-container-id-1 input.sk-toggleable__control:checked~div.sk-toggleable__content {\n  /* Expand drop-down */\n  max-height: 200px;\n  max-width: 100%;\n  overflow: auto;\n}\n\n#sk-container-id-1 input.sk-toggleable__control:checked~label.sk-toggleable__label-arrow:before {\n  content: \"▾\";\n}\n\n/* Pipeline/ColumnTransformer-specific style */\n\n#sk-container-id-1 div.sk-label input.sk-toggleable__control:checked~label.sk-toggleable__label {\n  color: var(--sklearn-color-text);\n  background-color: var(--sklearn-color-unfitted-level-2);\n}\n\n#sk-container-id-1 div.sk-label.fitted input.sk-toggleable__control:checked~label.sk-toggleable__label {\n  background-color: var(--sklearn-color-fitted-level-2);\n}\n\n/* Estimator-specific style */\n\n/* Colorize estimator box */\n#sk-container-id-1 div.sk-estimator input.sk-toggleable__control:checked~label.sk-toggleable__label {\n  /* unfitted */\n  background-color: var(--sklearn-color-unfitted-level-2);\n}\n\n#sk-container-id-1 div.sk-estimator.fitted input.sk-toggleable__control:checked~label.sk-toggleable__label {\n  /* fitted */\n  background-color: var(--sklearn-color-fitted-level-2);\n}\n\n#sk-container-id-1 div.sk-label label.sk-toggleable__label,\n#sk-container-id-1 div.sk-label label {\n  /* The background is the default theme color */\n  color: var(--sklearn-color-text-on-default-background);\n}\n\n/* On hover, darken the color of the background */\n#sk-container-id-1 div.sk-label:hover label.sk-toggleable__label {\n  color: var(--sklearn-color-text);\n  background-color: var(--sklearn-color-unfitted-level-2);\n}\n\n/* Label box, darken color on hover, fitted */\n#sk-container-id-1 div.sk-label.fitted:hover label.sk-toggleable__label.fitted {\n  color: var(--sklearn-color-text);\n  background-color: var(--sklearn-color-fitted-level-2);\n}\n\n/* Estimator label */\n\n#sk-container-id-1 div.sk-label label {\n  font-family: monospace;\n  font-weight: bold;\n  display: inline-block;\n  line-height: 1.2em;\n}\n\n#sk-container-id-1 div.sk-label-container {\n  text-align: center;\n}\n\n/* Estimator-specific */\n#sk-container-id-1 div.sk-estimator {\n  font-family: monospace;\n  border: 1px dotted var(--sklearn-color-border-box);\n  border-radius: 0.25em;\n  box-sizing: border-box;\n  margin-bottom: 0.5em;\n  /* unfitted */\n  background-color: var(--sklearn-color-unfitted-level-0);\n}\n\n#sk-container-id-1 div.sk-estimator.fitted {\n  /* fitted */\n  background-color: var(--sklearn-color-fitted-level-0);\n}\n\n/* on hover */\n#sk-container-id-1 div.sk-estimator:hover {\n  /* unfitted */\n  background-color: var(--sklearn-color-unfitted-level-2);\n}\n\n#sk-container-id-1 div.sk-estimator.fitted:hover {\n  /* fitted */\n  background-color: var(--sklearn-color-fitted-level-2);\n}\n\n/* Specification for estimator info (e.g. \"i\" and \"?\") */\n\n/* Common style for \"i\" and \"?\" */\n\n.sk-estimator-doc-link,\na:link.sk-estimator-doc-link,\na:visited.sk-estimator-doc-link {\n  float: right;\n  font-size: smaller;\n  line-height: 1em;\n  font-family: monospace;\n  background-color: var(--sklearn-color-background);\n  border-radius: 1em;\n  height: 1em;\n  width: 1em;\n  text-decoration: none !important;\n  margin-left: 1ex;\n  /* unfitted */\n  border: var(--sklearn-color-unfitted-level-1) 1pt solid;\n  color: var(--sklearn-color-unfitted-level-1);\n}\n\n.sk-estimator-doc-link.fitted,\na:link.sk-estimator-doc-link.fitted,\na:visited.sk-estimator-doc-link.fitted {\n  /* fitted */\n  border: var(--sklearn-color-fitted-level-1) 1pt solid;\n  color: var(--sklearn-color-fitted-level-1);\n}\n\n/* On hover */\ndiv.sk-estimator:hover .sk-estimator-doc-link:hover,\n.sk-estimator-doc-link:hover,\ndiv.sk-label-container:hover .sk-estimator-doc-link:hover,\n.sk-estimator-doc-link:hover {\n  /* unfitted */\n  background-color: var(--sklearn-color-unfitted-level-3);\n  color: var(--sklearn-color-background);\n  text-decoration: none;\n}\n\ndiv.sk-estimator.fitted:hover .sk-estimator-doc-link.fitted:hover,\n.sk-estimator-doc-link.fitted:hover,\ndiv.sk-label-container:hover .sk-estimator-doc-link.fitted:hover,\n.sk-estimator-doc-link.fitted:hover {\n  /* fitted */\n  background-color: var(--sklearn-color-fitted-level-3);\n  color: var(--sklearn-color-background);\n  text-decoration: none;\n}\n\n/* Span, style for the box shown on hovering the info icon */\n.sk-estimator-doc-link span {\n  display: none;\n  z-index: 9999;\n  position: relative;\n  font-weight: normal;\n  right: .2ex;\n  padding: .5ex;\n  margin: .5ex;\n  width: min-content;\n  min-width: 20ex;\n  max-width: 50ex;\n  color: var(--sklearn-color-text);\n  box-shadow: 2pt 2pt 4pt #999;\n  /* unfitted */\n  background: var(--sklearn-color-unfitted-level-0);\n  border: .5pt solid var(--sklearn-color-unfitted-level-3);\n}\n\n.sk-estimator-doc-link.fitted span {\n  /* fitted */\n  background: var(--sklearn-color-fitted-level-0);\n  border: var(--sklearn-color-fitted-level-3);\n}\n\n.sk-estimator-doc-link:hover span {\n  display: block;\n}\n\n/* \"?\"-specific style due to the `<a>` HTML tag */\n\n#sk-container-id-1 a.estimator_doc_link {\n  float: right;\n  font-size: 1rem;\n  line-height: 1em;\n  font-family: monospace;\n  background-color: var(--sklearn-color-background);\n  border-radius: 1rem;\n  height: 1rem;\n  width: 1rem;\n  text-decoration: none;\n  /* unfitted */\n  color: var(--sklearn-color-unfitted-level-1);\n  border: var(--sklearn-color-unfitted-level-1) 1pt solid;\n}\n\n#sk-container-id-1 a.estimator_doc_link.fitted {\n  /* fitted */\n  border: var(--sklearn-color-fitted-level-1) 1pt solid;\n  color: var(--sklearn-color-fitted-level-1);\n}\n\n/* On hover */\n#sk-container-id-1 a.estimator_doc_link:hover {\n  /* unfitted */\n  background-color: var(--sklearn-color-unfitted-level-3);\n  color: var(--sklearn-color-background);\n  text-decoration: none;\n}\n\n#sk-container-id-1 a.estimator_doc_link.fitted:hover {\n  /* fitted */\n  background-color: var(--sklearn-color-fitted-level-3);\n}\n</style><div id=\"sk-container-id-1\" class=\"sk-top-container\"><div class=\"sk-text-repr-fallback\"><pre>LinearDiscriminantAnalysis()</pre><b>In a Jupyter environment, please rerun this cell to show the HTML representation or trust the notebook. <br />On GitHub, the HTML representation is unable to render, please try loading this page with nbviewer.org.</b></div><div class=\"sk-container\" hidden><div class=\"sk-item\"><div class=\"sk-estimator fitted sk-toggleable\"><input class=\"sk-toggleable__control sk-hidden--visually\" id=\"sk-estimator-id-1\" type=\"checkbox\" checked><label for=\"sk-estimator-id-1\" class=\"sk-toggleable__label fitted sk-toggleable__label-arrow fitted\">&nbsp;&nbsp;LinearDiscriminantAnalysis<a class=\"sk-estimator-doc-link fitted\" rel=\"noreferrer\" target=\"_blank\" href=\"https://scikit-learn.org/1.4/modules/generated/sklearn.discriminant_analysis.LinearDiscriminantAnalysis.html\">?<span>Documentation for LinearDiscriminantAnalysis</span></a><span class=\"sk-estimator-doc-link fitted\">i<span>Fitted</span></span></label><div class=\"sk-toggleable__content fitted\"><pre>LinearDiscriminantAnalysis()</pre></div> </div></div></div></div>"
     },
     "execution_count": 5,
     "metadata": {},
     "output_type": "execute_result"
    }
   ],
   "source": [
    "### Descriptive discriminant analysis ###\n",
    "X = biopsy[['V1','V2', 'V3']]\n",
    "y = biopsy['class']\n",
    "lda = LinearDiscriminantAnalysis()\n",
    "lda.fit(X,y)"
   ]
  },
  {
   "cell_type": "code",
   "execution_count": 6,
   "id": "4bbcaf11",
   "metadata": {
    "collapsed": false,
    "ExecuteTime": {
     "end_time": "2024-04-17T12:20:10.943533800Z",
     "start_time": "2024-04-17T12:20:10.858355600Z"
    }
   },
   "outputs": [
    {
     "name": "stdout",
     "output_type": "stream",
     "text": [
      "['benign' 'malignant']\n",
      "[0.65522175 0.34477825]\n",
      "[1.]\n"
     ]
    }
   ],
   "source": [
    "print(lda.classes_) # classes: values of the dependent variable\n",
    "print(lda.priors_)  #The prior probability is the probability of an observation coming from a particular group in a simple random sample with replacement.\n",
    "print(lda.explained_variance_ratio_) #how much of the variance is explained by each of the discriminant functions (only useful when there are several discriminant functions"
   ]
  },
  {
   "cell_type": "code",
   "execution_count": 7,
   "id": "c07d80bd-79e7-43ac-a509-8b0b422077f0",
   "metadata": {
    "ExecuteTime": {
     "end_time": "2024-04-17T12:20:10.944581200Z",
     "start_time": "2024-04-17T12:20:10.863900600Z"
    }
   },
   "outputs": [
    {
     "name": "stdout",
     "output_type": "stream",
     "text": [
      "0.6552217453505007\n",
      "0.3447782546494993\n"
     ]
    }
   ],
   "source": [
    "# lda.priors_\n",
    "print( len(y[y == \"benign\"]) / len(y) )\n",
    "print( len(y[y == \"malignant\"]) / len(y) )"
   ]
  },
  {
   "cell_type": "code",
   "execution_count": 8,
   "id": "0eb969e9",
   "metadata": {
    "collapsed": false,
    "ExecuteTime": {
     "end_time": "2024-04-17T12:20:10.945108100Z",
     "start_time": "2024-04-17T12:20:10.873731900Z"
    }
   },
   "outputs": [],
   "source": [
    "def LDA_coefficients(X,lda):\n",
    "    nb_col = X.shape[1]\n",
    "    matrix= np.zeros((nb_col+1,nb_col), dtype=int)\n",
    "    Z=pd.DataFrame(data=matrix,columns=X.columns)\n",
    "    for j in range(0,nb_col):\n",
    "        Z.iloc[j,j] = 1\n",
    "    LD = lda.transform(Z)\n",
    "    nb_funct= LD.shape[1]\n",
    "    results = pd.DataFrame();\n",
    "    index = ['const']\n",
    "    for j in range(0,LD.shape[0]-1):\n",
    "        index = np.append(index,'C'+str(j+1))\n",
    "    for i in range(0,LD.shape[1]):\n",
    "        coef = [LD[-1][i]]\n",
    "        for j in range(0,LD.shape[0]-1):\n",
    "            coef = np.append(coef,LD[j][i]-LD[-1][i])\n",
    "        result = pd.Series(coef)\n",
    "        result.index = index\n",
    "        column_name = 'LD' + str(i+1)\n",
    "        results[column_name] = result\n",
    "    return results"
   ]
  },
  {
   "cell_type": "code",
   "execution_count": 9,
   "id": "0184b12e",
   "metadata": {
    "collapsed": false,
    "ExecuteTime": {
     "end_time": "2024-04-17T12:20:10.945633700Z",
     "start_time": "2024-04-17T12:20:10.877926700Z"
    }
   },
   "outputs": [
    {
     "name": "stdout",
     "output_type": "stream",
     "text": [
      "            LD1\n",
      "const -2.634744\n",
      "C1     0.232149\n",
      "C2     0.257481\n",
      "C3     0.250077\n"
     ]
    }
   ],
   "source": [
    "# coefficients of the discriminant function\n",
    "# discriminantfunctie = C1 * V1 + C2 * V2 + C3 * V3 + const\n",
    "result = LDA_coefficients(X,lda)\n",
    "print(LDA_coefficients(X,lda)) "
   ]
  },
  {
   "cell_type": "code",
   "execution_count": 10,
   "id": "c304f78c-c33d-45a9-8f22-68a555a2cb34",
   "metadata": {
    "ExecuteTime": {
     "end_time": "2024-04-17T12:20:11.085010Z",
     "start_time": "2024-04-17T12:20:10.892007800Z"
    }
   },
   "outputs": [
    {
     "data": {
      "text/plain": "<Figure size 640x480 with 0 Axes>"
     },
     "metadata": {},
     "output_type": "display_data"
    },
    {
     "data": {
      "text/plain": "<Figure size 1000x500 with 1 Axes>",
      "image/png": "[encoded data removed]"
     },
     "metadata": {},
     "output_type": "display_data"
    }
   ],
   "source": [
    "# map the independent variables based on the discriminant functions of the model to their N discriminant values\n",
    "# biopsy[\"LD1\"] =  -2.634744 + 0.232149 * X.V1 + 0.257481 * X.V2 + 0.250077 * X.V3\n",
    "biopsy[\"LD1\"] = lda.transform(X)[:,0]   # shape of transform = (699,1)\n",
    "# plot\n",
    "plt.figure()\n",
    "fig, ax = plt.subplots(figsize=(10,5))\n",
    "biopsy['LD1'][biopsy['class'] == 'benign'].hist(ax=ax, bins=25, density = True, edgecolor='black', color='green', label='benign')\n",
    "biopsy['LD1'][biopsy['class'] == 'malignant'].hist(ax=ax, bins=25, density = True, edgecolor='black', color='red', alpha=0.7, label='malignant')\n",
    "ax.legend()\n",
    "ax.grid(False)\n",
    "plt.show()"
   ]
  },
  {
   "cell_type": "markdown",
   "id": "d733aada-3094-446e-afce-e9e18f833e41",
   "metadata": {},
   "source": [
    "## 3. Predict"
   ]
  },
  {
   "cell_type": "code",
   "execution_count": 11,
   "id": "3364f551-5eee-45fd-bcaa-a57e3e9bf817",
   "metadata": {
    "ExecuteTime": {
     "end_time": "2024-04-17T12:20:11.213965600Z",
     "start_time": "2024-04-17T12:20:11.087123400Z"
    }
   },
   "outputs": [
    {
     "name": "stdout",
     "output_type": "stream",
     "text": [
      "['malignant']\n",
      "[[0.0080211 0.9919789]]\n"
     ]
    },
    {
     "name": "stderr",
     "output_type": "stream",
     "text": [
      "C:\\Users\\robbe\\AppData\\Local\\Programs\\Python\\Python311\\Lib\\site-packages\\sklearn\\base.py:493: UserWarning: X does not have valid feature names, but LinearDiscriminantAnalysis was fitted with feature names\n",
      "  warnings.warn(\n",
      "C:\\Users\\robbe\\AppData\\Local\\Programs\\Python\\Python311\\Lib\\site-packages\\sklearn\\base.py:493: UserWarning: X does not have valid feature names, but LinearDiscriminantAnalysis was fitted with feature names\n",
      "  warnings.warn(\n"
     ]
    }
   ],
   "source": [
    "### Predictive discriminant analysis ###\n",
    "print( lda.predict([[5,6,8]]) )\n",
    "print( lda.predict_proba([[5,6,8]]) )"
   ]
  },
  {
   "cell_type": "code",
   "execution_count": 12,
   "id": "19c6e1ec-0f90-4299-8ac9-7ee167ddfaad",
   "metadata": {
    "ExecuteTime": {
     "end_time": "2024-04-17T12:20:11.215964400Z",
     "start_time": "2024-04-17T12:20:11.105779900Z"
    }
   },
   "outputs": [
    {
     "data": {
      "text/plain": "array([[9.97899809e-01, 2.10019056e-03],\n       [6.59174524e-01, 3.40825476e-01],\n       [9.99607241e-01, 3.92758792e-04],\n       ...,\n       [3.20431130e-05, 9.99967957e-01],\n       [1.74295687e-02, 9.82570431e-01],\n       [2.90066726e-03, 9.97099333e-01]])"
     },
     "execution_count": 12,
     "metadata": {},
     "output_type": "execute_result"
    }
   ],
   "source": [
    "lda.predict(X) # output:  ['benign' 'benign' 'benign' 'malignant', … ]\n",
    "lda.predict_proba(X) # output: [[0.99 0.01],[0.65 0.35],[1.   0.  ],...,[0.01 0.99]]"
   ]
  },
  {
   "cell_type": "code",
   "execution_count": 13,
   "id": "1efbe003-494f-4b72-99fb-168c2b973f5d",
   "metadata": {
    "ExecuteTime": {
     "end_time": "2024-04-17T12:20:11.216965Z",
     "start_time": "2024-04-17T12:20:11.113158500Z"
    }
   },
   "outputs": [
    {
     "data": {
      "text/plain": "0.9384835479256081"
     },
     "execution_count": 13,
     "metadata": {},
     "output_type": "execute_result"
    }
   ],
   "source": [
    "# Accuracy = aantal juist voorspeld / totaal\n",
    "# Accuracy = (448 + 208) / 699\n",
    "lda.score(X,y)"
   ]
  },
  {
   "cell_type": "code",
   "execution_count": 14,
   "id": "652879bd-fa99-448b-8e09-119fe4ad41a4",
   "metadata": {
    "ExecuteTime": {
     "end_time": "2024-04-17T12:20:11.261217600Z",
     "start_time": "2024-04-17T12:20:11.121895900Z"
    }
   },
   "outputs": [
    {
     "data": {
      "text/plain": "predicted  benign  malignant  total\nactual                             \nbenign        448         10    458\nmalignant      33        208    241\ntotal         481        218    699",
      "text/html": "<div>\n<style scoped>\n    .dataframe tbody tr th:only-of-type {\n        vertical-align: middle;\n    }\n\n    .dataframe tbody tr th {\n        vertical-align: top;\n    }\n\n    .dataframe thead th {\n        text-align: right;\n    }\n</style>\n<table border=\"1\" class=\"dataframe\">\n  <thead>\n    <tr style=\"text-align: right;\">\n      <th>predicted</th>\n      <th>benign</th>\n      <th>malignant</th>\n      <th>total</th>\n    </tr>\n    <tr>\n      <th>actual</th>\n      <th></th>\n      <th></th>\n      <th></th>\n    </tr>\n  </thead>\n  <tbody>\n    <tr>\n      <th>benign</th>\n      <td>448</td>\n      <td>10</td>\n      <td>458</td>\n    </tr>\n    <tr>\n      <th>malignant</th>\n      <td>33</td>\n      <td>208</td>\n      <td>241</td>\n    </tr>\n    <tr>\n      <th>total</th>\n      <td>481</td>\n      <td>218</td>\n      <td>699</td>\n    </tr>\n  </tbody>\n</table>\n</div>"
     },
     "execution_count": 14,
     "metadata": {},
     "output_type": "execute_result"
    }
   ],
   "source": [
    "# Confusion metrics\n",
    "predicted = pd.Series(lda.predict(X), name='predicted')\n",
    "actual = y.rename('actual')\n",
    "pd.crosstab(index=actual, columns=predicted, margins='all',margins_name='total')"
   ]
  },
  {
   "cell_type": "markdown",
   "id": "c8d682c1-adea-417b-9465-ef834835a76c",
   "metadata": {},
   "source": [
    "## 4. Alternatief: decision tree"
   ]
  },
  {
   "cell_type": "code",
   "execution_count": 15,
   "id": "fb3dc83d-5af8-4c3c-b7a5-d6e6ddfa503a",
   "metadata": {
    "ExecuteTime": {
     "end_time": "2024-04-17T12:20:11.446499100Z",
     "start_time": "2024-04-17T12:20:11.155647200Z"
    }
   },
   "outputs": [
    {
     "data": {
      "text/plain": "0.9856938483547926"
     },
     "execution_count": 15,
     "metadata": {},
     "output_type": "execute_result"
    }
   ],
   "source": [
    "from sklearn.tree import DecisionTreeClassifier\n",
    "dt = DecisionTreeClassifier()\n",
    "dt.fit(X,y)\n",
    "dt.score(X,y)"
   ]
  },
  {
   "cell_type": "code",
   "execution_count": 16,
   "id": "6fcc44f2-9c61-4335-b86a-bd5c7f6cc86a",
   "metadata": {
    "ExecuteTime": {
     "end_time": "2024-04-17T12:20:11.450876700Z",
     "start_time": "2024-04-17T12:20:11.428403Z"
    }
   },
   "outputs": [
    {
     "data": {
      "text/plain": "col_0      benign  malignant  total\nactual                             \nbenign        455          3    458\nmalignant       7        234    241\ntotal         462        237    699",
      "text/html": "<div>\n<style scoped>\n    .dataframe tbody tr th:only-of-type {\n        vertical-align: middle;\n    }\n\n    .dataframe tbody tr th {\n        vertical-align: top;\n    }\n\n    .dataframe thead th {\n        text-align: right;\n    }\n</style>\n<table border=\"1\" class=\"dataframe\">\n  <thead>\n    <tr style=\"text-align: right;\">\n      <th>col_0</th>\n      <th>benign</th>\n      <th>malignant</th>\n      <th>total</th>\n    </tr>\n    <tr>\n      <th>actual</th>\n      <th></th>\n      <th></th>\n      <th></th>\n    </tr>\n  </thead>\n  <tbody>\n    <tr>\n      <th>benign</th>\n      <td>455</td>\n      <td>3</td>\n      <td>458</td>\n    </tr>\n    <tr>\n      <th>malignant</th>\n      <td>7</td>\n      <td>234</td>\n      <td>241</td>\n    </tr>\n    <tr>\n      <th>total</th>\n      <td>462</td>\n      <td>237</td>\n      <td>699</td>\n    </tr>\n  </tbody>\n</table>\n</div>"
     },
     "execution_count": 16,
     "metadata": {},
     "output_type": "execute_result"
    }
   ],
   "source": [
    "predicted = dt.predict(X)\n",
    "pd.crosstab(index=actual, columns=predicted, margins='all',margins_name='total')"
   ]
  }
 ],
 "metadata": {
  "kernelspec": {
   "display_name": "Python 3 (ipykernel)",
   "language": "python",
   "name": "python3"
  },
  "language_info": {
   "codemirror_mode": {
    "name": "ipython",
    "version": 3
   },
   "file_extension": ".py",
   "mimetype": "text/x-python",
   "name": "python",
   "nbconvert_exporter": "python",
   "pygments_lexer": "ipython3",
   "version": "3.11.7"
  }
 },
 "nbformat": 4,
 "nbformat_minor": 5
}
