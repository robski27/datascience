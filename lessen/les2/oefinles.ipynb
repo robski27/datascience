{
 "cells": [
  {
   "cell_type": "markdown",
   "source": [
    "# oef in les"
   ],
   "metadata": {
    "collapsed": false
   },
   "id": "b36e547775897952"
  },
  {
   "cell_type": "markdown",
   "source": [
    "## BINOMIALE VERDELING"
   ],
   "metadata": {
    "collapsed": false
   },
   "id": "cf4ad59623de18d"
  },
  {
   "cell_type": "code",
   "execution_count": 4,
   "id": "initial_id",
   "metadata": {
    "collapsed": true,
    "ExecuteTime": {
     "end_time": "2024-02-21T14:41:04.200700900Z",
     "start_time": "2024-02-21T14:41:04.175602900Z"
    }
   },
   "outputs": [
    {
     "name": "stdout",
     "output_type": "stream",
     "text": [
      "0.10351562499999994\n"
     ]
    },
    {
     "data": {
      "text/plain": "0.9682458365518543"
     },
     "execution_count": 4,
     "metadata": {},
     "output_type": "execute_result"
    }
   ],
   "source": [
    "from scipy.stats import binom, norm, poisson\n",
    "x= range(0,6)\n",
    "listprob = binom.pmf(x,5,1/4)\n",
    "listcum = binom.cdf(x,5,1/4)\n",
    "print(listprob[3]+listprob[4] + listprob[5])\n",
    "listcum\n",
    "binom.std(5,1/4)"
   ]
  },
  {
   "cell_type": "markdown",
   "source": [
    "# normale verdeling"
   ],
   "metadata": {
    "collapsed": false
   },
   "id": "91793e9b79d1eef4"
  },
  {
   "cell_type": "code",
   "outputs": [
    {
     "data": {
      "text/plain": "0.6826894921370859"
     },
     "execution_count": 5,
     "metadata": {},
     "output_type": "execute_result"
    }
   ],
   "source": [
    "norm.cdf(190,loc = 180, scale = 10)- norm.cdf(170,loc = 180, scale = 10)"
   ],
   "metadata": {
    "collapsed": false,
    "ExecuteTime": {
     "end_time": "2024-02-21T14:41:04.202705800Z",
     "start_time": "2024-02-21T14:41:04.181977200Z"
    }
   },
   "id": "fc0c78297bd10cb5",
   "execution_count": 5
  },
  {
   "cell_type": "markdown",
   "source": [
    "# poisson verdeling"
   ],
   "metadata": {
    "collapsed": false
   },
   "id": "e85d6520bd139ef0"
  },
  {
   "cell_type": "code",
   "outputs": [
    {
     "data": {
      "text/plain": "0.15677262182623775"
     },
     "execution_count": 11,
     "metadata": {},
     "output_type": "execute_result"
    }
   ],
   "source": [
    "1 - poisson.cdf(24,20)"
   ],
   "metadata": {
    "collapsed": false,
    "ExecuteTime": {
     "end_time": "2024-02-21T14:43:29.341755400Z",
     "start_time": "2024-02-21T14:43:29.337559100Z"
    }
   },
   "id": "5cbc58485757ad21",
   "execution_count": 11
  }
 ],
 "metadata": {
  "kernelspec": {
   "display_name": "Python 3",
   "language": "python",
   "name": "python3"
  },
  "language_info": {
   "codemirror_mode": {
    "name": "ipython",
    "version": 2
   },
   "file_extension": ".py",
   "mimetype": "text/x-python",
   "name": "python",
   "nbconvert_exporter": "python",
   "pygments_lexer": "ipython2",
   "version": "2.7.6"
  }
 },
 "nbformat": 4,
 "nbformat_minor": 5
}
