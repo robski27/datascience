{
 "cells": [
  {
   "cell_type": "markdown",
   "id": "a46e8e7f-a3a5-4361-8bba-dda534d3aafd",
   "metadata": {},
   "source": [
    "# P3W2 Vragenlijst"
   ]
  },
  {
   "cell_type": "code",
   "execution_count": 1,
   "id": "77a72ab3-a492-4434-9524-c50873bc0801",
   "metadata": {
    "ExecuteTime": {
     "end_time": "2024-02-21T14:53:08.578736400Z",
     "start_time": "2024-02-21T14:53:07.770884700Z"
    }
   },
   "outputs": [
    {
     "name": "stderr",
     "output_type": "stream",
     "text": [
      "C:\\Users\\robbe\\AppData\\Local\\Temp\\ipykernel_10716\\3068639489.py:1: DeprecationWarning: \n",
      "Pyarrow will become a required dependency of pandas in the next major release of pandas (pandas 3.0),\n",
      "(to allow more performant data types, such as the Arrow string type, and better interoperability with other libraries)\n",
      "but was not found to be installed on your system.\n",
      "If this would cause problems for you,\n",
      "please provide us feedback at https://github.com/pandas-dev/pandas/issues/54466\n",
      "        \n",
      "  import pandas as pd\n"
     ]
    }
   ],
   "source": [
    "import pandas as pd \n",
    "from scipy.stats import binom, norm, poisson\n",
    "studenq = pd.read_csv('vragenlijst 21-22.csv', delimiter=';', decimal=',')"
   ]
  },
  {
   "cell_type": "code",
   "execution_count": 2,
   "id": "ac0dc0dd-83c7-4070-a7b3-787405aa9bac",
   "metadata": {
    "ExecuteTime": {
     "end_time": "2024-02-21T14:53:08.595519800Z",
     "start_time": "2024-02-21T14:53:08.578736400Z"
    }
   },
   "outputs": [
    {
     "name": "stdout",
     "output_type": "stream",
     "text": [
      "<class 'pandas.core.frame.DataFrame'>\n",
      "RangeIndex: 89 entries, 0 to 88\n",
      "Data columns (total 33 columns):\n",
      " #   Column                  Non-Null Count  Dtype  \n",
      "---  ------                  --------------  -----  \n",
      " 0   gapminder               89 non-null     object \n",
      " 1   schrijfhand             89 non-null     object \n",
      " 2   schoenmaat              89 non-null     float64\n",
      " 3   lengte                  89 non-null     int64  \n",
      " 4   bloedgroep              89 non-null     object \n",
      " 5   resus                   89 non-null     object \n",
      " 6   siblings                89 non-null     int64  \n",
      " 7   Samenzweringen          82 non-null     object \n",
      " 8   rijbewijs               89 non-null     object \n",
      " 9   domicilie in Antwerpen  89 non-null     object \n",
      " 10  afstudeerrichting       89 non-null     object \n",
      " 11  vrijetijdsbesteding     89 non-null     object \n",
      " 12  uren wiskunde           89 non-null     object \n",
      " 13  informatica belangrijk  89 non-null     object \n",
      " 14  uren buiten schooluren  89 non-null     object \n",
      " 15  afstand tot KdG         89 non-null     float64\n",
      " 16  vervoersmiddel          89 non-null     object \n",
      " 17  klimaatopwarming        89 non-null     object \n",
      " 18  zakgeld                 89 non-null     object \n",
      " 19  stukken fruit           89 non-null     int64  \n",
      " 20  fruitvoorkeur           89 non-null     object \n",
      " 21  besturingssysteem       89 non-null     object \n",
      " 22  belangrijkste app       89 non-null     object \n",
      " 23  M1 - stelen             89 non-null     int64  \n",
      " 24  M2 - team               89 non-null     int64  \n",
      " 25  M3 - beschermen         89 non-null     int64  \n",
      " 26  M4 - voorbeeld          89 non-null     int64  \n",
      " 27  M5 - embryo             89 non-null     int64  \n",
      " 28  M6 - vrijheid           88 non-null     float64\n",
      " 29  mascotte                89 non-null     object \n",
      " 30  zwaarste vak            89 non-null     object \n",
      " 31  boeienste vak           89 non-null     object \n",
      " 32  studiepunt              89 non-null     object \n",
      "dtypes: float64(3), int64(8), object(22)\n",
      "memory usage: 23.1+ KB\n"
     ]
    }
   ],
   "source": [
    "studenq.info()"
   ]
  },
  {
   "cell_type": "markdown",
   "id": "310094d1-f1f4-444b-bd58-d75831086062",
   "metadata": {},
   "source": [
    "## Vraag 1: Wat is de kans dat van 10 willekeurig gekozen studenten, exact 3 studenten hun bloedgroep kennen?"
   ]
  },
  {
   "cell_type": "code",
   "execution_count": 3,
   "id": "03bd0190-756d-4517-ba06-e5e6ca4806ed",
   "metadata": {
    "ExecuteTime": {
     "end_time": "2024-02-21T14:53:08.596534700Z",
     "start_time": "2024-02-21T14:53:08.588405300Z"
    }
   },
   "outputs": [
    {
     "data": {
      "text/plain": "array(['O', 'Weet ik niet', 'AB', 'A', 'B'], dtype=object)"
     },
     "execution_count": 3,
     "metadata": {},
     "output_type": "execute_result"
    }
   ],
   "source": [
    "studenq[\"bloedgroep\"].unique()\n"
   ]
  },
  {
   "cell_type": "code",
   "execution_count": 4,
   "id": "2153942e-acae-4765-b5b8-e23ea999caf1",
   "metadata": {
    "ExecuteTime": {
     "end_time": "2024-02-21T14:53:08.635425700Z",
     "start_time": "2024-02-21T14:53:08.595519800Z"
    }
   },
   "outputs": [
    {
     "data": {
      "text/plain": "0.03362959734037025"
     },
     "execution_count": 4,
     "metadata": {},
     "output_type": "execute_result"
    }
   ],
   "source": [
    "kans = len(studenq[studenq[\"bloedgroep\"] != \"Weet ik niet\"]) /len(studenq)\n",
    "\n",
    "binom.pmf(3,10,kans)"
   ]
  },
  {
   "cell_type": "markdown",
   "id": "0771cd77-0d74-421b-a597-2b2cebc69a19",
   "metadata": {},
   "source": [
    "## Vraag 2a: Wat is de kans dat een student zijn studies onderschat (m.a.w. inschat dat 1 studiepunt overeenkomt met 15 of minder uren) ?\n"
   ]
  },
  {
   "cell_type": "code",
   "execution_count": 5,
   "id": "5b089ecb-1ce7-4d93-890e-adb04fb5f4e7",
   "metadata": {
    "ExecuteTime": {
     "end_time": "2024-02-21T14:53:08.647040100Z",
     "start_time": "2024-02-21T14:53:08.602733800Z"
    }
   },
   "outputs": [
    {
     "data": {
      "text/plain": "array(['16-20 uren', '<= 10 uren', '21-25 uren', '36-40 uren',\n       '31-35 uren', '26-30 uren', '11-15 uren', '>= 41 uren'],\n      dtype=object)"
     },
     "execution_count": 5,
     "metadata": {},
     "output_type": "execute_result"
    }
   ],
   "source": [
    "studenq[\"studiepunt\"].unique()"
   ]
  },
  {
   "cell_type": "code",
   "execution_count": 6,
   "id": "e3729ccb-b94e-4e3d-8ef4-f3e82c7cb735",
   "metadata": {
    "ExecuteTime": {
     "end_time": "2024-02-21T14:53:08.647040100Z",
     "start_time": "2024-02-21T14:53:08.608127600Z"
    }
   },
   "outputs": [
    {
     "name": "stdout",
     "output_type": "stream",
     "text": [
      "0.23595505617977527\n"
     ]
    }
   ],
   "source": [
    "#\n",
    "kans = len(studenq[(studenq[\"studiepunt\"] == \"11-15 uren\") | (studenq[\"studiepunt\"] == \"<= 10 uren\")])/ len(studenq)\n",
    "print(kans)"
   ]
  },
  {
   "cell_type": "markdown",
   "id": "94bbd480-a47e-44fb-bfc1-22d07d96785e",
   "metadata": {},
   "source": [
    "## Vraag 2b: Je dient samen met vier medestudenten een groeps-werk te maken. Wat is de kans dat er minstens 1 van je groepsgenoten zijn studies onderschat?"
   ]
  },
  {
   "cell_type": "code",
   "execution_count": 7,
   "id": "c563119e-c8b4-44ab-8b02-f3d82c1b48f1",
   "metadata": {
    "ExecuteTime": {
     "end_time": "2024-02-21T14:53:08.648115300Z",
     "start_time": "2024-02-21T14:53:08.612907400Z"
    }
   },
   "outputs": [
    {
     "data": {
      "text/plain": "0.42096500824699595"
     },
     "execution_count": 7,
     "metadata": {},
     "output_type": "execute_result"
    }
   ],
   "source": [
    "#\n",
    "binom.pmf(1,4,kans)"
   ]
  },
  {
   "cell_type": "markdown",
   "id": "fc34968a-3b54-462d-93a4-1ffd72c2a7f7",
   "metadata": {},
   "source": [
    "## Vraag 3: Bereken op basis van de gegevens hoeveel % van de studenten maximaal anderhalve standaard-afwijking groter of kleiner zijn dan het gemiddelde.\n"
   ]
  },
  {
   "cell_type": "code",
   "outputs": [],
   "source": [],
   "metadata": {
    "collapsed": false,
    "ExecuteTime": {
     "end_time": "2024-02-21T15:13:56.098474800Z",
     "start_time": "2024-02-21T15:13:56.091778700Z"
    }
   },
   "id": "c3925fe49c0215b2",
   "execution_count": 15
  },
  {
   "cell_type": "code",
   "execution_count": 27,
   "id": "f98faed9-fff7-4c4e-9c90-4758075c077a",
   "metadata": {
    "ExecuteTime": {
     "end_time": "2024-02-21T15:27:35.274945900Z",
     "start_time": "2024-02-21T15:27:35.269727800Z"
    }
   },
   "outputs": [
    {
     "data": {
      "text/plain": "0.9438202247191011"
     },
     "execution_count": 27,
     "metadata": {},
     "output_type": "execute_result"
    }
   ],
   "source": [
    "len(studenq[(studenq['lengte'] >= studenq['lengte'] - studenq['lengte'].std()*1.5) & (studenq['lengte'] <= studenq['lengte'].mean() + studenq['lengte'].std()*1.5)]) / len(studenq)"
   ]
  },
  {
   "cell_type": "code",
   "execution_count": 17,
   "id": "09354575-602b-4bc6-b072-29add26ba6a1",
   "metadata": {
    "ExecuteTime": {
     "end_time": "2024-02-21T15:16:05.112013500Z",
     "start_time": "2024-02-21T15:16:05.105875900Z"
    }
   },
   "outputs": [
    {
     "data": {
      "text/plain": "0.8663855974622838"
     },
     "execution_count": 17,
     "metadata": {},
     "output_type": "execute_result"
    }
   ],
   "source": [
    "# Bij normale verdeling:\n",
    "norm.cdf(studenq['lengte'].mean() + studenq['lengte'].std()*1.5,studenq['lengte'].mean(),studenq['lengte'].std()) - norm.cdf(studenq['lengte'].mean()- 1.5 * studenq['lengte'].std(),studenq['lengte'].mean(),studenq['lengte'].std())"
   ]
  }
 ],
 "metadata": {
  "kernelspec": {
   "display_name": "Python 3 (ipykernel)",
   "language": "python",
   "name": "python3"
  },
  "language_info": {
   "codemirror_mode": {
    "name": "ipython",
    "version": 3
   },
   "file_extension": ".py",
   "mimetype": "text/x-python",
   "name": "python",
   "nbconvert_exporter": "python",
   "pygments_lexer": "ipython3",
   "version": "3.9.13"
  }
 },
 "nbformat": 4,
 "nbformat_minor": 5
}
