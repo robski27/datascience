{
 "cells": [
  {
   "cell_type": "markdown",
   "id": "7cfa4054-46e9-44f5-a161-61f68d6134c9",
   "metadata": {},
   "source": [
    "# P3W2: Kansverdelingen"
   ]
  },
  {
   "cell_type": "code",
   "execution_count": 2,
   "id": "1f83d0af-caa8-47bd-8c7a-6c2c4d4fa88b",
   "metadata": {
    "ExecuteTime": {
     "end_time": "2024-02-21T14:46:19.370933600Z",
     "start_time": "2024-02-21T14:46:18.818675Z"
    }
   },
   "outputs": [],
   "source": [
    "from scipy.stats import binom, norm, poisson"
   ]
  },
  {
   "cell_type": "markdown",
   "id": "551b2dab-45a4-45eb-9b11-f1cc3733e17f",
   "metadata": {},
   "source": [
    "# 1. Binomiale verdeling"
   ]
  },
  {
   "cell_type": "code",
   "execution_count": 3,
   "id": "fe33989a-58b8-4ccc-b00e-0729cc57081f",
   "metadata": {
    "ExecuteTime": {
     "end_time": "2024-02-21T14:46:19.378966Z",
     "start_time": "2024-02-21T14:46:19.371945800Z"
    }
   },
   "outputs": [
    {
     "data": {
      "text/plain": "0.0063693823999999895"
     },
     "execution_count": 3,
     "metadata": {},
     "output_type": "execute_result"
    }
   ],
   "source": [
    "p = 0.8           # kans op succes\n",
    "n = 10            # aantal herhalingen\n",
    "binom.pmf(4,n,p)  # probability mass function: P(x)\n",
    "binom.cdf(4,n,p)  # cumulative density function: P(<=x)"
   ]
  },
  {
   "cell_type": "markdown",
   "id": "ae661e3a-653a-4081-8e04-18a711ae9c0a",
   "metadata": {},
   "source": [
    "## Vraag 2\n",
    "Zes studenten Toegepaste Informatica moeten een test “Engels” afleggen. De kans om voor\n",
    "het examen te slagen 0,75.\n",
    "a. Hoe groot is de kans dat exact 4 van hen slagen?\n",
    "b. Hoe groot is de kans dat exact 5 van hen slagen?\n",
    "c. Hoe groot is de kans dat exact 6 van hen slagen?\n",
    "d. Hoe groot is de kans dat minder dan 4 van hen slagen?"
   ]
  },
  {
   "cell_type": "code",
   "execution_count": 4,
   "id": "8f57eeda-4bd6-40d1-9999-2892ecbfd007",
   "metadata": {
    "ExecuteTime": {
     "end_time": "2024-02-21T14:46:19.384035100Z",
     "start_time": "2024-02-21T14:46:19.378966Z"
    }
   },
   "outputs": [
    {
     "data": {
      "text/plain": "0.296630859375"
     },
     "execution_count": 4,
     "metadata": {},
     "output_type": "execute_result"
    }
   ],
   "source": [
    "#a\n",
    "p = 0.75\n",
    "n = 6\n",
    "kans4 = binom.pmf(4,n,p)\n",
    "kans4"
   ]
  },
  {
   "cell_type": "code",
   "execution_count": 5,
   "id": "b635ee8c-cb66-4398-89fb-ce57eb6bb2d8",
   "metadata": {
    "ExecuteTime": {
     "end_time": "2024-02-21T14:46:19.391284200Z",
     "start_time": "2024-02-21T14:46:19.385047Z"
    }
   },
   "outputs": [
    {
     "data": {
      "text/plain": "0.3559570312499999"
     },
     "execution_count": 5,
     "metadata": {},
     "output_type": "execute_result"
    }
   ],
   "source": [
    "#b\n",
    "kans5 = binom.pmf(5,n,p)\n",
    "kans5"
   ]
  },
  {
   "cell_type": "code",
   "execution_count": 6,
   "id": "fead9ae2-f168-4090-a669-02d0f22789bd",
   "metadata": {
    "ExecuteTime": {
     "end_time": "2024-02-21T14:46:19.447756Z",
     "start_time": "2024-02-21T14:46:19.390750600Z"
    }
   },
   "outputs": [
    {
     "data": {
      "text/plain": "0.177978515625"
     },
     "execution_count": 6,
     "metadata": {},
     "output_type": "execute_result"
    }
   ],
   "source": [
    "#c\n",
    "kans6 = binom.pmf(6,n,p)\n",
    "kans6"
   ]
  },
  {
   "cell_type": "code",
   "execution_count": 7,
   "id": "d1abe25f-9539-49d3-ad96-91c5a107b969",
   "metadata": {
    "ExecuteTime": {
     "end_time": "2024-02-21T14:46:19.448826800Z",
     "start_time": "2024-02-21T14:46:19.396158600Z"
    }
   },
   "outputs": [
    {
     "data": {
      "text/plain": "0.16943359375"
     },
     "execution_count": 7,
     "metadata": {},
     "output_type": "execute_result"
    }
   ],
   "source": [
    "#d pas op MINDER dan vier dus => 3 \n",
    "kanslt4 = binom.cdf(3,n,p)\n",
    "kanslt4"
   ]
  },
  {
   "cell_type": "markdown",
   "id": "91955be1-9cec-4b3e-b9bf-5c8182753148",
   "metadata": {},
   "source": [
    "## Vraag 7\n",
    "Een toets bestaat uit 40 vragen en de gemiddelde moeilijkheidsgraad van de vragen is 0,85\n",
    "(de kans op een juist antwoord is 0,85). Per vraag krijgen de studenten 1 punt. Welke van\n",
    "onderstaande waarden zijn de juiste verwachte waarde en de standaardafwijking van de\n",
    "score op deze toets?\n",
    "a. μ=34 en ơ=2,26\n",
    "b. μ=29 en ơ=2,26\n",
    "c. μ=34 en ơ=5,10\n",
    "d. μ=29 en ơ=5,10"
   ]
  },
  {
   "cell_type": "code",
   "execution_count": 8,
   "id": "412214f5-fdbe-4d95-a8ae-12a626f758c8",
   "metadata": {
    "ExecuteTime": {
     "end_time": "2024-02-21T14:46:19.449885700Z",
     "start_time": "2024-02-21T14:46:19.401543900Z"
    }
   },
   "outputs": [
    {
     "data": {
      "text/plain": "34.0"
     },
     "execution_count": 8,
     "metadata": {},
     "output_type": "execute_result"
    }
   ],
   "source": [
    "# verwachtins waarde\n",
    "\n",
    "\n",
    "binom.mean(40,0.85)\n"
   ]
  },
  {
   "cell_type": "code",
   "execution_count": 9,
   "id": "6dc1dbe2-5aa7-4937-aa80-1fb6fd89ce39",
   "metadata": {
    "ExecuteTime": {
     "end_time": "2024-02-21T14:46:19.450946400Z",
     "start_time": "2024-02-21T14:46:19.406918700Z"
    }
   },
   "outputs": [
    {
     "data": {
      "text/plain": "2.26"
     },
     "execution_count": 9,
     "metadata": {},
     "output_type": "execute_result"
    }
   ],
   "source": [
    "#standaardafwijking\n",
    "round(binom.std(40,0.85),2)\n",
    "# A is juist"
   ]
  },
  {
   "cell_type": "markdown",
   "id": "90cdd0ba-1629-4375-9c35-f5734b0d9c33",
   "metadata": {},
   "source": [
    "## Vraag 13\n",
    "Bij een eenvoudige prijsvraag op de website geven 8 van de 10 mensen het juiste antwoord.\n",
    "Hoe groot is de kans dat ten minste 55 deelnemers uit een aselecte steekproef van 60\n",
    "personen correct geantwoord hebben (2 beduidende cijfers)?"
   ]
  },
  {
   "cell_type": "code",
   "execution_count": 10,
   "id": "067739cc-b56f-4a29-8a8b-3ae492c88d5c",
   "metadata": {
    "ExecuteTime": {
     "end_time": "2024-02-21T14:46:19.452008100Z",
     "start_time": "2024-02-21T14:46:19.413718400Z"
    }
   },
   "outputs": [
    {
     "data": {
      "text/plain": "0.012106170018566287"
     },
     "execution_count": 10,
     "metadata": {},
     "output_type": "execute_result"
    }
   ],
   "source": [
    "#\n",
    "kans = 0.8\n",
    "n = 60\n",
    "1 - binom.cdf(54,n ,kans)\n"
   ]
  },
  {
   "cell_type": "markdown",
   "id": "39df3f6d-20df-40ec-ae4f-2de1b339eb61",
   "metadata": {},
   "source": [
    "## Vraag 15\n",
    "Tijdens een laptopexamen kan er van alles mis gaan.\n",
    "We weten dat een computer met Windows 2% kans heeft om te crashen tijdens het examen.\n",
    "Bij Mac OSX is dat 0,2% en bij Linux is dat 0,1%.\n",
    "Stel dat een klas van 40 studenten examen komt afleggen.\n",
    "Situatie 1: iedereen draait Windows:\n",
    "1a) wat is het verwachte aantal crashes (ombudsdossiers ;-) ) tijdens het examen?\n",
    "1b) hoeveel kans is er dat er 1 computer crasht tijdens het examen?\n",
    "1c) hoeveel kans is er dat er 2 computers crashen tijdens het examen?\n",
    "Situatie 2: 10 studenten draaien Windows, 10 studenten draaien Mac OSX en 20 draaien\n",
    "Linux\n",
    "2a) wat is het verwachte aantal crashes tijdens het examen?\n",
    "2b) hoeveel kans is er dat er 1 computer crasht tijdens het examen?\n",
    "2c) hoeveel kans is er dat er 2 computers crashen tijdens het examen?"
   ]
  },
  {
   "cell_type": "code",
   "execution_count": 11,
   "id": "e2f1eab6-1629-48a3-9ac9-ee838f36cad9",
   "metadata": {
    "ExecuteTime": {
     "end_time": "2024-02-21T14:46:19.565689600Z",
     "start_time": "2024-02-21T14:46:19.419235Z"
    }
   },
   "outputs": [
    {
     "data": {
      "text/plain": "0.8"
     },
     "execution_count": 11,
     "metadata": {},
     "output_type": "execute_result"
    }
   ],
   "source": [
    "#1a\n",
    "p = 0.02\n",
    "n = 40\n",
    "binom.mean(n,p)"
   ]
  },
  {
   "cell_type": "code",
   "execution_count": 12,
   "id": "3769e225-a25d-4223-bd3c-ebaeaf5e6f9d",
   "metadata": {
    "ExecuteTime": {
     "end_time": "2024-02-21T14:46:19.565689600Z",
     "start_time": "2024-02-21T14:46:19.425182700Z"
    }
   },
   "outputs": [
    {
     "data": {
      "text/plain": "36.38370644497561"
     },
     "execution_count": 12,
     "metadata": {},
     "output_type": "execute_result"
    }
   ],
   "source": [
    "#1b\n",
    "binom.pmf(1,n,p)*100"
   ]
  },
  {
   "cell_type": "code",
   "execution_count": 13,
   "id": "5b5f0c0b-baaa-42c3-a48f-e21e0a7b9c2a",
   "metadata": {
    "ExecuteTime": {
     "end_time": "2024-02-21T14:46:19.566689300Z",
     "start_time": "2024-02-21T14:46:19.432052800Z"
    }
   },
   "outputs": [
    {
     "data": {
      "text/plain": "0.14479230115857625"
     },
     "execution_count": 13,
     "metadata": {},
     "output_type": "execute_result"
    }
   ],
   "source": [
    "#1c\n",
    "binom.pmf(2,n,p)"
   ]
  },
  {
   "cell_type": "markdown",
   "id": "8c08789c-15a5-4b72-9a39-46f7cd8abefa",
   "metadata": {},
   "source": [
    "# 2. Normale verdeling"
   ]
  },
  {
   "cell_type": "code",
   "execution_count": 14,
   "id": "f5991a8b-81bf-4b48-b1ca-e3cdf3bec438",
   "metadata": {
    "ExecuteTime": {
     "end_time": "2024-02-21T14:46:19.568196Z",
     "start_time": "2024-02-21T14:46:19.437321900Z"
    }
   },
   "outputs": [
    {
     "data": {
      "text/plain": "0.460172162722971"
     },
     "execution_count": 14,
     "metadata": {},
     "output_type": "execute_result"
    }
   ],
   "source": [
    "# loc: gemiddelde\n",
    "# scale: standaardafwijking\n",
    "norm.cdf(179, loc=180, scale=10)  # cumulative density function: P(<=x)"
   ]
  },
  {
   "cell_type": "markdown",
   "id": "52b4cb8e-6c30-4048-8bbc-abbffe00ad1c",
   "metadata": {},
   "source": [
    "## Vraag 9\n",
    "In een klas is de gemiddelde haarlengte normaal verdeeld μ=20cm en ơ=4. Wat zijn de\n",
    "volgende kansen?\n",
    "a. De kans dat iemands haar langer is dan 28cm\n",
    "b. De kans dat iemands haar korter is dan 16cm\n",
    "c. De kans dat iemand haar een lengte heeft tussen 18cm en 22cm"
   ]
  },
  {
   "cell_type": "code",
   "execution_count": 15,
   "id": "96c46131-916d-42d0-928c-f12be392ffa3",
   "metadata": {
    "ExecuteTime": {
     "end_time": "2024-02-21T14:46:19.569204400Z",
     "start_time": "2024-02-21T14:46:19.442982900Z"
    }
   },
   "outputs": [
    {
     "data": {
      "text/plain": "0.02275013194817921"
     },
     "execution_count": 15,
     "metadata": {},
     "output_type": "execute_result"
    }
   ],
   "source": [
    "#a\n",
    "1 - norm.cdf(28, loc=20, scale=4)"
   ]
  },
  {
   "cell_type": "code",
   "execution_count": 29,
   "id": "11355b34-855e-455e-a587-221f5177cbd6",
   "metadata": {
    "ExecuteTime": {
     "end_time": "2024-02-21T14:47:03.379724100Z",
     "start_time": "2024-02-21T14:47:03.371936600Z"
    }
   },
   "outputs": [
    {
     "data": {
      "text/plain": "0.15865525393145707"
     },
     "execution_count": 29,
     "metadata": {},
     "output_type": "execute_result"
    }
   ],
   "source": [
    "#b\n",
    "norm.cdf(16, loc=20, scale=4)"
   ]
  },
  {
   "cell_type": "code",
   "execution_count": 30,
   "id": "09f0ece8-845a-4695-a269-76f778bc8206",
   "metadata": {
    "ExecuteTime": {
     "end_time": "2024-02-21T14:47:21.509304900Z",
     "start_time": "2024-02-21T14:47:21.503667100Z"
    }
   },
   "outputs": [
    {
     "data": {
      "text/plain": "0.38292492254802624"
     },
     "execution_count": 30,
     "metadata": {},
     "output_type": "execute_result"
    }
   ],
   "source": [
    "#c\n",
    "norm.cdf(22, loc=20, scale=4) - norm.cdf(18, loc=20, scale=4)"
   ]
  },
  {
   "cell_type": "markdown",
   "id": "913bccff-ecee-4d83-8d27-7d7bd1fee585",
   "metadata": {},
   "source": [
    "## Vraag 12\n",
    "Uit onderzoek is gebleken dat de levensduur van lampen normaal verdeeld is. Een bepaald\n",
    "type lampen heeft een levensduur van 500 uur, met een standaardafwijking van 100 uur. Een\n",
    "grootwinkelbedrijf koopt 50 000 lampen van dit type in.\n",
    "a. Hoeveel van deze lampen branden langer dan 400 uur?\n",
    "b. Hoeveel van deze lampen hebben een levenduur die ligt tussen 400 en 700 uur? \n",
    "c.Hoeveel van deze lampen hebben een levenduur die onder de 600 uur ligt? Vergelijk dit\n",
    "resultaat met dat van vraag 12a. Wat zie je? Hoe komt dit?\n"
   ]
  },
  {
   "cell_type": "code",
   "execution_count": 34,
   "id": "56a10c52-2515-41dd-a3a6-4b0c0f63dac1",
   "metadata": {
    "ExecuteTime": {
     "end_time": "2024-02-21T14:50:18.351849200Z",
     "start_time": "2024-02-21T14:50:18.344161Z"
    }
   },
   "outputs": [
    {
     "data": {
      "text/plain": "42067.237303427144"
     },
     "execution_count": 34,
     "metadata": {},
     "output_type": "execute_result"
    }
   ],
   "source": [
    "#a\n",
    "50000*(1 -norm.cdf(400,loc=500,scale=100 ))"
   ]
  },
  {
   "cell_type": "code",
   "execution_count": 35,
   "id": "5c1e3188-1b46-446c-8503-701a314f8618",
   "metadata": {
    "ExecuteTime": {
     "end_time": "2024-02-21T14:51:36.679422700Z",
     "start_time": "2024-02-21T14:51:36.671705400Z"
    }
   },
   "outputs": [
    {
     "data": {
      "text/plain": "40929.730706018185"
     },
     "execution_count": 35,
     "metadata": {},
     "output_type": "execute_result"
    }
   ],
   "source": [
    "#b\n",
    "50000*(norm.cdf(700,loc=500,scale=100) - norm.cdf(400,loc=500,scale=100))"
   ]
  },
  {
   "cell_type": "code",
   "outputs": [
    {
     "data": {
      "text/plain": "42067.237303427144"
     },
     "execution_count": 38,
     "metadata": {},
     "output_type": "execute_result"
    }
   ],
   "source": [
    "#c\n",
    "50000*(norm.cdf(600,loc=500,scale=100))"
   ],
   "metadata": {
    "collapsed": false,
    "ExecuteTime": {
     "end_time": "2024-02-21T14:58:34.423939700Z",
     "start_time": "2024-02-21T14:58:34.418252100Z"
    }
   },
   "id": "508be2492bfdb5b4",
   "execution_count": 38
  },
  {
   "cell_type": "markdown",
   "id": "2bcd6789-76b8-44fe-95aa-0eb3d82f20b7",
   "metadata": {},
   "source": [
    "# 3. Poisson verdeling"
   ]
  },
  {
   "cell_type": "code",
   "execution_count": 20,
   "id": "46376f43-d03a-464d-87ec-0eb8341e8fbe",
   "metadata": {
    "ExecuteTime": {
     "end_time": "2024-02-21T14:46:19.602852600Z",
     "start_time": "2024-02-21T14:46:19.467946200Z"
    }
   },
   "outputs": [
    {
     "data": {
      "text/plain": "0.06708596287903189"
     },
     "execution_count": 20,
     "metadata": {},
     "output_type": "execute_result"
    }
   ],
   "source": [
    "gemiddeld = 10             # gemiddelde\n",
    "poisson.pmf(15, gemiddeld) # probability mass function: P(x)\n",
    "poisson.cdf(5, gemiddeld)  # cumulative density function: P(<=x)"
   ]
  },
  {
   "cell_type": "markdown",
   "id": "4b94eeed-fa3a-430e-a613-e72832935403",
   "metadata": {},
   "source": [
    "## Vraag 4\n",
    "Als je met de fiets naar school fietst, heb je gemiddeld 2 maal per jaar een lekke band.\n",
    "a. Wat is de kans dat je geen lekke band hebt in een gegeven jaar?\n",
    "b. Wat is de kans dat je meer dan 3 lekke banden hebt in een jaar?\n",
    "c. Wat is de kans dat je 2 lekke banden hebt in 1 maand tijd?"
   ]
  },
  {
   "cell_type": "code",
   "execution_count": 39,
   "id": "ba592846-5731-42cb-80c1-84e9f961132a",
   "metadata": {
    "tags": [],
    "ExecuteTime": {
     "end_time": "2024-02-21T14:59:52.911317Z",
     "start_time": "2024-02-21T14:59:52.893159Z"
    }
   },
   "outputs": [
    {
     "data": {
      "text/plain": "0.1353352832366127"
     },
     "execution_count": 39,
     "metadata": {},
     "output_type": "execute_result"
    }
   ],
   "source": [
    "#a\n",
    "poisson.cdf(0,2)"
   ]
  },
  {
   "cell_type": "code",
   "execution_count": 40,
   "id": "1e7851c2-1eb4-4640-a026-454a86b6d52d",
   "metadata": {
    "ExecuteTime": {
     "end_time": "2024-02-21T15:00:42.609889200Z",
     "start_time": "2024-02-21T15:00:42.604280700Z"
    }
   },
   "outputs": [
    {
     "data": {
      "text/plain": "0.14287653950145296"
     },
     "execution_count": 40,
     "metadata": {},
     "output_type": "execute_result"
    }
   ],
   "source": [
    "#b\n",
    "1 - poisson.cdf(3,2)"
   ]
  },
  {
   "cell_type": "code",
   "execution_count": 50,
   "id": "6050c643-9fa4-488b-ba4f-2605bba96fc8",
   "metadata": {
    "ExecuteTime": {
     "end_time": "2024-02-21T15:03:19.786607400Z",
     "start_time": "2024-02-21T15:03:19.777471400Z"
    }
   },
   "outputs": [
    {
     "data": {
      "text/plain": "0.011756690623480748"
     },
     "execution_count": 50,
     "metadata": {},
     "output_type": "execute_result"
    }
   ],
   "source": [
    "#c\n",
    "poisson.pmf(2,2/12)"
   ]
  },
  {
   "cell_type": "markdown",
   "id": "27db09d7-838e-4c69-811a-923c4747969d",
   "metadata": {},
   "source": [
    "## Vraag 6\n",
    "Er worden gemiddeld 3,5 bitcoin transacties per seconde uitgevoerd. Het maximum aantal\n",
    "transacties dat het netwerk kan verwerken is echter 7 per seconde.\n",
    "a. Wat is de kans dat er gedurende een seconde meer dan 7 transacties uitgevoerd\n",
    "moeten worden?\n",
    "b. Wat is de kans dat er geen enkele transactie is gedurende een seconde? c.\n",
    "Wat is de kans dat er 3 of minder transacties zijn gedurende een seconde? d.\n",
    "Wat is de kans dat er 2 of meer transacties zijn gedurende een seconde? e.\n",
    "Hoeveel transacties verwacht je op een dag?"
   ]
  },
  {
   "cell_type": "code",
   "execution_count": 51,
   "id": "37e42dd2-e62c-4380-8eec-d615927ae13b",
   "metadata": {
    "ExecuteTime": {
     "end_time": "2024-02-21T15:05:00.793092600Z",
     "start_time": "2024-02-21T15:05:00.787573200Z"
    }
   },
   "outputs": [
    {
     "data": {
      "text/plain": "0.026738922091319672"
     },
     "execution_count": 51,
     "metadata": {},
     "output_type": "execute_result"
    }
   ],
   "source": [
    "#a\n",
    "1 - poisson.cdf(7,3.5)"
   ]
  },
  {
   "cell_type": "code",
   "execution_count": 52,
   "id": "72464706-1e10-4eb0-940a-4e838b4e6415",
   "metadata": {
    "ExecuteTime": {
     "end_time": "2024-02-21T15:05:41.845004500Z",
     "start_time": "2024-02-21T15:05:41.839476200Z"
    }
   },
   "outputs": [
    {
     "data": {
      "text/plain": "0.0301973834223185"
     },
     "execution_count": 52,
     "metadata": {},
     "output_type": "execute_result"
    }
   ],
   "source": [
    "#b\n",
    "poisson.pmf(0,3.5)"
   ]
  },
  {
   "cell_type": "code",
   "execution_count": 53,
   "id": "d92d93ce-d5b9-41b2-a5e3-63212af0b9d5",
   "metadata": {
    "ExecuteTime": {
     "end_time": "2024-02-21T15:06:09.016539300Z",
     "start_time": "2024-02-21T15:06:09.012164Z"
    }
   },
   "outputs": [
    {
     "data": {
      "text/plain": "0.536632667900785"
     },
     "execution_count": 53,
     "metadata": {},
     "output_type": "execute_result"
    }
   ],
   "source": [
    "#c\n",
    "poisson.cdf(3,3.5)"
   ]
  },
  {
   "cell_type": "code",
   "execution_count": 54,
   "id": "103f72f1-50f7-419b-80ff-19d37f7f0ae1",
   "metadata": {
    "ExecuteTime": {
     "end_time": "2024-02-21T15:06:29.379904500Z",
     "start_time": "2024-02-21T15:06:29.373005500Z"
    }
   },
   "outputs": [
    {
     "data": {
      "text/plain": "0.8641117745995668"
     },
     "execution_count": 54,
     "metadata": {},
     "output_type": "execute_result"
    }
   ],
   "source": [
    "#d\n",
    "1 - poisson.cdf(1,3.5)"
   ]
  },
  {
   "cell_type": "code",
   "execution_count": 55,
   "id": "af0aae24-6db3-47de-8255-0ee451e7a0bc",
   "metadata": {
    "ExecuteTime": {
     "end_time": "2024-02-21T15:06:58.566818600Z",
     "start_time": "2024-02-21T15:06:58.557789600Z"
    }
   },
   "outputs": [
    {
     "data": {
      "text/plain": "302400.0"
     },
     "execution_count": 55,
     "metadata": {},
     "output_type": "execute_result"
    }
   ],
   "source": [
    "#e\n",
    "60*60*24*3.5"
   ]
  }
 ],
 "metadata": {
  "kernelspec": {
   "display_name": "Python 3 (ipykernel)",
   "language": "python",
   "name": "python3"
  },
  "language_info": {
   "codemirror_mode": {
    "name": "ipython",
    "version": 3
   },
   "file_extension": ".py",
   "mimetype": "text/x-python",
   "name": "python",
   "nbconvert_exporter": "python",
   "pygments_lexer": "ipython3",
   "version": "3.9.13"
  }
 },
 "nbformat": 4,
 "nbformat_minor": 5
}
