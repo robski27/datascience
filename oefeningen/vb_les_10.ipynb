{
 "cells": [
  {
   "cell_type": "markdown",
   "id": "831118b3-f9c0-47e1-adf6-610205c9ef9e",
   "metadata": {},
   "source": [
    "# P4W4: Meta-heuristieken"
   ]
  },
  {
   "cell_type": "code",
   "execution_count": 2,
   "id": "890c2b95-d7d0-4718-821e-7cf4949b5dd6",
   "metadata": {
    "ExecuteTime": {
     "end_time": "2024-06-10T17:16:11.771956100Z",
     "start_time": "2024-06-10T17:16:11.350919900Z"
    }
   },
   "outputs": [],
   "source": [
    "import math\n",
    "import numpy as np\n",
    "import pandas as pd\n",
    "from simanneal import Annealer"
   ]
  },
  {
   "cell_type": "markdown",
   "id": "24974218-3186-4b5d-8164-a476730fe710",
   "metadata": {},
   "source": [
    "## 1. Simulated Annealing"
   ]
  },
  {
   "cell_type": "code",
   "execution_count": 3,
   "id": "8ecaa5cf-d6ae-496f-ba80-572c3b1a847b",
   "metadata": {
    "ExecuteTime": {
     "end_time": "2024-06-10T17:16:12.993506900Z",
     "start_time": "2024-06-10T17:16:11.770707Z"
    }
   },
   "outputs": [
    {
     "name": "stderr",
     "output_type": "stream",
     "text": [
      " Temperature        Energy    Accept   Improve     Elapsed   Remaining\n",
      "     2.50000         20.46    72.88%    36.02%     0:00:01     0:00:00\r"
     ]
    },
    {
     "name": "stdout",
     "output_type": "stream",
     "text": [
      "(array([-0.00565418,  0.01110969]), 0.03081856783441239)\n"
     ]
    }
   ],
   "source": [
    "class RastriginProblem(Annealer):\n",
    "    def energy(self):\n",
    "        x1 = self.state[0]\n",
    "        x2 = self.state[1]\n",
    "        sum = 10 * 2 + self.state[0]**2 + self.state[1]**2\n",
    "        sum = sum - 10 * math.cos(2 * math.pi * self.state[0]) - 10 * math.cos(2 * math.pi * self.state[1])\n",
    "        return sum    # + want minimum\n",
    "\n",
    "    def move(self):\n",
    "        i = np.random.randint(0,2)\n",
    "        self.state[i] += np.random.normal(0, 0.1)\n",
    "        self.state[i] = np.clip(self.state[i], -5.12, 5.12)\n",
    "\n",
    "# minimum = 0 in (0,0)\n",
    "init_sol =  np.random.uniform(-5.12,5.12, size=2) #initial solution: array met 2 elementen\n",
    "rastrigin=RastriginProblem(init_sol)\n",
    "# set annealing parameters, if not default values will be used\n",
    "rastrigin.Tmax = 25000.0 \n",
    "rastrigin.Tmin = 2.5 \n",
    "rastrigin.updates = 10\n",
    "rastrigin.steps = 100000\n",
    "opt_sol = rastrigin.anneal()\n",
    "print(opt_sol)"
   ]
  },
  {
   "cell_type": "markdown",
   "id": "40a90ebf-9187-47fc-8ea7-b2c8f6902e24",
   "metadata": {},
   "source": [
    "## 2. Traveling Salesman"
   ]
  },
  {
   "cell_type": "code",
   "execution_count": 77,
   "id": "7fd57d6e-6ee5-4450-8293-06140be3ccf1",
   "metadata": {
    "ExecuteTime": {
     "end_time": "2024-06-10T17:25:21.859004800Z",
     "start_time": "2024-06-10T17:25:21.850760600Z"
    }
   },
   "outputs": [
    {
     "name": "stdout",
     "output_type": "stream",
     "text": [
      "Generated 15x15 distance matrix for TSP:\n",
      "[[  0 166  91  33  99  63 135  54  87 126  85  66 123 126 102]\n",
      " [166   0  99  94  56  97 134  83  71  96 160  41 141  58  67]\n",
      " [ 91  99   0  95 188   9 121 163 168  97 101 146  41  91 157]\n",
      " [ 33  94  95   0 183  36  78  76  46  78  76 112 121 145  82]\n",
      " [ 99  56 188 183   0  99 164  87  64 133 110  66 126  49 160]\n",
      " [ 63  97   9  36  99   0 116 121 170  20  62  38  65 185  76]\n",
      " [135 134 121  78 164 116   0  88 109  76  40  86  46  92   5]\n",
      " [ 54  83 163  76  87 121  88   0 100  24  68  24  72  45 132]\n",
      " [ 87  71 168  46  64 170 109 100   0 131 132  59 195 143 114]\n",
      " [126  96  97  78 133  20  76  24 131   0  97 104 109  74  69]\n",
      " [ 85 160 101  76 110  62  40  68 132  97   0 138  82  39 149]\n",
      " [ 66  41 146 112  66  38  86  24  59 104 138   0  95  65 168]\n",
      " [123 141  41 121 126  65  46  72 195 109  82  95   0  90 149]\n",
      " [126  58  91 145  49 185  92  45 143  74  39  65  90   0 121]\n",
      " [102  67 157  82 160  76   5 132 114  69 149 168 149 121   0]]\n"
     ]
    }
   ],
   "source": [
    "# distance_matrix = np.array([[0, 100, 125, 100,  75],\n",
    "#                             [100, 0,  50,  75, 100],\n",
    "#                             [125, 50,  0, 100, 125],\n",
    "#                             [100, 75, 100,   0, 50],\n",
    "#                             [75, 100, 125,  50,  0]]) \n",
    "import numpy as np\n",
    "\n",
    "# Set the random seed for reproducibility\n",
    "np.random.seed(42)\n",
    "\n",
    "# Number of nodes\n",
    "n = 15\n",
    "\n",
    "# Generate a random upper triangular matrix\n",
    "random_distances = np.random.randint(1, 200, size=(n, n))\n",
    "\n",
    "# Make the matrix symmetric\n",
    "distance_matrix = (random_distances + random_distances.T) / 2\n",
    "\n",
    "# Ensure diagonal elements are zero\n",
    "np.fill_diagonal(distance_matrix, 0)\n",
    "\n",
    "# Convert to integer\n",
    "distance_matrix = distance_matrix.astype(int)\n",
    "\n",
    "print(\"Generated 15x15 distance matrix for TSP:\")\n",
    "print(distance_matrix)\n"
   ]
  },
  {
   "cell_type": "code",
   "execution_count": 92,
   "id": "b237fce7-37fe-4de2-b0c8-2aba1c256a37",
   "metadata": {
    "ExecuteTime": {
     "end_time": "2024-06-10T17:29:56.935256Z",
     "start_time": "2024-06-10T17:29:55.400665400Z"
    }
   },
   "outputs": [
    {
     "name": "stderr",
     "output_type": "stream",
     "text": [
      " Temperature        Energy    Accept   Improve     Elapsed   Remaining\n",
      "  9952.67926       1439.00    99.70%    45.48%     0:00:00     0:00:01\r"
     ]
    },
    {
     "name": "stdout",
     "output_type": "stream",
     "text": [
      "\n",
      "Initial state (random permutation of cities):\n",
      "[11 10  3  1 14  7 12  9  2  0  4  6  5  8 13]\n"
     ]
    },
    {
     "name": "stderr",
     "output_type": "stream",
     "text": [
      "     2.50000        653.00     7.08%     0.20%     0:00:02     0:00:00\r"
     ]
    },
    {
     "data": {
      "text/plain": "(array([ 4, 12,  2,  5,  9,  7,  0,  3,  8, 11,  1, 14,  6, 10, 13]), 653)"
     },
     "execution_count": 92,
     "metadata": {},
     "output_type": "execute_result"
    }
   ],
   "source": [
    "class TravellingSalesmanProblem(Annealer):\n",
    "    def move(self):\n",
    "        \"\"\"Swaps two cities in the route.\"\"\"\n",
    "        a = np.random.randint(0, len(self.state) - 1)\n",
    "        b = np.random.randint(0, len(self.state) - 1)\n",
    "        self.state[a], self.state[b] = self.state[b], self.state[a]\n",
    "        \n",
    "    def energy(self):\n",
    "        \"\"\"Calculates the length of the route.\"\"\"\n",
    "        dist = 0\n",
    "        for i in range(len(self.state)):\n",
    "            dist += distance_matrix[self.state[i - 1], self.state[i]]\n",
    "        return dist\n",
    "\n",
    "initial_state = np.random.permutation(n)\n",
    "\n",
    "print(\"\\nInitial state (random permutation of cities):\")\n",
    "print(initial_state)\n",
    "tsp = TravellingSalesmanProblem(initial_state)\n",
    "tsp.Tmax = 25000.0 \n",
    "tsp.Tmin = 2.5 \n",
    "tsp.updates = 10\n",
    "tsp.steps = 100000\n",
    "route, distance = tsp.anneal()\n",
    "route, distance\n",
    "\n"
   ]
  }
 ],
 "metadata": {
  "kernelspec": {
   "display_name": "Python 3 (ipykernel)",
   "language": "python",
   "name": "python3"
  },
  "language_info": {
   "codemirror_mode": {
    "name": "ipython",
    "version": 3
   },
   "file_extension": ".py",
   "mimetype": "text/x-python",
   "name": "python",
   "nbconvert_exporter": "python",
   "pygments_lexer": "ipython3",
   "version": "3.11.7"
  }
 },
 "nbformat": 4,
 "nbformat_minor": 5
}
