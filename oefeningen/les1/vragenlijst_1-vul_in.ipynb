{
 "cells": [
  {
   "cell_type": "markdown",
   "id": "12ecf8df-3a22-4cd1-8d2a-92c3f3c5da10",
   "metadata": {},
   "source": [
    "# P3W1 Vragenlijst"
   ]
  },
  {
   "cell_type": "code",
   "execution_count": 2,
   "id": "b4bbe293-dfa0-4529-86a0-538effcb7cc1",
   "metadata": {
    "ExecuteTime": {
     "end_time": "2024-02-07T15:29:47.254380400Z",
     "start_time": "2024-02-07T15:29:46.151558300Z"
    }
   },
   "outputs": [
    {
     "name": "stderr",
     "output_type": "stream",
     "text": [
      "C:\\Users\\robbe\\AppData\\Local\\Temp\\ipykernel_28524\\3388801121.py:1: DeprecationWarning: \n",
      "Pyarrow will become a required dependency of pandas in the next major release of pandas (pandas 3.0),\n",
      "(to allow more performant data types, such as the Arrow string type, and better interoperability with other libraries)\n",
      "but was not found to be installed on your system.\n",
      "If this would cause problems for you,\n",
      "please provide us feedback at https://github.com/pandas-dev/pandas/issues/54466\n",
      "        \n",
      "  import pandas as pd\n"
     ]
    }
   ],
   "source": [
    "import pandas as pd \n",
    "vragenlijst = 'vragenlijst 21-22.csv'\n",
    "studenq = pd.read_csv(vragenlijst, delimiter=';', decimal=',') # decimale veranderd naar ,"
   ]
  },
  {
   "cell_type": "code",
   "execution_count": 3,
   "id": "b0eb4b76-3940-453b-94c0-290660dc066d",
   "metadata": {
    "ExecuteTime": {
     "end_time": "2024-02-07T15:29:53.553069600Z",
     "start_time": "2024-02-07T15:29:53.498119400Z"
    }
   },
   "outputs": [
    {
     "name": "stdout",
     "output_type": "stream",
     "text": [
      "<class 'pandas.core.frame.DataFrame'>\n",
      "RangeIndex: 89 entries, 0 to 88\n",
      "Data columns (total 33 columns):\n",
      " #   Column                  Non-Null Count  Dtype  \n",
      "---  ------                  --------------  -----  \n",
      " 0   gapminder               89 non-null     object \n",
      " 1   schrijfhand             89 non-null     object \n",
      " 2   schoenmaat              89 non-null     float64\n",
      " 3   lengte                  89 non-null     int64  \n",
      " 4   bloedgroep              89 non-null     object \n",
      " 5   resus                   89 non-null     object \n",
      " 6   siblings                89 non-null     int64  \n",
      " 7   Samenzweringen          82 non-null     object \n",
      " 8   rijbewijs               89 non-null     object \n",
      " 9   domicilie in Antwerpen  89 non-null     object \n",
      " 10  afstudeerrichting       89 non-null     object \n",
      " 11  vrijetijdsbesteding     89 non-null     object \n",
      " 12  uren wiskunde           89 non-null     object \n",
      " 13  informatica belangrijk  89 non-null     object \n",
      " 14  uren buiten schooluren  89 non-null     object \n",
      " 15  afstand tot KdG         89 non-null     float64\n",
      " 16  vervoersmiddel          89 non-null     object \n",
      " 17  klimaatopwarming        89 non-null     object \n",
      " 18  zakgeld                 89 non-null     object \n",
      " 19  stukken fruit           89 non-null     int64  \n",
      " 20  fruitvoorkeur           89 non-null     object \n",
      " 21  besturingssysteem       89 non-null     object \n",
      " 22  belangrijkste app       89 non-null     object \n",
      " 23  M1 - stelen             89 non-null     int64  \n",
      " 24  M2 - team               89 non-null     int64  \n",
      " 25  M3 - beschermen         89 non-null     int64  \n",
      " 26  M4 - voorbeeld          89 non-null     int64  \n",
      " 27  M5 - embryo             89 non-null     int64  \n",
      " 28  M6 - vrijheid           88 non-null     float64\n",
      " 29  mascotte                89 non-null     object \n",
      " 30  zwaarste vak            89 non-null     object \n",
      " 31  boeienste vak           89 non-null     object \n",
      " 32  studiepunt              89 non-null     object \n",
      "dtypes: float64(3), int64(8), object(22)\n",
      "memory usage: 23.1+ KB\n"
     ]
    }
   ],
   "source": [
    "studenq.info()"
   ]
  },
  {
   "cell_type": "code",
   "execution_count": 4,
   "id": "ae25e048-36f4-4552-95a1-3d69d08c6e1c",
   "metadata": {
    "ExecuteTime": {
     "end_time": "2024-02-07T15:29:55.356499300Z",
     "start_time": "2024-02-07T15:29:55.277853900Z"
    }
   },
   "outputs": [
    {
     "data": {
      "text/plain": "       schoenmaat      lengte   siblings  afstand tot KdG  stukken fruit  \\\ncount   89.000000   89.000000  89.000000        89.000000      89.000000   \nmean    43.067416  179.337079   1.629213        14.665169       1.157303   \nstd      1.904228    7.715015   1.343182        11.701701       0.964116   \nmin     37.000000  160.000000   0.000000         0.700000       0.000000   \n25%     42.000000  175.000000   1.000000         6.000000       1.000000   \n50%     43.000000  180.000000   1.000000        10.000000       1.000000   \n75%     45.000000  185.000000   2.000000        21.100000       1.000000   \nmax     46.000000  194.000000   5.000000        48.000000       5.000000   \n\n       M1 - stelen  M2 - team  M3 - beschermen  M4 - voorbeeld  M5 - embryo  \\\ncount    89.000000  89.000000        89.000000       89.000000    89.000000   \nmean      6.696629   3.910112         6.719101        5.651685     5.876404   \nstd       2.595470   2.433854         2.354825        2.221287     2.344337   \nmin       0.000000   0.000000         2.000000        0.000000     0.000000   \n25%       5.000000   2.000000         5.000000        4.000000     5.000000   \n50%       7.000000   3.000000         7.000000        6.000000     6.000000   \n75%       9.000000   5.000000         9.000000        7.000000     7.000000   \nmax      10.000000  10.000000        10.000000       10.000000    10.000000   \n\n       M6 - vrijheid  \ncount      88.000000  \nmean        5.318182  \nstd         2.351549  \nmin         0.000000  \n25%         4.000000  \n50%         5.000000  \n75%         7.000000  \nmax        10.000000  ",
      "text/html": "<div>\n<style scoped>\n    .dataframe tbody tr th:only-of-type {\n        vertical-align: middle;\n    }\n\n    .dataframe tbody tr th {\n        vertical-align: top;\n    }\n\n    .dataframe thead th {\n        text-align: right;\n    }\n</style>\n<table border=\"1\" class=\"dataframe\">\n  <thead>\n    <tr style=\"text-align: right;\">\n      <th></th>\n      <th>schoenmaat</th>\n      <th>lengte</th>\n      <th>siblings</th>\n      <th>afstand tot KdG</th>\n      <th>stukken fruit</th>\n      <th>M1 - stelen</th>\n      <th>M2 - team</th>\n      <th>M3 - beschermen</th>\n      <th>M4 - voorbeeld</th>\n      <th>M5 - embryo</th>\n      <th>M6 - vrijheid</th>\n    </tr>\n  </thead>\n  <tbody>\n    <tr>\n      <th>count</th>\n      <td>89.000000</td>\n      <td>89.000000</td>\n      <td>89.000000</td>\n      <td>89.000000</td>\n      <td>89.000000</td>\n      <td>89.000000</td>\n      <td>89.000000</td>\n      <td>89.000000</td>\n      <td>89.000000</td>\n      <td>89.000000</td>\n      <td>88.000000</td>\n    </tr>\n    <tr>\n      <th>mean</th>\n      <td>43.067416</td>\n      <td>179.337079</td>\n      <td>1.629213</td>\n      <td>14.665169</td>\n      <td>1.157303</td>\n      <td>6.696629</td>\n      <td>3.910112</td>\n      <td>6.719101</td>\n      <td>5.651685</td>\n      <td>5.876404</td>\n      <td>5.318182</td>\n    </tr>\n    <tr>\n      <th>std</th>\n      <td>1.904228</td>\n      <td>7.715015</td>\n      <td>1.343182</td>\n      <td>11.701701</td>\n      <td>0.964116</td>\n      <td>2.595470</td>\n      <td>2.433854</td>\n      <td>2.354825</td>\n      <td>2.221287</td>\n      <td>2.344337</td>\n      <td>2.351549</td>\n    </tr>\n    <tr>\n      <th>min</th>\n      <td>37.000000</td>\n      <td>160.000000</td>\n      <td>0.000000</td>\n      <td>0.700000</td>\n      <td>0.000000</td>\n      <td>0.000000</td>\n      <td>0.000000</td>\n      <td>2.000000</td>\n      <td>0.000000</td>\n      <td>0.000000</td>\n      <td>0.000000</td>\n    </tr>\n    <tr>\n      <th>25%</th>\n      <td>42.000000</td>\n      <td>175.000000</td>\n      <td>1.000000</td>\n      <td>6.000000</td>\n      <td>1.000000</td>\n      <td>5.000000</td>\n      <td>2.000000</td>\n      <td>5.000000</td>\n      <td>4.000000</td>\n      <td>5.000000</td>\n      <td>4.000000</td>\n    </tr>\n    <tr>\n      <th>50%</th>\n      <td>43.000000</td>\n      <td>180.000000</td>\n      <td>1.000000</td>\n      <td>10.000000</td>\n      <td>1.000000</td>\n      <td>7.000000</td>\n      <td>3.000000</td>\n      <td>7.000000</td>\n      <td>6.000000</td>\n      <td>6.000000</td>\n      <td>5.000000</td>\n    </tr>\n    <tr>\n      <th>75%</th>\n      <td>45.000000</td>\n      <td>185.000000</td>\n      <td>2.000000</td>\n      <td>21.100000</td>\n      <td>1.000000</td>\n      <td>9.000000</td>\n      <td>5.000000</td>\n      <td>9.000000</td>\n      <td>7.000000</td>\n      <td>7.000000</td>\n      <td>7.000000</td>\n    </tr>\n    <tr>\n      <th>max</th>\n      <td>46.000000</td>\n      <td>194.000000</td>\n      <td>5.000000</td>\n      <td>48.000000</td>\n      <td>5.000000</td>\n      <td>10.000000</td>\n      <td>10.000000</td>\n      <td>10.000000</td>\n      <td>10.000000</td>\n      <td>10.000000</td>\n      <td>10.000000</td>\n    </tr>\n  </tbody>\n</table>\n</div>"
     },
     "execution_count": 4,
     "metadata": {},
     "output_type": "execute_result"
    }
   ],
   "source": [
    "studenq.describe()"
   ]
  },
  {
   "cell_type": "markdown",
   "id": "13ef44a7-ec9a-4c3b-8ec2-d9d799c2cef6",
   "metadata": {},
   "source": [
    "## Vraag 1"
   ]
  },
  {
   "cell_type": "markdown",
   "id": "41f5f19a-4bc2-414a-8f7e-2cdbd30f76d8",
   "metadata": {},
   "source": [
    "https://pandas.pydata.org/docs/getting_started/intro_tutorials/03_subset_data.html"
   ]
  },
  {
   "cell_type": "code",
   "execution_count": 5,
   "id": "3f5c2699-3a8b-4ee3-8c4d-bb7e04ec4163",
   "metadata": {
    "ExecuteTime": {
     "end_time": "2024-02-07T15:29:59.643901700Z",
     "start_time": "2024-02-07T15:29:59.594814300Z"
    }
   },
   "outputs": [
    {
     "data": {
      "text/plain": "array(['3', '4', '7', '6', '5', '2 of minder', '8'], dtype=object)"
     },
     "execution_count": 5,
     "metadata": {},
     "output_type": "execute_result"
    }
   ],
   "source": [
    "studenq[\"uren wiskunde\"].unique()"
   ]
  },
  {
   "cell_type": "code",
   "execution_count": 6,
   "id": "02b48e8f-9883-4eae-9665-b46da30953dd",
   "metadata": {
    "ExecuteTime": {
     "end_time": "2024-02-07T15:30:01.379263800Z",
     "start_time": "2024-02-07T15:30:01.346599Z"
    }
   },
   "outputs": [
    {
     "data": {
      "text/plain": "89"
     },
     "execution_count": 6,
     "metadata": {},
     "output_type": "execute_result"
    }
   ],
   "source": [
    "aantal_studenten = studenq.shape[0] # of len(studenq)\n",
    "aantal_studenten"
   ]
  },
  {
   "cell_type": "markdown",
   "id": "a1bacf65-ef69-464b-9a55-09f006330a10",
   "metadata": {},
   "source": [
    "Kans 2 uur of minder wiskunde"
   ]
  },
  {
   "cell_type": "code",
   "execution_count": null,
   "id": "09655bd7-eefb-480d-aee9-b6725ae004de",
   "metadata": {
    "ExecuteTime": {
     "start_time": "2024-02-07T15:18:34.063809600Z"
    }
   },
   "outputs": [],
   "source": [
    "len(studenq[studenq[\"uren wiskunde\"] == \"2 of minder\" ]) / len(studenq)"
   ]
  },
  {
   "cell_type": "markdown",
   "id": "96317254-39f6-4d18-a40e-bf6c01ca73a7",
   "metadata": {},
   "source": [
    "Kans 3 uur of meer wiskunde"
   ]
  },
  {
   "cell_type": "code",
   "execution_count": 11,
   "id": "114436ac-2c24-4528-a92d-fbefa2a0c8c2",
   "metadata": {
    "ExecuteTime": {
     "end_time": "2024-02-07T15:18:34.133463300Z",
     "start_time": "2024-02-07T15:18:34.074345800Z"
    }
   },
   "outputs": [
    {
     "ename": "NameError",
     "evalue": "name 'studenq' is not defined",
     "output_type": "error",
     "traceback": [
      "\u001B[1;31m---------------------------------------------------------------------------\u001B[0m",
      "\u001B[1;31mNameError\u001B[0m                                 Traceback (most recent call last)",
      "Cell \u001B[1;32mIn[11], line 1\u001B[0m\n\u001B[1;32m----> 1\u001B[0m \u001B[38;5;241m1\u001B[39m \u001B[38;5;241m-\u001B[39m \u001B[38;5;28mlen\u001B[39m(\u001B[43mstudenq\u001B[49m[studenq[\u001B[38;5;124m\"\u001B[39m\u001B[38;5;124muren wiskunde\u001B[39m\u001B[38;5;124m\"\u001B[39m] \u001B[38;5;241m==\u001B[39m \u001B[38;5;124m\"\u001B[39m\u001B[38;5;124m2 of minder\u001B[39m\u001B[38;5;124m\"\u001B[39m ]) \u001B[38;5;241m/\u001B[39m \u001B[38;5;28mlen\u001B[39m(studenq)\n",
      "\u001B[1;31mNameError\u001B[0m: name 'studenq' is not defined"
     ]
    }
   ],
   "source": [
    "1 - len(studenq[studenq[\"uren wiskunde\"] == \"2 of minder\" ]) / len(studenq)"
   ]
  },
  {
   "cell_type": "markdown",
   "id": "2849785b-b243-4795-9b4a-02faf291651a",
   "metadata": {},
   "source": [
    "## Vraag 2"
   ]
  },
  {
   "cell_type": "markdown",
   "id": "d4171505-48fd-4b48-a167-8dfeb9e91deb",
   "metadata": {},
   "source": [
    "Kans schrijfhand rechts of meer dan 3 stukken fruit eet\n"
   ]
  },
  {
   "cell_type": "code",
   "execution_count": 12,
   "id": "be448577-91e5-40e5-928b-68eda12b4d97",
   "metadata": {
    "ExecuteTime": {
     "start_time": "2024-02-07T15:18:34.124454100Z"
    }
   },
   "outputs": [
    {
     "ename": "NameError",
     "evalue": "name 'studenq' is not defined",
     "output_type": "error",
     "traceback": [
      "\u001B[1;31m---------------------------------------------------------------------------\u001B[0m",
      "\u001B[1;31mNameError\u001B[0m                                 Traceback (most recent call last)",
      "Cell \u001B[1;32mIn[12], line 1\u001B[0m\n\u001B[1;32m----> 1\u001B[0m \u001B[43mstudenq\u001B[49m\u001B[38;5;241m.\u001B[39mschrijfhand\u001B[38;5;241m.\u001B[39munique()\n",
      "\u001B[1;31mNameError\u001B[0m: name 'studenq' is not defined"
     ]
    }
   ],
   "source": [
    "studenq.schrijfhand.unique()"
   ]
  },
  {
   "cell_type": "code",
   "execution_count": 13,
   "id": "6fc0aaa3-8c5d-4d51-ae4a-e3d2717f76f7",
   "metadata": {
    "ExecuteTime": {
     "end_time": "2024-02-07T15:18:34.185332Z",
     "start_time": "2024-02-07T15:18:34.174413900Z"
    }
   },
   "outputs": [],
   "source": [
    "# vul hier verder aan"
   ]
  },
  {
   "cell_type": "markdown",
   "id": "6e24442d-1c16-472d-97b5-66cb2d5ba820",
   "metadata": {},
   "source": [
    "## Vraag 3"
   ]
  },
  {
   "cell_type": "markdown",
   "id": "3da34241-1923-4522-bb2f-f360b9ec196f",
   "metadata": {},
   "source": [
    "Kans rechtshandige student minder dan 2 stukken fruit?    \n",
    "P(<2 | R) = P(<2 en R) / P(R)"
   ]
  },
  {
   "cell_type": "code",
   "execution_count": 14,
   "id": "022e509a-29ab-49a0-adec-cd9dbf8d074b",
   "metadata": {
    "ExecuteTime": {
     "end_time": "2024-02-07T15:18:34.186337600Z",
     "start_time": "2024-02-07T15:18:34.177672Z"
    }
   },
   "outputs": [],
   "source": [
    "#kans_rechts = ..."
   ]
  },
  {
   "cell_type": "code",
   "execution_count": 15,
   "id": "67fd0f22-09de-47c5-be75-d5397a167af7",
   "metadata": {
    "ExecuteTime": {
     "end_time": "2024-02-07T15:18:34.198441600Z",
     "start_time": "2024-02-07T15:18:34.188432900Z"
    }
   },
   "outputs": [],
   "source": [
    "#kans_rechts_minder2 = ..."
   ]
  },
  {
   "cell_type": "code",
   "execution_count": 16,
   "id": "faa6bda2-2705-4254-90e8-bf5144ab7138",
   "metadata": {
    "ExecuteTime": {
     "end_time": "2024-02-07T15:18:34.217955600Z",
     "start_time": "2024-02-07T15:18:34.192150700Z"
    }
   },
   "outputs": [],
   "source": [
    "#kans_rechts_minder2 / kans_rechts"
   ]
  },
  {
   "cell_type": "markdown",
   "id": "f7f70a5d-3740-41be-8778-ff2d01007ccf",
   "metadata": {},
   "source": [
    "## Vraag 4"
   ]
  },
  {
   "cell_type": "markdown",
   "id": "03756077-3347-40e0-8f05-96c1371628f5",
   "metadata": {},
   "source": [
    "\"geloven in 1 of meer samenzweringen\" en \"schrijfhand rechts\" onafhankelijk?     \n",
    "P(S) * P(R) =? P(S en R)"
   ]
  },
  {
   "cell_type": "code",
   "execution_count": 17,
   "id": "5b932531-81d6-4bc3-9e38-44392cbfd855",
   "metadata": {
    "ExecuteTime": {
     "end_time": "2024-02-07T15:18:34.218955700Z",
     "start_time": "2024-02-07T15:18:34.195333200Z"
    }
   },
   "outputs": [],
   "source": [
    "#kans_sz = ..."
   ]
  },
  {
   "cell_type": "code",
   "execution_count": 18,
   "id": "243a8582-960a-4bbd-bd8f-b5be8f3e39cc",
   "metadata": {
    "ExecuteTime": {
     "end_time": "2024-02-07T15:18:34.218955700Z",
     "start_time": "2024-02-07T15:18:34.201497700Z"
    }
   },
   "outputs": [],
   "source": [
    "#kans_rechts = ..."
   ]
  },
  {
   "cell_type": "code",
   "execution_count": 19,
   "id": "512fbdca-2403-4057-878f-7b5f42833fcf",
   "metadata": {
    "ExecuteTime": {
     "end_time": "2024-02-07T15:18:34.234369Z",
     "start_time": "2024-02-07T15:18:34.221466600Z"
    }
   },
   "outputs": [],
   "source": [
    "#kans_rechts_sz = ..."
   ]
  },
  {
   "cell_type": "code",
   "execution_count": 20,
   "id": "1fa1666c-caf9-4b76-b6cb-c5c36bdff06c",
   "metadata": {
    "ExecuteTime": {
     "end_time": "2024-02-07T15:18:34.249944900Z",
     "start_time": "2024-02-07T15:18:34.225002600Z"
    }
   },
   "outputs": [],
   "source": [
    "#kans_rechts_sz == kans_rechts * kans_sz"
   ]
  }
 ],
 "metadata": {
  "kernelspec": {
   "display_name": "Python 3 (ipykernel)",
   "language": "python",
   "name": "python3"
  },
  "language_info": {
   "codemirror_mode": {
    "name": "ipython",
    "version": 3
   },
   "file_extension": ".py",
   "mimetype": "text/x-python",
   "name": "python",
   "nbconvert_exporter": "python",
   "pygments_lexer": "ipython3",
   "version": "3.11.7"
  }
 },
 "nbformat": 4,
 "nbformat_minor": 5
}
