{
 "cells": [
  {
   "cell_type": "markdown",
   "source": [
    "### vraag1\n",
    "Je werpt met 2 dobbelstenen. Hoe groot is de kans dat je een 5 en een 2 gooit? (3 beduidende\n",
    "cijfers)\n"
   ],
   "metadata": {
    "collapsed": false
   },
   "id": "718d77d192618486"
  },
  {
   "cell_type": "code",
   "execution_count": 8,
   "id": "initial_id",
   "metadata": {
    "collapsed": true,
    "ExecuteTime": {
     "end_time": "2024-02-07T13:43:05.855158400Z",
     "start_time": "2024-02-07T13:43:05.849027400Z"
    }
   },
   "outputs": [
    {
     "name": "stdout",
     "output_type": "stream",
     "text": [
      "0.05555555555555555\n"
     ]
    }
   ],
   "source": [
    "#2 en 5 en 5 en 2\n",
    "#2/36\n",
    "\n",
    "#p(2 en 5) + p(5 en 2)\n",
    "print(((1/6)*(1/6))*2)"
   ]
  },
  {
   "cell_type": "markdown",
   "source": [
    "### Vraag 2\n",
    "We hebben 2 dobbelstenen.\n",
    "1e: 3 gele vlakken en 3 rode vlakken\n",
    "2e: 5 gele vlakken en 1 rood vlak.\n",
    "Hoe groot is de kans op zowel een geel als een rood vlak?"
   ],
   "metadata": {
    "collapsed": false
   },
   "id": "bd985a430d9f7a7b"
  },
  {
   "cell_type": "code",
   "outputs": [
    {
     "name": "stdout",
     "output_type": "stream",
     "text": [
      "0.5\n"
     ]
    }
   ],
   "source": [
    "#geel en rood of rood en geel\n",
    "print((3/6)*(1/6) + (3/6) * (5/6) )"
   ],
   "metadata": {
    "collapsed": false,
    "ExecuteTime": {
     "end_time": "2024-02-07T13:47:38.049391600Z",
     "start_time": "2024-02-07T13:47:38.042900800Z"
    }
   },
   "id": "99603a91ae1cae2e",
   "execution_count": 9
  },
  {
   "cell_type": "markdown",
   "source": [
    "### vraag 3\n",
    "Een doos bevat 4 gele, 2 bruine, 1 oranje, 1 groene en 2 paarse knikkers. We trekken telkens\n",
    "zonder teruglegging. (telkens 2 beduidende cijfers)\n",
    "1. Wanneer we 4 knikkers trekken, hoe groot is dan de kans dat alle knikkers geel zijn?\n",
    "2. Wanneer we 2 knikkers trekken, hoe groot is dan de kans op een bruine en een groene\n",
    "knikker?\n",
    "3. Wanneer we 1 knikker trekken, hoe groot is dan de kans op een oranje of een groene\n",
    "knikker?\n"
   ],
   "metadata": {
    "collapsed": false
   },
   "id": "97c8edb903522bac"
  },
  {
   "cell_type": "code",
   "outputs": [
    {
     "name": "stdout",
     "output_type": "stream",
     "text": [
      "10\n",
      "0.0047619047619047615\n",
      "0.044444444444444446\n",
      "0.2\n"
     ]
    }
   ],
   "source": [
    "print(4+2+1+1+2)\n",
    "\n",
    "print((4/10)*(3/9)*(2/8)*(1/7))\n",
    "\n",
    "print(2/10 * 1/9 + 1/10 * 2/9)\n",
    "\n",
    "print(1/10 + 1/10)"
   ],
   "metadata": {
    "collapsed": false,
    "ExecuteTime": {
     "end_time": "2024-02-07T13:58:36.235470400Z",
     "start_time": "2024-02-07T13:58:36.231153Z"
    }
   },
   "id": "ddda0ce297aa5b8a",
   "execution_count": 13
  },
  {
   "cell_type": "markdown",
   "source": [
    "### vraag 4\n",
    "Voor een groep van 144 studenten zijn er 90 geslaagd op het examen “OO concepten” en 60\n",
    "voor “JavaFX”.\n",
    "Van de 90 die geslaagd zijn op “OO concepten” zijn er 30 ook geslaagd op “JavaFX”.\n",
    "Hoe groot is de kans dat als we een willekeurige studenten selecteren dat deze geslaagd is\n",
    "voor tenminste 1 van de 2 examens? (4 beduidende cijfers)"
   ],
   "metadata": {
    "collapsed": false
   },
   "id": "2212aa10e909c13e"
  },
  {
   "cell_type": "code",
   "outputs": [
    {
     "name": "stdout",
     "output_type": "stream",
     "text": [
      "0.8333333333333334\n"
     ]
    }
   ],
   "source": [
    "print(90/144 + 60/144 - 30/144 )"
   ],
   "metadata": {
    "collapsed": false,
    "ExecuteTime": {
     "end_time": "2024-02-07T14:02:23.814173400Z",
     "start_time": "2024-02-07T14:02:23.810659900Z"
    }
   },
   "id": "f55bc9a2960f0bb",
   "execution_count": 14
  },
  {
   "cell_type": "markdown",
   "source": [
    "### vraag 5\n",
    "Op een groep van 1000 studenten zijn er 400 die regelmatig computerspelletjes spelen(S) en\n",
    "200 die regelmatig bordspelen speelt(B). Er zijn er 100 die regelmatig computerspelletjes\n",
    "spelen en bordspelen speelt (S en B).\n",
    "Hoe groot is de kans dat als je een willekeurige student kiest dat deze regelmatig spelletjes\n",
    "speelt (bord of computer)? "
   ],
   "metadata": {
    "collapsed": false
   },
   "id": "5210393addcb9f24"
  },
  {
   "cell_type": "code",
   "outputs": [
    {
     "data": {
      "text/plain": "0.5000000000000001"
     },
     "execution_count": 15,
     "metadata": {},
     "output_type": "execute_result"
    }
   ],
   "source": [
    "400/1000 + 200/1000 - 100/1000"
   ],
   "metadata": {
    "collapsed": false,
    "ExecuteTime": {
     "end_time": "2024-02-07T14:34:00.540590600Z",
     "start_time": "2024-02-07T14:34:00.533696600Z"
    }
   },
   "id": "3014f43e10a358f2",
   "execution_count": 15
  },
  {
   "cell_type": "markdown",
   "source": [
    "### vraag 6\n",
    "Voor een examen “Data Science 1” slaagt 70% van de studenten. Hiervan is 50% dagstudent\n",
    "en 50% blended student. Van de deelnemers is 60% dagstudent en 40% blended student. Uit\n",
    "de groep wordt telkens 1 willekeurige student geselecteerd. (telkens 2 beduidende cijfers)\n",
    "1. Hoe groot is de kans op een geslaagde student?\n",
    "2. Hoe groot is de kans op een dagstudent, gegeven dat het een geslaagde student is?\n",
    "3. Hoe groot is de kans op een geslaagde dagstudent?\n",
    "4. Hoe groot is de kans op een geslaagde student, gegeven dat het een dagstudent is?\n",
    "5. Hoe groot is de kans op een gezakte student, gegeven dat het een dagstudent is?\n",
    "6. Hoe groot is de kans op een gezakte dagstudent?\n"
   ],
   "metadata": {
    "collapsed": false
   },
   "id": "d380758c511857f5"
  },
  {
   "cell_type": "code",
   "outputs": [
    {
     "name": "stdout",
     "output_type": "stream",
     "text": [
      "1)70\n",
      "2) 0.35\n"
     ]
    }
   ],
   "source": [
    "print(\"1)\" + \"70\")\n",
    "twee = 70/100 * 50/100\n",
    "print(\"2)\",twee)"
   ],
   "metadata": {
    "collapsed": false,
    "ExecuteTime": {
     "end_time": "2024-02-07T14:42:38.462740Z",
     "start_time": "2024-02-07T14:42:38.458016700Z"
    }
   },
   "id": "b269c11554b32437",
   "execution_count": 20
  },
  {
   "cell_type": "markdown",
   "source": [
    "### vraag 9\n",
    "90% van de PC's gebruikt Windows. Als een PC crasht, ben je 99,9% zeker dat er Windows op\n",
    "draait. De kans dat een PC crasht (ongeacht het besturingssysteem) is 0,01.\n",
    "Wat is de kans dat een PC crasht als je weet dat er Windows op draait?"
   ],
   "metadata": {
    "collapsed": false
   },
   "id": "46646cf5092816e"
  },
  {
   "cell_type": "code",
   "outputs": [
    {
     "name": "stdout",
     "output_type": "stream",
     "text": [
      "0.0111\n"
     ]
    }
   ],
   "source": [
    "win = 0.9\n",
    "wincrash = 0.999\n",
    "pccrash = 0.01\n",
    "(pccrash * wincrash) / win\n",
    "\n",
    "def voorwaardelijk(kansVanVoorwaardelijkItem, KansVanAnderItem,kansvoorwaardelijkitemalsanderitem):\n",
    "    kans =  (KansVanAnderItem*kansvoorwaardelijkitemalsanderitem)/kansVanVoorwaardelijkItem\n",
    "    \n",
    "    return kans\n",
    "print(voorwaardelijk(0.9,0.01,0.999))"
   ],
   "metadata": {
    "collapsed": false,
    "ExecuteTime": {
     "end_time": "2024-03-25T12:16:46.327573200Z",
     "start_time": "2024-03-25T12:16:46.318422900Z"
    }
   },
   "id": "c0860f56099576f5",
   "execution_count": 1
  },
  {
   "cell_type": "markdown",
   "source": [
    "### Vraag 10\n",
    "In 1988 was er discussie om een verplichte AIDS test in te voeren. Men heeft een zeer\n",
    "betrouwbare test ontwikkelt die volgende resultaten boekt:\n",
    "P(positief | geïnfecteerd) = 0,999\n",
    "P(negatief | niet geïnfecteerd) = 0,99\n",
    "Men schat dat 0,6% van de mensen drager is van het virus.\n",
    "Wat is de kans dat iemand daadwerkelijk geïnfecteerd is als je weet dat de test positief is? Zie\n",
    "je waarom de verplichte test niet werd ingevoerd?"
   ],
   "metadata": {
    "collapsed": false
   },
   "id": "2c0058183dbfc6c4"
  },
  {
   "cell_type": "code",
   "outputs": [
    {
     "name": "stdout",
     "output_type": "stream",
     "text": [
      "99.00891972249752\n"
     ]
    }
   ],
   "source": [
    "posinf = 0.999\n",
    "posnietinf =0.99\n",
    "drager = 0.006\n",
    "infpos = posinf * drager / (drager * posinf + drager * (1 - posnietinf)) \n",
    "print(infpos* 100)"
   ],
   "metadata": {
    "collapsed": false,
    "ExecuteTime": {
     "end_time": "2024-02-07T15:13:04.935325900Z",
     "start_time": "2024-02-07T15:13:04.932425100Z"
    }
   },
   "id": "7f6e2b9720d4af9d",
   "execution_count": 29
  }
 ],
 "metadata": {
  "kernelspec": {
   "display_name": "Python 3",
   "language": "python",
   "name": "python3"
  },
  "language_info": {
   "codemirror_mode": {
    "name": "ipython",
    "version": 2
   },
   "file_extension": ".py",
   "mimetype": "text/x-python",
   "name": "python",
   "nbconvert_exporter": "python",
   "pygments_lexer": "ipython2",
   "version": "2.7.6"
  }
 },
 "nbformat": 4,
 "nbformat_minor": 5
}
