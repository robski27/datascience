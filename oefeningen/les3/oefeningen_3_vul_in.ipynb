{
 "cells": [
  {
   "cell_type": "code",
   "execution_count": 37,
   "id": "c62e7cba-c750-4eb5-b38e-5a4847d65bcd",
   "metadata": {
    "ExecuteTime": {
     "end_time": "2024-02-28T15:06:06.603682400Z",
     "start_time": "2024-02-28T15:06:06.554869600Z"
    }
   },
   "outputs": [],
   "source": [
    "import math\n",
    "import numpy as np\n",
    "import pandas as pd\n",
    "from scipy.stats import binom, norm, poisson, t"
   ]
  },
  {
   "cell_type": "markdown",
   "id": "adc63448-2123-459f-9887-e6f5af03b2be",
   "metadata": {},
   "source": [
    "## Vraag 3\n",
    "We willen weten hoeveel requests een server gemiddeld per dag moet verwerken.\n",
    "Daarvoor doen we een meting. We meten gedurende 30 dagen en tellen iedere dag het\n",
    "aantal requests. We komen op een gemiddelde van 975 en een standaardafwijking gelijk\n",
    "aan 100.\n",
    "a. Tussen welke grenzen ligt dan het gemiddeld aantal requests als we 95% zeker\n",
    "willen zijn?\n",
    "b. Stel dat we hetzelfde gemiddelde en standaardafwijking vonden, maar met een\n",
    "steekproef van 100 dagen. Dan zijn we voor 95% zeker dat het gemiddelde\n",
    "tussen ... en ... ligt.\n",
    "c. Stel dat iemand beweert dat de server 1000 requests per dag moet verwerken.\n",
    "Kan je deze stelling dan ondersteunen of verwerpen in de twee gevallen? Je wil\n",
    "weer een zekerheid van 95%.\n"
   ]
  },
  {
   "cell_type": "code",
   "execution_count": 38,
   "id": "b87bf787-2710-4824-a988-89f5e3bb37dc",
   "metadata": {
    "ExecuteTime": {
     "end_time": "2024-02-28T15:06:06.620396Z",
     "start_time": "2024-02-28T15:06:06.607795400Z"
    }
   },
   "outputs": [
    {
     "name": "stdout",
     "output_type": "stream",
     "text": [
      "2.045229642132703\n",
      "(937.65938632419, 1012.34061367581)\n"
     ]
    }
   ],
   "source": [
    "#a 1ste manier\n",
    "x_bar = 975\n",
    "s = 100\n",
    "n = 30\n",
    "p = 0.95\n",
    "# alpha = 1 - p\n",
    "factor = t.ppf((1+p)/2, df=n-1)\n",
    "# factor = t.ppf(1-alpha/2, df=n-1)\n",
    "print(factor)\n",
    "interval = (x_bar - factor * s/math.sqrt(n), x_bar + factor * s/math.sqrt(n))\n",
    "print(interval)"
   ]
  },
  {
   "cell_type": "code",
   "execution_count": 39,
   "id": "843b4c0f-22a5-4746-9db1-43334555814e",
   "metadata": {
    "ExecuteTime": {
     "end_time": "2024-02-28T15:06:06.632721900Z",
     "start_time": "2024-02-28T15:06:06.623905Z"
    }
   },
   "outputs": [
    {
     "data": {
      "text/plain": "(937.65938632419, 1012.34061367581)"
     },
     "execution_count": 39,
     "metadata": {},
     "output_type": "execute_result"
    }
   ],
   "source": [
    "#a 2de manier\n",
    "t.interval(confidence=p, df=n-1, loc=x_bar, scale=s/math.sqrt(n))"
   ]
  },
  {
   "cell_type": "code",
   "execution_count": 40,
   "id": "2e8aec54-dfd9-4b61-ae64-cb2852e7f472",
   "metadata": {
    "ExecuteTime": {
     "end_time": "2024-02-28T15:06:06.662237900Z",
     "start_time": "2024-02-28T15:06:06.628314300Z"
    }
   },
   "outputs": [
    {
     "data": {
      "text/plain": "(955.1578304849131, 994.8421695150869)"
     },
     "execution_count": 40,
     "metadata": {},
     "output_type": "execute_result"
    }
   ],
   "source": [
    "#b\n",
    "t.interval(confidence=p, df=100-1, loc=x_bar, scale=s/math.sqrt(100))"
   ]
  },
  {
   "cell_type": "code",
   "execution_count": 41,
   "id": "1b749c10-a56e-41f9-8076-a1c7390adb1a",
   "metadata": {
    "ExecuteTime": {
     "end_time": "2024-02-28T15:06:06.663244600Z",
     "start_time": "2024-02-28T15:06:06.633718900Z"
    }
   },
   "outputs": [
    {
     "data": {
      "text/plain": "(979.547703578673, 1020.452296421327)"
     },
     "execution_count": 41,
     "metadata": {},
     "output_type": "execute_result"
    }
   ],
   "source": [
    "#c\n",
    "t.interval(confidence=p, df=n-1, loc=1000, scale=s/math.sqrt(100))"
   ]
  },
  {
   "cell_type": "markdown",
   "id": "2bda1554-4c57-441b-824e-942218c8c12d",
   "metadata": {},
   "source": [
    "## Vraag 4\n",
    "Vraag 4 (Normale moeilijkheidsgraad)\n",
    "Een fabriek maakt zakken cornflakes van 12 kg. Om dit te testen, worden regelmatig\n",
    "steekproeven gedaan. Daarbij worden 100 zakken gewogen. De eerste steekproef levert\n",
    "een gemiddelde van 11,9 kg en een standaardafwijking van 1 kg. We gebruiken een\n",
    "alpha=0,01.\n",
    "a. Welke factor (Z-waarde) zal je gebruiken om het interval op te stellen?\n",
    "b. Moeten we de machine bijstellen?\n",
    "Een tweede steekproef levert ook een gemiddelde van 11,9 kg, maar een\n",
    "standaardafwijking van 0,1 kg.\n",
    "c. Welke factor (Z-waarde) gebruiken we deze keer?\n",
    "d. Moeten we de machine deze keer bijstellen?"
   ]
  },
  {
   "cell_type": "code",
   "execution_count": 42,
   "id": "0f563cfb-b60f-475d-8b12-572f939549e2",
   "metadata": {
    "ExecuteTime": {
     "end_time": "2024-02-28T15:06:06.664753800Z",
     "start_time": "2024-02-28T15:06:06.639155600Z"
    }
   },
   "outputs": [
    {
     "name": "stdout",
     "output_type": "stream",
     "text": [
      "2.6264054563851857\n"
     ]
    }
   ],
   "source": [
    "#a\n",
    "x_bar = 11.9 \n",
    "s = 1\n",
    "n = 100\n",
    "p = 0.99\n",
    "mu = 12\n",
    "factor = t.ppf((1+p)/2, df=n-1)\n",
    "# factor = t.ppf(1-alpha/2, df=n-1)\n",
    "print(factor)\n"
   ]
  },
  {
   "cell_type": "code",
   "execution_count": 43,
   "id": "d48d86e3-dedc-4f67-9dcb-3af7051d3bf4",
   "metadata": {
    "ExecuteTime": {
     "end_time": "2024-02-28T15:06:06.720185400Z",
     "start_time": "2024-02-28T15:06:06.667280300Z"
    }
   },
   "outputs": [
    {
     "data": {
      "text/plain": "(11.737359454361481, 12.262640545638519)"
     },
     "execution_count": 43,
     "metadata": {},
     "output_type": "execute_result"
    }
   ],
   "source": [
    "#b \n",
    "#11.9 zit er tussen dus oké\n",
    "t.interval(confidence=p, df=n-1, loc=mu, scale=s/math.sqrt(n))"
   ]
  },
  {
   "cell_type": "code",
   "execution_count": 44,
   "id": "713c3622-4348-4e77-b745-73e9fbf169b9",
   "metadata": {
    "ExecuteTime": {
     "end_time": "2024-02-28T15:06:06.752639100Z",
     "start_time": "2024-02-28T15:06:06.720185400Z"
    }
   },
   "outputs": [
    {
     "name": "stdout",
     "output_type": "stream",
     "text": [
      "2.6264054563851857\n"
     ]
    }
   ],
   "source": [
    "#c\n",
    "\n",
    "s= 0.1\n",
    "factor = t.ppf((1+p)/2, df=n-1)\n",
    "# factor = t.ppf(1-alpha/2, df=n-1)\n",
    "print(factor)\n"
   ]
  },
  {
   "cell_type": "code",
   "execution_count": 45,
   "id": "dd9d4f1b-475f-495c-bf72-6867240e751c",
   "metadata": {
    "ExecuteTime": {
     "end_time": "2024-02-28T15:06:06.785476700Z",
     "start_time": "2024-02-28T15:06:06.755466800Z"
    }
   },
   "outputs": [
    {
     "data": {
      "text/plain": "(11.973735945436148, 12.026264054563852)"
     },
     "execution_count": 45,
     "metadata": {},
     "output_type": "execute_result"
    }
   ],
   "source": [
    "#d\n",
    "# 11.9 is te ver\n",
    "t.interval(confidence=p, df=n-1, loc=mu, scale=s/math.sqrt(n))"
   ]
  },
  {
   "cell_type": "markdown",
   "id": "82891f63-334f-4906-b648-d4aec50a1a1a",
   "metadata": {},
   "source": [
    "## Vraag 5"
   ]
  },
  {
   "cell_type": "markdown",
   "id": "c668e88e-1e9f-4195-a1b1-66ef15ddca10",
   "metadata": {},
   "source": [
    "normale verdeling want standaard afwijking van populatie is gekend"
   ]
  },
  {
   "cell_type": "code",
   "execution_count": 46,
   "id": "f353e633-b5fc-47e9-934e-60f3c8e45ee7",
   "metadata": {
    "ExecuteTime": {
     "end_time": "2024-02-28T15:06:06.816318400Z",
     "start_time": "2024-02-28T15:06:06.788308200Z"
    }
   },
   "outputs": [],
   "source": [
    "#"
   ]
  },
  {
   "cell_type": "markdown",
   "id": "e5c1b3e3-e4ba-41a5-8bbf-0512b0ea45a7",
   "metadata": {},
   "source": [
    "## Vraag 6\n",
    "We wensen een programmeur aan te werven. We onderwerpen de kandidaten aan een\n",
    "test. We weten dat een goede programmeur een score van gemiddeld 100 haalt op deze\n",
    "test. Enkele (16) studenten van KdG bieden zich aan. We komen op een gemiddelde van\n",
    "107,3 en een standaardafwijking van 8,0.\n",
    "Neem alpha=0,05. We vermoeden dat deze groep afwijkt van de gemiddelde populatie.\n",
    "a. Welke toets gebruiken we?\n",
    "b. Welke factor gaan we gebruiken? alpha = 0.05\n",
    "We kunnen een interval opstellen waarbinnen we voor 95% zeker zijn dat KdG studenten\n",
    "gemiddeld scoren.\n",
    "c. Wat is de ondergrens van het interval?\n",
    "d. Wat is de bovengrens van het interval?\n",
    "e. Kunnen we op basis van dit interval stellen dat KdG studenten beter scoren dan\n",
    "gemiddeld? met 95% ja"
   ]
  },
  {
   "cell_type": "code",
   "execution_count": 47,
   "id": "befd8270-8426-45dd-b2cd-3e3b7724d846",
   "metadata": {
    "ExecuteTime": {
     "end_time": "2024-02-28T15:06:06.839228Z",
     "start_time": "2024-02-28T15:06:06.818822800Z"
    }
   },
   "outputs": [
    {
     "data": {
      "text/plain": "(103.03710090888136, 111.56289909111864)"
     },
     "execution_count": 47,
     "metadata": {},
     "output_type": "execute_result"
    }
   ],
   "source": [
    "#b\n",
    "x_bar = 107.3\n",
    "s = 8.0\n",
    "n = 16\n",
    "alpha = 0.05\n",
    "t.interval(confidence=(1-alpha), df=n-1, loc=x_bar, scale=s/math.sqrt(n))"
   ]
  },
  {
   "cell_type": "code",
   "execution_count": 48,
   "id": "b5e82c17-8e06-4df8-a7ce-6c158e0db45b",
   "metadata": {
    "ExecuteTime": {
     "end_time": "2024-02-28T15:06:06.889846Z",
     "start_time": "2024-02-28T15:06:06.841435400Z"
    }
   },
   "outputs": [],
   "source": [
    "#c\n"
   ]
  }
 ],
 "metadata": {
  "kernelspec": {
   "display_name": "Python 3 (ipykernel)",
   "language": "python",
   "name": "python3"
  },
  "language_info": {
   "codemirror_mode": {
    "name": "ipython",
    "version": 3
   },
   "file_extension": ".py",
   "mimetype": "text/x-python",
   "name": "python",
   "nbconvert_exporter": "python",
   "pygments_lexer": "ipython3",
   "version": "3.9.13"
  }
 },
 "nbformat": 4,
 "nbformat_minor": 5
}
