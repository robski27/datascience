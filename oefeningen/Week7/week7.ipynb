{
 "cells": [
  {
   "cell_type": "code",
   "execution_count": 1,
   "id": "initial_id",
   "metadata": {
    "collapsed": true,
    "ExecuteTime": {
     "end_time": "2024-04-17T12:52:33.345563800Z",
     "start_time": "2024-04-17T12:52:32.011913900Z"
    }
   },
   "outputs": [],
   "source": [
    "import pandas as pd\n",
    "import numpy as np\n",
    "from sklearn.discriminant_analysis import LinearDiscriminantAnalysis\n",
    "studentq = pd.read_csv('../DataSets/vragenlijst 21-22.csv',decimal=',',delimiter=';')\n"
   ]
  },
  {
   "cell_type": "code",
   "outputs": [
    {
     "name": "stderr",
     "output_type": "stream",
     "text": [
      "C:\\Users\\robbe\\AppData\\Local\\Programs\\Python\\Python311\\Lib\\site-packages\\sklearn\\base.py:493: UserWarning: X does not have valid feature names, but LinearDiscriminantAnalysis was fitted with feature names\n",
      "  warnings.warn(\n"
     ]
    },
    {
     "data": {
      "text/plain": "0.8426966292134831"
     },
     "execution_count": 4,
     "metadata": {},
     "output_type": "execute_result"
    }
   ],
   "source": [
    "x= studentq[['lengte','stukken fruit','schoenmaat','afstand tot KdG']]\n",
    "y= studentq['schrijfhand']\n",
    "lda = LinearDiscriminantAnalysis()\n",
    "lda.fit(x,y)\n",
    "lda.predict([[182,2,44,22]])\n"
   ],
   "metadata": {
    "collapsed": false,
    "ExecuteTime": {
     "end_time": "2024-04-17T13:03:26.117123700Z",
     "start_time": "2024-04-17T13:03:26.103058100Z"
    }
   },
   "id": "9206de4d2fe46387",
   "execution_count": 4
  },
  {
   "cell_type": "code",
   "outputs": [
    {
     "data": {
      "text/plain": "0.8426966292134831"
     },
     "execution_count": 5,
     "metadata": {},
     "output_type": "execute_result"
    }
   ],
   "source": [
    "lda.score(x,y)"
   ],
   "metadata": {
    "collapsed": false,
    "ExecuteTime": {
     "end_time": "2024-04-17T13:04:34.908654700Z",
     "start_time": "2024-04-17T13:04:34.897754200Z"
    }
   },
   "id": "197734ff29f8250a",
   "execution_count": 5
  },
  {
   "cell_type": "code",
   "outputs": [
    {
     "data": {
      "text/plain": "predict  Links  Rechts  total\nactual                       \nLinks        1      13     14\nRechts       1      74     75\ntotal        2      87     89",
      "text/html": "<div>\n<style scoped>\n    .dataframe tbody tr th:only-of-type {\n        vertical-align: middle;\n    }\n\n    .dataframe tbody tr th {\n        vertical-align: top;\n    }\n\n    .dataframe thead th {\n        text-align: right;\n    }\n</style>\n<table border=\"1\" class=\"dataframe\">\n  <thead>\n    <tr style=\"text-align: right;\">\n      <th>predict</th>\n      <th>Links</th>\n      <th>Rechts</th>\n      <th>total</th>\n    </tr>\n    <tr>\n      <th>actual</th>\n      <th></th>\n      <th></th>\n      <th></th>\n    </tr>\n  </thead>\n  <tbody>\n    <tr>\n      <th>Links</th>\n      <td>1</td>\n      <td>13</td>\n      <td>14</td>\n    </tr>\n    <tr>\n      <th>Rechts</th>\n      <td>1</td>\n      <td>74</td>\n      <td>75</td>\n    </tr>\n    <tr>\n      <th>total</th>\n      <td>2</td>\n      <td>87</td>\n      <td>89</td>\n    </tr>\n  </tbody>\n</table>\n</div>"
     },
     "execution_count": 6,
     "metadata": {},
     "output_type": "execute_result"
    }
   ],
   "source": [
    "predict = pd.Series(lda.predict(x),name='predict')\n",
    "actual = y.rename('actual')\n",
    "pd.crosstab(index=actual,columns=predict, margins='all',margins_name='total')"
   ],
   "metadata": {
    "collapsed": false,
    "ExecuteTime": {
     "end_time": "2024-04-17T13:05:56.986547400Z",
     "start_time": "2024-04-17T13:05:56.958012900Z"
    }
   },
   "id": "b955380b6028952c",
   "execution_count": 6
  }
 ],
 "metadata": {
  "kernelspec": {
   "display_name": "Python 3",
   "language": "python",
   "name": "python3"
  },
  "language_info": {
   "codemirror_mode": {
    "name": "ipython",
    "version": 2
   },
   "file_extension": ".py",
   "mimetype": "text/x-python",
   "name": "python",
   "nbconvert_exporter": "python",
   "pygments_lexer": "ipython2",
   "version": "2.7.6"
  }
 },
 "nbformat": 4,
 "nbformat_minor": 5
}
