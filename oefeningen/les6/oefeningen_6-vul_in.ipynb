{
 "cells": [
  {
   "cell_type": "markdown",
   "id": "90b5caf3-2a6b-4709-b353-c03cba9f5948",
   "metadata": {},
   "source": [
    "# P3W6: Herhaling"
   ]
  },
  {
   "cell_type": "code",
   "execution_count": 41,
   "id": "34a178e3-cb8f-4f43-9bfc-4155e60aefc0",
   "metadata": {
    "ExecuteTime": {
     "end_time": "2024-03-20T15:19:21.619265Z",
     "start_time": "2024-03-20T15:19:21.599550800Z"
    }
   },
   "outputs": [],
   "source": [
    "# import\n",
    "import pandas as pd \n",
    "from scipy.stats import binom, norm, poisson, t, ttest_1samp,chisquare\n",
    "from mlxtend.preprocessing import TransactionEncoder\n",
    "from mlxtend.frequent_patterns import fpgrowth\n",
    "from mlxtend.frequent_patterns import association_rules\n",
    "import math\n",
    "import numpy as np\n",
    "\n"
   ]
  },
  {
   "cell_type": "markdown",
   "id": "cf68a26e-1900-4d64-8d4a-ed3de52f2701",
   "metadata": {},
   "source": [
    "## Vraag 1:\n",
    "Uit een dataset van het vorige jaar zijn volgende kansen gekend. 79% van de studenten\n",
    "nemen voor het eerst deel aan het examen Data Science. Respectievelijk 12.65%, 4.30% en\n",
    "4.05% van de studenten nemen voor de 2de, 3de en 4de keer deel aan het examen.\n",
    "Als de student voor het eerst deelneemt dan is de kans dat hij geslaagd is 60%. Bij de\n",
    "tweede, derde en vierde deelname is de kans dat hij geslaagd is respectievelijk 40%, 12%\n",
    "en 2%.\n",
    "a) Er is 53,057% kans dat een willekeurige gekozen student van vorig jaar geslaagd is.\n",
    "Noteer de berekening waarmee je op basis van de gegevens uit de opgave aan dit\n",
    "percentage komt.\n",
    "b) 24% van de studenten die vorig jaar deelnamen aan het examen Data Science zijn\n",
    "gedoopt. Het percentage geslaagde studenten van de groep gedoopte studenten is\n",
    "exact hetzelfde als het percentage geslaagde studenten voor de volledige groep. Stel\n",
    "dat de docent uit de volledige groep studenten (die vorig jaar deelnamen aan het\n",
    "examen) één student kiest. Wat is de kans dat deze student gedoopt werd en vorig\n",
    "jaar geslaagd was voor Data Science.\n",
    "c) De docent roept 15 studenten naar voor die vorig jaar voor de eerste keer deelnamen\n",
    "aan het examen. Wat is de kans dat daarvan 10 of meer studenten geslaagd zijn"
   ]
  },
  {
   "cell_type": "code",
   "outputs": [
    {
     "name": "stdout",
     "output_type": "stream",
     "text": [
      "0.53057\n",
      "0.1273368\n",
      "40.3215550414848\n"
     ]
    }
   ],
   "source": [
    "# a)\n",
    "kans = 60/100 *0.79 +40/100 * 0.1265 + 12/100 * 0.0430 + 2/100 * 0.0405\n",
    "print(kans)\n",
    "# b)\n",
    "kansgedoopt = kans * 0.24\n",
    "print(kansgedoopt)\n",
    "# c)\n",
    "print((1 - binom.cdf(9,15,0.6))*100) "
   ],
   "metadata": {
    "collapsed": false,
    "ExecuteTime": {
     "end_time": "2024-03-20T15:19:21.634909400Z",
     "start_time": "2024-03-20T15:19:21.622491800Z"
    }
   },
   "id": "4a74542a9a8e56a",
   "execution_count": 42
  },
  {
   "cell_type": "markdown",
   "id": "04e791c9-0985-4b46-89f7-97ab3025152c",
   "metadata": {},
   "source": [
    "## Extra vraag\n",
    "Een theoretisch rijexamen bevat 50 meerkeuze vragen. Je dient 43/50 te halen om te slage. Stel dat elke meerkeuze vraag 4 mogelijke antwoorden heeft. "
   ]
  },
  {
   "cell_type": "code",
   "execution_count": 43,
   "id": "159169f0-2d7f-4c57-a906-909274012fbc",
   "metadata": {
    "ExecuteTime": {
     "end_time": "2024-03-20T15:19:21.635463100Z",
     "start_time": "2024-03-20T15:19:21.626723700Z"
    }
   },
   "outputs": [
    {
     "data": {
      "text/plain": "0.0"
     },
     "execution_count": 43,
     "metadata": {},
     "output_type": "execute_result"
    }
   ],
   "source": [
    "# a) Wat is de kans om te kunnen slagen (43/50) wanneer je enkel gokt (4 mogelijkheden)?\n",
    "slaagnummer = 43/50\n",
    "kansOpJuist = 1 / 4\n",
    "test =  1- binom.cdf(42,50,kansOpJuist)\n",
    "test"
   ]
  },
  {
   "cell_type": "code",
   "execution_count": 44,
   "id": "90140101-cbe6-4e61-9814-d3e457f76191",
   "metadata": {
    "ExecuteTime": {
     "end_time": "2024-03-20T15:19:21.656755500Z",
     "start_time": "2024-03-20T15:19:21.632659600Z"
    }
   },
   "outputs": [
    {
     "data": {
      "text/plain": "1.0"
     },
     "execution_count": 44,
     "metadata": {},
     "output_type": "execute_result"
    }
   ],
   "source": [
    "# b) Wat is de kans om te slagen indien je van 35 vragen zeker bent (en dus 15 keer hebt gegokt)?\n",
    "n = 8\n",
    "aantal = 43-50-n-1 \n",
    "kansOpJuist = 1 / 4\n",
    "test = 1 - binom.cdf(aantal,n,kansOpJuist)\n",
    "test"
   ]
  },
  {
   "cell_type": "code",
   "execution_count": 45,
   "id": "74c01754-4996-49a8-bb54-0d2742eae104",
   "metadata": {
    "ExecuteTime": {
     "end_time": "2024-03-20T15:19:21.657806500Z",
     "start_time": "2024-03-20T15:19:21.639174200Z"
    }
   },
   "outputs": [
    {
     "data": {
      "text/plain": "1.049338713698944e-07"
     },
     "execution_count": 45,
     "metadata": {},
     "output_type": "execute_result"
    }
   ],
   "source": [
    "# c) Wat is de kans om te kunnen slagen (43/50) wanneer je enkel gokt en er maar 2 mogelijkheden per vraag zijn?\n",
    "kansOpJuist= 1 / 2\n",
    "slaagnummer = 43-1\n",
    "n = 50\n",
    "test =  1- binom.cdf(slaagnummer,n,kansOpJuist)\n",
    "test"
   ]
  },
  {
   "cell_type": "markdown",
   "id": "a4bf8666-c9f4-447a-b73e-02cda0102334",
   "metadata": {},
   "source": [
    "## Vraag 2\n",
    "Vraag 2:\n",
    "De gemiddelde studietijd per opleidingsonderdeel bedraagt 4.5 uur per week in de opleiding.\n",
    "We willen nagaan of de studietijd van de opleiding significant verschilt van het gemiddelde\n",
    "voor het vak Data Science (op basis van een steekproef). Gebruik hiervoor het inputbestand\n",
    "a) Welke alternatieve hypothese kunnen we gebruiken?\n",
    "b) Wat is het aanvaardingsinterval voor de studietijd van de opleiding bij =0.05? Schrijf\n",
    "ook op hoe je tot dit getal gekomen bent.\n",
    "c) Welke waarde voor de factor heb je gebruikt om het aanvaardingsinterval te\n",
    "berekenen?\n",
    "d) Wat kan je nu zeggen over de nulhypothese?\n",
    "e) Bereken de p-waarde die je kan gebruiken om deze bewering te staven (bij =)\n",
    "f) Formuleer een conclusie op basis van de p-waarde. Vul daarvoor de volgende zin\n",
    "aan (gebruik in ieder geval de bekomen p-waarde in je conclusie):\n",
    "Als de gemiddelde studieduur van de populatie gelijk is aan 4,5 UUR dan is"
   ]
  },
  {
   "cell_type": "code",
   "outputs": [
    {
     "name": "stdout",
     "output_type": "stream",
     "text": [
      "(4.301534060067161, 4.698465939932839)\n",
      "4.075189873417722\n"
     ]
    }
   ],
   "source": [
    "data = pd.read_csv('../DataSets/studyResult.csv',delimiter=\";\", decimal=\",\")\n",
    "mu0 = 4.5\n",
    "alpha = 0.05\n",
    "p = 1-alpha\n",
    "s= data['study time'].std()\n",
    "x_bar = data['study time'].mean()\n",
    "n=len(data['study time'])\n",
    "print(t.interval(confidence=p,df=n-1,loc=mu0,scale=s/math.sqrt(n)))\n",
    "\n",
    "print(x_bar)\n",
    "# niet accepteren kijken naar xbar"
   ],
   "metadata": {
    "collapsed": false,
    "ExecuteTime": {
     "end_time": "2024-03-20T15:19:21.703448900Z",
     "start_time": "2024-03-20T15:19:21.660020400Z"
    }
   },
   "id": "565d8af1dc91127a",
   "execution_count": 46
  },
  {
   "cell_type": "code",
   "outputs": [
    {
     "data": {
      "text/plain": "TtestResult(statistic=-4.2081682585373015, pvalue=3.19125975826884e-05, df=394)"
     },
     "execution_count": 47,
     "metadata": {},
     "output_type": "execute_result"
    }
   ],
   "source": [
    "t.ppf((1-alpha/2),df=n-1)\n",
    "ttest_1samp(data['study time'],mu0)"
   ],
   "metadata": {
    "collapsed": false,
    "ExecuteTime": {
     "end_time": "2024-03-20T15:19:21.704489200Z",
     "start_time": "2024-03-20T15:19:21.667169Z"
    }
   },
   "id": "80516174851a675a",
   "execution_count": 47
  },
  {
   "cell_type": "markdown",
   "id": "7015ec00-6ce6-4a59-bf36-064a07dad1fc",
   "metadata": {},
   "source": [
    "## Vraag 3\n",
    "Vraag 3:\n",
    "We willen weten of het uitgaansgedrag van\n",
    "onze studenten verschilt met die van de\n",
    "hogeschool\n",
    "Uit bevraging van alle studenten van de\n",
    "hogeschool blijkt volgende verdeling:\n",
    "a) Bereken ²\n",
    "b) Wat is de p waarde voor deze verdeling?\n",
    "c) Ik wil een besluit nemen met een\n",
    "betrouwbaarheid van 90%. Welk besluit\n",
    "neem ik?"
   ]
  },
  {
   "cell_type": "code",
   "outputs": [
    {
     "data": {
      "text/plain": "Power_divergenceResult(statistic=8.288728149487643, pvalue=0.08155624992038794)"
     },
     "execution_count": 66,
     "metadata": {},
     "output_type": "execute_result"
    }
   ],
   "source": [
    "data = pd.read_csv('../DataSets/studyResult.csv',delimiter=\";\", decimal=\",\")\n",
    "measured = data['partying'].value_counts()\n",
    "n =measured.sum()\n",
    "expected = np.array([0.35,0.3,0.2,0.1,0.05]) * n\n",
    "chisquare(measured,expected)"
   ],
   "metadata": {
    "collapsed": false,
    "ExecuteTime": {
     "end_time": "2024-03-20T15:30:53.889164600Z",
     "start_time": "2024-03-20T15:30:53.876603400Z"
    }
   },
   "id": "7a2ff03c74c885fd",
   "execution_count": 66
  },
  {
   "cell_type": "markdown",
   "id": "0cb6a794-d4cd-4faf-9d94-879047079266",
   "metadata": {},
   "source": [
    "## Vraag 4\n",
    "Een winkel heeft een aantal winkelkarren geanalyseerd. Ga op zoek naar de assocatieregels.\n",
    "Lees het groceries.cvs bestand in. Neem min_support=0.05 en min_confidence=0.1. Zoek de regel yogurt → whole milk op"
   ]
  },
  {
   "cell_type": "code",
   "outputs": [
    {
     "data": {
      "text/plain": "          antecedents         consequents  antecedent support  \\\n1            (yogurt)        (whole milk)            0.139502   \n3  (other vegetables)        (whole milk)            0.193493   \n5        (rolls/buns)        (whole milk)            0.183935   \n2        (whole milk)  (other vegetables)            0.255516   \n4        (whole milk)        (rolls/buns)            0.255516   \n0        (whole milk)            (yogurt)            0.255516   \n\n   consequent support   support  confidence      lift  leverage  conviction  \\\n1            0.255516  0.056024    0.401603  1.571735  0.020379    1.244132   \n3            0.255516  0.074835    0.386758  1.513634  0.025394    1.214013   \n5            0.255516  0.056634    0.307905  1.205032  0.009636    1.075696   \n2            0.193493  0.074835    0.292877  1.513634  0.025394    1.140548   \n4            0.183935  0.056634    0.221647  1.205032  0.009636    1.048452   \n0            0.139502  0.056024    0.219260  1.571735  0.020379    1.102157   \n\n   zhangs_metric  \n1       0.422732  \n3       0.420750  \n5       0.208496  \n2       0.455803  \n4       0.228543  \n0       0.488608  ",
      "text/html": "<div>\n<style scoped>\n    .dataframe tbody tr th:only-of-type {\n        vertical-align: middle;\n    }\n\n    .dataframe tbody tr th {\n        vertical-align: top;\n    }\n\n    .dataframe thead th {\n        text-align: right;\n    }\n</style>\n<table border=\"1\" class=\"dataframe\">\n  <thead>\n    <tr style=\"text-align: right;\">\n      <th></th>\n      <th>antecedents</th>\n      <th>consequents</th>\n      <th>antecedent support</th>\n      <th>consequent support</th>\n      <th>support</th>\n      <th>confidence</th>\n      <th>lift</th>\n      <th>leverage</th>\n      <th>conviction</th>\n      <th>zhangs_metric</th>\n    </tr>\n  </thead>\n  <tbody>\n    <tr>\n      <th>1</th>\n      <td>(yogurt)</td>\n      <td>(whole milk)</td>\n      <td>0.139502</td>\n      <td>0.255516</td>\n      <td>0.056024</td>\n      <td>0.401603</td>\n      <td>1.571735</td>\n      <td>0.020379</td>\n      <td>1.244132</td>\n      <td>0.422732</td>\n    </tr>\n    <tr>\n      <th>3</th>\n      <td>(other vegetables)</td>\n      <td>(whole milk)</td>\n      <td>0.193493</td>\n      <td>0.255516</td>\n      <td>0.074835</td>\n      <td>0.386758</td>\n      <td>1.513634</td>\n      <td>0.025394</td>\n      <td>1.214013</td>\n      <td>0.420750</td>\n    </tr>\n    <tr>\n      <th>5</th>\n      <td>(rolls/buns)</td>\n      <td>(whole milk)</td>\n      <td>0.183935</td>\n      <td>0.255516</td>\n      <td>0.056634</td>\n      <td>0.307905</td>\n      <td>1.205032</td>\n      <td>0.009636</td>\n      <td>1.075696</td>\n      <td>0.208496</td>\n    </tr>\n    <tr>\n      <th>2</th>\n      <td>(whole milk)</td>\n      <td>(other vegetables)</td>\n      <td>0.255516</td>\n      <td>0.193493</td>\n      <td>0.074835</td>\n      <td>0.292877</td>\n      <td>1.513634</td>\n      <td>0.025394</td>\n      <td>1.140548</td>\n      <td>0.455803</td>\n    </tr>\n    <tr>\n      <th>4</th>\n      <td>(whole milk)</td>\n      <td>(rolls/buns)</td>\n      <td>0.255516</td>\n      <td>0.183935</td>\n      <td>0.056634</td>\n      <td>0.221647</td>\n      <td>1.205032</td>\n      <td>0.009636</td>\n      <td>1.048452</td>\n      <td>0.228543</td>\n    </tr>\n    <tr>\n      <th>0</th>\n      <td>(whole milk)</td>\n      <td>(yogurt)</td>\n      <td>0.255516</td>\n      <td>0.139502</td>\n      <td>0.056024</td>\n      <td>0.219260</td>\n      <td>1.571735</td>\n      <td>0.020379</td>\n      <td>1.102157</td>\n      <td>0.488608</td>\n    </tr>\n  </tbody>\n</table>\n</div>"
     },
     "execution_count": 49,
     "metadata": {},
     "output_type": "execute_result"
    }
   ],
   "source": [
    "data = pd.read_csv(\"../DataSets/groceries.csv\")\n",
    "\n",
    " # Machine Learning Library Extentions\n",
    "\n",
    "\n",
    "def get_item_list (string):\n",
    "    items = string [1:-1]\n",
    "    return items.split(';')\n",
    "transactions = data['items'].apply(get_item_list).to_numpy()\n",
    "te = TransactionEncoder()\n",
    "dataset = te.fit(transactions).transform(transactions)\n",
    "transactionstable = pd.DataFrame(dataset,\n",
    "columns=te.columns_, index= data.transaction)\n",
    "transactionstable\n",
    "itemsets = fpgrowth(transactionstable,min_support=0.05 , use_colnames=True)\n",
    "rules = association_rules(itemsets, metric='confidence',min_threshold=0.1)\n",
    "rules.sort_values('confidence',ascending=False)\n"
   ],
   "metadata": {
    "collapsed": false,
    "ExecuteTime": {
     "end_time": "2024-03-20T15:19:21.881254700Z",
     "start_time": "2024-03-20T15:19:21.707675700Z"
    }
   },
   "id": "1318dd2435173173",
   "execution_count": 49
  },
  {
   "cell_type": "code",
   "outputs": [],
   "source": [],
   "metadata": {
    "collapsed": false,
    "ExecuteTime": {
     "end_time": "2024-03-20T15:19:21.882760100Z",
     "start_time": "2024-03-20T15:19:21.879140Z"
    }
   },
   "id": "c19fdbb89afbac0e",
   "execution_count": 49
  }
 ],
 "metadata": {
  "kernelspec": {
   "display_name": "Python 3 (ipykernel)",
   "language": "python",
   "name": "python3"
  },
  "language_info": {
   "codemirror_mode": {
    "name": "ipython",
    "version": 3
   },
   "file_extension": ".py",
   "mimetype": "text/x-python",
   "name": "python",
   "nbconvert_exporter": "python",
   "pygments_lexer": "ipython3",
   "version": "3.11.7"
  }
 },
 "nbformat": 4,
 "nbformat_minor": 5
}
