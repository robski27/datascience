{
 "cells": [
  {
   "cell_type": "code",
   "execution_count": 2,
   "id": "c62e7cba-c750-4eb5-b38e-5a4847d65bcd",
   "metadata": {
    "ExecuteTime": {
     "end_time": "2024-03-25T17:33:55.285910300Z",
     "start_time": "2024-03-25T17:33:51.094889600Z"
    }
   },
   "outputs": [],
   "source": [
    "import math\n",
    "import numpy as np\n",
    "import pandas as pd\n",
    "from scipy.stats import binom, norm, poisson, t, chi2, chisquare"
   ]
  },
  {
   "cell_type": "markdown",
   "id": "adc63448-2123-459f-9887-e6f5af03b2be",
   "metadata": {},
   "source": [
    "## Vraag 1\n",
    "Vraag 1 (Normale moeilijkheidsgraad)\n",
    "Open het bestand opgave \"gamerps.csv\". Schaar steen papier is een spelletje waarbij je\n",
    "zelf een keuze maakt tussen deze drie. Is er echter een voorkeur bij onze scoutsleden\n",
    "van de selectietest? De verwachte verdeling is evenredig. Ga na of onze telling afwijkt\n",
    "van de verwachte verdeling\n",
    "a. Welke test ga je hiervoor gebruiken?\n",
    "b. Hoe luidt H0? \"De telling in onze steekproef is wel/niet evenredig verdeeld.\"\n",
    "c. Wat is de waarde van ²? (3 beduidende cijfers) 1.680\n",
    "d. Wat is de kans dat een steekproef een hogere waarde dan ² zou hebben (p-\n",
    "waarde)? (3 beduidende cijfers) 0.4317105234290799\n",
    "e. Kan H0 met een betrouwbaarheid van 95% verworpen worden? nee\n",
    "f. Kunnen we dus beweren dat de scoutsleden een voorkeur hebben?"
   ]
  },
  {
   "cell_type": "code",
   "execution_count": 3,
   "id": "b87bf787-2710-4824-a988-89f5e3bb37dc",
   "metadata": {
    "ExecuteTime": {
     "end_time": "2024-03-25T17:33:55.306393400Z",
     "start_time": "2024-03-25T17:33:55.286911500Z"
    }
   },
   "outputs": [],
   "source": [
    "# lees file in\n",
    "data = pd.read_csv(\"../DataSets/gamerps.csv\")\n"
   ]
  },
  {
   "cell_type": "code",
   "execution_count": 4,
   "id": "6697d369-75c4-4c57-bec9-31d45705b4a8",
   "metadata": {
    "ExecuteTime": {
     "end_time": "2024-03-25T17:33:55.331873200Z",
     "start_time": "2024-03-25T17:33:55.305857100Z"
    }
   },
   "outputs": [
    {
     "name": "stdout",
     "output_type": "stream",
     "text": [
      "hand    21\n",
      "dtype: int64\n",
      "hand    30\n",
      "dtype: int64\n",
      "hand    24\n",
      "dtype: int64\n"
     ]
    },
    {
     "data": {
      "text/plain": "Power_divergenceResult(statistic=1.6800000000000002, pvalue=0.4317105234290799)"
     },
     "execution_count": 4,
     "metadata": {},
     "output_type": "execute_result"
    }
   ],
   "source": [
    "#a idk\n",
    "#b\n",
    "\n",
    "print(data[data['hand'] == \"Rock\"].count())\n",
    "print(data[data['hand'] == \"Scissors\"].count())\n",
    "print(data[data['hand'] == \"Paper\"].count())\n",
    "\n",
    "fo = data.value_counts()\n",
    "n = fo.sum()\n",
    "fe = [n/3,n/3,n/3]\n",
    "chisquare(fo,fe)\n",
    "\n",
    "\n"
   ]
  },
  {
   "cell_type": "code",
   "outputs": [
    {
     "data": {
      "text/plain": "(37.531877264838, 52.468122735162)"
     },
     "execution_count": 5,
     "metadata": {},
     "output_type": "execute_result"
    }
   ],
   "source": [
    "t.interval(confidence=0.95, df=30-1, loc=45,\n",
    "scale=20/math.sqrt(30))"
   ],
   "metadata": {
    "collapsed": false,
    "ExecuteTime": {
     "end_time": "2024-03-25T17:33:55.341311Z",
     "start_time": "2024-03-25T17:33:55.329861400Z"
    }
   },
   "id": "5c889fbd040c5a97",
   "execution_count": 5
  },
  {
   "cell_type": "markdown",
   "id": "2bda1554-4c57-441b-824e-942218c8c12d",
   "metadata": {},
   "source": [
    "## Vraag 2\n",
    "Vraag 2 (Normale moeilijkheidsgraad)\n",
    "Open het bestand \"hair colorBrussels\". Het gaat om de gegevens over de kleur van het\n",
    "haar van een steekproef van mensen in Brussel. De verwachte verdeling van haarkleuren\n",
    "in Europa zijn:\n",
    "30% blond, 12% rood, 30% bruin, 25% donker, en 3% zwart.\n",
    "Ga na of onze telling afwijkt van de verwachte verdeling\n",
    "a. Welke test ga je hiervoor gebruiken?\n",
    "b. Hoe luidt H0? \"De haarkleurentelling in onze steekproef wijkt wel/niet af van de\n",
    "   verwachte verdeling.\" wel \n",
    "c. Welke ²-waarde vind je? 7.760162601626017\n",
    "d. Welke p-waarde vind je? pvalue=0.1007695128392703\n",
    "e. Kan H0 met een betrouwbaarheid van 95% kan H0 wel of niet verworpen worden?\n",
    "f. Is er in Brussel een afwijking tov de verwachte verdeling?"
   ]
  },
  {
   "cell_type": "code",
   "execution_count": 6,
   "id": "0f563cfb-b60f-475d-8b12-572f939549e2",
   "metadata": {
    "ExecuteTime": {
     "end_time": "2024-03-25T17:33:55.397192700Z",
     "start_time": "2024-03-25T17:33:55.336234100Z"
    }
   },
   "outputs": [],
   "source": [
    "# lees file in\n",
    "haarkleur = pd.read_csv(\"../DataSets/ColorHairBrussels.csv\")"
   ]
  },
  {
   "cell_type": "code",
   "execution_count": 7,
   "id": "c191bb1d-2f10-43e6-ad83-83c6487b2560",
   "metadata": {
    "ExecuteTime": {
     "end_time": "2024-03-25T17:33:55.398766900Z",
     "start_time": "2024-03-25T17:33:55.350861300Z"
    }
   },
   "outputs": [
    {
     "name": "stdout",
     "output_type": "stream",
     "text": [
      "hair  \n",
      "Brown     83\n",
      "Blonde    76\n",
      "Dark      65\n",
      "Red       19\n",
      "Black      3\n",
      "Name: count, dtype: int64\n"
     ]
    },
    {
     "data": {
      "text/plain": "9.487729036781154"
     },
     "execution_count": 7,
     "metadata": {},
     "output_type": "execute_result"
    }
   ],
   "source": [
    "#\n",
    "fo = haarkleur.value_counts()\n",
    "print(fo)\n",
    "n = fo.sum()\n",
    "fe = [n*0.3,n*0.3,n*0.25,n*0.12,n*0.03]\n",
    "chisquare(fo,fe)\n",
    "chi2.ppf(0.95, 5-1)"
   ]
  },
  {
   "cell_type": "markdown",
   "id": "82891f63-334f-4906-b648-d4aec50a1a1a",
   "metadata": {},
   "source": [
    "## Vraag 7\n",
    "Vraag 7 (Normale moeilijkheidsgraad)\n",
    "We wensen een onderzoek uit te voeren naar de favoriete browser van studenten.\n",
    "We verwachten de volgende verdeling:\n",
    "• Internet explorer: 8\n",
    "• Opera: 10\n",
    "• Mozilla Firefox: 10\n",
    "• Google chrome: 12\n",
    "Bij navraag bij 1 klasgroep blijkt de verdeling als volgt:\n",
    "• Internet explorer: 17\n",
    "• Opera: 10\n",
    "• Mozilla Firefox: 8\n",
    "• Google chrome: 5\n",
    "a. Welke test ga je toepassen?\n",
    "b. Is deze afwijking binnen onze verwachtingen (alpha=0,01)?\n",
    "c. Wat is de kritieke waarde bij deze gegevens?\n",
    "d. Welke ²-waarde vind je?\n",
    "e. Welke p-waarde vind je?\n"
   ]
  },
  {
   "cell_type": "code",
   "execution_count": 8,
   "id": "f353e633-b5fc-47e9-934e-60f3c8e45ee7",
   "metadata": {
    "ExecuteTime": {
     "end_time": "2024-03-25T17:33:55.399293800Z",
     "start_time": "2024-03-25T17:33:55.359219Z"
    }
   },
   "outputs": [],
   "source": [
    "#"
   ]
  }
 ],
 "metadata": {
  "kernelspec": {
   "display_name": "Python 3 (ipykernel)",
   "language": "python",
   "name": "python3"
  },
  "language_info": {
   "codemirror_mode": {
    "name": "ipython",
    "version": 3
   },
   "file_extension": ".py",
   "mimetype": "text/x-python",
   "name": "python",
   "nbconvert_exporter": "python",
   "pygments_lexer": "ipython3",
   "version": "3.9.13"
  }
 },
 "nbformat": 4,
 "nbformat_minor": 5
}
