{
 "cells": [
  {
   "cell_type": "markdown",
   "id": "831118b3-f9c0-47e1-adf6-610205c9ef9e",
   "metadata": {},
   "source": [
    "# P4W4: Meta-heuristieken"
   ]
  },
  {
   "cell_type": "code",
   "execution_count": 13,
   "id": "890c2b95-d7d0-4718-821e-7cf4949b5dd6",
   "metadata": {
    "ExecuteTime": {
     "end_time": "2024-05-15T11:03:47.704681Z",
     "start_time": "2024-05-15T11:03:47.693850900Z"
    }
   },
   "outputs": [],
   "source": [
    "import math\n",
    "import numpy as np\n",
    "import pandas as pd\n",
    "from simanneal import Annealer"
   ]
  },
  {
   "cell_type": "markdown",
   "id": "24974218-3186-4b5d-8164-a476730fe710",
   "metadata": {},
   "source": [
    "## 1. Simulated Annealing"
   ]
  },
  {
   "cell_type": "code",
   "execution_count": 14,
   "id": "8ecaa5cf-d6ae-496f-ba80-572c3b1a847b",
   "metadata": {
    "ExecuteTime": {
     "end_time": "2024-05-15T11:03:49.779693800Z",
     "start_time": "2024-05-15T11:03:47.709805800Z"
    }
   },
   "outputs": [
    {
     "name": "stderr",
     "output_type": "stream",
     "text": [
      " Temperature        Energy    Accept   Improve     Elapsed   Remaining\n",
      "     2.50000          1.60    69.00%    39.00%     0:00:02     0:00:00\r"
     ]
    },
    {
     "name": "stdout",
     "output_type": "stream",
     "text": [
      "(array([0.00064248, 0.0018231 ]), 0.0007412823086117015)\n"
     ]
    }
   ],
   "source": [
    "class RastriginProblem(Annealer):\n",
    "    def energy(self):\n",
    "        x1 = self.state[0]\n",
    "        x2 = self.state[1]\n",
    "        sum = 10 * 2 + self.state[0]**2 + self.state[1]**2\n",
    "        sum = sum - 10 * math.cos(2 * math.pi * self.state[0]) - 10 * math.cos(2 * math.pi * self.state[1])\n",
    "        return sum    # + want minimum\n",
    "\n",
    "    def move(self):\n",
    "        i = np.random.randint(0,2)\n",
    "        self.state[i] += np.random.normal(0, 0.1)\n",
    "        self.state[i] = np.clip(self.state[i], -5.12, 5.12)\n",
    "\n",
    "# minimum = 0 in (0,0)\n",
    "init_sol =  np.random.uniform(-5.12,5.12, size=2) #initial solution: array met 2 elementen\n",
    "rastrigin=RastriginProblem(init_sol)\n",
    "# set annealing parameters, if not default values will be used\n",
    "rastrigin.Tmax = 25000.0 \n",
    "rastrigin.Tmin = 2.5 \n",
    "rastrigin.updates = 1000\n",
    "rastrigin.steps = 100000\n",
    "opt_sol = rastrigin.anneal()\n",
    "print(opt_sol)"
   ]
  },
  {
   "cell_type": "markdown",
   "id": "40a90ebf-9187-47fc-8ea7-b2c8f6902e24",
   "metadata": {},
   "source": [
    "## 2. Traveling Salesman"
   ]
  },
  {
   "cell_type": "code",
   "execution_count": 15,
   "id": "7fd57d6e-6ee5-4450-8293-06140be3ccf1",
   "metadata": {
    "ExecuteTime": {
     "end_time": "2024-05-15T11:03:49.786896600Z",
     "start_time": "2024-05-15T11:03:49.782779700Z"
    }
   },
   "outputs": [],
   "source": [
    "distance_matrix = np.array([[0, 100, 125, 100,  75],\n",
    "                            [100, 0,  50,  75, 100],\n",
    "                            [125, 50,  0, 100, 125],\n",
    "                            [100, 75, 100,   0, 50],\n",
    "                            [75, 100, 125,  50,  0]]) "
   ]
  },
  {
   "cell_type": "code",
   "execution_count": 16,
   "id": "b237fce7-37fe-4de2-b0c8-2aba1c256a37",
   "metadata": {
    "ExecuteTime": {
     "end_time": "2024-05-15T11:03:50.581827300Z",
     "start_time": "2024-05-15T11:03:49.784841800Z"
    }
   },
   "outputs": [
    {
     "name": "stderr",
     "output_type": "stream",
     "text": [
      " Temperature        Energy    Accept   Improve     Elapsed   Remaining\n",
      "     2.50000        375.00    38.20%     0.00%     0:00:01     0:00:00\r"
     ]
    },
    {
     "data": {
      "text/plain": "([3, 4, 0, 1, 2], 375)"
     },
     "execution_count": 16,
     "metadata": {},
     "output_type": "execute_result"
    }
   ],
   "source": [
    "class TravellingSalesmanProblem(Annealer):\n",
    "    def move(self):\n",
    "        \"\"\"Swaps two cities in the route.\"\"\"\n",
    "        a = np.random.randint(0, len(self.state) - 1)\n",
    "        b = np.random.randint(0, len(self.state) - 1)\n",
    "        self.state[a], self.state[b] = self.state[b], self.state[a]\n",
    "        \n",
    "    def energy(self):\n",
    "        \"\"\"Calculates the length of the route.\"\"\"\n",
    "        dist = 0\n",
    "        for i in range(len(self.state)):\n",
    "            dist += distance_matrix[self.state[i - 1], self.state[i]]\n",
    "        return dist\n",
    "\n",
    "initial_state = [0, 4, 1, 3, 2]\n",
    "tsp = TravellingSalesmanProblem(initial_state)\n",
    "route, distance = tsp.anneal()\n",
    "route, distance"
   ]
  },
  {
   "cell_type": "code",
   "outputs": [],
   "source": [
    "distance_matrix = np.array([[0, 100, 125, 100,  75],\n",
    "                            [100, 0,  50,  75, 100],\n",
    "                            [125, 50,  0, 100, 125],\n",
    "                            [100, 75, 100,   0, 50],\n",
    "                            [75, 100, 125,  50,  0]]) \n",
    "\n",
    "def move(self):\n",
    "        \"\"\"Swaps two cities in the route.\"\"\"\n",
    "        a = np.random.randint(0, len(self.state) - 1)\n",
    "        b = np.random.randint(0, len(self.state) - 1)\n",
    "        self.state[a], self.state[b] = self.state[b], self.state[a]\n",
    "        \n",
    "    def energy(self):\n",
    "        \"\"\"Calculates the length of the route.\"\"\"\n",
    "        dist = 0\n",
    "        for i in range(len(self.state)):\n",
    "            dist += distance_matrix[self.state[i - 1], self.state[i]]\n",
    "        return dist"
   ],
   "metadata": {
    "collapsed": false
   },
   "id": "a7cc122e4fa8b39f"
  }
 ],
 "metadata": {
  "kernelspec": {
   "display_name": "Python 3 (ipykernel)",
   "language": "python",
   "name": "python3"
  },
  "language_info": {
   "codemirror_mode": {
    "name": "ipython",
    "version": 3
   },
   "file_extension": ".py",
   "mimetype": "text/x-python",
   "name": "python",
   "nbconvert_exporter": "python",
   "pygments_lexer": "ipython3",
   "version": "3.11.7"
  }
 },
 "nbformat": 4,
 "nbformat_minor": 5
}
