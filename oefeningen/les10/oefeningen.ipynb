{
 "cells": [
  {
   "cell_type": "code",
   "execution_count": 2,
   "id": "initial_id",
   "metadata": {
    "collapsed": true,
    "ExecuteTime": {
     "end_time": "2024-06-10T17:44:06.868966100Z",
     "start_time": "2024-06-10T17:44:06.363441700Z"
    }
   },
   "outputs": [],
   "source": [
    "import math\n",
    "import numpy as np\n",
    "import pandas as pd\n",
    "from simanneal import Annealer"
   ]
  },
  {
   "cell_type": "markdown",
   "source": [
    "# 4\n",
    "Gegeven volgende te maximaliseren doelfunctie:\n",
    "Met volgende beperkingen: -1.0 ≤ xi ≤ 1.0 met i=1,2\n",
    "Zoek een goede oplossing."
   ],
   "metadata": {
    "collapsed": false
   },
   "id": "f00718b307e49608"
  },
  {
   "cell_type": "code",
   "outputs": [
    {
     "name": "stderr",
     "output_type": "stream",
     "text": [
      " Temperature        Energy    Accept   Improve     Elapsed   Remaining\n",
      "\r    2.50000         -1.14   100.00%    50.00%     0:00:02     0:00:00"
     ]
    },
    {
     "name": "stdout",
     "output_type": "stream",
     "text": [
      "(array([-1.,  1.]), -2.0)\n"
     ]
    }
   ],
   "source": [
    "class OptimalisatieProblem(Annealer):\n",
    "    def energy(self):\n",
    "        x1 = self.state[0]\n",
    "        x2 = self.state[1]\n",
    "        sum = 0.2 + self.state[0]**2 + self.state[1]**2\n",
    "        sum = sum - 0.1 * math.cos(6*math.pi*x1) -0.1 * math.cos(6*math.pi*x2) \n",
    "        return -sum    # + voor minimum - voor maximum\n",
    "\n",
    "    def move(self):\n",
    "        i = np.random.randint(0,2)\n",
    "        self.state[i] += np.random.normal(0, 0.1)\n",
    "        self.state[i] = np.clip(self.state[i], -1, 1)\n",
    "\n",
    "# minimum = 0 in (0,0)\n",
    "init_sol =  np.random.uniform(-1,1, size=2) #initial solution: array met 2 elementen\n",
    "opdracht=OptimalisatieProblem(init_sol)\n",
    "# set annealing parameters, if not default values will be used\n",
    "opdracht.Tmax = 25000.0 \n",
    "opdracht.Tmin = 2.5 \n",
    "opdracht.updates = 1000\n",
    "opdracht.steps = 100000\n",
    "opt_sol = opdracht.anneal()\n",
    "print(opt_sol)"
   ],
   "metadata": {
    "collapsed": false,
    "ExecuteTime": {
     "end_time": "2024-06-10T17:44:08.801576100Z",
     "start_time": "2024-06-10T17:44:06.854551500Z"
    }
   },
   "id": "6e73a0c1f92fdd7f",
   "execution_count": 3
  },
  {
   "cell_type": "markdown",
   "source": [
    "# 2\n",
    "Je bent belast met het ontwerp van dakgoten waarbij de productiekost zo laag mogelijk moet zijn.\n",
    "Daarom is het noodzakelijk dat de dakgoten een zo optimale doorsnede hebben met het beschikbare\n",
    "materiaal zodat bladeren en vuil makkelijk afgevoerd kunnen worden. Het bedrijf waarvoor je werkt\n",
    "koopt metalen platen aan die een breedte hebben van 1m. M.a.w. H + B + H -zie tekening- moet kleiner\n",
    "of gelijk zijn aan 1m. Bepaal de ideale breedte B en hoogte H van de dakgoot die\n",
    "je uit de platen van 1m kan maken."
   ],
   "metadata": {
    "collapsed": false
   },
   "id": "ca1ca57bcebf9d1b"
  },
  {
   "cell_type": "code",
   "outputs": [],
   "source": [
    "# class OptimalisatieProblem(Annealer):\n",
    "#     def energy(self):\n",
    "#         b = self.state[0]\n",
    "#         sum = b * ((1 - b)/2)\n",
    "#         return -sum    # + voor minimum - voor maximum\n",
    "# \n",
    "#     def move(self):\n",
    "#         i = 0\n",
    "#         self.state[i] += np.random.normal(0, 0.1)\n",
    "#         self.state[i] = np.clip(self.state[i], 0, 1)\n",
    "# init_sol =  np.random.uniform(0,1, size=1) #initial solution: array met 1 elementen\n",
    "# opdracht=OptimalisatieProblem(init_sol)\n",
    "# # set annealing parameters, if not default values will be used\n",
    "# opdracht.Tmax = 25000.0 \n",
    "# opdracht.Tmin = 2.5 \n",
    "# opdracht.updates = 1000\n",
    "# opdracht.steps = 100000\n",
    "# opt_sol = opdracht.anneal()\n",
    "# print(opt_sol)"
   ],
   "metadata": {
    "collapsed": false,
    "ExecuteTime": {
     "end_time": "2024-06-10T17:44:08.801576100Z",
     "start_time": "2024-06-10T17:44:08.797932800Z"
    }
   },
   "id": "ff2856e5ceb50e35",
   "execution_count": 4
  },
  {
   "cell_type": "markdown",
   "source": [
    "Vraag 2: De dakgoten\n",
    "Je bent belast met het ontwerp van dakgoten waarbij de productiekost zo laag mogelijk moet zijn.\n",
    "Daarom is het noodzakelijk dat de dakgoten een zo optimale doorsnede hebben met het beschikbare\n",
    "materiaal zodat bladeren en vuil makkelijk afgevoerd kunnen worden. Het bedrijf waarvoor je werkt\n",
    "koopt metalen platen aan die een breedte hebben van 1m. M.a.w. H + B + H -zie tekening- moet kleiner\n",
    "of gelijk zijn aan 1m. Bepaal de ideale breedte B en hoogte H van de dakgoot die\n",
    "je uit de platen van 1m kan maken."
   ],
   "metadata": {
    "collapsed": false
   },
   "id": "2edae407c1df23af"
  },
  {
   "cell_type": "code",
   "outputs": [
    {
     "name": "stderr",
     "output_type": "stream",
     "text": [
      " Temperature        Energy    Accept   Improve     Elapsed   Remaining\n",
      "     2.50000         -0.12    99.80%    45.20%     0:00:01     0:00:00\r"
     ]
    },
    {
     "name": "stdout",
     "output_type": "stream",
     "text": [
      "(array([0.49998491]), -0.12499999988619961)\n"
     ]
    }
   ],
   "source": [
    "class optimalisatie(Annealer):\n",
    "    def energy(self):\n",
    "        b = self.state[0]\n",
    "        sum = b * ((1 - b)/2)\n",
    "        return -sum \n",
    "        \n",
    "        \n",
    "    def move(self):\n",
    "        \n",
    "        self.state[0] += np.random.normal(0,0.1)\n",
    "        self.state[0] = np.clip(self.state[0],0,1)\n",
    "    \n",
    "initial = np.random.normal(0,1, size=1)\n",
    "optimise = optimalisatie(initial)\n",
    "opt = optimise.anneal()\n",
    "print(opt)  "
   ],
   "metadata": {
    "collapsed": false,
    "ExecuteTime": {
     "end_time": "2024-06-10T17:50:56.955109100Z",
     "start_time": "2024-06-10T17:50:56.431373600Z"
    }
   },
   "id": "c40672694afcb3d7",
   "execution_count": 46
  },
  {
   "cell_type": "markdown",
   "source": [
    "# 1\n",
    "Je bevindt je in een geheime kamer die uitgerust is met een deur met tijdslot. Je ziet een timer aftellen\n",
    "die meldt dat je nog maar vijf minuten over het alvorens de deur voor altijd op slot zal zijn. Voor je neus\n",
    "liggen waardevolle voorwerpen met elk hun eigen opbrengst en gewicht. Je hebt een rugzak bij die een\n",
    "absoluut maximaal gewicht kan torsen van 750gr. Op Canvas vind je de lijst van voorwerpen met hun\n",
    "gewicht en opbrengst. Stel de optimale rugzak samen. Je zou op een optimale opbrengst van 1458\n",
    "moeten uitkomen (of toch zeker een waarde dicht daarbij in de buurt)."
   ],
   "metadata": {
    "collapsed": false
   },
   "id": "5ca05866c6b4b963"
  },
  {
   "cell_type": "code",
   "outputs": [
    {
     "name": "stderr",
     "output_type": "stream",
     "text": [
      " Temperature        Energy    Accept   Improve     Elapsed   Remaining\n",
      "\r    2.50000      -1379.00     0.00%     0.00%     0:00:16     0:00:00"
     ]
    },
    {
     "name": "stdout",
     "output_type": "stream",
     "text": [
      "(array([1., 0., 1., 0., 1., 0., 1., 1., 1., 0., 0., 0., 0., 1., 1.]), -1458.0)\n"
     ]
    }
   ],
   "source": [
    "data = pd.read_csv(\"../DataSets/Knapsack Items.csv\")\n",
    "# data\n",
    "class OptimalisatieProblem(Annealer):\n",
    "    def energy(self):\n",
    "        list = self.state\n",
    "        sum = (list * value).sum()\n",
    "        if (list * weight).sum() > 750:\n",
    "            sum = 0\n",
    "        \n",
    "        return -sum    # + voor minimum - voor maximum\n",
    "\n",
    "    def move(self):\n",
    "        i = np.random.randint(0,len(self.state))\n",
    "        self.state[i] = not self.state[i]\n",
    "        # self.state[i] = np.clip(self.state[i], 0, 1)\n",
    "weight=data['gewichten(gr)']\n",
    "value=data.waarde\n",
    "init_sol =  np.random.uniform(0,2,size=len(data)) #initial solution: array met 1 elementen\n",
    "opdracht=OptimalisatieProblem(init_sol)\n",
    "# set annealing parameters, if not default values will be used\n",
    "opdracht.Tmax = 25000.0 \n",
    "opdracht.Tmin = 2.5 \n",
    "opdracht.updates = 1000\n",
    "opdracht.steps = 100000\n",
    "opt_sol = opdracht.anneal()\n",
    "print(opt_sol)"
   ],
   "metadata": {
    "collapsed": false,
    "ExecuteTime": {
     "end_time": "2024-06-10T18:06:14.109987700Z",
     "start_time": "2024-06-10T18:05:57.983680500Z"
    }
   },
   "id": "54012a93d793a0de",
   "execution_count": 47
  },
  {
   "cell_type": "markdown",
   "source": [
    "# Vraag 3: Het voetbalstadion\n",
    "De plaatselijke sportclub wil een nieuw stadion bouwen. De\n",
    "omtrek van het sportveld moet 400m bedragen, en tegelijkertijd\n",
    "willen we ervoor zorgen dat het centrale middenveld een maximale\n",
    "oppervlakte heeft. Bepaal de ideale lengte –en\n",
    "breedteverhouding."
   ],
   "metadata": {
    "collapsed": false
   },
   "id": "be3d7c69dc2c8a4a"
  },
  {
   "cell_type": "code",
   "outputs": [
    {
     "name": "stderr",
     "output_type": "stream",
     "text": [
      " Temperature        Energy    Accept   Improve     Elapsed   Remaining\n",
      "     2.50000      -6362.88    94.00%    37.00%     0:00:01     0:00:00\r"
     ]
    },
    {
     "name": "stdout",
     "output_type": "stream",
     "text": [
      "(array([99.99994362]), -6366.19772367379)\n"
     ]
    }
   ],
   "source": [
    "class voetbalProblem(Annealer):\n",
    "    def energy(self):\n",
    "        l = self.state[0]\n",
    "        b= (400 - 2 * l)/ math.pi \n",
    "        sum =  b * l\n",
    "        return - sum    # + voor minimum - voor maximum\n",
    "\n",
    "    def move(self):\n",
    "        i=0\n",
    "        self.state[i] += np.random.normal(0, 0.1)\n",
    "        self.state[i] = np.clip(self.state[i], 0, 200)\n",
    "init_sol =  np.random.uniform(0,200, size=1) #initial solution: array met 1 elementen\n",
    "opdracht=voetbalProblem(init_sol)\n",
    "# set annealing parameters, if not default values will be used\n",
    "opdracht.Tmax = 25000.0 \n",
    "opdracht.Tmin = 2.5 \n",
    "opdracht.updates = 1000\n",
    "opdracht.steps = 100000\n",
    "opt_sol = opdracht.anneal()\n",
    "print(opt_sol)"
   ],
   "metadata": {
    "collapsed": false,
    "ExecuteTime": {
     "end_time": "2024-06-10T17:44:26.763006900Z",
     "start_time": "2024-06-10T17:44:25.332848600Z"
    }
   },
   "id": "c714f4ae4753427d",
   "execution_count": 7
  }
 ],
 "metadata": {
  "kernelspec": {
   "display_name": "Python 3",
   "language": "python",
   "name": "python3"
  },
  "language_info": {
   "codemirror_mode": {
    "name": "ipython",
    "version": 2
   },
   "file_extension": ".py",
   "mimetype": "text/x-python",
   "name": "python",
   "nbconvert_exporter": "python",
   "pygments_lexer": "ipython2",
   "version": "2.7.6"
  }
 },
 "nbformat": 4,
 "nbformat_minor": 5
}
