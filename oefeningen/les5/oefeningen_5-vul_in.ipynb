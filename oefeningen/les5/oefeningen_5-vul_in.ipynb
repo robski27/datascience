{
 "cells": [
  {
   "cell_type": "markdown",
   "id": "7cfa4054-46e9-44f5-a161-61f68d6134c9",
   "metadata": {},
   "source": [
    "# P3W5: Association Rules"
   ]
  },
  {
   "cell_type": "code",
   "execution_count": 35,
   "id": "1f83d0af-caa8-47bd-8c7a-6c2c4d4fa88b",
   "metadata": {
    "ExecuteTime": {
     "end_time": "2024-03-13T14:44:12.997026900Z",
     "start_time": "2024-03-13T14:44:12.983609400Z"
    }
   },
   "outputs": [],
   "source": [
    "#import\n",
    "import pandas as pd\n"
   ]
  },
  {
   "cell_type": "markdown",
   "id": "8c08789c-15a5-4b72-9a39-46f7cd8abefa",
   "metadata": {},
   "source": [
    "# Vraag 2: Fruit promotie\n",
    "Een supermarkt wil mensen naar de winkel lokken met een zeer sterke promotie voor fruit. Omdat ze\n",
    "op die promotie geen winst maken willen ze dat compenseren door vlak ernaast een ander soort\n",
    "fruit te leggen die ze iets doen stijgen in prijs zodat de winstmarge daarop het verlies gedeeltelijk kan\n",
    "compenseren. De winkel wil weten welk fruit ze in promotie moeten zetten en welk fruit het meeste\n",
    "kans maakt om bij het fruit in promotie gekocht te worden.\n",
    "a. Maak gebruik van de fruitvoorkeuren uit de vragenlijst dataset (fruitaankoop 20-21.csv) om\n",
    "de regels op te stellen.\n",
    "b. Maak met behulp van deze lijst associatieregels. Gebruik voor het apriori algoritme of het fp-\n",
    "growth algoritme volgende parameters:\n",
    "➢ support = 0.1\n",
    "➢ confidence = 0.3\n",
    "➢ minlen=2, maxlen=2)\n",
    "c. Zoek de associatieregel met de hoogste confidence.\n",
    "d. Welk fruit zal de winkel op basis van die regel in promotie zetten?\n",
    "e. Welk fruit zal de winkel op basis van die regel naast het promotieartikel plaatsen?\n",
    "f. Hoeveel procent van de studenten die de vragenlijst hebben ingevuld hebben de combinatie\n",
    "van de twee fruittypes in hun top 3 staan?\n",
    "g. Wat kan je zeggen over het fruit in promotie op basis van de lift?\n"
   ]
  },
  {
   "cell_type": "markdown",
   "id": "f6881b6f-f9cf-41d8-a109-1590c562634b",
   "metadata": {},
   "source": [
    "## 1. Lees in"
   ]
  },
  {
   "cell_type": "code",
   "execution_count": 36,
   "id": "a68336d9-900e-4930-bda1-3e50706cdb98",
   "metadata": {
    "ExecuteTime": {
     "end_time": "2024-03-13T14:44:13.015387900Z",
     "start_time": "2024-03-13T14:44:13.000396900Z"
    }
   },
   "outputs": [
    {
     "data": {
      "text/plain": "    Aardbei  Ananas  Appel  Banaan   Kers   Kiwi  Meloen   Peer  Pruim  \\\n0      True    True  False   False  False  False    True  False  False   \n1      True   False  False   False  False   True    True  False  False   \n2      True   False   True   False  False  False   False  False  False   \n3      True   False  False    True   True  False   False  False  False   \n4      True    True   True   False  False  False   False  False  False   \n..      ...     ...    ...     ...    ...    ...     ...    ...    ...   \n94     True   False   True    True  False  False   False  False  False   \n95     True   False   True    True  False  False   False  False  False   \n96     True   False  False   False  False   True    True  False  False   \n97     True   False   True   False  False  False   False  False  False   \n98    False   False   True   False  False   True    True  False  False   \n\n    Sinaasappel  \n0         False  \n1         False  \n2          True  \n3         False  \n4         False  \n..          ...  \n94        False  \n95        False  \n96        False  \n97         True  \n98        False  \n\n[99 rows x 10 columns]",
      "text/html": "<div>\n<style scoped>\n    .dataframe tbody tr th:only-of-type {\n        vertical-align: middle;\n    }\n\n    .dataframe tbody tr th {\n        vertical-align: top;\n    }\n\n    .dataframe thead th {\n        text-align: right;\n    }\n</style>\n<table border=\"1\" class=\"dataframe\">\n  <thead>\n    <tr style=\"text-align: right;\">\n      <th></th>\n      <th>Aardbei</th>\n      <th>Ananas</th>\n      <th>Appel</th>\n      <th>Banaan</th>\n      <th>Kers</th>\n      <th>Kiwi</th>\n      <th>Meloen</th>\n      <th>Peer</th>\n      <th>Pruim</th>\n      <th>Sinaasappel</th>\n    </tr>\n  </thead>\n  <tbody>\n    <tr>\n      <th>0</th>\n      <td>True</td>\n      <td>True</td>\n      <td>False</td>\n      <td>False</td>\n      <td>False</td>\n      <td>False</td>\n      <td>True</td>\n      <td>False</td>\n      <td>False</td>\n      <td>False</td>\n    </tr>\n    <tr>\n      <th>1</th>\n      <td>True</td>\n      <td>False</td>\n      <td>False</td>\n      <td>False</td>\n      <td>False</td>\n      <td>True</td>\n      <td>True</td>\n      <td>False</td>\n      <td>False</td>\n      <td>False</td>\n    </tr>\n    <tr>\n      <th>2</th>\n      <td>True</td>\n      <td>False</td>\n      <td>True</td>\n      <td>False</td>\n      <td>False</td>\n      <td>False</td>\n      <td>False</td>\n      <td>False</td>\n      <td>False</td>\n      <td>True</td>\n    </tr>\n    <tr>\n      <th>3</th>\n      <td>True</td>\n      <td>False</td>\n      <td>False</td>\n      <td>True</td>\n      <td>True</td>\n      <td>False</td>\n      <td>False</td>\n      <td>False</td>\n      <td>False</td>\n      <td>False</td>\n    </tr>\n    <tr>\n      <th>4</th>\n      <td>True</td>\n      <td>True</td>\n      <td>True</td>\n      <td>False</td>\n      <td>False</td>\n      <td>False</td>\n      <td>False</td>\n      <td>False</td>\n      <td>False</td>\n      <td>False</td>\n    </tr>\n    <tr>\n      <th>...</th>\n      <td>...</td>\n      <td>...</td>\n      <td>...</td>\n      <td>...</td>\n      <td>...</td>\n      <td>...</td>\n      <td>...</td>\n      <td>...</td>\n      <td>...</td>\n      <td>...</td>\n    </tr>\n    <tr>\n      <th>94</th>\n      <td>True</td>\n      <td>False</td>\n      <td>True</td>\n      <td>True</td>\n      <td>False</td>\n      <td>False</td>\n      <td>False</td>\n      <td>False</td>\n      <td>False</td>\n      <td>False</td>\n    </tr>\n    <tr>\n      <th>95</th>\n      <td>True</td>\n      <td>False</td>\n      <td>True</td>\n      <td>True</td>\n      <td>False</td>\n      <td>False</td>\n      <td>False</td>\n      <td>False</td>\n      <td>False</td>\n      <td>False</td>\n    </tr>\n    <tr>\n      <th>96</th>\n      <td>True</td>\n      <td>False</td>\n      <td>False</td>\n      <td>False</td>\n      <td>False</td>\n      <td>True</td>\n      <td>True</td>\n      <td>False</td>\n      <td>False</td>\n      <td>False</td>\n    </tr>\n    <tr>\n      <th>97</th>\n      <td>True</td>\n      <td>False</td>\n      <td>True</td>\n      <td>False</td>\n      <td>False</td>\n      <td>False</td>\n      <td>False</td>\n      <td>False</td>\n      <td>False</td>\n      <td>True</td>\n    </tr>\n    <tr>\n      <th>98</th>\n      <td>False</td>\n      <td>False</td>\n      <td>True</td>\n      <td>False</td>\n      <td>False</td>\n      <td>True</td>\n      <td>True</td>\n      <td>False</td>\n      <td>False</td>\n      <td>False</td>\n    </tr>\n  </tbody>\n</table>\n<p>99 rows × 10 columns</p>\n</div>"
     },
     "execution_count": 36,
     "metadata": {},
     "output_type": "execute_result"
    }
   ],
   "source": [
    "#\n",
    "fruit = pd.read_csv(\"../DataSets/fruitaankoop 20-21.csv\",delimiter=\";\" , header=0)\n",
    "fruit"
   ]
  },
  {
   "cell_type": "markdown",
   "id": "82b3df87-b01b-4394-aa2f-3fad8b1fd115",
   "metadata": {},
   "source": [
    "## 2. Association Rules"
   ]
  },
  {
   "cell_type": "code",
   "execution_count": 37,
   "id": "76b356f6-f80b-4369-a352-f13c571ccc99",
   "metadata": {
    "ExecuteTime": {
     "end_time": "2024-03-13T14:44:13.040805100Z",
     "start_time": "2024-03-13T14:44:13.017473Z"
    }
   },
   "outputs": [
    {
     "data": {
      "text/plain": "     support           itemsets\n0   0.707071          (Aardbei)\n5   0.505051           (Banaan)\n4   0.484848            (Appel)\n1   0.353535           (Meloen)\n11  0.313131  (Banaan, Aardbei)\n9   0.303030   (Appel, Aardbei)\n2   0.282828           (Ananas)\n6   0.232323             (Kers)\n10  0.232323    (Banaan, Appel)\n8   0.222222  (Aardbei, Ananas)\n7   0.212121  (Aardbei, Meloen)\n3   0.202020             (Kiwi)",
      "text/html": "<div>\n<style scoped>\n    .dataframe tbody tr th:only-of-type {\n        vertical-align: middle;\n    }\n\n    .dataframe tbody tr th {\n        vertical-align: top;\n    }\n\n    .dataframe thead th {\n        text-align: right;\n    }\n</style>\n<table border=\"1\" class=\"dataframe\">\n  <thead>\n    <tr style=\"text-align: right;\">\n      <th></th>\n      <th>support</th>\n      <th>itemsets</th>\n    </tr>\n  </thead>\n  <tbody>\n    <tr>\n      <th>0</th>\n      <td>0.707071</td>\n      <td>(Aardbei)</td>\n    </tr>\n    <tr>\n      <th>5</th>\n      <td>0.505051</td>\n      <td>(Banaan)</td>\n    </tr>\n    <tr>\n      <th>4</th>\n      <td>0.484848</td>\n      <td>(Appel)</td>\n    </tr>\n    <tr>\n      <th>1</th>\n      <td>0.353535</td>\n      <td>(Meloen)</td>\n    </tr>\n    <tr>\n      <th>11</th>\n      <td>0.313131</td>\n      <td>(Banaan, Aardbei)</td>\n    </tr>\n    <tr>\n      <th>9</th>\n      <td>0.303030</td>\n      <td>(Appel, Aardbei)</td>\n    </tr>\n    <tr>\n      <th>2</th>\n      <td>0.282828</td>\n      <td>(Ananas)</td>\n    </tr>\n    <tr>\n      <th>6</th>\n      <td>0.232323</td>\n      <td>(Kers)</td>\n    </tr>\n    <tr>\n      <th>10</th>\n      <td>0.232323</td>\n      <td>(Banaan, Appel)</td>\n    </tr>\n    <tr>\n      <th>8</th>\n      <td>0.222222</td>\n      <td>(Aardbei, Ananas)</td>\n    </tr>\n    <tr>\n      <th>7</th>\n      <td>0.212121</td>\n      <td>(Aardbei, Meloen)</td>\n    </tr>\n    <tr>\n      <th>3</th>\n      <td>0.202020</td>\n      <td>(Kiwi)</td>\n    </tr>\n  </tbody>\n</table>\n</div>"
     },
     "execution_count": 37,
     "metadata": {},
     "output_type": "execute_result"
    }
   ],
   "source": [
    "\n",
    "from mlxtend.frequent_patterns import apriori,fpgrowth,association_rules\n",
    "itemsets = fpgrowth(fruit, min_support=0.2, use_colnames=True)\n",
    "itemsets.sort_values('support',ascending=False)"
   ]
  },
  {
   "cell_type": "markdown",
   "id": "3dc93245-eb2d-4084-9b96-4b59420584d1",
   "metadata": {},
   "source": [
    "## 3. Hoogste confidence"
   ]
  },
  {
   "cell_type": "code",
   "execution_count": 48,
   "id": "04d324f9-3c72-4d79-a77e-5c157a91900a",
   "metadata": {
    "ExecuteTime": {
     "end_time": "2024-03-13T14:57:35.811088200Z",
     "start_time": "2024-03-13T14:57:35.796221800Z"
    }
   },
   "outputs": [
    {
     "data": {
      "text/plain": "  antecedents consequents  antecedent support  consequent support   support  \\\n3    (Ananas)   (Aardbei)            0.282828            0.707071  0.222222   \n\n   confidence      lift  leverage  conviction  zhangs_metric  \n3    0.785714  1.111224  0.022243    1.367003       0.139565  ",
      "text/html": "<div>\n<style scoped>\n    .dataframe tbody tr th:only-of-type {\n        vertical-align: middle;\n    }\n\n    .dataframe tbody tr th {\n        vertical-align: top;\n    }\n\n    .dataframe thead th {\n        text-align: right;\n    }\n</style>\n<table border=\"1\" class=\"dataframe\">\n  <thead>\n    <tr style=\"text-align: right;\">\n      <th></th>\n      <th>antecedents</th>\n      <th>consequents</th>\n      <th>antecedent support</th>\n      <th>consequent support</th>\n      <th>support</th>\n      <th>confidence</th>\n      <th>lift</th>\n      <th>leverage</th>\n      <th>conviction</th>\n      <th>zhangs_metric</th>\n    </tr>\n  </thead>\n  <tbody>\n    <tr>\n      <th>3</th>\n      <td>(Ananas)</td>\n      <td>(Aardbei)</td>\n      <td>0.282828</td>\n      <td>0.707071</td>\n      <td>0.222222</td>\n      <td>0.785714</td>\n      <td>1.111224</td>\n      <td>0.022243</td>\n      <td>1.367003</td>\n      <td>0.139565</td>\n    </tr>\n  </tbody>\n</table>\n</div>"
     },
     "execution_count": 48,
     "metadata": {},
     "output_type": "execute_result"
    }
   ],
   "source": [
    "\n",
    "itemsets2 = association_rules(itemsets, min_threshold=0.2, metric= 'confidence')\n",
    "itemsets2.sort_values('confidence', ascending=False).head(1)"
   ]
  },
  {
   "cell_type": "markdown",
   "id": "49df0447-9852-43b1-b123-44e9a93eb1cf",
   "metadata": {},
   "source": [
    "## 4. Combinatie 2 fruittypes"
   ]
  },
  {
   "cell_type": "code",
   "outputs": [],
   "source": [],
   "metadata": {
    "collapsed": false
   },
   "id": "267806fc3bb1c84c"
  },
  {
   "cell_type": "markdown",
   "id": "3c37cee8-4aa4-4f2b-be25-4e974382229c",
   "metadata": {},
   "source": [
    "## 5. Wat zegt de lift?"
   ]
  },
  {
   "cell_type": "code",
   "outputs": [],
   "source": [],
   "metadata": {
    "collapsed": false
   },
   "id": "b2f81998d4d216ca"
  }
 ],
 "metadata": {
  "kernelspec": {
   "display_name": "Python 3 (ipykernel)",
   "language": "python",
   "name": "python3"
  },
  "language_info": {
   "codemirror_mode": {
    "name": "ipython",
    "version": 3
   },
   "file_extension": ".py",
   "mimetype": "text/x-python",
   "name": "python",
   "nbconvert_exporter": "python",
   "pygments_lexer": "ipython3",
   "version": "3.9.13"
  }
 },
 "nbformat": 4,
 "nbformat_minor": 5
}
