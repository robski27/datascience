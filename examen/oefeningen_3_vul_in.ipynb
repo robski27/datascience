{
 "cells": [
  {
   "cell_type": "code",
   "execution_count": 280,
   "id": "c62e7cba-c750-4eb5-b38e-5a4847d65bcd",
   "metadata": {
    "ExecuteTime": {
     "end_time": "2024-03-28T17:49:35.853833600Z",
     "start_time": "2024-03-28T17:49:35.796158300Z"
    }
   },
   "outputs": [],
   "source": [
    "import math\n",
    "import numpy as np\n",
    "import pandas as pd\n",
    "from scipy.stats import binom, norm, poisson, t, chi2, chisquare"
   ]
  },
  {
   "cell_type": "markdown",
   "id": "adc63448-2123-459f-9887-e6f5af03b2be",
   "metadata": {},
   "source": [
    "## Vraag 3\n",
    "We willen weten hoeveel requests een server gemiddeld per dag moet verwerken.\n",
    "Daarvoor doen we een meting. We meten gedurende 30 dagen en tellen iedere dag het\n",
    "aantal requests. We komen op een gemiddelde van 975 en een standaardafwijking gelijk\n",
    "aan 100.\n",
    "a. Tussen welke grenzen ligt dan het gemiddeld aantal requests als we 95% zeker\n",
    "willen zijn?\n",
    "b. Stel dat we hetzelfde gemiddelde en standaardafwijking vonden, maar met een\n",
    "steekproef van 100 dagen. Dan zijn we voor 95% zeker dat het gemiddelde\n",
    "tussen ... en ... ligt.\n",
    "c. Stel dat iemand beweert dat de server 1000 requests per dag moet verwerken.\n",
    "Kan je deze stelling dan ondersteunen of verwerpen in de twee gevallen? Je wil\n",
    "weer een zekerheid van 95%.\n",
    "\n",
    "# gemiddelde van steekproef = x_bar\n",
    "# s = standaartafwijking steekproef\n",
    "# n = aantal keer getest\n",
    "# p = zekerheid\n",
    "# als std van populatie gekend is normaalverdeling gebruiken anders t test"
   ]
  },
  {
   "cell_type": "code",
   "execution_count": 281,
   "id": "b87bf787-2710-4824-a988-89f5e3bb37dc",
   "metadata": {
    "ExecuteTime": {
     "end_time": "2024-03-28T17:49:35.862676700Z",
     "start_time": "2024-03-28T17:49:35.858368300Z"
    }
   },
   "outputs": [
    {
     "name": "stdout",
     "output_type": "stream",
     "text": [
      "2.045229642132703\n",
      "(937.65938632419, 1012.34061367581)\n"
     ]
    }
   ],
   "source": [
    "#a 1ste manier\n",
    "x_bar = 975\n",
    "s = 100\n",
    "n = 30\n",
    "p = 0.95\n",
    "# alpha = 1 - p\n",
    "# factor = t.ppf((1+p)/2, df=n-1)\n",
    "\n",
    "def factor(p,n):\n",
    "    factorresult = t.ppf((1+p)/2, df=n-1)\n",
    "    return factorresult\n",
    "def tinterval(p_of_a,n,x_bar,s):\n",
    "    result = t.interval(confidence=p_of_a, df=n-1,loc = x_bar, scale=s/math.sqrt(n))\n",
    "    return result\n",
    "def binneninterval(x_bar, tinterval :  list):\n",
    "    result = tinterval[0] < x_bar < tinterval[1]\n",
    "    print(\"binnen interval? \" ,result)\n",
    "# factor = t.ppf(1-alpha/2, df=n-1)\n",
    "print(factor(p,n))\n",
    "interval = (x_bar - factor(p,n) * s/math.sqrt(n), x_bar + factor(p,n) * s/math.sqrt(n))\n",
    "print(interval)"
   ]
  },
  {
   "cell_type": "code",
   "execution_count": 282,
   "id": "843b4c0f-22a5-4746-9db1-43334555814e",
   "metadata": {
    "ExecuteTime": {
     "end_time": "2024-03-28T17:49:35.872997200Z",
     "start_time": "2024-03-28T17:49:35.862676700Z"
    }
   },
   "outputs": [
    {
     "data": {
      "text/plain": "(937.65938632419, 1012.34061367581)"
     },
     "execution_count": 282,
     "metadata": {},
     "output_type": "execute_result"
    }
   ],
   "source": [
    "#a 2de manier\n",
    "t.interval(confidence=p, df=n-1, loc=x_bar, scale=s/math.sqrt(n))"
   ]
  },
  {
   "cell_type": "code",
   "execution_count": 283,
   "id": "2e8aec54-dfd9-4b61-ae64-cb2852e7f472",
   "metadata": {
    "ExecuteTime": {
     "end_time": "2024-03-28T17:49:35.875126800Z",
     "start_time": "2024-03-28T17:49:35.867155500Z"
    }
   },
   "outputs": [
    {
     "data": {
      "text/plain": "(955.1578304849131, 994.8421695150869)"
     },
     "execution_count": 283,
     "metadata": {},
     "output_type": "execute_result"
    }
   ],
   "source": [
    "#b\n",
    "n = 100\n",
    "# t.ppf((1+p)/2,df=n-1)\n",
    "t.interval(confidence=p, df=n-1,loc = x_bar, scale=s/math.sqrt(n))"
   ]
  },
  {
   "cell_type": "code",
   "execution_count": 284,
   "id": "1b749c10-a56e-41f9-8076-a1c7390adb1a",
   "metadata": {
    "ExecuteTime": {
     "end_time": "2024-03-28T17:49:35.927374500Z",
     "start_time": "2024-03-28T17:49:35.876208600Z"
    }
   },
   "outputs": [
    {
     "name": "stdout",
     "output_type": "stream",
     "text": [
      "n = 30: (962.65938632419, 1037.34061367581)   =  niet verwerpen want x_bar zit tussen de waardes\n",
      "n = 100: (980.1578304849131, 1019.8421695150869)   =  verwerpen\n"
     ]
    }
   ],
   "source": [
    "#c\n",
    "n = 30\n",
    "print(\"n = 30:\", t.interval(confidence=p,df=n-1,loc=1000,scale=s/math.sqrt(n)), \"  =  niet verwerpen want x_bar zit tussen de waardes\")\n",
    "n = 100\n",
    "print(\"n = 100:\", t.interval(confidence=p,df=n-1,loc=1000,scale=s/math.sqrt(n)), \"  =  verwerpen\" )"
   ]
  },
  {
   "cell_type": "markdown",
   "id": "2bda1554-4c57-441b-824e-942218c8c12d",
   "metadata": {},
   "source": [
    "## Vraag 4\n",
    "Een fabriek maakt zakken cornflakes van 12 kg. Om dit te testen, worden regelmatig\n",
    "steekproeven gedaan. Daarbij worden 100 zakken gewogen. De eerste steekproef levert\n",
    "een gemiddelde van 11,9 kg en een standaardafwijking van 1 kg. We gebruiken een\n",
    "alpha=0,01.\n",
    "a. Welke factor (Z-waarde) zal je gebruiken om het interval op te stellen?\n",
    "b. Moeten we de machine bijstellen?\n",
    "Een tweede steekproef levert ook een gemiddelde van 11,9 kg, maar een\n",
    "standaardafwijking van 0,1 kg.\n",
    "c. Welke factor (Z-waarde) gebruiken we deze keer?\n",
    "d. Moeten we de machine deze keer bijstellen?"
   ]
  },
  {
   "cell_type": "code",
   "execution_count": 285,
   "id": "0f563cfb-b60f-475d-8b12-572f939549e2",
   "metadata": {
    "ExecuteTime": {
     "end_time": "2024-03-28T17:49:35.927901Z",
     "start_time": "2024-03-28T17:49:35.880969300Z"
    }
   },
   "outputs": [
    {
     "data": {
      "text/plain": "2.6264054563851857"
     },
     "execution_count": 285,
     "metadata": {},
     "output_type": "execute_result"
    }
   ],
   "source": [
    "#a\n",
    "gemiddelde = 11.9\n",
    "x_bar = 12\n",
    "std=1\n",
    "n = 100\n",
    "a = 0.01\n",
    "p= 1-a\n",
    "factor(p,n) # z-waarde"
   ]
  },
  {
   "cell_type": "code",
   "execution_count": 286,
   "id": "d48d86e3-dedc-4f67-9dcb-3af7051d3bf4",
   "metadata": {
    "ExecuteTime": {
     "end_time": "2024-03-28T17:49:35.928421200Z",
     "start_time": "2024-03-28T17:49:35.886819600Z"
    }
   },
   "outputs": [
    {
     "name": "stdout",
     "output_type": "stream",
     "text": [
      "binnen interval?  True\n"
     ]
    },
    {
     "data": {
      "text/plain": "(11.737359454361481, 12.262640545638519)"
     },
     "execution_count": 286,
     "metadata": {},
     "output_type": "execute_result"
    }
   ],
   "source": [
    "#b houden want het ligt er tussen\n",
    "\n",
    "\n",
    "binneninterval(gemiddelde,tinterval(p,n,x_bar,std))\n",
    "tinterval(p,n,x_bar,std)"
   ]
  },
  {
   "cell_type": "code",
   "execution_count": 287,
   "id": "713c3622-4348-4e77-b745-73e9fbf169b9",
   "metadata": {
    "ExecuteTime": {
     "end_time": "2024-03-28T17:49:35.994629900Z",
     "start_time": "2024-03-28T17:49:35.892886700Z"
    }
   },
   "outputs": [
    {
     "data": {
      "text/plain": "2.6264054563851857"
     },
     "execution_count": 287,
     "metadata": {},
     "output_type": "execute_result"
    }
   ],
   "source": [
    "#c\n",
    "std =0.1\n",
    "factor(p,n)"
   ]
  },
  {
   "cell_type": "code",
   "execution_count": 288,
   "id": "dd9d4f1b-475f-495c-bf72-6867240e751c",
   "metadata": {
    "ExecuteTime": {
     "end_time": "2024-03-28T17:49:36.004756Z",
     "start_time": "2024-03-28T17:49:35.899370700Z"
    }
   },
   "outputs": [
    {
     "name": "stdout",
     "output_type": "stream",
     "text": [
      "binnen interval?  False\n"
     ]
    },
    {
     "data": {
      "text/plain": "(11.973735945436148, 12.026264054563852)"
     },
     "execution_count": 288,
     "metadata": {},
     "output_type": "execute_result"
    }
   ],
   "source": [
    "#d\n",
    "\n",
    "binneninterval(gemiddelde,tinterval(p,n,x_bar,std))\n",
    "tinterval(p,n,x_bar,std)"
   ]
  },
  {
   "cell_type": "markdown",
   "id": "82891f63-334f-4906-b648-d4aec50a1a1a",
   "metadata": {},
   "source": [
    "## Vraag 5\n",
    "In opdracht van een kaasfabriek onderzoeken we of sommige leveranciers knoeien met\n",
    "hun melk door er water toe te voegen. We nemen 5 opeenvolgende zendingen melk en\n",
    "kijken op welke temperatuur deze bevriest. We weten dat het vriespunt van melk gelijk\n",
    "is aan -0,545°C met een standaardafwijking van 0,008°C. Het vriespunt van water is\n",
    "natuurlijk 0°C.\n",
    "In onze steekproef vinden we een gemiddeld vriespunt van -0,539 °C. Stel alpha = 0,1\n",
    "a. Welke toets gaan we gebruiken?\n",
    "b. Moeten we deze toets eenzijdig of tweezijdig toepassen?\n",
    "c. Is er met de melk geknoeid?\n",
    "d. Wat is de kans dat het vorige antwoord verkeerd is?"
   ]
  },
  {
   "cell_type": "markdown",
   "id": "c668e88e-1e9f-4195-a1b1-66ef15ddca10",
   "metadata": {},
   "source": [
    "normale verdeling want standaard afwijking van populatie is gekend"
   ]
  },
  {
   "cell_type": "code",
   "execution_count": 289,
   "id": "f353e633-b5fc-47e9-934e-60f3c8e45ee7",
   "metadata": {
    "ExecuteTime": {
     "end_time": "2024-03-28T17:49:36.005301100Z",
     "start_time": "2024-03-28T17:49:35.905467400Z"
    }
   },
   "outputs": [
    {
     "data": {
      "text/plain": "(-0.5448848072366409, -0.5331151927633592)"
     },
     "execution_count": 289,
     "metadata": {},
     "output_type": "execute_result"
    }
   ],
   "source": [
    "#\n",
    "n = 5\n",
    "std = 0.008\n",
    "gemiddelde = -0.545\n",
    "mu = -0.539\n",
    "a = 0.1\n",
    "p = 1-a\n",
    "norm.interval(confidence=p,loc=mu, scale=std/math.sqrt(n))\n"
   ]
  },
  {
   "cell_type": "markdown",
   "id": "e5c1b3e3-e4ba-41a5-8bbf-0512b0ea45a7",
   "metadata": {},
   "source": [
    "## Vraag 6\n",
    "We wensen een programmeur aan te werven. We onderwerpen de kandidaten aan een\n",
    "test. We weten dat een goede programmeur een score van gemiddeld 100 haalt op deze\n",
    "test. Enkele (16) studenten van KdG bieden zich aan. We komen op een gemiddelde van\n",
    "107,3 en een standaardafwijking van 8,0.\n",
    "Neem alpha=0,05. We vermoeden dat deze groep afwijkt van de gemiddelde populatie.\n",
    "a. Welke toets gebruiken we? t toets\n",
    "b. Welke factor gaan we gebruiken?\n",
    "We kunnen een interval opstellen waarbinnen we voor 95% zeker zijn dat KdG studenten\n",
    "gemiddeld scoren.\n",
    "c. Wat is de ondergrens van het interval?\n",
    "d. Wat is de bovengrens van het interval?\n",
    "e. Kunnen we op basis van dit interval stellen dat KdG studenten beter scoren dan\n",
    "gemiddeld? ja want ze liggen boven het gemiddelde"
   ]
  },
  {
   "cell_type": "code",
   "execution_count": 290,
   "id": "befd8270-8426-45dd-b2cd-3e3b7724d846",
   "metadata": {
    "ExecuteTime": {
     "end_time": "2024-03-28T17:49:36.005853900Z",
     "start_time": "2024-03-28T17:49:35.911531800Z"
    }
   },
   "outputs": [
    {
     "data": {
      "text/plain": "2.131449545559323"
     },
     "execution_count": 290,
     "metadata": {},
     "output_type": "execute_result"
    }
   ],
   "source": [
    "#b\n",
    "gemiddelde = 100\n",
    "n = 16\n",
    "x_bar = 107.3\n",
    "s = 8\n",
    "a = 0.05\n",
    "p = 1- a\n",
    "factor(p,n)\n"
   ]
  },
  {
   "cell_type": "code",
   "execution_count": 291,
   "id": "b5e82c17-8e06-4df8-a7ce-6c158e0db45b",
   "metadata": {
    "ExecuteTime": {
     "end_time": "2024-03-28T17:49:36.006903900Z",
     "start_time": "2024-03-28T17:49:35.914901500Z"
    }
   },
   "outputs": [
    {
     "name": "stdout",
     "output_type": "stream",
     "text": [
      "(103.03710090888136, 111.56289909111864)\n",
      "binnen interval?  False\n"
     ]
    }
   ],
   "source": [
    "#c\n",
    "print(tinterval(p,n,x_bar,s))\n",
    "binneninterval(gemiddelde,tinterval(p,n,x_bar,s))\n"
   ]
  },
  {
   "cell_type": "markdown",
   "source": [
    "# oef 7\n",
    "We wensen een onderzoek uit te voeren naar de favoriete browser van studenten.\n",
    "We verwachten de volgende verdeling:\n",
    "• Internet explorer: 8\n",
    "• Opera: 10\n",
    "• Mozilla Firefox: 10\n",
    "• Google chrome: 12\n",
    "Bij navraag bij 1 klasgroep blijkt de verdeling als volgt:\n",
    "• Internet explorer: 17\n",
    "• Opera: 10\n",
    "• Mozilla Firefox: 8\n",
    "• Google chrome: 5\n",
    "a. Welke test ga je toepassen?\n",
    "b. Is deze afwijking binnen onze verwachtingen (alpha=0,01)?\n",
    "c. Wat is de kritieke waarde bij deze gegevens?\n",
    "d. Welke ²-waarde vind je? 14.608333333333334\n",
    "e. Welke p-waarde vind je? 0.002183873421010147"
   ],
   "metadata": {
    "collapsed": false
   },
   "id": "54b4d7feb096690d"
  },
  {
   "cell_type": "code",
   "outputs": [
    {
     "data": {
      "text/plain": "Power_divergenceResult(statistic=14.608333333333334, pvalue=0.002183873421010147)"
     },
     "execution_count": 292,
     "metadata": {},
     "output_type": "execute_result"
    }
   ],
   "source": [
    "chisquare([17,10,8,5],[8,10,10,12])\n"
   ],
   "metadata": {
    "collapsed": false,
    "ExecuteTime": {
     "end_time": "2024-03-28T17:49:36.007423600Z",
     "start_time": "2024-03-28T17:49:35.923149500Z"
    }
   },
   "id": "3ce026dae3b25211",
   "execution_count": 292
  }
 ],
 "metadata": {
  "kernelspec": {
   "display_name": "Python 3 (ipykernel)",
   "language": "python",
   "name": "python3"
  },
  "language_info": {
   "codemirror_mode": {
    "name": "ipython",
    "version": 3
   },
   "file_extension": ".py",
   "mimetype": "text/x-python",
   "name": "python",
   "nbconvert_exporter": "python",
   "pygments_lexer": "ipython3",
   "version": "3.9.13"
  }
 },
 "nbformat": 4,
 "nbformat_minor": 5
}
