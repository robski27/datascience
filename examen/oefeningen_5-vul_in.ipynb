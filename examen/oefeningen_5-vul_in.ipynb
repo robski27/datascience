{
 "cells": [
  {
   "cell_type": "markdown",
   "id": "7cfa4054-46e9-44f5-a161-61f68d6134c9",
   "metadata": {},
   "source": [
    "# P3W5: Association Rules"
   ]
  },
  {
   "cell_type": "code",
   "execution_count": 3,
   "id": "1f83d0af-caa8-47bd-8c7a-6c2c4d4fa88b",
   "metadata": {
    "ExecuteTime": {
     "end_time": "2024-03-28T18:09:36.941899900Z",
     "start_time": "2024-03-28T18:09:36.515765Z"
    }
   },
   "outputs": [],
   "source": [
    "#import\n",
    "import pandas as pd\n",
    "from mlxtend.frequent_patterns import apriori,fpgrowth,association_rules\n",
    "\n"
   ]
  },
  {
   "cell_type": "markdown",
   "source": [
    "# voor apreorie itemsets = apriori(transactionstable, min_support=0.2, use_colnames=True)\n",
    "# voor fpgrouwth itemsets = fpgrowth(transactionstable,min_support=0.2, use_colnames=True)\n",
    "# dan rules = association_rules(itemsets, metric='confidence',min_threshold=0.4)"
   ],
   "metadata": {
    "collapsed": false
   },
   "id": "bcca47afe2d8a1d0"
  },
  {
   "cell_type": "markdown",
   "id": "8c08789c-15a5-4b72-9a39-46f7cd8abefa",
   "metadata": {},
   "source": [
    "# Vraag 2: Fruit promotie"
   ]
  },
  {
   "cell_type": "markdown",
   "id": "f6881b6f-f9cf-41d8-a109-1590c562634b",
   "metadata": {},
   "source": [
    "## 1. Lees in"
   ]
  },
  {
   "cell_type": "code",
   "execution_count": 4,
   "id": "a68336d9-900e-4930-bda1-3e50706cdb98",
   "metadata": {
    "ExecuteTime": {
     "end_time": "2024-03-28T18:09:36.965737100Z",
     "start_time": "2024-03-28T18:09:36.942906900Z"
    }
   },
   "outputs": [
    {
     "data": {
      "text/plain": "    Aardbei  Ananas  Appel  Banaan   Kers   Kiwi  Meloen   Peer  Pruim  \\\n0      True    True  False   False  False  False    True  False  False   \n1      True   False  False   False  False   True    True  False  False   \n2      True   False   True   False  False  False   False  False  False   \n3      True   False  False    True   True  False   False  False  False   \n4      True    True   True   False  False  False   False  False  False   \n..      ...     ...    ...     ...    ...    ...     ...    ...    ...   \n94     True   False   True    True  False  False   False  False  False   \n95     True   False   True    True  False  False   False  False  False   \n96     True   False  False   False  False   True    True  False  False   \n97     True   False   True   False  False  False   False  False  False   \n98    False   False   True   False  False   True    True  False  False   \n\n    Sinaasappel  \n0         False  \n1         False  \n2          True  \n3         False  \n4         False  \n..          ...  \n94        False  \n95        False  \n96        False  \n97         True  \n98        False  \n\n[99 rows x 10 columns]",
      "text/html": "<div>\n<style scoped>\n    .dataframe tbody tr th:only-of-type {\n        vertical-align: middle;\n    }\n\n    .dataframe tbody tr th {\n        vertical-align: top;\n    }\n\n    .dataframe thead th {\n        text-align: right;\n    }\n</style>\n<table border=\"1\" class=\"dataframe\">\n  <thead>\n    <tr style=\"text-align: right;\">\n      <th></th>\n      <th>Aardbei</th>\n      <th>Ananas</th>\n      <th>Appel</th>\n      <th>Banaan</th>\n      <th>Kers</th>\n      <th>Kiwi</th>\n      <th>Meloen</th>\n      <th>Peer</th>\n      <th>Pruim</th>\n      <th>Sinaasappel</th>\n    </tr>\n  </thead>\n  <tbody>\n    <tr>\n      <th>0</th>\n      <td>True</td>\n      <td>True</td>\n      <td>False</td>\n      <td>False</td>\n      <td>False</td>\n      <td>False</td>\n      <td>True</td>\n      <td>False</td>\n      <td>False</td>\n      <td>False</td>\n    </tr>\n    <tr>\n      <th>1</th>\n      <td>True</td>\n      <td>False</td>\n      <td>False</td>\n      <td>False</td>\n      <td>False</td>\n      <td>True</td>\n      <td>True</td>\n      <td>False</td>\n      <td>False</td>\n      <td>False</td>\n    </tr>\n    <tr>\n      <th>2</th>\n      <td>True</td>\n      <td>False</td>\n      <td>True</td>\n      <td>False</td>\n      <td>False</td>\n      <td>False</td>\n      <td>False</td>\n      <td>False</td>\n      <td>False</td>\n      <td>True</td>\n    </tr>\n    <tr>\n      <th>3</th>\n      <td>True</td>\n      <td>False</td>\n      <td>False</td>\n      <td>True</td>\n      <td>True</td>\n      <td>False</td>\n      <td>False</td>\n      <td>False</td>\n      <td>False</td>\n      <td>False</td>\n    </tr>\n    <tr>\n      <th>4</th>\n      <td>True</td>\n      <td>True</td>\n      <td>True</td>\n      <td>False</td>\n      <td>False</td>\n      <td>False</td>\n      <td>False</td>\n      <td>False</td>\n      <td>False</td>\n      <td>False</td>\n    </tr>\n    <tr>\n      <th>...</th>\n      <td>...</td>\n      <td>...</td>\n      <td>...</td>\n      <td>...</td>\n      <td>...</td>\n      <td>...</td>\n      <td>...</td>\n      <td>...</td>\n      <td>...</td>\n      <td>...</td>\n    </tr>\n    <tr>\n      <th>94</th>\n      <td>True</td>\n      <td>False</td>\n      <td>True</td>\n      <td>True</td>\n      <td>False</td>\n      <td>False</td>\n      <td>False</td>\n      <td>False</td>\n      <td>False</td>\n      <td>False</td>\n    </tr>\n    <tr>\n      <th>95</th>\n      <td>True</td>\n      <td>False</td>\n      <td>True</td>\n      <td>True</td>\n      <td>False</td>\n      <td>False</td>\n      <td>False</td>\n      <td>False</td>\n      <td>False</td>\n      <td>False</td>\n    </tr>\n    <tr>\n      <th>96</th>\n      <td>True</td>\n      <td>False</td>\n      <td>False</td>\n      <td>False</td>\n      <td>False</td>\n      <td>True</td>\n      <td>True</td>\n      <td>False</td>\n      <td>False</td>\n      <td>False</td>\n    </tr>\n    <tr>\n      <th>97</th>\n      <td>True</td>\n      <td>False</td>\n      <td>True</td>\n      <td>False</td>\n      <td>False</td>\n      <td>False</td>\n      <td>False</td>\n      <td>False</td>\n      <td>False</td>\n      <td>True</td>\n    </tr>\n    <tr>\n      <th>98</th>\n      <td>False</td>\n      <td>False</td>\n      <td>True</td>\n      <td>False</td>\n      <td>False</td>\n      <td>True</td>\n      <td>True</td>\n      <td>False</td>\n      <td>False</td>\n      <td>False</td>\n    </tr>\n  </tbody>\n</table>\n<p>99 rows × 10 columns</p>\n</div>"
     },
     "execution_count": 4,
     "metadata": {},
     "output_type": "execute_result"
    }
   ],
   "source": [
    "#\n",
    "data = pd.read_csv('../oefeningen/DataSets/fruitaankoop 20-21.csv' , sep=\";\")\n",
    "data"
   ]
  },
  {
   "cell_type": "markdown",
   "id": "82b3df87-b01b-4394-aa2f-3fad8b1fd115",
   "metadata": {},
   "source": [
    "## 2. Association Rules"
   ]
  },
  {
   "cell_type": "code",
   "execution_count": 17,
   "id": "76b356f6-f80b-4369-a352-f13c571ccc99",
   "metadata": {
    "ExecuteTime": {
     "end_time": "2024-03-28T20:30:54.905429500Z",
     "start_time": "2024-03-28T20:30:54.886232700Z"
    }
   },
   "outputs": [
    {
     "data": {
      "text/plain": "     support                  itemsets\n0   0.707071                 (Aardbei)\n3   0.505051                  (Banaan)\n2   0.484848                   (Appel)\n6   0.353535                  (Meloen)\n10  0.313131         (Aardbei, Banaan)\n9   0.303030          (Aardbei, Appel)\n1   0.282828                  (Ananas)\n4   0.232323                    (Kers)\n15  0.232323           (Banaan, Appel)\n8   0.222222         (Ananas, Aardbei)\n13  0.212121         (Meloen, Aardbei)\n5   0.202020                    (Kiwi)\n11  0.161616           (Kers, Aardbei)\n17  0.151515          (Meloen, Banaan)\n14  0.131313           (Ananas, Appel)\n7   0.121212             (Sinaasappel)\n12  0.101010           (Aardbei, Kiwi)\n16  0.101010            (Kers, Banaan)\n18  0.101010  (Ananas, Aardbei, Appel)",
      "text/html": "<div>\n<style scoped>\n    .dataframe tbody tr th:only-of-type {\n        vertical-align: middle;\n    }\n\n    .dataframe tbody tr th {\n        vertical-align: top;\n    }\n\n    .dataframe thead th {\n        text-align: right;\n    }\n</style>\n<table border=\"1\" class=\"dataframe\">\n  <thead>\n    <tr style=\"text-align: right;\">\n      <th></th>\n      <th>support</th>\n      <th>itemsets</th>\n    </tr>\n  </thead>\n  <tbody>\n    <tr>\n      <th>0</th>\n      <td>0.707071</td>\n      <td>(Aardbei)</td>\n    </tr>\n    <tr>\n      <th>3</th>\n      <td>0.505051</td>\n      <td>(Banaan)</td>\n    </tr>\n    <tr>\n      <th>2</th>\n      <td>0.484848</td>\n      <td>(Appel)</td>\n    </tr>\n    <tr>\n      <th>6</th>\n      <td>0.353535</td>\n      <td>(Meloen)</td>\n    </tr>\n    <tr>\n      <th>10</th>\n      <td>0.313131</td>\n      <td>(Aardbei, Banaan)</td>\n    </tr>\n    <tr>\n      <th>9</th>\n      <td>0.303030</td>\n      <td>(Aardbei, Appel)</td>\n    </tr>\n    <tr>\n      <th>1</th>\n      <td>0.282828</td>\n      <td>(Ananas)</td>\n    </tr>\n    <tr>\n      <th>4</th>\n      <td>0.232323</td>\n      <td>(Kers)</td>\n    </tr>\n    <tr>\n      <th>15</th>\n      <td>0.232323</td>\n      <td>(Banaan, Appel)</td>\n    </tr>\n    <tr>\n      <th>8</th>\n      <td>0.222222</td>\n      <td>(Ananas, Aardbei)</td>\n    </tr>\n    <tr>\n      <th>13</th>\n      <td>0.212121</td>\n      <td>(Meloen, Aardbei)</td>\n    </tr>\n    <tr>\n      <th>5</th>\n      <td>0.202020</td>\n      <td>(Kiwi)</td>\n    </tr>\n    <tr>\n      <th>11</th>\n      <td>0.161616</td>\n      <td>(Kers, Aardbei)</td>\n    </tr>\n    <tr>\n      <th>17</th>\n      <td>0.151515</td>\n      <td>(Meloen, Banaan)</td>\n    </tr>\n    <tr>\n      <th>14</th>\n      <td>0.131313</td>\n      <td>(Ananas, Appel)</td>\n    </tr>\n    <tr>\n      <th>7</th>\n      <td>0.121212</td>\n      <td>(Sinaasappel)</td>\n    </tr>\n    <tr>\n      <th>12</th>\n      <td>0.101010</td>\n      <td>(Aardbei, Kiwi)</td>\n    </tr>\n    <tr>\n      <th>16</th>\n      <td>0.101010</td>\n      <td>(Kers, Banaan)</td>\n    </tr>\n    <tr>\n      <th>18</th>\n      <td>0.101010</td>\n      <td>(Ananas, Aardbei, Appel)</td>\n    </tr>\n  </tbody>\n</table>\n</div>"
     },
     "execution_count": 17,
     "metadata": {},
     "output_type": "execute_result"
    }
   ],
   "source": [
    "#\n",
    "items = fpgrowth(data,min_support=0.1,use_colnames=True)\n",
    "items.sort_values('support',ascending=False)"
   ]
  },
  {
   "cell_type": "markdown",
   "id": "3dc93245-eb2d-4084-9b96-4b59420584d1",
   "metadata": {},
   "source": [
    "## 3. Hoogste confidence"
   ]
  },
  {
   "cell_type": "code",
   "execution_count": 18,
   "id": "04d324f9-3c72-4d79-a77e-5c157a91900a",
   "metadata": {
    "ExecuteTime": {
     "end_time": "2024-03-28T20:30:57.527707900Z",
     "start_time": "2024-03-28T20:30:57.500757200Z"
    }
   },
   "outputs": [
    {
     "data": {
      "text/plain": "          antecedents        consequents  antecedent support  \\\n0            (Ananas)          (Aardbei)            0.282828   \n19    (Ananas, Appel)          (Aardbei)            0.131313   \n6              (Kers)          (Aardbei)            0.232323   \n3             (Appel)          (Aardbei)            0.484848   \n5            (Banaan)          (Aardbei)            0.505051   \n9            (Meloen)          (Aardbei)            0.353535   \n8              (Kiwi)          (Aardbei)            0.202020   \n14            (Appel)           (Banaan)            0.484848   \n11           (Ananas)            (Appel)            0.282828   \n13           (Banaan)            (Appel)            0.505051   \n18  (Aardbei, Ananas)            (Appel)            0.222222   \n4           (Aardbei)           (Banaan)            0.707071   \n15             (Kers)           (Banaan)            0.232323   \n16           (Meloen)           (Banaan)            0.353535   \n2           (Aardbei)            (Appel)            0.707071   \n21           (Ananas)   (Aardbei, Appel)            0.282828   \n20   (Aardbei, Appel)           (Ananas)            0.303030   \n1           (Aardbei)           (Ananas)            0.707071   \n10          (Aardbei)           (Meloen)            0.707071   \n17           (Banaan)           (Meloen)            0.505051   \n12            (Appel)           (Ananas)            0.484848   \n7           (Aardbei)             (Kers)            0.707071   \n22            (Appel)  (Aardbei, Ananas)            0.484848   \n\n    consequent support   support  confidence      lift  leverage  conviction  \\\n0             0.707071  0.222222    0.785714  1.111224  0.022243    1.367003   \n19            0.707071  0.101010    0.769231  1.087912  0.008162    1.269360   \n6             0.707071  0.161616    0.695652  0.983851 -0.002653    0.962482   \n3             0.707071  0.303030    0.625000  0.883929 -0.039792    0.781145   \n5             0.707071  0.313131    0.620000  0.876857 -0.043975    0.770867   \n9             0.707071  0.212121    0.600000  0.848571 -0.037853    0.732323   \n8             0.707071  0.101010    0.500000  0.707143 -0.041832    0.585859   \n14            0.505051  0.232323    0.479167  0.948750 -0.012550    0.950303   \n11            0.484848  0.131313    0.464286  0.957589 -0.005816    0.961616   \n13            0.484848  0.232323    0.460000  0.948750 -0.012550    0.953984   \n18            0.484848  0.101010    0.454545  0.937500 -0.006734    0.944444   \n4             0.505051  0.313131    0.442857  0.876857 -0.043975    0.888371   \n15            0.505051  0.101010    0.434783  0.860870 -0.016325    0.875680   \n16            0.505051  0.151515    0.428571  0.848571 -0.027038    0.866162   \n2             0.484848  0.303030    0.428571  0.883929 -0.039792    0.901515   \n21            0.303030  0.101010    0.357143  1.178571  0.015305    1.084175   \n20            0.282828  0.101010    0.333333  1.178571  0.015305    1.075758   \n1             0.282828  0.222222    0.314286  1.111224  0.022243    1.045875   \n10            0.353535  0.212121    0.300000  0.848571 -0.037853    0.923521   \n17            0.353535  0.151515    0.300000  0.848571 -0.027038    0.923521   \n12            0.282828  0.131313    0.270833  0.957589 -0.005816    0.983550   \n7             0.232323  0.161616    0.228571  0.983851 -0.002653    0.995137   \n22            0.222222  0.101010    0.208333  0.937500 -0.006734    0.982456   \n\n    zhangs_metric  \n0        0.139565  \n19       0.093023  \n6       -0.020934  \n3       -0.203125  \n5       -0.221026  \n9       -0.216327  \n8       -0.341667  \n14      -0.094907  \n11      -0.058163  \n13      -0.098400  \n18      -0.078947  \n4       -0.324060  \n15      -0.173913  \n16      -0.216327  \n2       -0.309524  \n21       0.211268  \n20       0.217391  \n1        0.341693  \n10      -0.378571  \n17      -0.265000  \n12      -0.079167  \n7       -0.053061  \n22      -0.114583  ",
      "text/html": "<div>\n<style scoped>\n    .dataframe tbody tr th:only-of-type {\n        vertical-align: middle;\n    }\n\n    .dataframe tbody tr th {\n        vertical-align: top;\n    }\n\n    .dataframe thead th {\n        text-align: right;\n    }\n</style>\n<table border=\"1\" class=\"dataframe\">\n  <thead>\n    <tr style=\"text-align: right;\">\n      <th></th>\n      <th>antecedents</th>\n      <th>consequents</th>\n      <th>antecedent support</th>\n      <th>consequent support</th>\n      <th>support</th>\n      <th>confidence</th>\n      <th>lift</th>\n      <th>leverage</th>\n      <th>conviction</th>\n      <th>zhangs_metric</th>\n    </tr>\n  </thead>\n  <tbody>\n    <tr>\n      <th>0</th>\n      <td>(Ananas)</td>\n      <td>(Aardbei)</td>\n      <td>0.282828</td>\n      <td>0.707071</td>\n      <td>0.222222</td>\n      <td>0.785714</td>\n      <td>1.111224</td>\n      <td>0.022243</td>\n      <td>1.367003</td>\n      <td>0.139565</td>\n    </tr>\n    <tr>\n      <th>19</th>\n      <td>(Ananas, Appel)</td>\n      <td>(Aardbei)</td>\n      <td>0.131313</td>\n      <td>0.707071</td>\n      <td>0.101010</td>\n      <td>0.769231</td>\n      <td>1.087912</td>\n      <td>0.008162</td>\n      <td>1.269360</td>\n      <td>0.093023</td>\n    </tr>\n    <tr>\n      <th>6</th>\n      <td>(Kers)</td>\n      <td>(Aardbei)</td>\n      <td>0.232323</td>\n      <td>0.707071</td>\n      <td>0.161616</td>\n      <td>0.695652</td>\n      <td>0.983851</td>\n      <td>-0.002653</td>\n      <td>0.962482</td>\n      <td>-0.020934</td>\n    </tr>\n    <tr>\n      <th>3</th>\n      <td>(Appel)</td>\n      <td>(Aardbei)</td>\n      <td>0.484848</td>\n      <td>0.707071</td>\n      <td>0.303030</td>\n      <td>0.625000</td>\n      <td>0.883929</td>\n      <td>-0.039792</td>\n      <td>0.781145</td>\n      <td>-0.203125</td>\n    </tr>\n    <tr>\n      <th>5</th>\n      <td>(Banaan)</td>\n      <td>(Aardbei)</td>\n      <td>0.505051</td>\n      <td>0.707071</td>\n      <td>0.313131</td>\n      <td>0.620000</td>\n      <td>0.876857</td>\n      <td>-0.043975</td>\n      <td>0.770867</td>\n      <td>-0.221026</td>\n    </tr>\n    <tr>\n      <th>9</th>\n      <td>(Meloen)</td>\n      <td>(Aardbei)</td>\n      <td>0.353535</td>\n      <td>0.707071</td>\n      <td>0.212121</td>\n      <td>0.600000</td>\n      <td>0.848571</td>\n      <td>-0.037853</td>\n      <td>0.732323</td>\n      <td>-0.216327</td>\n    </tr>\n    <tr>\n      <th>8</th>\n      <td>(Kiwi)</td>\n      <td>(Aardbei)</td>\n      <td>0.202020</td>\n      <td>0.707071</td>\n      <td>0.101010</td>\n      <td>0.500000</td>\n      <td>0.707143</td>\n      <td>-0.041832</td>\n      <td>0.585859</td>\n      <td>-0.341667</td>\n    </tr>\n    <tr>\n      <th>14</th>\n      <td>(Appel)</td>\n      <td>(Banaan)</td>\n      <td>0.484848</td>\n      <td>0.505051</td>\n      <td>0.232323</td>\n      <td>0.479167</td>\n      <td>0.948750</td>\n      <td>-0.012550</td>\n      <td>0.950303</td>\n      <td>-0.094907</td>\n    </tr>\n    <tr>\n      <th>11</th>\n      <td>(Ananas)</td>\n      <td>(Appel)</td>\n      <td>0.282828</td>\n      <td>0.484848</td>\n      <td>0.131313</td>\n      <td>0.464286</td>\n      <td>0.957589</td>\n      <td>-0.005816</td>\n      <td>0.961616</td>\n      <td>-0.058163</td>\n    </tr>\n    <tr>\n      <th>13</th>\n      <td>(Banaan)</td>\n      <td>(Appel)</td>\n      <td>0.505051</td>\n      <td>0.484848</td>\n      <td>0.232323</td>\n      <td>0.460000</td>\n      <td>0.948750</td>\n      <td>-0.012550</td>\n      <td>0.953984</td>\n      <td>-0.098400</td>\n    </tr>\n    <tr>\n      <th>18</th>\n      <td>(Aardbei, Ananas)</td>\n      <td>(Appel)</td>\n      <td>0.222222</td>\n      <td>0.484848</td>\n      <td>0.101010</td>\n      <td>0.454545</td>\n      <td>0.937500</td>\n      <td>-0.006734</td>\n      <td>0.944444</td>\n      <td>-0.078947</td>\n    </tr>\n    <tr>\n      <th>4</th>\n      <td>(Aardbei)</td>\n      <td>(Banaan)</td>\n      <td>0.707071</td>\n      <td>0.505051</td>\n      <td>0.313131</td>\n      <td>0.442857</td>\n      <td>0.876857</td>\n      <td>-0.043975</td>\n      <td>0.888371</td>\n      <td>-0.324060</td>\n    </tr>\n    <tr>\n      <th>15</th>\n      <td>(Kers)</td>\n      <td>(Banaan)</td>\n      <td>0.232323</td>\n      <td>0.505051</td>\n      <td>0.101010</td>\n      <td>0.434783</td>\n      <td>0.860870</td>\n      <td>-0.016325</td>\n      <td>0.875680</td>\n      <td>-0.173913</td>\n    </tr>\n    <tr>\n      <th>16</th>\n      <td>(Meloen)</td>\n      <td>(Banaan)</td>\n      <td>0.353535</td>\n      <td>0.505051</td>\n      <td>0.151515</td>\n      <td>0.428571</td>\n      <td>0.848571</td>\n      <td>-0.027038</td>\n      <td>0.866162</td>\n      <td>-0.216327</td>\n    </tr>\n    <tr>\n      <th>2</th>\n      <td>(Aardbei)</td>\n      <td>(Appel)</td>\n      <td>0.707071</td>\n      <td>0.484848</td>\n      <td>0.303030</td>\n      <td>0.428571</td>\n      <td>0.883929</td>\n      <td>-0.039792</td>\n      <td>0.901515</td>\n      <td>-0.309524</td>\n    </tr>\n    <tr>\n      <th>21</th>\n      <td>(Ananas)</td>\n      <td>(Aardbei, Appel)</td>\n      <td>0.282828</td>\n      <td>0.303030</td>\n      <td>0.101010</td>\n      <td>0.357143</td>\n      <td>1.178571</td>\n      <td>0.015305</td>\n      <td>1.084175</td>\n      <td>0.211268</td>\n    </tr>\n    <tr>\n      <th>20</th>\n      <td>(Aardbei, Appel)</td>\n      <td>(Ananas)</td>\n      <td>0.303030</td>\n      <td>0.282828</td>\n      <td>0.101010</td>\n      <td>0.333333</td>\n      <td>1.178571</td>\n      <td>0.015305</td>\n      <td>1.075758</td>\n      <td>0.217391</td>\n    </tr>\n    <tr>\n      <th>1</th>\n      <td>(Aardbei)</td>\n      <td>(Ananas)</td>\n      <td>0.707071</td>\n      <td>0.282828</td>\n      <td>0.222222</td>\n      <td>0.314286</td>\n      <td>1.111224</td>\n      <td>0.022243</td>\n      <td>1.045875</td>\n      <td>0.341693</td>\n    </tr>\n    <tr>\n      <th>10</th>\n      <td>(Aardbei)</td>\n      <td>(Meloen)</td>\n      <td>0.707071</td>\n      <td>0.353535</td>\n      <td>0.212121</td>\n      <td>0.300000</td>\n      <td>0.848571</td>\n      <td>-0.037853</td>\n      <td>0.923521</td>\n      <td>-0.378571</td>\n    </tr>\n    <tr>\n      <th>17</th>\n      <td>(Banaan)</td>\n      <td>(Meloen)</td>\n      <td>0.505051</td>\n      <td>0.353535</td>\n      <td>0.151515</td>\n      <td>0.300000</td>\n      <td>0.848571</td>\n      <td>-0.027038</td>\n      <td>0.923521</td>\n      <td>-0.265000</td>\n    </tr>\n    <tr>\n      <th>12</th>\n      <td>(Appel)</td>\n      <td>(Ananas)</td>\n      <td>0.484848</td>\n      <td>0.282828</td>\n      <td>0.131313</td>\n      <td>0.270833</td>\n      <td>0.957589</td>\n      <td>-0.005816</td>\n      <td>0.983550</td>\n      <td>-0.079167</td>\n    </tr>\n    <tr>\n      <th>7</th>\n      <td>(Aardbei)</td>\n      <td>(Kers)</td>\n      <td>0.707071</td>\n      <td>0.232323</td>\n      <td>0.161616</td>\n      <td>0.228571</td>\n      <td>0.983851</td>\n      <td>-0.002653</td>\n      <td>0.995137</td>\n      <td>-0.053061</td>\n    </tr>\n    <tr>\n      <th>22</th>\n      <td>(Appel)</td>\n      <td>(Aardbei, Ananas)</td>\n      <td>0.484848</td>\n      <td>0.222222</td>\n      <td>0.101010</td>\n      <td>0.208333</td>\n      <td>0.937500</td>\n      <td>-0.006734</td>\n      <td>0.982456</td>\n      <td>-0.114583</td>\n    </tr>\n  </tbody>\n</table>\n</div>"
     },
     "execution_count": 18,
     "metadata": {},
     "output_type": "execute_result"
    }
   ],
   "source": [
    "#\n",
    "items2 = association_rules(items,metric='confidence',min_threshold=0.2)\n",
    "items2.sort_values('confidence', ascending=False) "
   ]
  },
  {
   "cell_type": "markdown",
   "id": "49df0447-9852-43b1-b123-44e9a93eb1cf",
   "metadata": {},
   "source": [
    "## 4. Combinatie 2 fruittypes"
   ]
  },
  {
   "cell_type": "code",
   "outputs": [
    {
     "data": {
      "text/plain": "  antecedents consequents  antecedent support  consequent support   support  \\\n0    (Ananas)   (Aardbei)            0.282828            0.707071  0.222222   \n\n   confidence      lift  leverage  conviction  zhangs_metric  \n0    0.785714  1.111224  0.022243    1.367003       0.139565  ",
      "text/html": "<div>\n<style scoped>\n    .dataframe tbody tr th:only-of-type {\n        vertical-align: middle;\n    }\n\n    .dataframe tbody tr th {\n        vertical-align: top;\n    }\n\n    .dataframe thead th {\n        text-align: right;\n    }\n</style>\n<table border=\"1\" class=\"dataframe\">\n  <thead>\n    <tr style=\"text-align: right;\">\n      <th></th>\n      <th>antecedents</th>\n      <th>consequents</th>\n      <th>antecedent support</th>\n      <th>consequent support</th>\n      <th>support</th>\n      <th>confidence</th>\n      <th>lift</th>\n      <th>leverage</th>\n      <th>conviction</th>\n      <th>zhangs_metric</th>\n    </tr>\n  </thead>\n  <tbody>\n    <tr>\n      <th>0</th>\n      <td>(Ananas)</td>\n      <td>(Aardbei)</td>\n      <td>0.282828</td>\n      <td>0.707071</td>\n      <td>0.222222</td>\n      <td>0.785714</td>\n      <td>1.111224</td>\n      <td>0.022243</td>\n      <td>1.367003</td>\n      <td>0.139565</td>\n    </tr>\n  </tbody>\n</table>\n</div>"
     },
     "execution_count": 19,
     "metadata": {},
     "output_type": "execute_result"
    }
   ],
   "source": [
    "items2.sort_values('confidence',ascending=False).head(1) # 22.222222 % want support is 0.222222222"
   ],
   "metadata": {
    "collapsed": false,
    "ExecuteTime": {
     "end_time": "2024-03-28T20:30:59.824277200Z",
     "start_time": "2024-03-28T20:30:59.812103200Z"
    }
   },
   "id": "8707d324864a6f22",
   "execution_count": 19
  },
  {
   "cell_type": "markdown",
   "id": "3c37cee8-4aa4-4f2b-be25-4e974382229c",
   "metadata": {},
   "source": [
    "## 5. Wat zegt de lift?"
   ]
  }
 ],
 "metadata": {
  "kernelspec": {
   "display_name": "Python 3 (ipykernel)",
   "language": "python",
   "name": "python3"
  },
  "language_info": {
   "codemirror_mode": {
    "name": "ipython",
    "version": 3
   },
   "file_extension": ".py",
   "mimetype": "text/x-python",
   "name": "python",
   "nbconvert_exporter": "python",
   "pygments_lexer": "ipython3",
   "version": "3.9.13"
  }
 },
 "nbformat": 4,
 "nbformat_minor": 5
}
