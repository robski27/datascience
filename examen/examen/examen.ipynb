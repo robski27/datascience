{
 "cells": [
  {
   "cell_type": "markdown",
   "id": "3959ab7c-c52f-4912-a177-85ee5ec5a8ec",
   "metadata": {},
   "source": [
    "### NAAM: CEULEMANS ROBBE ---- KLAS: ISB204B\n",
    "Je levert een **uitgevoerde notebook** in, dus de **resultaten van de berekeningen staan er ook in**. Resultaten moeten **niet** afgerond worden."
   ]
  },
  {
   "cell_type": "code",
   "execution_count": 61,
   "id": "5d6867e0-ae45-4e93-813e-23e1bbbbaf96",
   "metadata": {
    "ExecuteTime": {
     "end_time": "2024-03-29T08:17:27.096945300Z",
     "start_time": "2024-03-29T08:17:27.088981Z"
    }
   },
   "outputs": [],
   "source": [
    "# Zet hier je imports \n",
    "# Als je gebruik maakt van eigen routines/functies, zet deze ook hier\n",
    "from mlxtend.frequent_patterns import fpgrowth, association_rules, apriori\n",
    "import pandas as pd\n",
    "import numpy as np\n",
    "import matplotlib.pyplot as plt\n",
    "import math\n",
    "from mlxtend.preprocessing import TransactionEncoder\n",
    "from scipy import stats\n",
    "from scipy.stats import binom ,norm, poisson, chi2,t,ttest_1samp, chisquare\n",
    "from scipy.special import comb\n",
    "def bayes(A,B,A_als_B):\n",
    "    B_als_A = (A*A_als_B)/B\n",
    "    \n",
    "    return B_als_A\n",
    "\n",
    "def totale_kans(kansen : list):\n",
    "    result = 0\n",
    "    for x in kansen:\n",
    "        result += x\n",
    "    return result\n",
    "def factor(p,n):\n",
    "    factorresult = t.ppf((1+p)/2, df=n-1)\n",
    "    return factorresult\n",
    "def tinterval(p_of_a,n,x_bar,s):\n",
    "    result = t.interval(confidence=p_of_a, df=n-1,loc = x_bar, scale=s/math.sqrt(n))\n",
    "    return result\n",
    "def binneninterval(x_bar, tinterval :  list):\n",
    "    result = tinterval[0] < x_bar < tinterval[1]\n",
    "    print(\"binnen interval? \" ,result)\n",
    "def relatief_percent(tabel: pd.Series, afronden: bool, aantal_cijfers=0):\n",
    "    if afronden:\n",
    "        return (tabel.value_counts(normalize=True) * 100).round(aantal_cijfers)\n",
    "    else:\n",
    "        return tabel.value_counts(normalize=True) * 100\n"
   ]
  },
  {
   "cell_type": "code",
   "execution_count": 29,
   "id": "828890e8-f957-4fa5-ae18-c67bf5c7a1a1",
   "metadata": {
    "ExecuteTime": {
     "end_time": "2024-03-29T07:41:27.520807900Z",
     "start_time": "2024-03-29T07:41:27.486782200Z"
    }
   },
   "outputs": [
    {
     "data": {
      "text/plain": "         age     sex      region    income  married  children    car  fiber  \\\nid                                                                            \nID12101   48  FEMALE  INNER_CITY  17546.00    False         1  False   True   \nID12102   40    MALE        TOWN  30085.10     True         3   True   True   \nID12103   51  FEMALE  INNER_CITY  16575.40     True         0   True   True   \nID12104   23  FEMALE        TOWN  20375.40     True         3  False   True   \nID12105   57  FEMALE       RURAL  50576.30     True         0  False  False   \n...      ...     ...         ...       ...      ...       ...    ...    ...   \nID12696   61  FEMALE  INNER_CITY  47025.00    False         2   True   True   \nID12697   30  FEMALE  INNER_CITY   9672.25     True         0   True   True   \nID12698   31  FEMALE        TOWN  15976.30     True         0   True  False   \nID12699   29    MALE  INNER_CITY  14711.80     True         0  False  False   \nID12700   38    MALE        TOWN  26671.60    False         0   True   True   \n\n         iphone  linux  \nid                      \nID12101   False   True  \nID12102    True  False  \nID12103   False  False  \nID12104   False  False  \nID12105   False  False  \n...         ...    ...  \nID12696    True  False  \nID12697   False  False  \nID12698   False   True  \nID12699    True  False  \nID12700    True   True  \n\n[600 rows x 10 columns]",
      "text/html": "<div>\n<style scoped>\n    .dataframe tbody tr th:only-of-type {\n        vertical-align: middle;\n    }\n\n    .dataframe tbody tr th {\n        vertical-align: top;\n    }\n\n    .dataframe thead th {\n        text-align: right;\n    }\n</style>\n<table border=\"1\" class=\"dataframe\">\n  <thead>\n    <tr style=\"text-align: right;\">\n      <th></th>\n      <th>age</th>\n      <th>sex</th>\n      <th>region</th>\n      <th>income</th>\n      <th>married</th>\n      <th>children</th>\n      <th>car</th>\n      <th>fiber</th>\n      <th>iphone</th>\n      <th>linux</th>\n    </tr>\n    <tr>\n      <th>id</th>\n      <th></th>\n      <th></th>\n      <th></th>\n      <th></th>\n      <th></th>\n      <th></th>\n      <th></th>\n      <th></th>\n      <th></th>\n      <th></th>\n    </tr>\n  </thead>\n  <tbody>\n    <tr>\n      <th>ID12101</th>\n      <td>48</td>\n      <td>FEMALE</td>\n      <td>INNER_CITY</td>\n      <td>17546.00</td>\n      <td>False</td>\n      <td>1</td>\n      <td>False</td>\n      <td>True</td>\n      <td>False</td>\n      <td>True</td>\n    </tr>\n    <tr>\n      <th>ID12102</th>\n      <td>40</td>\n      <td>MALE</td>\n      <td>TOWN</td>\n      <td>30085.10</td>\n      <td>True</td>\n      <td>3</td>\n      <td>True</td>\n      <td>True</td>\n      <td>True</td>\n      <td>False</td>\n    </tr>\n    <tr>\n      <th>ID12103</th>\n      <td>51</td>\n      <td>FEMALE</td>\n      <td>INNER_CITY</td>\n      <td>16575.40</td>\n      <td>True</td>\n      <td>0</td>\n      <td>True</td>\n      <td>True</td>\n      <td>False</td>\n      <td>False</td>\n    </tr>\n    <tr>\n      <th>ID12104</th>\n      <td>23</td>\n      <td>FEMALE</td>\n      <td>TOWN</td>\n      <td>20375.40</td>\n      <td>True</td>\n      <td>3</td>\n      <td>False</td>\n      <td>True</td>\n      <td>False</td>\n      <td>False</td>\n    </tr>\n    <tr>\n      <th>ID12105</th>\n      <td>57</td>\n      <td>FEMALE</td>\n      <td>RURAL</td>\n      <td>50576.30</td>\n      <td>True</td>\n      <td>0</td>\n      <td>False</td>\n      <td>False</td>\n      <td>False</td>\n      <td>False</td>\n    </tr>\n    <tr>\n      <th>...</th>\n      <td>...</td>\n      <td>...</td>\n      <td>...</td>\n      <td>...</td>\n      <td>...</td>\n      <td>...</td>\n      <td>...</td>\n      <td>...</td>\n      <td>...</td>\n      <td>...</td>\n    </tr>\n    <tr>\n      <th>ID12696</th>\n      <td>61</td>\n      <td>FEMALE</td>\n      <td>INNER_CITY</td>\n      <td>47025.00</td>\n      <td>False</td>\n      <td>2</td>\n      <td>True</td>\n      <td>True</td>\n      <td>True</td>\n      <td>False</td>\n    </tr>\n    <tr>\n      <th>ID12697</th>\n      <td>30</td>\n      <td>FEMALE</td>\n      <td>INNER_CITY</td>\n      <td>9672.25</td>\n      <td>True</td>\n      <td>0</td>\n      <td>True</td>\n      <td>True</td>\n      <td>False</td>\n      <td>False</td>\n    </tr>\n    <tr>\n      <th>ID12698</th>\n      <td>31</td>\n      <td>FEMALE</td>\n      <td>TOWN</td>\n      <td>15976.30</td>\n      <td>True</td>\n      <td>0</td>\n      <td>True</td>\n      <td>False</td>\n      <td>False</td>\n      <td>True</td>\n    </tr>\n    <tr>\n      <th>ID12699</th>\n      <td>29</td>\n      <td>MALE</td>\n      <td>INNER_CITY</td>\n      <td>14711.80</td>\n      <td>True</td>\n      <td>0</td>\n      <td>False</td>\n      <td>False</td>\n      <td>True</td>\n      <td>False</td>\n    </tr>\n    <tr>\n      <th>ID12700</th>\n      <td>38</td>\n      <td>MALE</td>\n      <td>TOWN</td>\n      <td>26671.60</td>\n      <td>False</td>\n      <td>0</td>\n      <td>True</td>\n      <td>True</td>\n      <td>True</td>\n      <td>True</td>\n    </tr>\n  </tbody>\n</table>\n<p>600 rows × 10 columns</p>\n</div>"
     },
     "execution_count": 29,
     "metadata": {},
     "output_type": "execute_result"
    }
   ],
   "source": [
    "# Lees hier je csv file \"bevolking.csv\" \n",
    "# Gebruik kolom 0 als index_col\n",
    "# Indien je voor een vraag deze dataset nodig hebt, staat dit expliciet vermeld\n",
    "# Voor de andere vragen heb je dus deze dataset niet nodig\n",
    "bevolking = pd.read_csv('bevolking.csv' ,index_col=0, sep=';',decimal='.')\n",
    "bevolking"
   ]
  },
  {
   "cell_type": "markdown",
   "id": "dae70c5b-63e2-491d-9b21-99c86db0e830",
   "metadata": {},
   "source": [
    "**Vraag 1**"
   ]
  },
  {
   "cell_type": "code",
   "execution_count": 30,
   "id": "ac4c918a-4b02-4bb1-9565-89d586d96b33",
   "metadata": {
    "ExecuteTime": {
     "end_time": "2024-03-29T07:41:27.564915800Z",
     "start_time": "2024-03-29T07:41:27.523470500Z"
    }
   },
   "outputs": [
    {
     "data": {
      "text/plain": "0.5260115606936416"
     },
     "execution_count": 30,
     "metadata": {},
     "output_type": "execute_result"
    }
   ],
   "source": [
    "# Antwoord vraag 1\n",
    "len(bevolking.loc[(bevolking['car'] == True) & (bevolking['region'] == 'TOWN')]) / len(bevolking.loc[bevolking['region'] == 'TOWN'])"
   ]
  },
  {
   "cell_type": "markdown",
   "id": "7ac7f699-4cf3-4340-a4b1-ba827b7aa5c2",
   "metadata": {},
   "source": [
    "**Vraag 2** "
   ]
  },
  {
   "cell_type": "code",
   "execution_count": 133,
   "id": "ff5da0df-8794-4ded-aebf-3e9864a9ba8e",
   "metadata": {
    "ExecuteTime": {
     "end_time": "2024-03-29T08:52:28.533591900Z",
     "start_time": "2024-03-29T08:52:28.528249700Z"
    }
   },
   "outputs": [
    {
     "data": {
      "text/plain": "0.6666666666666666"
     },
     "execution_count": 133,
     "metadata": {},
     "output_type": "execute_result"
    }
   ],
   "source": [
    "# Antwoord vraag 2\n",
    "A = 0.50\n",
    "B = totale_kans([0.001*0.25,0.002*0.25,0.003*0.5])\n",
    "A_als_B = 0.003  \n",
    "\n",
    "bayes(A,B,A_als_B)"
   ]
  },
  {
   "cell_type": "markdown",
   "id": "4d11afd7-805a-43fa-ae0a-d6586ff890ab",
   "metadata": {},
   "source": [
    "**Vraag 3**"
   ]
  },
  {
   "cell_type": "code",
   "execution_count": 32,
   "id": "b4e55c97-d34c-43f1-ad7c-1ec6e5a2a110",
   "metadata": {
    "scrolled": true,
    "ExecuteTime": {
     "end_time": "2024-03-29T07:41:27.656794900Z",
     "start_time": "2024-03-29T07:41:27.570735400Z"
    }
   },
   "outputs": [
    {
     "data": {
      "text/plain": "0.5410611676706898"
     },
     "execution_count": 32,
     "metadata": {},
     "output_type": "execute_result"
    }
   ],
   "source": [
    "# Antwoord vraag 3\n",
    "p = len(bevolking.loc[bevolking['married'] == True]) / len(bevolking)\n",
    "# print(p)\n",
    "1 - binom.cdf(6,10,p)"
   ]
  },
  {
   "cell_type": "markdown",
   "id": "64f25185-545e-4be6-b962-c91a797be1ba",
   "metadata": {},
   "source": [
    "**Vraag 4**"
   ]
  },
  {
   "cell_type": "code",
   "execution_count": 33,
   "id": "c4df4a6a-b3b7-4095-917c-5e3da6da1c01",
   "metadata": {
    "ExecuteTime": {
     "end_time": "2024-03-29T07:41:27.701224800Z",
     "start_time": "2024-03-29T07:41:27.659468900Z"
    }
   },
   "outputs": [
    {
     "data": {
      "text/plain": "0.0027693957155115775"
     },
     "execution_count": 33,
     "metadata": {},
     "output_type": "execute_result"
    }
   ],
   "source": [
    "# Antwoord vraag 4\n",
    "poisson.cdf(2,10)"
   ]
  },
  {
   "cell_type": "markdown",
   "id": "89237de3-3964-4b84-b5fc-5ee88171b4bb",
   "metadata": {},
   "source": [
    "**Vraag 5**"
   ]
  },
  {
   "cell_type": "code",
   "execution_count": 41,
   "id": "c2a5ccee-d5cc-417e-89c7-826aed37bd01",
   "metadata": {
    "ExecuteTime": {
     "end_time": "2024-03-29T07:45:04.955153800Z",
     "start_time": "2024-03-29T07:45:04.940909800Z"
    }
   },
   "outputs": [
    {
     "data": {
      "text/plain": "0.0018348953912493693"
     },
     "execution_count": 41,
     "metadata": {},
     "output_type": "execute_result"
    }
   ],
   "source": [
    "# Antwoord vraag 5\n",
    "1 - norm.cdf(65000,loc=bevolking.income.mean(),scale=bevolking.income.std())\n",
    "# bevolking.income.mean()"
   ]
  },
  {
   "cell_type": "markdown",
   "id": "7b140ba7-f4f4-4539-b1cb-fdb5ad7102e9",
   "metadata": {},
   "source": [
    "**Vraag 6**"
   ]
  },
  {
   "cell_type": "code",
   "execution_count": 45,
   "id": "ec4b3037-1e47-4bcf-9621-2332caef960a",
   "metadata": {
    "ExecuteTime": {
     "end_time": "2024-03-29T07:51:06.098734300Z",
     "start_time": "2024-03-29T07:51:06.093110100Z"
    }
   },
   "outputs": [
    {
     "data": {
      "text/plain": "(41.240785028406115, 43.54921497159389)"
     },
     "execution_count": 45,
     "metadata": {},
     "output_type": "execute_result"
    }
   ],
   "source": [
    "# Antwoord vraag 6\n",
    "a = 0.05\n",
    "p= 1 -a\n",
    "n = len(bevolking)\n",
    "xbar = bevolking.age.mean()\n",
    "s = bevolking.age.std()\n",
    "t.interval(confidence=p,df=n-1 , loc=xbar,scale=s/math.sqrt(n))"
   ]
  },
  {
   "cell_type": "markdown",
   "id": "e77505d8-0810-4912-95a4-bccf39ebe657",
   "metadata": {},
   "source": [
    "**Vraag 7**"
   ]
  },
  {
   "cell_type": "code",
   "execution_count": 51,
   "id": "8589797e-4b15-4f6a-985b-459ae554cd3b",
   "metadata": {
    "ExecuteTime": {
     "end_time": "2024-03-29T08:07:20.144479200Z",
     "start_time": "2024-03-29T08:07:20.131577Z"
    }
   },
   "outputs": [
    {
     "data": {
      "text/plain": "TtestResult(statistic=2.8939943583882823, pvalue=0.003942172845663158, df=599)"
     },
     "execution_count": 51,
     "metadata": {},
     "output_type": "execute_result"
    }
   ],
   "source": [
    "# Antwoord vraag 7\n",
    "a = 0.05\n",
    "p = 1-a\n",
    "factor = factor(p,len(bevolking.income))\n",
    "print()\n",
    "ttest_1samp(bevolking['income'],26000)\n"
   ]
  },
  {
   "cell_type": "raw",
   "id": "f40db1a2-4032-491d-bfa3-314a89a2e96b",
   "metadata": {},
   "source": [
    "VERWERPEN: [antwoord met JA of NEE] JA\n",
    "WAAROM: pvalue < a"
   ]
  },
  {
   "cell_type": "markdown",
   "id": "57a6ea6e-cd52-44ad-a1e2-811761154da6",
   "metadata": {},
   "source": [
    "**Vraag 8**"
   ]
  },
  {
   "cell_type": "code",
   "execution_count": 91,
   "id": "900853de-87a1-4527-96fd-57a5fb1ff460",
   "metadata": {
    "ExecuteTime": {
     "end_time": "2024-03-29T08:26:03.673481500Z",
     "start_time": "2024-03-29T08:26:03.666051Z"
    }
   },
   "outputs": [
    {
     "data": {
      "text/plain": "Power_divergenceResult(statistic=0.7302469135802462, pvalue=0.8660675516588087)"
     },
     "execution_count": 91,
     "metadata": {},
     "output_type": "execute_result"
    }
   ],
   "source": [
    "# Antwoord vraag 8\n",
    "a = 0.05\n",
    "actual = relatief_percent(bevolking.children,afronden=False,aantal_cijfers=0)\n",
    "list =  actual.tolist()\n",
    "chisquare(list,[45.0,25.0,20.0,10.0])"
   ]
  },
  {
   "cell_type": "raw",
   "id": "5a11824f-ed35-4ee9-8516-887134d38350",
   "metadata": {},
   "source": [
    "VERWERPEN: [antwoord met JA of NEE] NEE\n",
    "WAAROM: pvalue > a"
   ]
  },
  {
   "cell_type": "markdown",
   "id": "31779cad-0871-48fb-b23d-f48ae6dc1c23",
   "metadata": {},
   "source": [
    "**Vraag 9**"
   ]
  },
  {
   "cell_type": "raw",
   "id": "2a1f1d6c-7589-45b4-b820-e8b620995ebb",
   "metadata": {},
   "source": [
    "# Antwoord vraag 9\n",
    "a. Aantal transacties = 20\n",
    "b. Support( Licht ) = 10/20\n",
    "c. Support( Licht EN Slot ) = 4/20\n",
    "d. Confidence( Licht -> Slot ) = 7/9 "
   ]
  },
  {
   "cell_type": "markdown",
   "id": "1a41d866-a773-494d-ae60-2c2016740f81",
   "metadata": {},
   "source": [
    "**Vraag 10**"
   ]
  },
  {
   "cell_type": "code",
   "execution_count": 131,
   "id": "e6c0dd60-eb5e-4edd-9960-99b5c6b735d5",
   "metadata": {
    "ExecuteTime": {
     "end_time": "2024-03-29T08:47:37.505956400Z",
     "start_time": "2024-03-29T08:47:37.490481Z"
    }
   },
   "outputs": [
    {
     "data": {
      "text/plain": "       antecedents     consequents  antecedent support  consequent support  \\\n0          (linux)         (fiber)            0.651667            0.803333   \n1            (car)         (fiber)            0.493333            0.803333   \n2     (car, linux)         (fiber)            0.325000            0.803333   \n3         (iphone)         (linux)            0.348333            0.651667   \n4         (iphone)         (fiber)            0.348333            0.803333   \n5  (fiber, iphone)         (linux)            0.256667            0.651667   \n6  (iphone, linux)         (fiber)            0.348333            0.803333   \n7         (iphone)  (fiber, linux)            0.348333            0.540000   \n\n    support  confidence      lift  leverage  conviction  zhangs_metric  \n0  0.540000    0.828645  1.031508  0.016494    1.147711       0.087690  \n1  0.391667    0.793919  0.988281 -0.004644    0.954317      -0.022869  \n2  0.263333    0.810256  1.008618  0.002250    1.036486       0.012658  \n3  0.348333    1.000000  1.534527  0.121336         inf       0.534527  \n4  0.256667    0.736842  0.917231 -0.023161    0.747333      -0.121630  \n5  0.256667    1.000000  1.534527  0.089406         inf       0.468610  \n6  0.256667    0.736842  0.917231 -0.023161    0.747333      -0.121630  \n7  0.256667    0.736842  1.364522  0.068567    1.748000       0.409938  ",
      "text/html": "<div>\n<style scoped>\n    .dataframe tbody tr th:only-of-type {\n        vertical-align: middle;\n    }\n\n    .dataframe tbody tr th {\n        vertical-align: top;\n    }\n\n    .dataframe thead th {\n        text-align: right;\n    }\n</style>\n<table border=\"1\" class=\"dataframe\">\n  <thead>\n    <tr style=\"text-align: right;\">\n      <th></th>\n      <th>antecedents</th>\n      <th>consequents</th>\n      <th>antecedent support</th>\n      <th>consequent support</th>\n      <th>support</th>\n      <th>confidence</th>\n      <th>lift</th>\n      <th>leverage</th>\n      <th>conviction</th>\n      <th>zhangs_metric</th>\n    </tr>\n  </thead>\n  <tbody>\n    <tr>\n      <th>0</th>\n      <td>(linux)</td>\n      <td>(fiber)</td>\n      <td>0.651667</td>\n      <td>0.803333</td>\n      <td>0.540000</td>\n      <td>0.828645</td>\n      <td>1.031508</td>\n      <td>0.016494</td>\n      <td>1.147711</td>\n      <td>0.087690</td>\n    </tr>\n    <tr>\n      <th>1</th>\n      <td>(car)</td>\n      <td>(fiber)</td>\n      <td>0.493333</td>\n      <td>0.803333</td>\n      <td>0.391667</td>\n      <td>0.793919</td>\n      <td>0.988281</td>\n      <td>-0.004644</td>\n      <td>0.954317</td>\n      <td>-0.022869</td>\n    </tr>\n    <tr>\n      <th>2</th>\n      <td>(car, linux)</td>\n      <td>(fiber)</td>\n      <td>0.325000</td>\n      <td>0.803333</td>\n      <td>0.263333</td>\n      <td>0.810256</td>\n      <td>1.008618</td>\n      <td>0.002250</td>\n      <td>1.036486</td>\n      <td>0.012658</td>\n    </tr>\n    <tr>\n      <th>3</th>\n      <td>(iphone)</td>\n      <td>(linux)</td>\n      <td>0.348333</td>\n      <td>0.651667</td>\n      <td>0.348333</td>\n      <td>1.000000</td>\n      <td>1.534527</td>\n      <td>0.121336</td>\n      <td>inf</td>\n      <td>0.534527</td>\n    </tr>\n    <tr>\n      <th>4</th>\n      <td>(iphone)</td>\n      <td>(fiber)</td>\n      <td>0.348333</td>\n      <td>0.803333</td>\n      <td>0.256667</td>\n      <td>0.736842</td>\n      <td>0.917231</td>\n      <td>-0.023161</td>\n      <td>0.747333</td>\n      <td>-0.121630</td>\n    </tr>\n    <tr>\n      <th>5</th>\n      <td>(fiber, iphone)</td>\n      <td>(linux)</td>\n      <td>0.256667</td>\n      <td>0.651667</td>\n      <td>0.256667</td>\n      <td>1.000000</td>\n      <td>1.534527</td>\n      <td>0.089406</td>\n      <td>inf</td>\n      <td>0.468610</td>\n    </tr>\n    <tr>\n      <th>6</th>\n      <td>(iphone, linux)</td>\n      <td>(fiber)</td>\n      <td>0.348333</td>\n      <td>0.803333</td>\n      <td>0.256667</td>\n      <td>0.736842</td>\n      <td>0.917231</td>\n      <td>-0.023161</td>\n      <td>0.747333</td>\n      <td>-0.121630</td>\n    </tr>\n    <tr>\n      <th>7</th>\n      <td>(iphone)</td>\n      <td>(fiber, linux)</td>\n      <td>0.348333</td>\n      <td>0.540000</td>\n      <td>0.256667</td>\n      <td>0.736842</td>\n      <td>1.364522</td>\n      <td>0.068567</td>\n      <td>1.748000</td>\n      <td>0.409938</td>\n    </tr>\n  </tbody>\n</table>\n</div>"
     },
     "execution_count": 131,
     "metadata": {},
     "output_type": "execute_result"
    }
   ],
   "source": [
    "# Antwoord vraag 10\n",
    "\n",
    "\n",
    "\n",
    "test = pd.DataFrame({'fiber':bevolking.fiber,'iphone':bevolking.iphone,'car':bevolking.car,'linux':bevolking.linux})\n",
    "itemsets = fpgrowth(test,min_support=0.2, use_colnames=True)\n",
    "rules = association_rules(itemsets, metric='confidence',min_threshold=0.7)\n",
    "rules"
   ]
  },
  {
   "cell_type": "raw",
   "id": "66df0f3f-1e85-45fa-9cef-f09d6e1aa61c",
   "metadata": {},
   "source": [
    "ANTWOORD: [zet hier car, linux of iphone] linux\n",
    "WAAROM: omdat de confidence van linux --> fiber de hoogste is dus we weten dat als iemand linux heeft dat die ook 82% kans heeft dat die fiber wilt  "
   ]
  }
 ],
 "metadata": {
  "kernelspec": {
   "display_name": "Python 3 (ipykernel)",
   "language": "python",
   "name": "python3"
  },
  "language_info": {
   "codemirror_mode": {
    "name": "ipython",
    "version": 3
   },
   "file_extension": ".py",
   "mimetype": "text/x-python",
   "name": "python",
   "nbconvert_exporter": "python",
   "pygments_lexer": "ipython3",
   "version": "3.11.7"
  }
 },
 "nbformat": 4,
 "nbformat_minor": 5
}
