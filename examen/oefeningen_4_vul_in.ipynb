{
 "cells": [
  {
   "cell_type": "code",
   "execution_count": 4,
   "id": "c62e7cba-c750-4eb5-b38e-5a4847d65bcd",
   "metadata": {
    "ExecuteTime": {
     "end_time": "2024-03-28T18:04:51.882503400Z",
     "start_time": "2024-03-28T18:04:51.853058900Z"
    }
   },
   "outputs": [],
   "source": [
    "import math\n",
    "import numpy as np\n",
    "import pandas as pd\n",
    "from mlxtend.preprocessing import TransactionEncoder\n",
    "from scipy.stats import binom, norm, poisson, t, chi2, chisquare\n",
    "\n",
    "\n",
    "\n",
    "    "
   ]
  },
  {
   "cell_type": "markdown",
   "id": "adc63448-2123-459f-9887-e6f5af03b2be",
   "metadata": {},
   "source": [
    "## Vraag 1\n",
    "\n"
   ]
  },
  {
   "cell_type": "code",
   "execution_count": 5,
   "id": "b87bf787-2710-4824-a988-89f5e3bb37dc",
   "metadata": {
    "ExecuteTime": {
     "end_time": "2024-03-28T18:04:51.883561900Z",
     "start_time": "2024-03-28T18:04:51.869796600Z"
    }
   },
   "outputs": [],
   "source": [
    "# lees file in\n"
   ]
  },
  {
   "cell_type": "code",
   "execution_count": 6,
   "id": "6697d369-75c4-4c57-bec9-31d45705b4a8",
   "metadata": {
    "ExecuteTime": {
     "end_time": "2024-03-28T18:04:51.894076400Z",
     "start_time": "2024-03-28T18:04:51.885666500Z"
    }
   },
   "outputs": [],
   "source": [
    "#"
   ]
  },
  {
   "cell_type": "markdown",
   "id": "2bda1554-4c57-441b-824e-942218c8c12d",
   "metadata": {},
   "source": [
    "## Vraag 2\n",
    "Vraag 2: Fruit promotie\n",
    "Een supermarkt wil mensen naar de winkel lokken met een zeer sterke promotie voor fruit. Omdat ze\n",
    "op die promotie geen winst maken willen ze dat compenseren door vlak ernaast een ander soort\n",
    "fruit te leggen die ze iets doen stijgen in prijs zodat de winstmarge daarop het verlies gedeeltelijk kan\n",
    "compenseren. De winkel wil weten welk fruit ze in promotie moeten zetten en welk fruit het meeste\n",
    "kans maakt om bij het fruit in promotie gekocht te worden.\n",
    "a. Maak gebruik van de fruitvoorkeuren uit de vragenlijst dataset (fruitaankoop 20-21.csv) om\n",
    "de regels op te stellen.\n",
    "b. Maak met behulp van deze lijst associatieregels. Gebruik voor het apriori algoritme of het fp-\n",
    "growth algoritme volgende parameters:\n",
    "➢ support = 0.1\n",
    "➢ confidence = 0.3\n",
    "➢ minlen=2, maxlen=2)\n",
    "c. Zoek de associatieregel met de hoogste confidence.\n",
    "d. Welk fruit zal de winkel op basis van die regel in promotie zetten?\n",
    "e. Welk fruit zal de winkel op basis van die regel naast het promotieartikel plaatsen?\n",
    "f. Hoeveel procent van de studenten die de vragenlijst hebben ingevuld hebben de combinatie\n",
    "van de twee fruittypes in hun top 3 staan?\n",
    "g. Wat kan je zeggen over het fruit in promotie op basis van de lift?"
   ]
  },
  {
   "cell_type": "code",
   "execution_count": 12,
   "id": "0f563cfb-b60f-475d-8b12-572f939549e2",
   "metadata": {
    "ExecuteTime": {
     "end_time": "2024-03-28T18:05:28.519267300Z",
     "start_time": "2024-03-28T18:05:28.507007400Z"
    }
   },
   "outputs": [
    {
     "data": {
      "text/plain": "    Aardbei  Ananas  Appel  Banaan   Kers   Kiwi  Meloen   Peer  Pruim  \\\n0      True    True  False   False  False  False    True  False  False   \n1      True   False  False   False  False   True    True  False  False   \n2      True   False   True   False  False  False   False  False  False   \n3      True   False  False    True   True  False   False  False  False   \n4      True    True   True   False  False  False   False  False  False   \n..      ...     ...    ...     ...    ...    ...     ...    ...    ...   \n94     True   False   True    True  False  False   False  False  False   \n95     True   False   True    True  False  False   False  False  False   \n96     True   False  False   False  False   True    True  False  False   \n97     True   False   True   False  False  False   False  False  False   \n98    False   False   True   False  False   True    True  False  False   \n\n    Sinaasappel  \n0         False  \n1         False  \n2          True  \n3         False  \n4         False  \n..          ...  \n94        False  \n95        False  \n96        False  \n97         True  \n98        False  \n\n[99 rows x 10 columns]",
      "text/html": "<div>\n<style scoped>\n    .dataframe tbody tr th:only-of-type {\n        vertical-align: middle;\n    }\n\n    .dataframe tbody tr th {\n        vertical-align: top;\n    }\n\n    .dataframe thead th {\n        text-align: right;\n    }\n</style>\n<table border=\"1\" class=\"dataframe\">\n  <thead>\n    <tr style=\"text-align: right;\">\n      <th></th>\n      <th>Aardbei</th>\n      <th>Ananas</th>\n      <th>Appel</th>\n      <th>Banaan</th>\n      <th>Kers</th>\n      <th>Kiwi</th>\n      <th>Meloen</th>\n      <th>Peer</th>\n      <th>Pruim</th>\n      <th>Sinaasappel</th>\n    </tr>\n  </thead>\n  <tbody>\n    <tr>\n      <th>0</th>\n      <td>True</td>\n      <td>True</td>\n      <td>False</td>\n      <td>False</td>\n      <td>False</td>\n      <td>False</td>\n      <td>True</td>\n      <td>False</td>\n      <td>False</td>\n      <td>False</td>\n    </tr>\n    <tr>\n      <th>1</th>\n      <td>True</td>\n      <td>False</td>\n      <td>False</td>\n      <td>False</td>\n      <td>False</td>\n      <td>True</td>\n      <td>True</td>\n      <td>False</td>\n      <td>False</td>\n      <td>False</td>\n    </tr>\n    <tr>\n      <th>2</th>\n      <td>True</td>\n      <td>False</td>\n      <td>True</td>\n      <td>False</td>\n      <td>False</td>\n      <td>False</td>\n      <td>False</td>\n      <td>False</td>\n      <td>False</td>\n      <td>True</td>\n    </tr>\n    <tr>\n      <th>3</th>\n      <td>True</td>\n      <td>False</td>\n      <td>False</td>\n      <td>True</td>\n      <td>True</td>\n      <td>False</td>\n      <td>False</td>\n      <td>False</td>\n      <td>False</td>\n      <td>False</td>\n    </tr>\n    <tr>\n      <th>4</th>\n      <td>True</td>\n      <td>True</td>\n      <td>True</td>\n      <td>False</td>\n      <td>False</td>\n      <td>False</td>\n      <td>False</td>\n      <td>False</td>\n      <td>False</td>\n      <td>False</td>\n    </tr>\n    <tr>\n      <th>...</th>\n      <td>...</td>\n      <td>...</td>\n      <td>...</td>\n      <td>...</td>\n      <td>...</td>\n      <td>...</td>\n      <td>...</td>\n      <td>...</td>\n      <td>...</td>\n      <td>...</td>\n    </tr>\n    <tr>\n      <th>94</th>\n      <td>True</td>\n      <td>False</td>\n      <td>True</td>\n      <td>True</td>\n      <td>False</td>\n      <td>False</td>\n      <td>False</td>\n      <td>False</td>\n      <td>False</td>\n      <td>False</td>\n    </tr>\n    <tr>\n      <th>95</th>\n      <td>True</td>\n      <td>False</td>\n      <td>True</td>\n      <td>True</td>\n      <td>False</td>\n      <td>False</td>\n      <td>False</td>\n      <td>False</td>\n      <td>False</td>\n      <td>False</td>\n    </tr>\n    <tr>\n      <th>96</th>\n      <td>True</td>\n      <td>False</td>\n      <td>False</td>\n      <td>False</td>\n      <td>False</td>\n      <td>True</td>\n      <td>True</td>\n      <td>False</td>\n      <td>False</td>\n      <td>False</td>\n    </tr>\n    <tr>\n      <th>97</th>\n      <td>True</td>\n      <td>False</td>\n      <td>True</td>\n      <td>False</td>\n      <td>False</td>\n      <td>False</td>\n      <td>False</td>\n      <td>False</td>\n      <td>False</td>\n      <td>True</td>\n    </tr>\n    <tr>\n      <th>98</th>\n      <td>False</td>\n      <td>False</td>\n      <td>True</td>\n      <td>False</td>\n      <td>False</td>\n      <td>True</td>\n      <td>True</td>\n      <td>False</td>\n      <td>False</td>\n      <td>False</td>\n    </tr>\n  </tbody>\n</table>\n<p>99 rows × 10 columns</p>\n</div>"
     },
     "execution_count": 12,
     "metadata": {},
     "output_type": "execute_result"
    }
   ],
   "source": [
    "# lees file in\n"
   ]
  },
  {
   "cell_type": "code",
   "execution_count": 8,
   "id": "c191bb1d-2f10-43e6-ad83-83c6487b2560",
   "metadata": {
    "ExecuteTime": {
     "end_time": "2024-03-28T18:04:51.908309100Z",
     "start_time": "2024-03-28T18:04:51.905347300Z"
    }
   },
   "outputs": [],
   "source": [
    "#\n",
    "apre"
   ]
  },
  {
   "cell_type": "markdown",
   "id": "82891f63-334f-4906-b648-d4aec50a1a1a",
   "metadata": {},
   "source": [
    "## Vraag 7"
   ]
  },
  {
   "cell_type": "code",
   "execution_count": 9,
   "id": "f353e633-b5fc-47e9-934e-60f3c8e45ee7",
   "metadata": {
    "ExecuteTime": {
     "end_time": "2024-03-28T18:04:51.918953100Z",
     "start_time": "2024-03-28T18:04:51.908309100Z"
    }
   },
   "outputs": [],
   "source": [
    "#"
   ]
  }
 ],
 "metadata": {
  "kernelspec": {
   "display_name": "Python 3 (ipykernel)",
   "language": "python",
   "name": "python3"
  },
  "language_info": {
   "codemirror_mode": {
    "name": "ipython",
    "version": 3
   },
   "file_extension": ".py",
   "mimetype": "text/x-python",
   "name": "python",
   "nbconvert_exporter": "python",
   "pygments_lexer": "ipython3",
   "version": "3.9.13"
  }
 },
 "nbformat": 4,
 "nbformat_minor": 5
}
