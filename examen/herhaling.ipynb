{
 "cells": [
  {
   "cell_type": "code",
   "outputs": [],
   "source": [
    "from scipy.stats import binom\n",
    "from scipy.stats import norm\n",
    "from scipy.stats import poisson\n",
    "from scipy.stats import t\n",
    "from scipy.stats import ttest_1samp\n",
    "from scipy.stats import chi2\n",
    "from scipy.stats import chisquare\n",
    "from scipy.special import comb\n",
    "import pandas as pd\n",
    "import math\n",
    "from mlxtend.preprocessing import TransactionEncoder\n",
    "from mlxtend.frequent_patterns import apriori\n",
    "from mlxtend.frequent_patterns import fpgrowth\n",
    "from mlxtend.frequent_patterns import association_rules\n",
    "\n",
    "def afhankelijke_productregel(kans_als_eersteWaarIs,kans_enkel ):\n",
    "    result =  kans_enkel *kans_als_eersteWaarIs\n",
    "    return result\n",
    "\n",
    "def bayes(afhankelijkekans ,totaleKans):\n",
    "    result = afhankelijkekans/totaleKans\n",
    "    \n",
    "    return result\n",
    "\n",
    "def totale_kans(kansen : list):\n",
    "    result = 0\n",
    "    for x in kansen:\n",
    "        result += x\n",
    "    return result"
   ],
   "metadata": {
    "collapsed": false,
    "ExecuteTime": {
     "end_time": "2024-03-28T14:35:32.021352Z",
     "start_time": "2024-03-28T14:35:31.594963Z"
    }
   },
   "id": "739e657bfa8549",
   "execution_count": 114
  },
  {
   "cell_type": "markdown",
   "id": "10f3ad34d2ddf673",
   "metadata": {},
   "source": [
    "# Herhaling"
   ]
  },
  {
   "cell_type": "markdown",
   "id": "5a95a5ed17081d0b",
   "metadata": {},
   "source": [
    "## Kansen"
   ]
  },
  {
   "cell_type": "markdown",
   "id": "3136c4b87563490c",
   "metadata": {},
   "source": [
    "### Laplace\n",
    "- verzameling met mogelijke uitkomsten: U\n",
    "- elke uitkomst is even waarschijnlijk (uniforme verdeling)\n",
    "– gebeurtenis = verzameling van gewenste uitkomsten: G\n",
    "– kans dat gebeurtenis optreedt P(G) = #G / #U"
   ]
  },
  {
   "cell_type": "code",
   "execution_count": 115,
   "id": "initial_id",
   "metadata": {
    "ExecuteTime": {
     "end_time": "2024-03-28T14:35:32.034502500Z",
     "start_time": "2024-03-28T14:35:32.012319400Z"
    }
   },
   "outputs": [
    {
     "name": "stdout",
     "output_type": "stream",
     "text": [
      "0.08333333333333333\n",
      "8.333333333333332\n"
     ]
    }
   ],
   "source": [
    "U = 36\n",
    "G = 3\n",
    "'P(G)'; P = G/U \n",
    "print(P)\n",
    "print(P*100)"
   ]
  },
  {
   "cell_type": "markdown",
   "id": "bf2f58b477d42f57",
   "metadata": {},
   "source": [
    "## Rekenen met kansen"
   ]
  },
  {
   "cell_type": "markdown",
   "id": "5e3debef9c05074a",
   "metadata": {},
   "source": [
    "### Kans van tegengestelde gebeurtenis\n",
    "Als je de kans weet dat een gebeurtenis zich zal voltrekken, dan kan je heel gemakkelijk de kans bereken dat deze zich niet zal voltrekken: \n",
    "P(niet G) = 1-P(G)"
   ]
  },
  {
   "cell_type": "code",
   "execution_count": 116,
   "id": "354794624219fb5a",
   "metadata": {
    "ExecuteTime": {
     "end_time": "2024-03-28T14:35:32.084999900Z",
     "start_time": "2024-03-28T14:35:32.037008700Z"
    }
   },
   "outputs": [
    {
     "name": "stdout",
     "output_type": "stream",
     "text": [
      "0.9166666666666666\n",
      "91.66666666666666\n"
     ]
    }
   ],
   "source": [
    "U = 36\n",
    "G = 3\n",
    "P = 1 -(G/U)\n",
    "print(P)\n",
    "print(P*100)"
   ]
  },
  {
   "cell_type": "markdown",
   "id": "890c465a92057b4b",
   "metadata": {},
   "source": [
    "### De Somregel\n",
    "Gebeurtenissen kunnen bestaan uit deelgebeurtenissen\n",
    "Stel dat de deelgebeurtenissen Gi (i=1,..n) niet overlappen, het zijn uitsluitende deelgebeurtenissen\n",
    "We vragen ons af wat de kans is dat 1 van deze\n",
    "gebeurtenissen optreedt:\n",
    "P(G) = P(G1 OF G2 OF ... OF Gn )\n",
    "= P(G1 u G2 u ... u Gn )\n",
    "= P(G1) + P(G2) + ... + P(Gn )"
   ]
  },
  {
   "cell_type": "code",
   "execution_count": 117,
   "id": "be730ecc0728d03d",
   "metadata": {
    "ExecuteTime": {
     "end_time": "2024-03-28T14:35:32.124412900Z",
     "start_time": "2024-03-28T14:35:32.084999900Z"
    }
   },
   "outputs": [
    {
     "name": "stdout",
     "output_type": "stream",
     "text": [
      "0.15384615384615385\n",
      "15.384615384615385\n"
     ]
    }
   ],
   "source": [
    "# Voorbeeld: boek kaarten, kies een kaart.\n",
    "# Wat is de kans dat de kaart een aas of een 4 is?\n",
    "Aas = 4/52\n",
    "Vier = 4/52\n",
    "# Kans aas of vier\n",
    "Som = Aas + Vier\n",
    "print(Som)\n",
    "print(Som*100)"
   ]
  },
  {
   "cell_type": "markdown",
   "id": "42d8cd77cc33c4d3",
   "metadata": {},
   "source": [
    "### Inverse Somregel\n",
    "Stel dat de deelgebeurtenissen overlappen (niet uitsluitend zijn)\n",
    "Stel: enkel 2 deelgebeurtenissen\n",
    "– P(G) = P(G1 U G2 ) = P(G 1 ) + P(G 2 ) - P(G1 n G2 )"
   ]
  },
  {
   "cell_type": "code",
   "execution_count": 118,
   "id": "68755e3120b4533f",
   "metadata": {
    "ExecuteTime": {
     "end_time": "2024-03-28T14:35:32.227412500Z",
     "start_time": "2024-03-28T14:35:32.125488Z"
    }
   },
   "outputs": [
    {
     "name": "stdout",
     "output_type": "stream",
     "text": [
      "0.3076923076923077\n"
     ]
    }
   ],
   "source": [
    "# Voorbeeld: boek kaarten\n",
    "# – kies 1 kaart\n",
    "# – wat is de kans dat deze een aas is of een harten kaart?\n",
    "#G = Gaas U Gharten maar doorsnede is niet leeg\n",
    "Aas = 4\n",
    "Harten = 52/4\n",
    "Overlap = 1\n",
    "\n",
    "InverseSom = (Aas + Harten - Overlap) / 52\n",
    "print(InverseSom)"
   ]
  },
  {
   "cell_type": "markdown",
   "source": [
    "### Productregel\n",
    "Een gebeurtenis bestaat weer uit deelgebeurtenissen\n",
    "Wat is de kans dat alle deelgebeurtenissen tegelijk optreden?\n",
    "• Als de deelgebeurtenissen \"onafhankelijk\" zijn, dan geldt:\n",
    "P(G) = P(G 1 EN G2 EN ... EN Gn )\n",
    "= P(G1 n G2 n ... n Gn )\n",
    "= P(G1) x P(G2) x ... x P(Gn )"
   ],
   "metadata": {
    "collapsed": false
   },
   "id": "8f62158e25af6a8f"
  },
  {
   "cell_type": "code",
   "execution_count": 119,
   "id": "8c4c90ad94b5ec3a",
   "metadata": {
    "ExecuteTime": {
     "end_time": "2024-03-28T14:35:32.309548600Z",
     "start_time": "2024-03-28T14:35:32.187563500Z"
    }
   },
   "outputs": [
    {
     "name": "stdout",
     "output_type": "stream",
     "text": [
      "0.4\n"
     ]
    }
   ],
   "source": [
    "# Voorbeeld: counter-strike\n",
    "#– 3 spelers\n",
    "#• speler1 schiet 1 keer op 5 raak\n",
    "#• speler2 schiet 1 keer op 4 raak\n",
    "#• speler3 schiet 1 keer op 3 raak\n",
    "#– 1 terrorist probeert door tunnel te geraken\n",
    "#– spelers kunnen elk 1 keer schieten\n",
    "#Wat is de kans dat de terrorist levend door de tunnel raakt?\n",
    "#Dit is de kans dat speler1 mist (G1) EN speler2 mist (G2) EN speler3 mist (G3)\n",
    "P = (4/5)*(3/4)*(2/3)\n",
    "print(P)"
   ]
  },
  {
   "cell_type": "markdown",
   "source": [
    "### Afhankelijke Productregel\n",
    "De gebeurtenissen kunnen ook afhankelijk zijn van elkaar.\n",
    "– In dit geval is P(G1 n G2 n ... n Gn )\n",
    "≠ P(G1) x P(G2) x ... x P(Gn )\n",
    "\n",
    "Voorbeeld: groep studenten\n",
    "• Kans dat iemand een meisje is, is 0,48\n",
    "• Kans dat iemand een bril draagt is 0,2\n",
    "• Wat is de kans dat een willekeurige persoon een\n",
    "meisje met een bril is?\n",
    "Probleem: misschien zijn alle brildragers jongens.\n",
    "in dit geval is P(G) = 0 terwijl P(Gmeisje) x P(Gbril ) = 0,096\n",
    "er is dus een afhankelijkheid tussen jongens en brildragers\n",
    "\n",
    "Om de kans te berekenen dat een student een\n",
    "brildragend meisje is, gebruiken we volgende formule:\n",
    "• P(G meisje n G bril) = P(G bril | G meisje) x P(G meisje)\n",
    "\n",
    "hierbij is P(Gbril | Gmeisje ) de kans dat de persoon een\n",
    "bril draagt, gegeven dat het een meisje is (= een\n",
    "voorwaardelijke kans)."
   ],
   "metadata": {
    "collapsed": false
   },
   "id": "52eb2872dc47b057"
  },
  {
   "cell_type": "code",
   "outputs": [
    {
     "name": "stdout",
     "output_type": "stream",
     "text": [
      "0.048\n"
     ]
    },
    {
     "data": {
      "text/plain": "0.048"
     },
     "execution_count": 120,
     "metadata": {},
     "output_type": "execute_result"
    }
   ],
   "source": [
    "# Als er dus geen meisjes zijn met bril, dan is dit 0\n",
    "# • Stel dat 10% van de meisjes een bril draagt, dan is P(Gmeisje n Gbril) =\n",
    "P = 0.1*0.48\n",
    "print(P)\n",
    "\n",
    "afhankelijke_productregel(0.48,0.1)"
   ],
   "metadata": {
    "collapsed": false,
    "ExecuteTime": {
     "end_time": "2024-03-28T14:35:32.372842500Z",
     "start_time": "2024-03-28T14:35:32.311921Z"
    }
   },
   "id": "b0195cdeccdad4f5",
   "execution_count": 120
  },
  {
   "cell_type": "markdown",
   "source": [
    "## Wet van de totale kans\n",
    "Stel dat G1 , G2 , ..., Gn elkaar niet overlappen dan kan je volgende formule opstellen:\n"
   ],
   "metadata": {
    "collapsed": false
   },
   "id": "62f55691fe03f9f"
  },
  {
   "cell_type": "code",
   "outputs": [
    {
     "name": "stdout",
     "output_type": "stream",
     "text": [
      "0.38\n"
     ]
    },
    {
     "data": {
      "text/plain": "0.38"
     },
     "execution_count": 121,
     "metadata": {},
     "output_type": "execute_result"
    }
   ],
   "source": [
    "#Voorbeeld:\n",
    "# – 3 politici hebben resp. 30%, 20% en 50% kans dat ze verkozen worden (V1, V2, V3) –als minister van financiën-\n",
    "# – de kans dat de politici de belastingen verlagen is resp. 50%, 40% en 30%\n",
    "# – wat is de kans dat de belastingen verlaagd worden?\n",
    "# 𝑃(Bverlaagd) = P(Bverlaagd | V1) * (V1) + P(Bverlaagd | V2) * (V2) + P(Bverlaagd | V3) * (V3)\n",
    "P = (0.50*0.30)+(0.40*0.20)+(0.30*0.50)\n",
    "print(P)\n",
    "\n",
    "totale_kans([afhankelijke_productregel(0.5,0.3),afhankelijke_productregel(0.4,0.2),afhankelijke_productregel(0.3,0.5)])"
   ],
   "metadata": {
    "collapsed": false,
    "ExecuteTime": {
     "end_time": "2024-03-28T14:35:32.444981900Z",
     "start_time": "2024-03-28T14:35:32.343507500Z"
    }
   },
   "id": "241f3f2e6539a9de",
   "execution_count": 121
  },
  {
   "cell_type": "markdown",
   "source": [
    "## Wet van Bayes\n",
    "Stel dat {G1, G2, ..., Gn } een partitie is van G dan zegt de wet van Bayes:\n",
    "P(Gk|B) = P(B|Gk)*P(Gk)/P(B)\n",
    "\n",
    "Stel nu dat na de verkiezingen de belastingen verlaagd worden. Hoeveel kans is er dan dat dat komt doordat politicus 3 verkozen werd?\n",
    "P(V3|Bverlaagd) = P(Bverlaagd|V3)*P(V3)/P(Bverlaagd)"
   ],
   "metadata": {
    "collapsed": false
   },
   "id": "312888ce5c8eee1f"
  },
  {
   "cell_type": "code",
   "outputs": [
    {
     "name": "stdout",
     "output_type": "stream",
     "text": [
      "0.28571428571428575\n"
     ]
    }
   ],
   "source": [
    "#Voorbeeld\n",
    "#Bob pendelt elke dag naar zijn werk\n",
    "# • Kans om te laat te komen: – trein (10%), bus (20%), auto (40%)\n",
    "# • Op zekere dag komt Bob te laat. Wat is de kans dat hij met de auto kwam?\n",
    "# Stel: alle voertuigen met evenveel kans gebruikt\n",
    "# P(auto|telaat) = P(Bverlaagd|V3)*P(V3)/P(Bverlaagd)\n",
    "print(bayes(afhankelijke_productregel(0.40,0.1),totale_kans([(0.10*0.80),(0.20*0.1),(0.40*0.1)])))"
   ],
   "metadata": {
    "collapsed": false,
    "ExecuteTime": {
     "end_time": "2024-03-28T14:42:26.285769600Z",
     "start_time": "2024-03-28T14:42:26.279404800Z"
    }
   },
   "id": "30446a1eab0c14c3",
   "execution_count": 147
  },
  {
   "cell_type": "markdown",
   "source": [
    "### Kruistabellen en kansen"
   ],
   "metadata": {
    "collapsed": false
   },
   "id": "e0e369af288c908c"
  },
  {
   "cell_type": "markdown",
   "source": [
    "|          | Wit merk | Geen Wit merk |        |\n",
    "|:--------:|:--------:|:-------:|:------:|\n",
    "| Slechte koeling |   1498  | 1513   |  3011   |\n",
    "| Goede koeling   |  504    | 6485   | 6989   |\n",
    "|                 |   2002    |    7998   |  10000   |"
   ],
   "metadata": {
    "collapsed": false
   },
   "id": "cfe586ffd5d2f8f2"
  },
  {
   "cell_type": "code",
   "outputs": [
    {
     "name": "stdout",
     "output_type": "stream",
     "text": [
      "0.7482517482517482\n"
     ]
    }
   ],
   "source": [
    "# Wat is de kans dat een pc van een wit merk een slechte koeling heeft?\n",
    "# U = {PC's van wit merk}, G {Slechte koeling}\n",
    "U = 1498\n",
    "G = 2002\n",
    "L = U/G\n",
    "print(L)"
   ],
   "metadata": {
    "collapsed": false,
    "ExecuteTime": {
     "end_time": "2024-03-28T14:35:32.851823Z",
     "start_time": "2024-03-28T14:35:32.500641400Z"
    }
   },
   "id": "bd0cfec433330bf0",
   "execution_count": 123
  },
  {
   "cell_type": "markdown",
   "source": [
    "# Kansverdelingen\n",
    "## Wat is een kansverdeling?\n",
    "- doe een theoretische oneindige steekproef/experiment\n",
    "– bepaal de relatieve frequenties van iedere waarde\n",
    "– deze tabel noemen we \"kansverdeling\"\n",
    "## Verband met frequentietabel\n",
    "### Kansverdelingen en frequentietabellen\n",
    "° Kansverdeling:\n",
    "– theoretisch bepaald\n",
    "– steekproef wordt oneindig groot verondersteld\n",
    "° Frequentietabellen:\n",
    "– experimenteel bepaald\n",
    "– eindige steekproef\n",
    "– benadert kansverdeling\n",
    "• Allebei: relatieve frequenties"
   ],
   "metadata": {
    "collapsed": false
   },
   "id": "5e9c419181b144b9"
  },
  {
   "cell_type": "markdown",
   "source": [
    "## Centrum- en spreidingsmaten van een kansverdeling\n",
    "### Centrummaten en spreidingsmaten\n",
    "• Kansen en relatieve frequenties zijn gelijkaardig\n",
    "• Is er dan een gemiddelde, mediaan, modus (centrummaten kansverdeling)?\n",
    "• Is er een IQR, variantie, standaardafwijking (spreidingsmaten kansverdeling)?\n",
    "\n",
    "### Centrummaten kansverdeling\n",
    "Gemiddelde noemen we \"verwachte waarde\"\n",
    "Dit is namelijk de waarde die we verwachten voor de populatie\n",
    "Symbool: µ\n",
    "µ = som van (elke waarde * kans op waarde)"
   ],
   "metadata": {
    "collapsed": false
   },
   "id": "7bb963e17ec36311"
  },
  {
   "cell_type": "code",
   "outputs": [
    {
     "name": "stdout",
     "output_type": "stream",
     "text": [
      "0.0625\n",
      "0.16666666666666666\n",
      "0.375\n"
     ]
    }
   ],
   "source": [
    "# Voorbeeld: multiple choice examen met giscorrectie\n",
    "#– 1 vraag\n",
    "#– keuze uit 4 antwoorden\n",
    "#– juist antwoord = 1 punt\n",
    "#– fout antwoord = -1/4 punt\n",
    "#– kans op een goed antwoord is p\n",
    "#Stel dat je er niks van kent. Wat is p dan? Wat is dan de verwachte score?\n",
    "p = 1/4\n",
    "µ = 1*1/4 - 1/4*3/4\n",
    "print(µ)\n",
    "#Stel dat je twijfelt tussen 3 antwoorden. Wat is p? Wat is dan de verwachte score?\n",
    "p = 1/3\n",
    "µ = 1*1/3- 1/4*2/3\n",
    "print(µ)\n",
    "#Stel dat je twijfelt tussen 2 antwoorden. Wat is p? Wat is dan de verwachte score?\n",
    "p = 1/2\n",
    "µ = 1*1/2- 1/4*1/2\n",
    "print(µ)\n",
    "#Is het nu beter om te gokken of niks in te vullen?"
   ],
   "metadata": {
    "collapsed": false,
    "ExecuteTime": {
     "end_time": "2024-03-28T14:35:33.050473100Z",
     "start_time": "2024-03-28T14:35:32.854997300Z"
    }
   },
   "id": "3fdbc9d11cf9a882",
   "execution_count": 124
  },
  {
   "cell_type": "markdown",
   "source": [
    "### Spreidingsmaten kansverdeling\n",
    "Variantie en standaardafwijking zijn ook verondersteld op de hele populatie\n",
    "We gebruiken dus symbolen σ² en σ\n",
    "Voor het gooien met 2 dobbelstenen is dat:\n",
    "σ² = (2-7)²*1/36+...+(7-7)²*1/36+...+(12-7)²*1/36=5,8333\n",
    "σ = V5,8333 = 2,415"
   ],
   "metadata": {
    "collapsed": false
   },
   "id": "1948fa7f01cf9ba6"
  },
  {
   "cell_type": "markdown",
   "source": [
    "## Veel voorkomende kansverdelingen\n",
    "### De binomiale verdeling\n",
    "Is een model voor een experiment waarbij:\n",
    "– er maar 2 uitkomsten mogelijk zijn (‘succes’ en ‘geen succes’)\n",
    "– iedere uitkomst een bepaalde waarschijnlijkheid heeft:\n",
    "    eerste mogelijke uitkomst (succes) : p\n",
    "    tweede mogelijke uitkomst (geen succes): 1-p\n",
    "- experiment wordt verschillende achtereenvolgende keren (n) uitgevoerd en de resultaten worden gemeten\n",
    "- de vraag is: “Hoeveel kans is er dat bij n experimenten er x gelijk zijn aan de eerste mogelijke uitkomst?“(maw kans dat x experimenten op n succesvol zijn?)"
   ],
   "metadata": {
    "collapsed": false
   },
   "id": "cca1aee8396577b8"
  },
  {
   "cell_type": "code",
   "outputs": [
    {
     "name": "stdout",
     "output_type": "stream",
     "text": [
      "[23.73046875 39.55078125 26.3671875   8.7890625   1.46484375  0.09765625]\n"
     ]
    },
    {
     "data": {
      "text/plain": "0.103515625"
     },
     "execution_count": 125,
     "metadata": {},
     "output_type": "execute_result"
    }
   ],
   "source": [
    "# De binomiale verdeling - Voorbeeld\n",
    "# • Examen met 5 meerkeuzevragen\n",
    "# • Iedere vraag heeft 4 mogelijke antwoorden, waarvan 1 juist\n",
    "# • Wat is de kans dat we exact 2 vragen juist beantwoorden?\n",
    "# – we hebben niet gestudeerd en gokken dus...\n",
    "# – er is geen giscorrectie\n",
    "# n = aantal vragen\n",
    "# x = aantal juist\n",
    "# p = kans op succes\n",
    "# Wat is dus de kans om 0, 1, 2, 3, 4 en 5 vragen juist te hebben?\n",
    "n = 5\n",
    "x = range(0,6)\n",
    "p = 1/4\n",
    "print(binom.pmf(x,n,p)*100) #probability mass function\n",
    "# Wat is dus de kans om te slagen op dit examen? P(x>=3) = P(x=3) + P(x=4) + P(x=5) = 1 – P(x<=2)\n",
    "binom.pmf(3,5,1/4) + binom.pmf(4,5,1/4) + binom.pmf(5,5,1/4)\n",
    "1-(binom.pmf(0,5,1/4) + binom.pmf(1,5,1/4) + binom.pmf(2,5,1/4))\n",
    "1 - binom.cdf(2,5,1/4) #cumulative density function"
   ],
   "metadata": {
    "collapsed": false,
    "ExecuteTime": {
     "end_time": "2024-03-28T14:35:33.157619200Z",
     "start_time": "2024-03-28T14:35:33.051474200Z"
    }
   },
   "id": "e2c5b9e6cfcc58c4",
   "execution_count": 125
  },
  {
   "cell_type": "markdown",
   "source": [
    "### Verwachte waarde\n",
    "Verwachte waarde = hoeveel vragen zullen gemiddeld goed zijn?\n",
    "μ = n * p\n",
    "In dit geval: 5 * 1/4 = 1,25"
   ],
   "metadata": {
    "collapsed": false
   },
   "id": "2c882ce0aa73b6fe"
  },
  {
   "cell_type": "code",
   "outputs": [
    {
     "data": {
      "text/plain": "1.25"
     },
     "execution_count": 126,
     "metadata": {},
     "output_type": "execute_result"
    }
   ],
   "source": [
    "binom.mean(5,1/4)"
   ],
   "metadata": {
    "collapsed": false,
    "ExecuteTime": {
     "end_time": "2024-03-28T14:35:33.214736600Z",
     "start_time": "2024-03-28T14:35:33.115085100Z"
    }
   },
   "id": "aef5fa5c820d6588",
   "execution_count": 126
  },
  {
   "cell_type": "markdown",
   "source": [
    "### Standaardafwijking\n",
    "De standaardafwijking is ook gemakkelijk te berekenen: σ Vn*p*(1-p)\n",
    "De standaardafwijking is hier dus: sqrt(5*1/4*3/4) = 0,968"
   ],
   "metadata": {
    "collapsed": false
   },
   "id": "d8241b9c93893b33"
  },
  {
   "cell_type": "code",
   "outputs": [
    {
     "data": {
      "text/plain": "0.9682458365518543"
     },
     "execution_count": 127,
     "metadata": {},
     "output_type": "execute_result"
    }
   ],
   "source": [
    "binom.std(5,1/4)"
   ],
   "metadata": {
    "collapsed": false,
    "ExecuteTime": {
     "end_time": "2024-03-28T14:35:33.267483200Z",
     "start_time": "2024-03-28T14:35:33.216254900Z"
    }
   },
   "id": "c4a763c7bec4e829",
   "execution_count": 127
  },
  {
   "cell_type": "code",
   "outputs": [
    {
     "data": {
      "text/plain": "1.9364916731037085"
     },
     "execution_count": 128,
     "metadata": {},
     "output_type": "execute_result"
    }
   ],
   "source": [
    "#Examen computersystemen:\n",
    "#– 20 multiple choice vragen\n",
    "#– 4 keuzemogelijkheden per vraag\n",
    "#• Wat is de verwachte score als iedereen gokt?\n",
    "#– het gemiddelde was 7/20...\n",
    "#• Wat is de standaardafwijking?\n",
    "binom.std(20, 1/4)"
   ],
   "metadata": {
    "collapsed": false,
    "ExecuteTime": {
     "end_time": "2024-03-28T14:35:33.337456900Z",
     "start_time": "2024-03-28T14:35:33.262502600Z"
    }
   },
   "id": "b1784884641211e6",
   "execution_count": 128
  },
  {
   "cell_type": "markdown",
   "source": [
    "### De normale verdeling\n",
    "Is een model voor een experiment waarbij:\n",
    "– de variabele continu is\n",
    "– de kansen symmetrisch verdeeld zijn (evenveel kans om meer of minder dan het gemiddelde uit te komen)\n",
    "– de verwachtingswaarde en verwachte standaardafwijking gekend zijn\n",
    "formule in python: norm.pdf(x, loc=μ, scale=σ)\n",
    "#### Berekenen van de oppervlakte\n",
    "• Grafiek is bepaald door μ en σ\n",
    "• Hoe berekenen we de oppervlakte?\n",
    "– integraal uitrekenen...\n",
    "– tabel (tabel voor iedere combinatie van μ en σ?)\n",
    "– gebruik de cumulatieve kansverdeling\n",
    "in Python:\n",
    "> norm.cdf (190, loc=180, scale=10) - norm.cdf(170, loc=180, scale=10)\n",
    "Kans dat x tussen x1 en x2 ligt = oppervlakte tussen x1 en x2"
   ],
   "metadata": {
    "collapsed": false
   },
   "id": "3f43b7eb7d0692d2"
  },
  {
   "cell_type": "code",
   "outputs": [
    {
     "name": "stdout",
     "output_type": "stream",
     "text": [
      "0.19146246127401312\n"
     ]
    }
   ],
   "source": [
    "# voorbeeld: kans dat lengte tussen 175 en 180 ligt:\n",
    "U=(norm.cdf(180,loc=180,scale=10)-norm.cdf(175,loc=180,scale=10))\n",
    "print(U)"
   ],
   "metadata": {
    "collapsed": false,
    "ExecuteTime": {
     "end_time": "2024-03-28T14:35:33.394939200Z",
     "start_time": "2024-03-28T14:35:33.339605400Z"
    }
   },
   "id": "d546c51b6465be4f",
   "execution_count": 129
  },
  {
   "cell_type": "markdown",
   "source": [
    "### De standaardnormale verdeling\n",
    "• Verwachte waarde = 0\n",
    "• Standaardafwijking = 1\n",
    "• Je kan iedere normale verdeling omzetten in de standaardnormale via een \"Z-transformatie\" (cfr Z-scores): Z = (X-μ)/σ\n",
    "• Kan gebruikt worden om oppervlaktes te bepalen adhv de tabel van de standaardnormale verdeling"
   ],
   "metadata": {
    "collapsed": false
   },
   "id": "a3bf1749192d0742"
  },
  {
   "cell_type": "markdown",
   "source": [
    "### De Poisson verdeling\n",
    "Is een model voor een experiment waarbij:\n",
    "– de variabele discreet is\n",
    "– de kansen weergeven hoeveel keer bepaalde voorvallen gedurende een gegeven tijdsinterval, afstand, gebied, volume,... voorkomen\n",
    "– De parameter λ (een positief getal) het verwachte aantal voorvallen in het tijdsinterval weergeeft.\n",
    "λ is eveneens het gemiddelde van de Poisson verdeling.\n",
    "\n",
    "in Python:\n",
    "from scipy.stats import poisson\n",
    ">>> poisson.pmf(k, λ)\n",
    ">>> k=range(0,13)\n",
    ">>> poisson.pmf(k, 3) # λ = 3\n",
    "De som van alle ‘staafjes’ is gelijk aan 1"
   ],
   "metadata": {
    "collapsed": false
   },
   "id": "4d7fd7f17dc04e13"
  },
  {
   "cell_type": "code",
   "outputs": [
    {
     "data": {
      "text/plain": "array([4.97870684e-02, 1.49361205e-01, 2.24041808e-01, 2.24041808e-01,\n       1.68031356e-01, 1.00818813e-01, 5.04094067e-02, 2.16040315e-02,\n       8.10151179e-03, 2.70050393e-03, 8.10151179e-04, 2.20950322e-04,\n       5.52375804e-05])"
     },
     "execution_count": 130,
     "metadata": {},
     "output_type": "execute_result"
    }
   ],
   "source": [
    "k=range(0,13)\n",
    "poisson.pmf(k, 3) # λ = 3"
   ],
   "metadata": {
    "collapsed": false,
    "ExecuteTime": {
     "end_time": "2024-03-28T14:35:33.506990400Z",
     "start_time": "2024-03-28T14:35:33.374930200Z"
    }
   },
   "id": "a35c186dbebd1070",
   "execution_count": 130
  },
  {
   "cell_type": "markdown",
   "source": [
    "Cummulatieve verdelingsfunctie:\n",
    "• in Python:\n",
    ">>> poisson.cdf(2, 3)"
   ],
   "metadata": {
    "collapsed": false
   },
   "id": "c3262f25d6283c7a"
  },
  {
   "cell_type": "code",
   "outputs": [
    {
     "name": "stdout",
     "output_type": "stream",
     "text": [
      "0.04458764910826764\n"
     ]
    },
    {
     "data": {
      "text/plain": "0.15677262182623775"
     },
     "execution_count": 131,
     "metadata": {},
     "output_type": "execute_result"
    }
   ],
   "source": [
    "#In België zijn er ongeveer 10.000 branden in gebouwen per jaar. Er zijn ongeveer 4.500.000 gebouwen. \n",
    "# In een kleine gemeente zijn er 9.000 gebouwen.\n",
    "# a. Bereken de kans dat er 25 branden in 2023 in de gemeente zullen plaats vinden.\n",
    "# b. Bereken ook de kans op minstens 25 branden in 2023.\n",
    "print(poisson.pmf(25,20))\n",
    "1 - poisson.cdf(24,20)"
   ],
   "metadata": {
    "collapsed": false,
    "ExecuteTime": {
     "end_time": "2024-03-28T14:35:33.520408900Z",
     "start_time": "2024-03-28T14:35:33.458910200Z"
    }
   },
   "id": "4ee589a7a32c06bb",
   "execution_count": 131
  },
  {
   "cell_type": "markdown",
   "source": [
    "## Toetsen\n",
    "### Betrouwbaarheidsintervallen"
   ],
   "metadata": {
    "collapsed": false
   },
   "id": "d47544ea5b295b7f"
  },
  {
   "cell_type": "markdown",
   "source": [
    "#### Normaalverdeling\n",
    "Probleemstelling\n",
    "“We willen op basis van een steekproef iets zeggen over de populatie”\n",
    " Betrouwbaarheidsinterval\n",
    "Tussen welke grenzen, bekomen adhv de parameters van een steekproef, ligt een bepaalde parameter van de populatie? Hoe 'zeker' is deze uitspraak?"
   ],
   "metadata": {
    "collapsed": false
   },
   "id": "a1e0025d4ced8f56"
  },
  {
   "cell_type": "markdown",
   "source": [
    "#### Betrouwbaarheidsinterval\n",
    "Stel dat het verbruik van laptops normaal verdeeld is\n",
    " gemiddelde is μ\n",
    " standaardafwijking is σ\n",
    "Kies een willekeurige 1 laptop\n",
    " Wat is de kans dat het verbruik tussen x en y ligt?\n",
    " Hoe zou je dit berekenen? >>> norm.cdf(y, loc= μ, scale= σ) ‐ norm.cdf(x, loc= μ, scale= σ)"
   ],
   "metadata": {
    "collapsed": false
   },
   "id": "351a2ebe15c68d9"
  },
  {
   "cell_type": "markdown",
   "source": [
    "Stel dat je meer dan 1 laptop willekeurig kiest (je kiest er n) maw je neemt een steekproef:\n",
    " Neem het gemiddelde verbruik van die n laptops\n",
    " Is er meer of minder kans om het echte gemiddelde μ uit te komen?\n",
    " Wat zegt dit over de standaardafwijking?"
   ],
   "metadata": {
    "collapsed": false
   },
   "id": "37a73f07e52b1a34"
  },
  {
   "cell_type": "markdown",
   "source": [
    "Stel dat je meerdere steekproeven neemt (telkens kies je aselect n laptops):\n",
    " Levert elke steekproef hetzelfde gemiddelde verbruik van n laptops op? Er werd toch gestart vanuit dezelfde populatie?\n",
    " Wat is de verdelingsfunctie voor het gemiddelde bekomen aan de hand van een steekproef?"
   ],
   "metadata": {
    "collapsed": false
   },
   "id": "3aae6ee229e7708"
  },
  {
   "cell_type": "markdown",
   "source": [
    "“Centrale limietstelling” –zie simulatie-\n",
    " steekproef met grootte n (> 30)\n",
    " de kans om een bepaald gemiddelde uit te komen is bepaald door een normaalverdeling met als gemiddelde μ\n",
    " standaardafwijking σ/sqrt(n)\n",
    " dus 95,5% kans dat:\n",
    " en dus is er 95,5% kans dat:\n",
    " we benaderen σ door s:"
   ],
   "metadata": {
    "collapsed": false
   },
   "id": "ac4293e11b6bb4d7"
  },
  {
   "cell_type": "code",
   "outputs": [
    {
     "ename": "FileNotFoundError",
     "evalue": "[Errno 2] No such file or directory: 'CSV/consumptionLaptops.csv'",
     "output_type": "error",
     "traceback": [
      "\u001B[1;31m---------------------------------------------------------------------------\u001B[0m",
      "\u001B[1;31mFileNotFoundError\u001B[0m                         Traceback (most recent call last)",
      "Cell \u001B[1;32mIn[132], line 2\u001B[0m\n\u001B[0;32m      1\u001B[0m \u001B[38;5;66;03m#Met Python:\u001B[39;00m\n\u001B[1;32m----> 2\u001B[0m df_c \u001B[38;5;241m=\u001B[39m \u001B[43mpd\u001B[49m\u001B[38;5;241;43m.\u001B[39;49m\u001B[43mread_csv\u001B[49m\u001B[43m(\u001B[49m\u001B[38;5;124;43m'\u001B[39;49m\u001B[38;5;124;43mCSV/consumptionLaptops.csv\u001B[39;49m\u001B[38;5;124;43m'\u001B[39;49m\u001B[43m,\u001B[49m\u001B[43m \u001B[49m\u001B[43mdecimal\u001B[49m\u001B[38;5;241;43m=\u001B[39;49m\u001B[38;5;124;43m'\u001B[39;49m\u001B[38;5;124;43m.\u001B[39;49m\u001B[38;5;124;43m'\u001B[39;49m\u001B[43m)\u001B[49m\n\u001B[0;32m      3\u001B[0m x_bar \u001B[38;5;241m=\u001B[39m df_c\u001B[38;5;241m.\u001B[39mconsumptionLaptops\u001B[38;5;241m.\u001B[39mmean()\n\u001B[0;32m      4\u001B[0m s \u001B[38;5;241m=\u001B[39m df_c\u001B[38;5;241m.\u001B[39mconsumptionLaptops\u001B[38;5;241m.\u001B[39mstd()\n",
      "File \u001B[1;32m~\\AppData\\Local\\Programs\\Python\\Python311\\Lib\\site-packages\\pandas\\io\\parsers\\readers.py:1024\u001B[0m, in \u001B[0;36mread_csv\u001B[1;34m(filepath_or_buffer, sep, delimiter, header, names, index_col, usecols, dtype, engine, converters, true_values, false_values, skipinitialspace, skiprows, skipfooter, nrows, na_values, keep_default_na, na_filter, verbose, skip_blank_lines, parse_dates, infer_datetime_format, keep_date_col, date_parser, date_format, dayfirst, cache_dates, iterator, chunksize, compression, thousands, decimal, lineterminator, quotechar, quoting, doublequote, escapechar, comment, encoding, encoding_errors, dialect, on_bad_lines, delim_whitespace, low_memory, memory_map, float_precision, storage_options, dtype_backend)\u001B[0m\n\u001B[0;32m   1011\u001B[0m kwds_defaults \u001B[38;5;241m=\u001B[39m _refine_defaults_read(\n\u001B[0;32m   1012\u001B[0m     dialect,\n\u001B[0;32m   1013\u001B[0m     delimiter,\n\u001B[1;32m   (...)\u001B[0m\n\u001B[0;32m   1020\u001B[0m     dtype_backend\u001B[38;5;241m=\u001B[39mdtype_backend,\n\u001B[0;32m   1021\u001B[0m )\n\u001B[0;32m   1022\u001B[0m kwds\u001B[38;5;241m.\u001B[39mupdate(kwds_defaults)\n\u001B[1;32m-> 1024\u001B[0m \u001B[38;5;28;01mreturn\u001B[39;00m \u001B[43m_read\u001B[49m\u001B[43m(\u001B[49m\u001B[43mfilepath_or_buffer\u001B[49m\u001B[43m,\u001B[49m\u001B[43m \u001B[49m\u001B[43mkwds\u001B[49m\u001B[43m)\u001B[49m\n",
      "File \u001B[1;32m~\\AppData\\Local\\Programs\\Python\\Python311\\Lib\\site-packages\\pandas\\io\\parsers\\readers.py:618\u001B[0m, in \u001B[0;36m_read\u001B[1;34m(filepath_or_buffer, kwds)\u001B[0m\n\u001B[0;32m    615\u001B[0m _validate_names(kwds\u001B[38;5;241m.\u001B[39mget(\u001B[38;5;124m\"\u001B[39m\u001B[38;5;124mnames\u001B[39m\u001B[38;5;124m\"\u001B[39m, \u001B[38;5;28;01mNone\u001B[39;00m))\n\u001B[0;32m    617\u001B[0m \u001B[38;5;66;03m# Create the parser.\u001B[39;00m\n\u001B[1;32m--> 618\u001B[0m parser \u001B[38;5;241m=\u001B[39m \u001B[43mTextFileReader\u001B[49m\u001B[43m(\u001B[49m\u001B[43mfilepath_or_buffer\u001B[49m\u001B[43m,\u001B[49m\u001B[43m \u001B[49m\u001B[38;5;241;43m*\u001B[39;49m\u001B[38;5;241;43m*\u001B[39;49m\u001B[43mkwds\u001B[49m\u001B[43m)\u001B[49m\n\u001B[0;32m    620\u001B[0m \u001B[38;5;28;01mif\u001B[39;00m chunksize \u001B[38;5;129;01mor\u001B[39;00m iterator:\n\u001B[0;32m    621\u001B[0m     \u001B[38;5;28;01mreturn\u001B[39;00m parser\n",
      "File \u001B[1;32m~\\AppData\\Local\\Programs\\Python\\Python311\\Lib\\site-packages\\pandas\\io\\parsers\\readers.py:1618\u001B[0m, in \u001B[0;36mTextFileReader.__init__\u001B[1;34m(self, f, engine, **kwds)\u001B[0m\n\u001B[0;32m   1615\u001B[0m     \u001B[38;5;28mself\u001B[39m\u001B[38;5;241m.\u001B[39moptions[\u001B[38;5;124m\"\u001B[39m\u001B[38;5;124mhas_index_names\u001B[39m\u001B[38;5;124m\"\u001B[39m] \u001B[38;5;241m=\u001B[39m kwds[\u001B[38;5;124m\"\u001B[39m\u001B[38;5;124mhas_index_names\u001B[39m\u001B[38;5;124m\"\u001B[39m]\n\u001B[0;32m   1617\u001B[0m \u001B[38;5;28mself\u001B[39m\u001B[38;5;241m.\u001B[39mhandles: IOHandles \u001B[38;5;241m|\u001B[39m \u001B[38;5;28;01mNone\u001B[39;00m \u001B[38;5;241m=\u001B[39m \u001B[38;5;28;01mNone\u001B[39;00m\n\u001B[1;32m-> 1618\u001B[0m \u001B[38;5;28mself\u001B[39m\u001B[38;5;241m.\u001B[39m_engine \u001B[38;5;241m=\u001B[39m \u001B[38;5;28;43mself\u001B[39;49m\u001B[38;5;241;43m.\u001B[39;49m\u001B[43m_make_engine\u001B[49m\u001B[43m(\u001B[49m\u001B[43mf\u001B[49m\u001B[43m,\u001B[49m\u001B[43m \u001B[49m\u001B[38;5;28;43mself\u001B[39;49m\u001B[38;5;241;43m.\u001B[39;49m\u001B[43mengine\u001B[49m\u001B[43m)\u001B[49m\n",
      "File \u001B[1;32m~\\AppData\\Local\\Programs\\Python\\Python311\\Lib\\site-packages\\pandas\\io\\parsers\\readers.py:1878\u001B[0m, in \u001B[0;36mTextFileReader._make_engine\u001B[1;34m(self, f, engine)\u001B[0m\n\u001B[0;32m   1876\u001B[0m     \u001B[38;5;28;01mif\u001B[39;00m \u001B[38;5;124m\"\u001B[39m\u001B[38;5;124mb\u001B[39m\u001B[38;5;124m\"\u001B[39m \u001B[38;5;129;01mnot\u001B[39;00m \u001B[38;5;129;01min\u001B[39;00m mode:\n\u001B[0;32m   1877\u001B[0m         mode \u001B[38;5;241m+\u001B[39m\u001B[38;5;241m=\u001B[39m \u001B[38;5;124m\"\u001B[39m\u001B[38;5;124mb\u001B[39m\u001B[38;5;124m\"\u001B[39m\n\u001B[1;32m-> 1878\u001B[0m \u001B[38;5;28mself\u001B[39m\u001B[38;5;241m.\u001B[39mhandles \u001B[38;5;241m=\u001B[39m \u001B[43mget_handle\u001B[49m\u001B[43m(\u001B[49m\n\u001B[0;32m   1879\u001B[0m \u001B[43m    \u001B[49m\u001B[43mf\u001B[49m\u001B[43m,\u001B[49m\n\u001B[0;32m   1880\u001B[0m \u001B[43m    \u001B[49m\u001B[43mmode\u001B[49m\u001B[43m,\u001B[49m\n\u001B[0;32m   1881\u001B[0m \u001B[43m    \u001B[49m\u001B[43mencoding\u001B[49m\u001B[38;5;241;43m=\u001B[39;49m\u001B[38;5;28;43mself\u001B[39;49m\u001B[38;5;241;43m.\u001B[39;49m\u001B[43moptions\u001B[49m\u001B[38;5;241;43m.\u001B[39;49m\u001B[43mget\u001B[49m\u001B[43m(\u001B[49m\u001B[38;5;124;43m\"\u001B[39;49m\u001B[38;5;124;43mencoding\u001B[39;49m\u001B[38;5;124;43m\"\u001B[39;49m\u001B[43m,\u001B[49m\u001B[43m \u001B[49m\u001B[38;5;28;43;01mNone\u001B[39;49;00m\u001B[43m)\u001B[49m\u001B[43m,\u001B[49m\n\u001B[0;32m   1882\u001B[0m \u001B[43m    \u001B[49m\u001B[43mcompression\u001B[49m\u001B[38;5;241;43m=\u001B[39;49m\u001B[38;5;28;43mself\u001B[39;49m\u001B[38;5;241;43m.\u001B[39;49m\u001B[43moptions\u001B[49m\u001B[38;5;241;43m.\u001B[39;49m\u001B[43mget\u001B[49m\u001B[43m(\u001B[49m\u001B[38;5;124;43m\"\u001B[39;49m\u001B[38;5;124;43mcompression\u001B[39;49m\u001B[38;5;124;43m\"\u001B[39;49m\u001B[43m,\u001B[49m\u001B[43m \u001B[49m\u001B[38;5;28;43;01mNone\u001B[39;49;00m\u001B[43m)\u001B[49m\u001B[43m,\u001B[49m\n\u001B[0;32m   1883\u001B[0m \u001B[43m    \u001B[49m\u001B[43mmemory_map\u001B[49m\u001B[38;5;241;43m=\u001B[39;49m\u001B[38;5;28;43mself\u001B[39;49m\u001B[38;5;241;43m.\u001B[39;49m\u001B[43moptions\u001B[49m\u001B[38;5;241;43m.\u001B[39;49m\u001B[43mget\u001B[49m\u001B[43m(\u001B[49m\u001B[38;5;124;43m\"\u001B[39;49m\u001B[38;5;124;43mmemory_map\u001B[39;49m\u001B[38;5;124;43m\"\u001B[39;49m\u001B[43m,\u001B[49m\u001B[43m \u001B[49m\u001B[38;5;28;43;01mFalse\u001B[39;49;00m\u001B[43m)\u001B[49m\u001B[43m,\u001B[49m\n\u001B[0;32m   1884\u001B[0m \u001B[43m    \u001B[49m\u001B[43mis_text\u001B[49m\u001B[38;5;241;43m=\u001B[39;49m\u001B[43mis_text\u001B[49m\u001B[43m,\u001B[49m\n\u001B[0;32m   1885\u001B[0m \u001B[43m    \u001B[49m\u001B[43merrors\u001B[49m\u001B[38;5;241;43m=\u001B[39;49m\u001B[38;5;28;43mself\u001B[39;49m\u001B[38;5;241;43m.\u001B[39;49m\u001B[43moptions\u001B[49m\u001B[38;5;241;43m.\u001B[39;49m\u001B[43mget\u001B[49m\u001B[43m(\u001B[49m\u001B[38;5;124;43m\"\u001B[39;49m\u001B[38;5;124;43mencoding_errors\u001B[39;49m\u001B[38;5;124;43m\"\u001B[39;49m\u001B[43m,\u001B[49m\u001B[43m \u001B[49m\u001B[38;5;124;43m\"\u001B[39;49m\u001B[38;5;124;43mstrict\u001B[39;49m\u001B[38;5;124;43m\"\u001B[39;49m\u001B[43m)\u001B[49m\u001B[43m,\u001B[49m\n\u001B[0;32m   1886\u001B[0m \u001B[43m    \u001B[49m\u001B[43mstorage_options\u001B[49m\u001B[38;5;241;43m=\u001B[39;49m\u001B[38;5;28;43mself\u001B[39;49m\u001B[38;5;241;43m.\u001B[39;49m\u001B[43moptions\u001B[49m\u001B[38;5;241;43m.\u001B[39;49m\u001B[43mget\u001B[49m\u001B[43m(\u001B[49m\u001B[38;5;124;43m\"\u001B[39;49m\u001B[38;5;124;43mstorage_options\u001B[39;49m\u001B[38;5;124;43m\"\u001B[39;49m\u001B[43m,\u001B[49m\u001B[43m \u001B[49m\u001B[38;5;28;43;01mNone\u001B[39;49;00m\u001B[43m)\u001B[49m\u001B[43m,\u001B[49m\n\u001B[0;32m   1887\u001B[0m \u001B[43m\u001B[49m\u001B[43m)\u001B[49m\n\u001B[0;32m   1888\u001B[0m \u001B[38;5;28;01massert\u001B[39;00m \u001B[38;5;28mself\u001B[39m\u001B[38;5;241m.\u001B[39mhandles \u001B[38;5;129;01mis\u001B[39;00m \u001B[38;5;129;01mnot\u001B[39;00m \u001B[38;5;28;01mNone\u001B[39;00m\n\u001B[0;32m   1889\u001B[0m f \u001B[38;5;241m=\u001B[39m \u001B[38;5;28mself\u001B[39m\u001B[38;5;241m.\u001B[39mhandles\u001B[38;5;241m.\u001B[39mhandle\n",
      "File \u001B[1;32m~\\AppData\\Local\\Programs\\Python\\Python311\\Lib\\site-packages\\pandas\\io\\common.py:873\u001B[0m, in \u001B[0;36mget_handle\u001B[1;34m(path_or_buf, mode, encoding, compression, memory_map, is_text, errors, storage_options)\u001B[0m\n\u001B[0;32m    868\u001B[0m \u001B[38;5;28;01melif\u001B[39;00m \u001B[38;5;28misinstance\u001B[39m(handle, \u001B[38;5;28mstr\u001B[39m):\n\u001B[0;32m    869\u001B[0m     \u001B[38;5;66;03m# Check whether the filename is to be opened in binary mode.\u001B[39;00m\n\u001B[0;32m    870\u001B[0m     \u001B[38;5;66;03m# Binary mode does not support 'encoding' and 'newline'.\u001B[39;00m\n\u001B[0;32m    871\u001B[0m     \u001B[38;5;28;01mif\u001B[39;00m ioargs\u001B[38;5;241m.\u001B[39mencoding \u001B[38;5;129;01mand\u001B[39;00m \u001B[38;5;124m\"\u001B[39m\u001B[38;5;124mb\u001B[39m\u001B[38;5;124m\"\u001B[39m \u001B[38;5;129;01mnot\u001B[39;00m \u001B[38;5;129;01min\u001B[39;00m ioargs\u001B[38;5;241m.\u001B[39mmode:\n\u001B[0;32m    872\u001B[0m         \u001B[38;5;66;03m# Encoding\u001B[39;00m\n\u001B[1;32m--> 873\u001B[0m         handle \u001B[38;5;241m=\u001B[39m \u001B[38;5;28mopen\u001B[39m(\n\u001B[0;32m    874\u001B[0m             handle,\n\u001B[0;32m    875\u001B[0m             ioargs\u001B[38;5;241m.\u001B[39mmode,\n\u001B[0;32m    876\u001B[0m             encoding\u001B[38;5;241m=\u001B[39mioargs\u001B[38;5;241m.\u001B[39mencoding,\n\u001B[0;32m    877\u001B[0m             errors\u001B[38;5;241m=\u001B[39merrors,\n\u001B[0;32m    878\u001B[0m             newline\u001B[38;5;241m=\u001B[39m\u001B[38;5;124m\"\u001B[39m\u001B[38;5;124m\"\u001B[39m,\n\u001B[0;32m    879\u001B[0m         )\n\u001B[0;32m    880\u001B[0m     \u001B[38;5;28;01melse\u001B[39;00m:\n\u001B[0;32m    881\u001B[0m         \u001B[38;5;66;03m# Binary mode\u001B[39;00m\n\u001B[0;32m    882\u001B[0m         handle \u001B[38;5;241m=\u001B[39m \u001B[38;5;28mopen\u001B[39m(handle, ioargs\u001B[38;5;241m.\u001B[39mmode)\n",
      "\u001B[1;31mFileNotFoundError\u001B[0m: [Errno 2] No such file or directory: 'CSV/consumptionLaptops.csv'"
     ]
    }
   ],
   "source": [
    "#Met Python:\n",
    "df_c = pd.read_csv('CSV/consumptionLaptops.csv', decimal='.')\n",
    "x_bar = df_c.consumptionLaptops.mean()\n",
    "s = df_c.consumptionLaptops.std()\n",
    "n = len(df_c)\n",
    "factor = norm.ppf((1+0.955)/2)\n",
    "interval = (x_bar-factor*s/math.sqrt(n), x_bar+factor*s/math.sqrt(n))\n",
    "#OR\n",
    "norm.interval(confidence=0.955, loc=x_bar, scale=s/math.sqrt(n) )\n"
   ],
   "metadata": {
    "collapsed": false,
    "ExecuteTime": {
     "end_time": "2024-03-28T14:35:33.664110900Z",
     "start_time": "2024-03-28T14:35:33.522107400Z"
    }
   },
   "id": "7f1950d48181b63c",
   "execution_count": 132
  },
  {
   "cell_type": "markdown",
   "source": [
    "#### Studenten-verdeling\n",
    "Probleem: we benaderen σ door s\n",
    " Als n klein is (<30) is s een slechte benadering  normaalverdeling is niet goed\n",
    " Gebruik t-verdeling (student-verdeling)\n",
    " Een t-verdeling heeft een extra parameter: steeds gelijk aan n-1\n",
    " In Python: >>> from scipy.stats import t\n",
    ">>> t.cdf(x,df, loc=μ, scale=s) #s as approx. of σ\n",
    ">>> t.ppf(q,df, loc=μ, scale=s) #s as approx. of σ"
   ],
   "metadata": {
    "collapsed": false
   },
   "id": "9f8e91bae70a88db"
  },
  {
   "cell_type": "code",
   "outputs": [
    {
     "ename": "FileNotFoundError",
     "evalue": "[Errno 2] No such file or directory: 'CSV/consumptionLaptops.csv'",
     "output_type": "error",
     "traceback": [
      "\u001B[1;31m---------------------------------------------------------------------------\u001B[0m",
      "\u001B[1;31mFileNotFoundError\u001B[0m                         Traceback (most recent call last)",
      "Cell \u001B[1;32mIn[133], line 2\u001B[0m\n\u001B[0;32m      1\u001B[0m \u001B[38;5;66;03m#Met Python:\u001B[39;00m\n\u001B[1;32m----> 2\u001B[0m df_c \u001B[38;5;241m=\u001B[39m \u001B[43mpd\u001B[49m\u001B[38;5;241;43m.\u001B[39;49m\u001B[43mread_csv\u001B[49m\u001B[43m(\u001B[49m\u001B[38;5;124;43m'\u001B[39;49m\u001B[38;5;124;43mCSV/consumptionLaptops.csv\u001B[39;49m\u001B[38;5;124;43m'\u001B[39;49m\u001B[43m,\u001B[49m\u001B[43m \u001B[49m\u001B[43mdecimal\u001B[49m\u001B[38;5;241;43m=\u001B[39;49m\u001B[38;5;124;43m'\u001B[39;49m\u001B[38;5;124;43m.\u001B[39;49m\u001B[38;5;124;43m'\u001B[39;49m\u001B[43m)\u001B[49m\n\u001B[0;32m      3\u001B[0m x_bar \u001B[38;5;241m=\u001B[39m df_c\u001B[38;5;241m.\u001B[39mconsumptionLaptops\u001B[38;5;241m.\u001B[39mmean()\n\u001B[0;32m      4\u001B[0m s \u001B[38;5;241m=\u001B[39m df_c\u001B[38;5;241m.\u001B[39mconsumptionLaptops\u001B[38;5;241m.\u001B[39mstd()\n",
      "File \u001B[1;32m~\\AppData\\Local\\Programs\\Python\\Python311\\Lib\\site-packages\\pandas\\io\\parsers\\readers.py:1024\u001B[0m, in \u001B[0;36mread_csv\u001B[1;34m(filepath_or_buffer, sep, delimiter, header, names, index_col, usecols, dtype, engine, converters, true_values, false_values, skipinitialspace, skiprows, skipfooter, nrows, na_values, keep_default_na, na_filter, verbose, skip_blank_lines, parse_dates, infer_datetime_format, keep_date_col, date_parser, date_format, dayfirst, cache_dates, iterator, chunksize, compression, thousands, decimal, lineterminator, quotechar, quoting, doublequote, escapechar, comment, encoding, encoding_errors, dialect, on_bad_lines, delim_whitespace, low_memory, memory_map, float_precision, storage_options, dtype_backend)\u001B[0m\n\u001B[0;32m   1011\u001B[0m kwds_defaults \u001B[38;5;241m=\u001B[39m _refine_defaults_read(\n\u001B[0;32m   1012\u001B[0m     dialect,\n\u001B[0;32m   1013\u001B[0m     delimiter,\n\u001B[1;32m   (...)\u001B[0m\n\u001B[0;32m   1020\u001B[0m     dtype_backend\u001B[38;5;241m=\u001B[39mdtype_backend,\n\u001B[0;32m   1021\u001B[0m )\n\u001B[0;32m   1022\u001B[0m kwds\u001B[38;5;241m.\u001B[39mupdate(kwds_defaults)\n\u001B[1;32m-> 1024\u001B[0m \u001B[38;5;28;01mreturn\u001B[39;00m \u001B[43m_read\u001B[49m\u001B[43m(\u001B[49m\u001B[43mfilepath_or_buffer\u001B[49m\u001B[43m,\u001B[49m\u001B[43m \u001B[49m\u001B[43mkwds\u001B[49m\u001B[43m)\u001B[49m\n",
      "File \u001B[1;32m~\\AppData\\Local\\Programs\\Python\\Python311\\Lib\\site-packages\\pandas\\io\\parsers\\readers.py:618\u001B[0m, in \u001B[0;36m_read\u001B[1;34m(filepath_or_buffer, kwds)\u001B[0m\n\u001B[0;32m    615\u001B[0m _validate_names(kwds\u001B[38;5;241m.\u001B[39mget(\u001B[38;5;124m\"\u001B[39m\u001B[38;5;124mnames\u001B[39m\u001B[38;5;124m\"\u001B[39m, \u001B[38;5;28;01mNone\u001B[39;00m))\n\u001B[0;32m    617\u001B[0m \u001B[38;5;66;03m# Create the parser.\u001B[39;00m\n\u001B[1;32m--> 618\u001B[0m parser \u001B[38;5;241m=\u001B[39m \u001B[43mTextFileReader\u001B[49m\u001B[43m(\u001B[49m\u001B[43mfilepath_or_buffer\u001B[49m\u001B[43m,\u001B[49m\u001B[43m \u001B[49m\u001B[38;5;241;43m*\u001B[39;49m\u001B[38;5;241;43m*\u001B[39;49m\u001B[43mkwds\u001B[49m\u001B[43m)\u001B[49m\n\u001B[0;32m    620\u001B[0m \u001B[38;5;28;01mif\u001B[39;00m chunksize \u001B[38;5;129;01mor\u001B[39;00m iterator:\n\u001B[0;32m    621\u001B[0m     \u001B[38;5;28;01mreturn\u001B[39;00m parser\n",
      "File \u001B[1;32m~\\AppData\\Local\\Programs\\Python\\Python311\\Lib\\site-packages\\pandas\\io\\parsers\\readers.py:1618\u001B[0m, in \u001B[0;36mTextFileReader.__init__\u001B[1;34m(self, f, engine, **kwds)\u001B[0m\n\u001B[0;32m   1615\u001B[0m     \u001B[38;5;28mself\u001B[39m\u001B[38;5;241m.\u001B[39moptions[\u001B[38;5;124m\"\u001B[39m\u001B[38;5;124mhas_index_names\u001B[39m\u001B[38;5;124m\"\u001B[39m] \u001B[38;5;241m=\u001B[39m kwds[\u001B[38;5;124m\"\u001B[39m\u001B[38;5;124mhas_index_names\u001B[39m\u001B[38;5;124m\"\u001B[39m]\n\u001B[0;32m   1617\u001B[0m \u001B[38;5;28mself\u001B[39m\u001B[38;5;241m.\u001B[39mhandles: IOHandles \u001B[38;5;241m|\u001B[39m \u001B[38;5;28;01mNone\u001B[39;00m \u001B[38;5;241m=\u001B[39m \u001B[38;5;28;01mNone\u001B[39;00m\n\u001B[1;32m-> 1618\u001B[0m \u001B[38;5;28mself\u001B[39m\u001B[38;5;241m.\u001B[39m_engine \u001B[38;5;241m=\u001B[39m \u001B[38;5;28;43mself\u001B[39;49m\u001B[38;5;241;43m.\u001B[39;49m\u001B[43m_make_engine\u001B[49m\u001B[43m(\u001B[49m\u001B[43mf\u001B[49m\u001B[43m,\u001B[49m\u001B[43m \u001B[49m\u001B[38;5;28;43mself\u001B[39;49m\u001B[38;5;241;43m.\u001B[39;49m\u001B[43mengine\u001B[49m\u001B[43m)\u001B[49m\n",
      "File \u001B[1;32m~\\AppData\\Local\\Programs\\Python\\Python311\\Lib\\site-packages\\pandas\\io\\parsers\\readers.py:1878\u001B[0m, in \u001B[0;36mTextFileReader._make_engine\u001B[1;34m(self, f, engine)\u001B[0m\n\u001B[0;32m   1876\u001B[0m     \u001B[38;5;28;01mif\u001B[39;00m \u001B[38;5;124m\"\u001B[39m\u001B[38;5;124mb\u001B[39m\u001B[38;5;124m\"\u001B[39m \u001B[38;5;129;01mnot\u001B[39;00m \u001B[38;5;129;01min\u001B[39;00m mode:\n\u001B[0;32m   1877\u001B[0m         mode \u001B[38;5;241m+\u001B[39m\u001B[38;5;241m=\u001B[39m \u001B[38;5;124m\"\u001B[39m\u001B[38;5;124mb\u001B[39m\u001B[38;5;124m\"\u001B[39m\n\u001B[1;32m-> 1878\u001B[0m \u001B[38;5;28mself\u001B[39m\u001B[38;5;241m.\u001B[39mhandles \u001B[38;5;241m=\u001B[39m \u001B[43mget_handle\u001B[49m\u001B[43m(\u001B[49m\n\u001B[0;32m   1879\u001B[0m \u001B[43m    \u001B[49m\u001B[43mf\u001B[49m\u001B[43m,\u001B[49m\n\u001B[0;32m   1880\u001B[0m \u001B[43m    \u001B[49m\u001B[43mmode\u001B[49m\u001B[43m,\u001B[49m\n\u001B[0;32m   1881\u001B[0m \u001B[43m    \u001B[49m\u001B[43mencoding\u001B[49m\u001B[38;5;241;43m=\u001B[39;49m\u001B[38;5;28;43mself\u001B[39;49m\u001B[38;5;241;43m.\u001B[39;49m\u001B[43moptions\u001B[49m\u001B[38;5;241;43m.\u001B[39;49m\u001B[43mget\u001B[49m\u001B[43m(\u001B[49m\u001B[38;5;124;43m\"\u001B[39;49m\u001B[38;5;124;43mencoding\u001B[39;49m\u001B[38;5;124;43m\"\u001B[39;49m\u001B[43m,\u001B[49m\u001B[43m \u001B[49m\u001B[38;5;28;43;01mNone\u001B[39;49;00m\u001B[43m)\u001B[49m\u001B[43m,\u001B[49m\n\u001B[0;32m   1882\u001B[0m \u001B[43m    \u001B[49m\u001B[43mcompression\u001B[49m\u001B[38;5;241;43m=\u001B[39;49m\u001B[38;5;28;43mself\u001B[39;49m\u001B[38;5;241;43m.\u001B[39;49m\u001B[43moptions\u001B[49m\u001B[38;5;241;43m.\u001B[39;49m\u001B[43mget\u001B[49m\u001B[43m(\u001B[49m\u001B[38;5;124;43m\"\u001B[39;49m\u001B[38;5;124;43mcompression\u001B[39;49m\u001B[38;5;124;43m\"\u001B[39;49m\u001B[43m,\u001B[49m\u001B[43m \u001B[49m\u001B[38;5;28;43;01mNone\u001B[39;49;00m\u001B[43m)\u001B[49m\u001B[43m,\u001B[49m\n\u001B[0;32m   1883\u001B[0m \u001B[43m    \u001B[49m\u001B[43mmemory_map\u001B[49m\u001B[38;5;241;43m=\u001B[39;49m\u001B[38;5;28;43mself\u001B[39;49m\u001B[38;5;241;43m.\u001B[39;49m\u001B[43moptions\u001B[49m\u001B[38;5;241;43m.\u001B[39;49m\u001B[43mget\u001B[49m\u001B[43m(\u001B[49m\u001B[38;5;124;43m\"\u001B[39;49m\u001B[38;5;124;43mmemory_map\u001B[39;49m\u001B[38;5;124;43m\"\u001B[39;49m\u001B[43m,\u001B[49m\u001B[43m \u001B[49m\u001B[38;5;28;43;01mFalse\u001B[39;49;00m\u001B[43m)\u001B[49m\u001B[43m,\u001B[49m\n\u001B[0;32m   1884\u001B[0m \u001B[43m    \u001B[49m\u001B[43mis_text\u001B[49m\u001B[38;5;241;43m=\u001B[39;49m\u001B[43mis_text\u001B[49m\u001B[43m,\u001B[49m\n\u001B[0;32m   1885\u001B[0m \u001B[43m    \u001B[49m\u001B[43merrors\u001B[49m\u001B[38;5;241;43m=\u001B[39;49m\u001B[38;5;28;43mself\u001B[39;49m\u001B[38;5;241;43m.\u001B[39;49m\u001B[43moptions\u001B[49m\u001B[38;5;241;43m.\u001B[39;49m\u001B[43mget\u001B[49m\u001B[43m(\u001B[49m\u001B[38;5;124;43m\"\u001B[39;49m\u001B[38;5;124;43mencoding_errors\u001B[39;49m\u001B[38;5;124;43m\"\u001B[39;49m\u001B[43m,\u001B[49m\u001B[43m \u001B[49m\u001B[38;5;124;43m\"\u001B[39;49m\u001B[38;5;124;43mstrict\u001B[39;49m\u001B[38;5;124;43m\"\u001B[39;49m\u001B[43m)\u001B[49m\u001B[43m,\u001B[49m\n\u001B[0;32m   1886\u001B[0m \u001B[43m    \u001B[49m\u001B[43mstorage_options\u001B[49m\u001B[38;5;241;43m=\u001B[39;49m\u001B[38;5;28;43mself\u001B[39;49m\u001B[38;5;241;43m.\u001B[39;49m\u001B[43moptions\u001B[49m\u001B[38;5;241;43m.\u001B[39;49m\u001B[43mget\u001B[49m\u001B[43m(\u001B[49m\u001B[38;5;124;43m\"\u001B[39;49m\u001B[38;5;124;43mstorage_options\u001B[39;49m\u001B[38;5;124;43m\"\u001B[39;49m\u001B[43m,\u001B[49m\u001B[43m \u001B[49m\u001B[38;5;28;43;01mNone\u001B[39;49;00m\u001B[43m)\u001B[49m\u001B[43m,\u001B[49m\n\u001B[0;32m   1887\u001B[0m \u001B[43m\u001B[49m\u001B[43m)\u001B[49m\n\u001B[0;32m   1888\u001B[0m \u001B[38;5;28;01massert\u001B[39;00m \u001B[38;5;28mself\u001B[39m\u001B[38;5;241m.\u001B[39mhandles \u001B[38;5;129;01mis\u001B[39;00m \u001B[38;5;129;01mnot\u001B[39;00m \u001B[38;5;28;01mNone\u001B[39;00m\n\u001B[0;32m   1889\u001B[0m f \u001B[38;5;241m=\u001B[39m \u001B[38;5;28mself\u001B[39m\u001B[38;5;241m.\u001B[39mhandles\u001B[38;5;241m.\u001B[39mhandle\n",
      "File \u001B[1;32m~\\AppData\\Local\\Programs\\Python\\Python311\\Lib\\site-packages\\pandas\\io\\common.py:873\u001B[0m, in \u001B[0;36mget_handle\u001B[1;34m(path_or_buf, mode, encoding, compression, memory_map, is_text, errors, storage_options)\u001B[0m\n\u001B[0;32m    868\u001B[0m \u001B[38;5;28;01melif\u001B[39;00m \u001B[38;5;28misinstance\u001B[39m(handle, \u001B[38;5;28mstr\u001B[39m):\n\u001B[0;32m    869\u001B[0m     \u001B[38;5;66;03m# Check whether the filename is to be opened in binary mode.\u001B[39;00m\n\u001B[0;32m    870\u001B[0m     \u001B[38;5;66;03m# Binary mode does not support 'encoding' and 'newline'.\u001B[39;00m\n\u001B[0;32m    871\u001B[0m     \u001B[38;5;28;01mif\u001B[39;00m ioargs\u001B[38;5;241m.\u001B[39mencoding \u001B[38;5;129;01mand\u001B[39;00m \u001B[38;5;124m\"\u001B[39m\u001B[38;5;124mb\u001B[39m\u001B[38;5;124m\"\u001B[39m \u001B[38;5;129;01mnot\u001B[39;00m \u001B[38;5;129;01min\u001B[39;00m ioargs\u001B[38;5;241m.\u001B[39mmode:\n\u001B[0;32m    872\u001B[0m         \u001B[38;5;66;03m# Encoding\u001B[39;00m\n\u001B[1;32m--> 873\u001B[0m         handle \u001B[38;5;241m=\u001B[39m \u001B[38;5;28mopen\u001B[39m(\n\u001B[0;32m    874\u001B[0m             handle,\n\u001B[0;32m    875\u001B[0m             ioargs\u001B[38;5;241m.\u001B[39mmode,\n\u001B[0;32m    876\u001B[0m             encoding\u001B[38;5;241m=\u001B[39mioargs\u001B[38;5;241m.\u001B[39mencoding,\n\u001B[0;32m    877\u001B[0m             errors\u001B[38;5;241m=\u001B[39merrors,\n\u001B[0;32m    878\u001B[0m             newline\u001B[38;5;241m=\u001B[39m\u001B[38;5;124m\"\u001B[39m\u001B[38;5;124m\"\u001B[39m,\n\u001B[0;32m    879\u001B[0m         )\n\u001B[0;32m    880\u001B[0m     \u001B[38;5;28;01melse\u001B[39;00m:\n\u001B[0;32m    881\u001B[0m         \u001B[38;5;66;03m# Binary mode\u001B[39;00m\n\u001B[0;32m    882\u001B[0m         handle \u001B[38;5;241m=\u001B[39m \u001B[38;5;28mopen\u001B[39m(handle, ioargs\u001B[38;5;241m.\u001B[39mmode)\n",
      "\u001B[1;31mFileNotFoundError\u001B[0m: [Errno 2] No such file or directory: 'CSV/consumptionLaptops.csv'"
     ]
    }
   ],
   "source": [
    "#Met Python:\n",
    "df_c = pd.read_csv('CSV/consumptionLaptops.csv', decimal='.')\n",
    "x_bar = df_c.consumptionLaptops.mean()\n",
    "s = df_c.consumptionLaptops.std()\n",
    "n = len(df_c)\n",
    "factor = t.ppf((1+0.955)/2, n-1, loc= x_bar, scale=s/math.sqrt(n))\n",
    "interval = (x_bar-factor*s/math.sqrt(n), x_bar+factor*s/math.sqrt(n))\n",
    "#OF:\n",
    "t.interval(confidence=0.955, df=n-1, loc=x_bar, scale=s/math.sqrt(n))"
   ],
   "metadata": {
    "collapsed": false,
    "ExecuteTime": {
     "start_time": "2024-03-28T14:35:33.632415900Z"
    }
   },
   "id": "a976b01c199aeb26",
   "execution_count": 133
  },
  {
   "cell_type": "markdown",
   "source": [
    "### Toetsen van hypothesen\n",
    "Probleemstelling: \n",
    "“Kunnen we een bewering over de populatie (= hypothese)weerleggen aan de hand van een steekproef?”\n",
    "\n",
    " Aanvaardingsinterval\n",
    "Valt een steekproefparameter binnen bepaalde grenzen, bekomen adhv de bewering over de populatie? Hoe 'zeker' is deze uitspraak?"
   ],
   "metadata": {
    "collapsed": false
   },
   "id": "78f8ab2fccbf31ca"
  },
  {
   "cell_type": "markdown",
   "source": [
    "#### Hypothese\n",
    " Bij toetsen gaan we uit van een veronderstelling (mbt de populatie) en proberen we na te gaan (adhv een steekproef) of we die kunnen bevestigen of verwerpen\n",
    " Hypothese = Veronderstelling\n",
    " We proberen de hypothese tegen te spreken\n",
    "     Als we een meting doen die in de lijn ligt van de veronderstelling, hebben we niks bewezen\n",
    "     Als we een meting doen die de hypothese tegen-spreekt, is er veel kans dat deze niet waar is."
   ],
   "metadata": {
    "collapsed": false
   },
   "id": "a628420311ec4d34"
  },
  {
   "cell_type": "markdown",
   "source": [
    " 2 hypothesen\n",
    " H 0: nul-hypothese\n",
    " H 1: alternatieve hypothese\n",
    "\n",
    " Een besluit is nooit 100% zeker\n",
    "\n",
    " Er is steeds een “significantieniveau” : σ\n",
    " de kans dat ons besluit niet juist is\n",
    " meestal is σ=0,05\n",
    "\n",
    " Als σ=0,05, dan is er 5% kans dat we een fout maken:\n",
    "Fout bij het verwerpen van H0 terwijl die toch waar is (type I-fout): σ\n",
    " Maar er is ook een fout bij het aanvaarden van H0 terwijl die niet waar is (type II-fout): \n"
   ],
   "metadata": {
    "collapsed": false
   },
   "id": "55f8e2ae122f3e03"
  },
  {
   "cell_type": "markdown",
   "source": [
    "#### t-toets\n",
    " Voorbeeld\n",
    " H 0: laptops verbruiken gemiddeld 31 Watt H 0 : μ = 31\n",
    " H 1: laptops verbruiken gemiddeld meer of minder dan 31 Watt H 1 : μ =/ 31\n",
    " Werkwijze\n",
    " bepaal significantieniveau σ\n",
    " doe een steekproef\n",
    " stel een aanvaardingsinterval op (p=1-σ)\n",
    " trek een besluit"
   ],
   "metadata": {
    "collapsed": false
   },
   "id": "21a0b6f6878e67fb"
  },
  {
   "cell_type": "markdown",
   "source": [
    " In ons voorbeeld\n",
    " σ=0,05\n",
    " 30 laptops, σ onbekend, dus gebruik t-verdeling\n",
    " aanvaardingsinterval (0,95)\n",
    ">>> t.ppf(0.975,29) = 2,045\n",
    " 23,53 = 31 – 2,045 . 20 / sqrt(30)\n",
    " 38,46 = 31 + 2,045 . 20 / sqrt(30)\n",
    " We weten dus 95% zeker dat het gemiddelde verbruik tussen deze grenzen zou moeten liggen indien H0 waar is\n",
    " Dus...? (H 0 stelde dat μ gelijk is aan 31 Watt en x = 40 Watt)"
   ],
   "metadata": {
    "collapsed": false
   },
   "id": "aea6ca3096980ca5"
  },
  {
   "cell_type": "code",
   "outputs": [],
   "source": [
    "#Met Python:\n",
    "df_c = pd.read_csv('CSV/consumptionLaptops.csv', decimal='.')\n",
    "x_bar = df_c.consumptionLaptops.mean()\n",
    "s = df_c.consumptionLaptops.std()\n",
    "n = len(df_c)\n",
    "mu0=31\n",
    "factor = t.ppf((1+0.95)/2, n-1)\n",
    "interval = (mu0-factor*s/math.sqrt(n), mu0+factor*s/math.sqrt(n))\n",
    "#OF:\n",
    "t.interval(confidence=0.95, df=n-1, loc=mu0, scale=s/math.sqrt(n))"
   ],
   "metadata": {
    "collapsed": false,
    "ExecuteTime": {
     "end_time": "2024-03-28T14:35:33.829586100Z",
     "start_time": "2024-03-28T14:35:33.747047400Z"
    }
   },
   "id": "1c503f60ee447517",
   "execution_count": null
  },
  {
   "cell_type": "markdown",
   "source": [
    "Stel dat H 0 zei dat het gemiddelde verbruik\n",
    "45 Watt is\n",
    " Welk besluit trek je nu?\n",
    "t-toets\n",
    "σ=0,05\n",
    " 35,53 = 45 – 2,045 . 20 / sqrt(30)\n",
    " 52,46 = 45 + 2,045 . 20 / sqrt(30)"
   ],
   "metadata": {
    "collapsed": false
   },
   "id": "d7392bb2cdcae578"
  },
  {
   "cell_type": "code",
   "outputs": [
    {
     "data": {
      "text/plain": "(37.531877264838, 52.468122735162)"
     },
     "execution_count": 134,
     "metadata": {},
     "output_type": "execute_result"
    }
   ],
   "source": [
    "t.interval(confidence=0.95, df=30-1, loc=45,scale=20/math.sqrt(30))"
   ],
   "metadata": {
    "collapsed": false,
    "ExecuteTime": {
     "end_time": "2024-03-28T14:35:33.914373700Z",
     "start_time": "2024-03-28T14:35:33.830665300Z"
    }
   },
   "id": "dbfadb6443c0efc1",
   "execution_count": 134
  },
  {
   "cell_type": "markdown",
   "source": [
    "#### Z-toets\n",
    "Soms weet je de waarde van σ wel.\n",
    " Gebruik dan de normaalverdeling voor het aanvaardingsinterval"
   ],
   "metadata": {
    "collapsed": false
   },
   "id": "34e1864705c932f7"
  },
  {
   "cell_type": "markdown",
   "source": [
    "### Grenswaarde σ bepalen  p-waarde\n",
    "#### Grenswaarde σ bepalen\n",
    "in Python, voer een ‘one sample t-test’ uit:\n",
    "from scipy.stats import ttest_1samp\n",
    "screens = pd.read_csv('screens.csv',delimiter=';', decimal='.')\n",
    "mu=40\n",
    "ttest_1samp(screens[\"New_size\"],mu)"
   ],
   "metadata": {
    "collapsed": false
   },
   "id": "6b1e134b10f642c7"
  },
  {
   "cell_type": "code",
   "outputs": [
    {
     "ename": "FileNotFoundError",
     "evalue": "[Errno 2] No such file or directory: 'CSV/screens.csv'",
     "output_type": "error",
     "traceback": [
      "\u001B[1;31m---------------------------------------------------------------------------\u001B[0m",
      "\u001B[1;31mFileNotFoundError\u001B[0m                         Traceback (most recent call last)",
      "Cell \u001B[1;32mIn[135], line 1\u001B[0m\n\u001B[1;32m----> 1\u001B[0m screens \u001B[38;5;241m=\u001B[39m \u001B[43mpd\u001B[49m\u001B[38;5;241;43m.\u001B[39;49m\u001B[43mread_csv\u001B[49m\u001B[43m(\u001B[49m\u001B[38;5;124;43m'\u001B[39;49m\u001B[38;5;124;43mCSV/screens.csv\u001B[39;49m\u001B[38;5;124;43m'\u001B[39;49m\u001B[43m,\u001B[49m\u001B[43mdelimiter\u001B[49m\u001B[38;5;241;43m=\u001B[39;49m\u001B[38;5;124;43m'\u001B[39;49m\u001B[38;5;124;43m;\u001B[39;49m\u001B[38;5;124;43m'\u001B[39;49m\u001B[43m,\u001B[49m\u001B[43m \u001B[49m\u001B[43mdecimal\u001B[49m\u001B[38;5;241;43m=\u001B[39;49m\u001B[38;5;124;43m'\u001B[39;49m\u001B[38;5;124;43m.\u001B[39;49m\u001B[38;5;124;43m'\u001B[39;49m\u001B[43m)\u001B[49m\n\u001B[0;32m      2\u001B[0m mu\u001B[38;5;241m=\u001B[39m\u001B[38;5;241m40\u001B[39m\n\u001B[0;32m      3\u001B[0m ttest_1samp(screens[\u001B[38;5;124m\"\u001B[39m\u001B[38;5;124mNew_size\u001B[39m\u001B[38;5;124m\"\u001B[39m],mu)\n",
      "File \u001B[1;32m~\\AppData\\Local\\Programs\\Python\\Python311\\Lib\\site-packages\\pandas\\io\\parsers\\readers.py:1024\u001B[0m, in \u001B[0;36mread_csv\u001B[1;34m(filepath_or_buffer, sep, delimiter, header, names, index_col, usecols, dtype, engine, converters, true_values, false_values, skipinitialspace, skiprows, skipfooter, nrows, na_values, keep_default_na, na_filter, verbose, skip_blank_lines, parse_dates, infer_datetime_format, keep_date_col, date_parser, date_format, dayfirst, cache_dates, iterator, chunksize, compression, thousands, decimal, lineterminator, quotechar, quoting, doublequote, escapechar, comment, encoding, encoding_errors, dialect, on_bad_lines, delim_whitespace, low_memory, memory_map, float_precision, storage_options, dtype_backend)\u001B[0m\n\u001B[0;32m   1011\u001B[0m kwds_defaults \u001B[38;5;241m=\u001B[39m _refine_defaults_read(\n\u001B[0;32m   1012\u001B[0m     dialect,\n\u001B[0;32m   1013\u001B[0m     delimiter,\n\u001B[1;32m   (...)\u001B[0m\n\u001B[0;32m   1020\u001B[0m     dtype_backend\u001B[38;5;241m=\u001B[39mdtype_backend,\n\u001B[0;32m   1021\u001B[0m )\n\u001B[0;32m   1022\u001B[0m kwds\u001B[38;5;241m.\u001B[39mupdate(kwds_defaults)\n\u001B[1;32m-> 1024\u001B[0m \u001B[38;5;28;01mreturn\u001B[39;00m \u001B[43m_read\u001B[49m\u001B[43m(\u001B[49m\u001B[43mfilepath_or_buffer\u001B[49m\u001B[43m,\u001B[49m\u001B[43m \u001B[49m\u001B[43mkwds\u001B[49m\u001B[43m)\u001B[49m\n",
      "File \u001B[1;32m~\\AppData\\Local\\Programs\\Python\\Python311\\Lib\\site-packages\\pandas\\io\\parsers\\readers.py:618\u001B[0m, in \u001B[0;36m_read\u001B[1;34m(filepath_or_buffer, kwds)\u001B[0m\n\u001B[0;32m    615\u001B[0m _validate_names(kwds\u001B[38;5;241m.\u001B[39mget(\u001B[38;5;124m\"\u001B[39m\u001B[38;5;124mnames\u001B[39m\u001B[38;5;124m\"\u001B[39m, \u001B[38;5;28;01mNone\u001B[39;00m))\n\u001B[0;32m    617\u001B[0m \u001B[38;5;66;03m# Create the parser.\u001B[39;00m\n\u001B[1;32m--> 618\u001B[0m parser \u001B[38;5;241m=\u001B[39m \u001B[43mTextFileReader\u001B[49m\u001B[43m(\u001B[49m\u001B[43mfilepath_or_buffer\u001B[49m\u001B[43m,\u001B[49m\u001B[43m \u001B[49m\u001B[38;5;241;43m*\u001B[39;49m\u001B[38;5;241;43m*\u001B[39;49m\u001B[43mkwds\u001B[49m\u001B[43m)\u001B[49m\n\u001B[0;32m    620\u001B[0m \u001B[38;5;28;01mif\u001B[39;00m chunksize \u001B[38;5;129;01mor\u001B[39;00m iterator:\n\u001B[0;32m    621\u001B[0m     \u001B[38;5;28;01mreturn\u001B[39;00m parser\n",
      "File \u001B[1;32m~\\AppData\\Local\\Programs\\Python\\Python311\\Lib\\site-packages\\pandas\\io\\parsers\\readers.py:1618\u001B[0m, in \u001B[0;36mTextFileReader.__init__\u001B[1;34m(self, f, engine, **kwds)\u001B[0m\n\u001B[0;32m   1615\u001B[0m     \u001B[38;5;28mself\u001B[39m\u001B[38;5;241m.\u001B[39moptions[\u001B[38;5;124m\"\u001B[39m\u001B[38;5;124mhas_index_names\u001B[39m\u001B[38;5;124m\"\u001B[39m] \u001B[38;5;241m=\u001B[39m kwds[\u001B[38;5;124m\"\u001B[39m\u001B[38;5;124mhas_index_names\u001B[39m\u001B[38;5;124m\"\u001B[39m]\n\u001B[0;32m   1617\u001B[0m \u001B[38;5;28mself\u001B[39m\u001B[38;5;241m.\u001B[39mhandles: IOHandles \u001B[38;5;241m|\u001B[39m \u001B[38;5;28;01mNone\u001B[39;00m \u001B[38;5;241m=\u001B[39m \u001B[38;5;28;01mNone\u001B[39;00m\n\u001B[1;32m-> 1618\u001B[0m \u001B[38;5;28mself\u001B[39m\u001B[38;5;241m.\u001B[39m_engine \u001B[38;5;241m=\u001B[39m \u001B[38;5;28;43mself\u001B[39;49m\u001B[38;5;241;43m.\u001B[39;49m\u001B[43m_make_engine\u001B[49m\u001B[43m(\u001B[49m\u001B[43mf\u001B[49m\u001B[43m,\u001B[49m\u001B[43m \u001B[49m\u001B[38;5;28;43mself\u001B[39;49m\u001B[38;5;241;43m.\u001B[39;49m\u001B[43mengine\u001B[49m\u001B[43m)\u001B[49m\n",
      "File \u001B[1;32m~\\AppData\\Local\\Programs\\Python\\Python311\\Lib\\site-packages\\pandas\\io\\parsers\\readers.py:1878\u001B[0m, in \u001B[0;36mTextFileReader._make_engine\u001B[1;34m(self, f, engine)\u001B[0m\n\u001B[0;32m   1876\u001B[0m     \u001B[38;5;28;01mif\u001B[39;00m \u001B[38;5;124m\"\u001B[39m\u001B[38;5;124mb\u001B[39m\u001B[38;5;124m\"\u001B[39m \u001B[38;5;129;01mnot\u001B[39;00m \u001B[38;5;129;01min\u001B[39;00m mode:\n\u001B[0;32m   1877\u001B[0m         mode \u001B[38;5;241m+\u001B[39m\u001B[38;5;241m=\u001B[39m \u001B[38;5;124m\"\u001B[39m\u001B[38;5;124mb\u001B[39m\u001B[38;5;124m\"\u001B[39m\n\u001B[1;32m-> 1878\u001B[0m \u001B[38;5;28mself\u001B[39m\u001B[38;5;241m.\u001B[39mhandles \u001B[38;5;241m=\u001B[39m \u001B[43mget_handle\u001B[49m\u001B[43m(\u001B[49m\n\u001B[0;32m   1879\u001B[0m \u001B[43m    \u001B[49m\u001B[43mf\u001B[49m\u001B[43m,\u001B[49m\n\u001B[0;32m   1880\u001B[0m \u001B[43m    \u001B[49m\u001B[43mmode\u001B[49m\u001B[43m,\u001B[49m\n\u001B[0;32m   1881\u001B[0m \u001B[43m    \u001B[49m\u001B[43mencoding\u001B[49m\u001B[38;5;241;43m=\u001B[39;49m\u001B[38;5;28;43mself\u001B[39;49m\u001B[38;5;241;43m.\u001B[39;49m\u001B[43moptions\u001B[49m\u001B[38;5;241;43m.\u001B[39;49m\u001B[43mget\u001B[49m\u001B[43m(\u001B[49m\u001B[38;5;124;43m\"\u001B[39;49m\u001B[38;5;124;43mencoding\u001B[39;49m\u001B[38;5;124;43m\"\u001B[39;49m\u001B[43m,\u001B[49m\u001B[43m \u001B[49m\u001B[38;5;28;43;01mNone\u001B[39;49;00m\u001B[43m)\u001B[49m\u001B[43m,\u001B[49m\n\u001B[0;32m   1882\u001B[0m \u001B[43m    \u001B[49m\u001B[43mcompression\u001B[49m\u001B[38;5;241;43m=\u001B[39;49m\u001B[38;5;28;43mself\u001B[39;49m\u001B[38;5;241;43m.\u001B[39;49m\u001B[43moptions\u001B[49m\u001B[38;5;241;43m.\u001B[39;49m\u001B[43mget\u001B[49m\u001B[43m(\u001B[49m\u001B[38;5;124;43m\"\u001B[39;49m\u001B[38;5;124;43mcompression\u001B[39;49m\u001B[38;5;124;43m\"\u001B[39;49m\u001B[43m,\u001B[49m\u001B[43m \u001B[49m\u001B[38;5;28;43;01mNone\u001B[39;49;00m\u001B[43m)\u001B[49m\u001B[43m,\u001B[49m\n\u001B[0;32m   1883\u001B[0m \u001B[43m    \u001B[49m\u001B[43mmemory_map\u001B[49m\u001B[38;5;241;43m=\u001B[39;49m\u001B[38;5;28;43mself\u001B[39;49m\u001B[38;5;241;43m.\u001B[39;49m\u001B[43moptions\u001B[49m\u001B[38;5;241;43m.\u001B[39;49m\u001B[43mget\u001B[49m\u001B[43m(\u001B[49m\u001B[38;5;124;43m\"\u001B[39;49m\u001B[38;5;124;43mmemory_map\u001B[39;49m\u001B[38;5;124;43m\"\u001B[39;49m\u001B[43m,\u001B[49m\u001B[43m \u001B[49m\u001B[38;5;28;43;01mFalse\u001B[39;49;00m\u001B[43m)\u001B[49m\u001B[43m,\u001B[49m\n\u001B[0;32m   1884\u001B[0m \u001B[43m    \u001B[49m\u001B[43mis_text\u001B[49m\u001B[38;5;241;43m=\u001B[39;49m\u001B[43mis_text\u001B[49m\u001B[43m,\u001B[49m\n\u001B[0;32m   1885\u001B[0m \u001B[43m    \u001B[49m\u001B[43merrors\u001B[49m\u001B[38;5;241;43m=\u001B[39;49m\u001B[38;5;28;43mself\u001B[39;49m\u001B[38;5;241;43m.\u001B[39;49m\u001B[43moptions\u001B[49m\u001B[38;5;241;43m.\u001B[39;49m\u001B[43mget\u001B[49m\u001B[43m(\u001B[49m\u001B[38;5;124;43m\"\u001B[39;49m\u001B[38;5;124;43mencoding_errors\u001B[39;49m\u001B[38;5;124;43m\"\u001B[39;49m\u001B[43m,\u001B[49m\u001B[43m \u001B[49m\u001B[38;5;124;43m\"\u001B[39;49m\u001B[38;5;124;43mstrict\u001B[39;49m\u001B[38;5;124;43m\"\u001B[39;49m\u001B[43m)\u001B[49m\u001B[43m,\u001B[49m\n\u001B[0;32m   1886\u001B[0m \u001B[43m    \u001B[49m\u001B[43mstorage_options\u001B[49m\u001B[38;5;241;43m=\u001B[39;49m\u001B[38;5;28;43mself\u001B[39;49m\u001B[38;5;241;43m.\u001B[39;49m\u001B[43moptions\u001B[49m\u001B[38;5;241;43m.\u001B[39;49m\u001B[43mget\u001B[49m\u001B[43m(\u001B[49m\u001B[38;5;124;43m\"\u001B[39;49m\u001B[38;5;124;43mstorage_options\u001B[39;49m\u001B[38;5;124;43m\"\u001B[39;49m\u001B[43m,\u001B[49m\u001B[43m \u001B[49m\u001B[38;5;28;43;01mNone\u001B[39;49;00m\u001B[43m)\u001B[49m\u001B[43m,\u001B[49m\n\u001B[0;32m   1887\u001B[0m \u001B[43m\u001B[49m\u001B[43m)\u001B[49m\n\u001B[0;32m   1888\u001B[0m \u001B[38;5;28;01massert\u001B[39;00m \u001B[38;5;28mself\u001B[39m\u001B[38;5;241m.\u001B[39mhandles \u001B[38;5;129;01mis\u001B[39;00m \u001B[38;5;129;01mnot\u001B[39;00m \u001B[38;5;28;01mNone\u001B[39;00m\n\u001B[0;32m   1889\u001B[0m f \u001B[38;5;241m=\u001B[39m \u001B[38;5;28mself\u001B[39m\u001B[38;5;241m.\u001B[39mhandles\u001B[38;5;241m.\u001B[39mhandle\n",
      "File \u001B[1;32m~\\AppData\\Local\\Programs\\Python\\Python311\\Lib\\site-packages\\pandas\\io\\common.py:873\u001B[0m, in \u001B[0;36mget_handle\u001B[1;34m(path_or_buf, mode, encoding, compression, memory_map, is_text, errors, storage_options)\u001B[0m\n\u001B[0;32m    868\u001B[0m \u001B[38;5;28;01melif\u001B[39;00m \u001B[38;5;28misinstance\u001B[39m(handle, \u001B[38;5;28mstr\u001B[39m):\n\u001B[0;32m    869\u001B[0m     \u001B[38;5;66;03m# Check whether the filename is to be opened in binary mode.\u001B[39;00m\n\u001B[0;32m    870\u001B[0m     \u001B[38;5;66;03m# Binary mode does not support 'encoding' and 'newline'.\u001B[39;00m\n\u001B[0;32m    871\u001B[0m     \u001B[38;5;28;01mif\u001B[39;00m ioargs\u001B[38;5;241m.\u001B[39mencoding \u001B[38;5;129;01mand\u001B[39;00m \u001B[38;5;124m\"\u001B[39m\u001B[38;5;124mb\u001B[39m\u001B[38;5;124m\"\u001B[39m \u001B[38;5;129;01mnot\u001B[39;00m \u001B[38;5;129;01min\u001B[39;00m ioargs\u001B[38;5;241m.\u001B[39mmode:\n\u001B[0;32m    872\u001B[0m         \u001B[38;5;66;03m# Encoding\u001B[39;00m\n\u001B[1;32m--> 873\u001B[0m         handle \u001B[38;5;241m=\u001B[39m \u001B[38;5;28mopen\u001B[39m(\n\u001B[0;32m    874\u001B[0m             handle,\n\u001B[0;32m    875\u001B[0m             ioargs\u001B[38;5;241m.\u001B[39mmode,\n\u001B[0;32m    876\u001B[0m             encoding\u001B[38;5;241m=\u001B[39mioargs\u001B[38;5;241m.\u001B[39mencoding,\n\u001B[0;32m    877\u001B[0m             errors\u001B[38;5;241m=\u001B[39merrors,\n\u001B[0;32m    878\u001B[0m             newline\u001B[38;5;241m=\u001B[39m\u001B[38;5;124m\"\u001B[39m\u001B[38;5;124m\"\u001B[39m,\n\u001B[0;32m    879\u001B[0m         )\n\u001B[0;32m    880\u001B[0m     \u001B[38;5;28;01melse\u001B[39;00m:\n\u001B[0;32m    881\u001B[0m         \u001B[38;5;66;03m# Binary mode\u001B[39;00m\n\u001B[0;32m    882\u001B[0m         handle \u001B[38;5;241m=\u001B[39m \u001B[38;5;28mopen\u001B[39m(handle, ioargs\u001B[38;5;241m.\u001B[39mmode)\n",
      "\u001B[1;31mFileNotFoundError\u001B[0m: [Errno 2] No such file or directory: 'CSV/screens.csv'"
     ]
    }
   ],
   "source": [
    "screens = pd.read_csv('CSV/screens.csv',delimiter=';', decimal='.')\n",
    "mu=40\n",
    "ttest_1samp(screens[\"New_size\"],mu)"
   ],
   "metadata": {
    "collapsed": false,
    "ExecuteTime": {
     "end_time": "2024-03-28T14:35:34.001401300Z",
     "start_time": "2024-03-28T14:35:33.901286800Z"
    }
   },
   "id": "db3fbdda2086d2ee",
   "execution_count": 135
  },
  {
   "cell_type": "markdown",
   "source": [
    "#### Chi-Kwadraat toets\n",
    "• Stel dat je wil nagaan of een variabele een bepaalde verdeling heeft\n",
    "• Voorbeeld:\n",
    "– Eigenaar van een winkel verkoopt computers, films, spelletjes en televisies\n",
    "– Hij denkt dat de verkoop als volgt verdeeld is\n",
    "> computers: 30%\n",
    "> films: 10%\n",
    "> spelletjes: 30%\n",
    "> televisies: 30%\n",
    "\n",
    "– Vraag: klopt dit?\n",
    "\n",
    "• We doen een steekproef (30 klanten):\n",
    "> computers: 15\n",
    "> films: 3\n",
    "> spelletjes: 7\n",
    "> televisies: 5\n",
    "\n",
    "• We hadden verwacht:\n",
    "> computers: 9\n",
    "> films: 3\n",
    "> spelletjes: 9\n",
    "> televisies: 9\n",
    "\n",
    "• Vraag: hoe “ver” liggen deze van elkaar?"
   ],
   "metadata": {
    "collapsed": false
   },
   "id": "187827198345326f"
  },
  {
   "cell_type": "markdown",
   "source": [
    "Dit is een soort afstand tussen de geobserveerde\n",
    "frequenties en de verwachtte frequenties\n",
    "• Frequenties zijn altijd absolute frequenties!\n",
    "• Als H0 waar is, dan is er een grote kans om een kleine X² te vinden\n",
    "• als X² groot is, dan is H0 dus waarschijnlijk fout\n",
    "• in ons geval:X² = (15-9)²/9+(3-3)²/3+(7-9)²/9+(5-9)²/9\n",
    "\n",
    "• De chi-kwadraat verdeling wordt bepaald door een parameter m-1\n",
    "• m is het aantal waarden die geteld werden (4 in ons geval)\n",
    "• We kunnen nu weer een 95% aanvaardingsinterval opstellen (m.a.w. σ = 0.05)\n",
    "> begint altijd van 0\n",
    "> gaat tot een grenswaarde:\n",
    ">> from scipy.stats import chi2\n",
    ">> chi2.ppf ((1- σ), df=m-1)"
   ],
   "metadata": {
    "collapsed": false
   },
   "id": "eedb3af7f0ef30cb"
  },
  {
   "cell_type": "code",
   "outputs": [
    {
     "data": {
      "text/plain": "7.814727903251179"
     },
     "execution_count": 136,
     "metadata": {},
     "output_type": "execute_result"
    }
   ],
   "source": [
    "chi2.ppf ((1-0.05),df=4-1)"
   ],
   "metadata": {
    "collapsed": false,
    "ExecuteTime": {
     "end_time": "2024-03-28T14:35:34.005596800Z",
     "start_time": "2024-03-28T14:35:33.980027400Z"
    }
   },
   "id": "b431523b03438532",
   "execution_count": 136
  },
  {
   "cell_type": "markdown",
   "source": [
    "• Je kan de test ook als volgt doen:\n",
    "> from scipy.stats import chisquare\n",
    "> measured_values = [15,3,7,5]\n",
    "> expected_values = [9,3,9,9]\n",
    "> chisquare(measured_values , expected_values)"
   ],
   "metadata": {
    "collapsed": false
   },
   "id": "d01b8da26bb4be2f"
  },
  {
   "cell_type": "code",
   "outputs": [
    {
     "data": {
      "text/plain": "Power_divergenceResult(statistic=6.222222222222222, pvalue=0.10128520246221875)"
     },
     "execution_count": 137,
     "metadata": {},
     "output_type": "execute_result"
    }
   ],
   "source": [
    "measured_values = [15,3,7,5]\n",
    "expected_values = [9,3,9,9]\n",
    "chisquare(measured_values, expected_values)"
   ],
   "metadata": {
    "collapsed": false,
    "ExecuteTime": {
     "end_time": "2024-03-28T14:35:34.128151100Z",
     "start_time": "2024-03-28T14:35:34.007167500Z"
    }
   },
   "id": "f2998642b0e76f2b",
   "execution_count": 137
  },
  {
   "cell_type": "markdown",
   "source": [
    "## Association rules\n",
    "### Inleiding Association rules\n",
    "Het idee komt vanuit Market Basket Analysis (MBA)\n",
    " Wat koopt mijn klant? Welke producten worden er samen gekocht?\n",
    " Doel: associaties vinden tussen de verschillende producten dat een klant in zijn winkelkarretje plaatst\n",
    "\n",
    "### Transacties en itemsets\n",
    "#### Understanding the data\n",
    " Verschillende ‘manieren’ om data te verzamelen/weer te geven\n",
    " Elke ‘manier’ geeft een lijst weer van items die op hetzelfde moment werden aangekocht.\n",
    "\n",
    "We moeten de input omzetten naar het juiste formaat\n",
    "• In Python\n",
    "> receipts = pd.read_csv('transactions.csv', sep=';', index_col=0)\n",
    "> receipts_dum = pd.get_dummies(receipts, columns=['Product'], prefix='',prefix_sep='', dtype=bool)\n",
    "> transactionstable = receipts_dum.groupby(level='TransactionID').max()"
   ],
   "metadata": {
    "collapsed": false
   },
   "id": "9a83cfa3ad9106fd"
  },
  {
   "cell_type": "code",
   "outputs": [
    {
     "ename": "FileNotFoundError",
     "evalue": "[Errno 2] No such file or directory: 'CSV/transactions.csv'",
     "output_type": "error",
     "traceback": [
      "\u001B[1;31m---------------------------------------------------------------------------\u001B[0m",
      "\u001B[1;31mFileNotFoundError\u001B[0m                         Traceback (most recent call last)",
      "Cell \u001B[1;32mIn[138], line 1\u001B[0m\n\u001B[1;32m----> 1\u001B[0m receipts \u001B[38;5;241m=\u001B[39m \u001B[43mpd\u001B[49m\u001B[38;5;241;43m.\u001B[39;49m\u001B[43mread_csv\u001B[49m\u001B[43m(\u001B[49m\u001B[38;5;124;43m'\u001B[39;49m\u001B[38;5;124;43mCSV/transactions.csv\u001B[39;49m\u001B[38;5;124;43m'\u001B[39;49m\u001B[43m,\u001B[49m\u001B[43m \u001B[49m\u001B[43msep\u001B[49m\u001B[38;5;241;43m=\u001B[39;49m\u001B[38;5;124;43m'\u001B[39;49m\u001B[38;5;124;43m;\u001B[39;49m\u001B[38;5;124;43m'\u001B[39;49m\u001B[43m,\u001B[49m\u001B[43m \u001B[49m\u001B[43mindex_col\u001B[49m\u001B[38;5;241;43m=\u001B[39;49m\u001B[38;5;241;43m0\u001B[39;49m\u001B[43m)\u001B[49m\n\u001B[0;32m      2\u001B[0m receipts_dum \u001B[38;5;241m=\u001B[39m pd\u001B[38;5;241m.\u001B[39mget_dummies(receipts, columns\u001B[38;5;241m=\u001B[39m[\u001B[38;5;124m'\u001B[39m\u001B[38;5;124mProduct\u001B[39m\u001B[38;5;124m'\u001B[39m], prefix\u001B[38;5;241m=\u001B[39m\u001B[38;5;124m'\u001B[39m\u001B[38;5;124m'\u001B[39m,prefix_sep\u001B[38;5;241m=\u001B[39m\u001B[38;5;124m'\u001B[39m\u001B[38;5;124m'\u001B[39m, dtype\u001B[38;5;241m=\u001B[39m\u001B[38;5;28mbool\u001B[39m)\n\u001B[0;32m      3\u001B[0m transactionstable \u001B[38;5;241m=\u001B[39m receipts_dum\u001B[38;5;241m.\u001B[39mgroupby(level\u001B[38;5;241m=\u001B[39m\u001B[38;5;124m'\u001B[39m\u001B[38;5;124mTransactionID\u001B[39m\u001B[38;5;124m'\u001B[39m)\u001B[38;5;241m.\u001B[39mmax()\n",
      "File \u001B[1;32m~\\AppData\\Local\\Programs\\Python\\Python311\\Lib\\site-packages\\pandas\\io\\parsers\\readers.py:1024\u001B[0m, in \u001B[0;36mread_csv\u001B[1;34m(filepath_or_buffer, sep, delimiter, header, names, index_col, usecols, dtype, engine, converters, true_values, false_values, skipinitialspace, skiprows, skipfooter, nrows, na_values, keep_default_na, na_filter, verbose, skip_blank_lines, parse_dates, infer_datetime_format, keep_date_col, date_parser, date_format, dayfirst, cache_dates, iterator, chunksize, compression, thousands, decimal, lineterminator, quotechar, quoting, doublequote, escapechar, comment, encoding, encoding_errors, dialect, on_bad_lines, delim_whitespace, low_memory, memory_map, float_precision, storage_options, dtype_backend)\u001B[0m\n\u001B[0;32m   1011\u001B[0m kwds_defaults \u001B[38;5;241m=\u001B[39m _refine_defaults_read(\n\u001B[0;32m   1012\u001B[0m     dialect,\n\u001B[0;32m   1013\u001B[0m     delimiter,\n\u001B[1;32m   (...)\u001B[0m\n\u001B[0;32m   1020\u001B[0m     dtype_backend\u001B[38;5;241m=\u001B[39mdtype_backend,\n\u001B[0;32m   1021\u001B[0m )\n\u001B[0;32m   1022\u001B[0m kwds\u001B[38;5;241m.\u001B[39mupdate(kwds_defaults)\n\u001B[1;32m-> 1024\u001B[0m \u001B[38;5;28;01mreturn\u001B[39;00m \u001B[43m_read\u001B[49m\u001B[43m(\u001B[49m\u001B[43mfilepath_or_buffer\u001B[49m\u001B[43m,\u001B[49m\u001B[43m \u001B[49m\u001B[43mkwds\u001B[49m\u001B[43m)\u001B[49m\n",
      "File \u001B[1;32m~\\AppData\\Local\\Programs\\Python\\Python311\\Lib\\site-packages\\pandas\\io\\parsers\\readers.py:618\u001B[0m, in \u001B[0;36m_read\u001B[1;34m(filepath_or_buffer, kwds)\u001B[0m\n\u001B[0;32m    615\u001B[0m _validate_names(kwds\u001B[38;5;241m.\u001B[39mget(\u001B[38;5;124m\"\u001B[39m\u001B[38;5;124mnames\u001B[39m\u001B[38;5;124m\"\u001B[39m, \u001B[38;5;28;01mNone\u001B[39;00m))\n\u001B[0;32m    617\u001B[0m \u001B[38;5;66;03m# Create the parser.\u001B[39;00m\n\u001B[1;32m--> 618\u001B[0m parser \u001B[38;5;241m=\u001B[39m \u001B[43mTextFileReader\u001B[49m\u001B[43m(\u001B[49m\u001B[43mfilepath_or_buffer\u001B[49m\u001B[43m,\u001B[49m\u001B[43m \u001B[49m\u001B[38;5;241;43m*\u001B[39;49m\u001B[38;5;241;43m*\u001B[39;49m\u001B[43mkwds\u001B[49m\u001B[43m)\u001B[49m\n\u001B[0;32m    620\u001B[0m \u001B[38;5;28;01mif\u001B[39;00m chunksize \u001B[38;5;129;01mor\u001B[39;00m iterator:\n\u001B[0;32m    621\u001B[0m     \u001B[38;5;28;01mreturn\u001B[39;00m parser\n",
      "File \u001B[1;32m~\\AppData\\Local\\Programs\\Python\\Python311\\Lib\\site-packages\\pandas\\io\\parsers\\readers.py:1618\u001B[0m, in \u001B[0;36mTextFileReader.__init__\u001B[1;34m(self, f, engine, **kwds)\u001B[0m\n\u001B[0;32m   1615\u001B[0m     \u001B[38;5;28mself\u001B[39m\u001B[38;5;241m.\u001B[39moptions[\u001B[38;5;124m\"\u001B[39m\u001B[38;5;124mhas_index_names\u001B[39m\u001B[38;5;124m\"\u001B[39m] \u001B[38;5;241m=\u001B[39m kwds[\u001B[38;5;124m\"\u001B[39m\u001B[38;5;124mhas_index_names\u001B[39m\u001B[38;5;124m\"\u001B[39m]\n\u001B[0;32m   1617\u001B[0m \u001B[38;5;28mself\u001B[39m\u001B[38;5;241m.\u001B[39mhandles: IOHandles \u001B[38;5;241m|\u001B[39m \u001B[38;5;28;01mNone\u001B[39;00m \u001B[38;5;241m=\u001B[39m \u001B[38;5;28;01mNone\u001B[39;00m\n\u001B[1;32m-> 1618\u001B[0m \u001B[38;5;28mself\u001B[39m\u001B[38;5;241m.\u001B[39m_engine \u001B[38;5;241m=\u001B[39m \u001B[38;5;28;43mself\u001B[39;49m\u001B[38;5;241;43m.\u001B[39;49m\u001B[43m_make_engine\u001B[49m\u001B[43m(\u001B[49m\u001B[43mf\u001B[49m\u001B[43m,\u001B[49m\u001B[43m \u001B[49m\u001B[38;5;28;43mself\u001B[39;49m\u001B[38;5;241;43m.\u001B[39;49m\u001B[43mengine\u001B[49m\u001B[43m)\u001B[49m\n",
      "File \u001B[1;32m~\\AppData\\Local\\Programs\\Python\\Python311\\Lib\\site-packages\\pandas\\io\\parsers\\readers.py:1878\u001B[0m, in \u001B[0;36mTextFileReader._make_engine\u001B[1;34m(self, f, engine)\u001B[0m\n\u001B[0;32m   1876\u001B[0m     \u001B[38;5;28;01mif\u001B[39;00m \u001B[38;5;124m\"\u001B[39m\u001B[38;5;124mb\u001B[39m\u001B[38;5;124m\"\u001B[39m \u001B[38;5;129;01mnot\u001B[39;00m \u001B[38;5;129;01min\u001B[39;00m mode:\n\u001B[0;32m   1877\u001B[0m         mode \u001B[38;5;241m+\u001B[39m\u001B[38;5;241m=\u001B[39m \u001B[38;5;124m\"\u001B[39m\u001B[38;5;124mb\u001B[39m\u001B[38;5;124m\"\u001B[39m\n\u001B[1;32m-> 1878\u001B[0m \u001B[38;5;28mself\u001B[39m\u001B[38;5;241m.\u001B[39mhandles \u001B[38;5;241m=\u001B[39m \u001B[43mget_handle\u001B[49m\u001B[43m(\u001B[49m\n\u001B[0;32m   1879\u001B[0m \u001B[43m    \u001B[49m\u001B[43mf\u001B[49m\u001B[43m,\u001B[49m\n\u001B[0;32m   1880\u001B[0m \u001B[43m    \u001B[49m\u001B[43mmode\u001B[49m\u001B[43m,\u001B[49m\n\u001B[0;32m   1881\u001B[0m \u001B[43m    \u001B[49m\u001B[43mencoding\u001B[49m\u001B[38;5;241;43m=\u001B[39;49m\u001B[38;5;28;43mself\u001B[39;49m\u001B[38;5;241;43m.\u001B[39;49m\u001B[43moptions\u001B[49m\u001B[38;5;241;43m.\u001B[39;49m\u001B[43mget\u001B[49m\u001B[43m(\u001B[49m\u001B[38;5;124;43m\"\u001B[39;49m\u001B[38;5;124;43mencoding\u001B[39;49m\u001B[38;5;124;43m\"\u001B[39;49m\u001B[43m,\u001B[49m\u001B[43m \u001B[49m\u001B[38;5;28;43;01mNone\u001B[39;49;00m\u001B[43m)\u001B[49m\u001B[43m,\u001B[49m\n\u001B[0;32m   1882\u001B[0m \u001B[43m    \u001B[49m\u001B[43mcompression\u001B[49m\u001B[38;5;241;43m=\u001B[39;49m\u001B[38;5;28;43mself\u001B[39;49m\u001B[38;5;241;43m.\u001B[39;49m\u001B[43moptions\u001B[49m\u001B[38;5;241;43m.\u001B[39;49m\u001B[43mget\u001B[49m\u001B[43m(\u001B[49m\u001B[38;5;124;43m\"\u001B[39;49m\u001B[38;5;124;43mcompression\u001B[39;49m\u001B[38;5;124;43m\"\u001B[39;49m\u001B[43m,\u001B[49m\u001B[43m \u001B[49m\u001B[38;5;28;43;01mNone\u001B[39;49;00m\u001B[43m)\u001B[49m\u001B[43m,\u001B[49m\n\u001B[0;32m   1883\u001B[0m \u001B[43m    \u001B[49m\u001B[43mmemory_map\u001B[49m\u001B[38;5;241;43m=\u001B[39;49m\u001B[38;5;28;43mself\u001B[39;49m\u001B[38;5;241;43m.\u001B[39;49m\u001B[43moptions\u001B[49m\u001B[38;5;241;43m.\u001B[39;49m\u001B[43mget\u001B[49m\u001B[43m(\u001B[49m\u001B[38;5;124;43m\"\u001B[39;49m\u001B[38;5;124;43mmemory_map\u001B[39;49m\u001B[38;5;124;43m\"\u001B[39;49m\u001B[43m,\u001B[49m\u001B[43m \u001B[49m\u001B[38;5;28;43;01mFalse\u001B[39;49;00m\u001B[43m)\u001B[49m\u001B[43m,\u001B[49m\n\u001B[0;32m   1884\u001B[0m \u001B[43m    \u001B[49m\u001B[43mis_text\u001B[49m\u001B[38;5;241;43m=\u001B[39;49m\u001B[43mis_text\u001B[49m\u001B[43m,\u001B[49m\n\u001B[0;32m   1885\u001B[0m \u001B[43m    \u001B[49m\u001B[43merrors\u001B[49m\u001B[38;5;241;43m=\u001B[39;49m\u001B[38;5;28;43mself\u001B[39;49m\u001B[38;5;241;43m.\u001B[39;49m\u001B[43moptions\u001B[49m\u001B[38;5;241;43m.\u001B[39;49m\u001B[43mget\u001B[49m\u001B[43m(\u001B[49m\u001B[38;5;124;43m\"\u001B[39;49m\u001B[38;5;124;43mencoding_errors\u001B[39;49m\u001B[38;5;124;43m\"\u001B[39;49m\u001B[43m,\u001B[49m\u001B[43m \u001B[49m\u001B[38;5;124;43m\"\u001B[39;49m\u001B[38;5;124;43mstrict\u001B[39;49m\u001B[38;5;124;43m\"\u001B[39;49m\u001B[43m)\u001B[49m\u001B[43m,\u001B[49m\n\u001B[0;32m   1886\u001B[0m \u001B[43m    \u001B[49m\u001B[43mstorage_options\u001B[49m\u001B[38;5;241;43m=\u001B[39;49m\u001B[38;5;28;43mself\u001B[39;49m\u001B[38;5;241;43m.\u001B[39;49m\u001B[43moptions\u001B[49m\u001B[38;5;241;43m.\u001B[39;49m\u001B[43mget\u001B[49m\u001B[43m(\u001B[49m\u001B[38;5;124;43m\"\u001B[39;49m\u001B[38;5;124;43mstorage_options\u001B[39;49m\u001B[38;5;124;43m\"\u001B[39;49m\u001B[43m,\u001B[49m\u001B[43m \u001B[49m\u001B[38;5;28;43;01mNone\u001B[39;49;00m\u001B[43m)\u001B[49m\u001B[43m,\u001B[49m\n\u001B[0;32m   1887\u001B[0m \u001B[43m\u001B[49m\u001B[43m)\u001B[49m\n\u001B[0;32m   1888\u001B[0m \u001B[38;5;28;01massert\u001B[39;00m \u001B[38;5;28mself\u001B[39m\u001B[38;5;241m.\u001B[39mhandles \u001B[38;5;129;01mis\u001B[39;00m \u001B[38;5;129;01mnot\u001B[39;00m \u001B[38;5;28;01mNone\u001B[39;00m\n\u001B[0;32m   1889\u001B[0m f \u001B[38;5;241m=\u001B[39m \u001B[38;5;28mself\u001B[39m\u001B[38;5;241m.\u001B[39mhandles\u001B[38;5;241m.\u001B[39mhandle\n",
      "File \u001B[1;32m~\\AppData\\Local\\Programs\\Python\\Python311\\Lib\\site-packages\\pandas\\io\\common.py:873\u001B[0m, in \u001B[0;36mget_handle\u001B[1;34m(path_or_buf, mode, encoding, compression, memory_map, is_text, errors, storage_options)\u001B[0m\n\u001B[0;32m    868\u001B[0m \u001B[38;5;28;01melif\u001B[39;00m \u001B[38;5;28misinstance\u001B[39m(handle, \u001B[38;5;28mstr\u001B[39m):\n\u001B[0;32m    869\u001B[0m     \u001B[38;5;66;03m# Check whether the filename is to be opened in binary mode.\u001B[39;00m\n\u001B[0;32m    870\u001B[0m     \u001B[38;5;66;03m# Binary mode does not support 'encoding' and 'newline'.\u001B[39;00m\n\u001B[0;32m    871\u001B[0m     \u001B[38;5;28;01mif\u001B[39;00m ioargs\u001B[38;5;241m.\u001B[39mencoding \u001B[38;5;129;01mand\u001B[39;00m \u001B[38;5;124m\"\u001B[39m\u001B[38;5;124mb\u001B[39m\u001B[38;5;124m\"\u001B[39m \u001B[38;5;129;01mnot\u001B[39;00m \u001B[38;5;129;01min\u001B[39;00m ioargs\u001B[38;5;241m.\u001B[39mmode:\n\u001B[0;32m    872\u001B[0m         \u001B[38;5;66;03m# Encoding\u001B[39;00m\n\u001B[1;32m--> 873\u001B[0m         handle \u001B[38;5;241m=\u001B[39m \u001B[38;5;28mopen\u001B[39m(\n\u001B[0;32m    874\u001B[0m             handle,\n\u001B[0;32m    875\u001B[0m             ioargs\u001B[38;5;241m.\u001B[39mmode,\n\u001B[0;32m    876\u001B[0m             encoding\u001B[38;5;241m=\u001B[39mioargs\u001B[38;5;241m.\u001B[39mencoding,\n\u001B[0;32m    877\u001B[0m             errors\u001B[38;5;241m=\u001B[39merrors,\n\u001B[0;32m    878\u001B[0m             newline\u001B[38;5;241m=\u001B[39m\u001B[38;5;124m\"\u001B[39m\u001B[38;5;124m\"\u001B[39m,\n\u001B[0;32m    879\u001B[0m         )\n\u001B[0;32m    880\u001B[0m     \u001B[38;5;28;01melse\u001B[39;00m:\n\u001B[0;32m    881\u001B[0m         \u001B[38;5;66;03m# Binary mode\u001B[39;00m\n\u001B[0;32m    882\u001B[0m         handle \u001B[38;5;241m=\u001B[39m \u001B[38;5;28mopen\u001B[39m(handle, ioargs\u001B[38;5;241m.\u001B[39mmode)\n",
      "\u001B[1;31mFileNotFoundError\u001B[0m: [Errno 2] No such file or directory: 'CSV/transactions.csv'"
     ]
    }
   ],
   "source": [
    "receipts = pd.read_csv('CSV/transactions.csv', sep=';', index_col=0)\n",
    "receipts_dum = pd.get_dummies(receipts, columns=['Product'], prefix='',prefix_sep='', dtype=bool)\n",
    "transactionstable = receipts_dum.groupby(level='TransactionID').max()\n",
    "print(transactionstable)"
   ],
   "metadata": {
    "collapsed": false,
    "ExecuteTime": {
     "end_time": "2024-03-28T14:35:34.220779600Z",
     "start_time": "2024-03-28T14:35:34.128151100Z"
    }
   },
   "id": "82ef19304ca1e7c8",
   "execution_count": 138
  },
  {
   "cell_type": "markdown",
   "source": [
    "### Hoe doe je zo'n dataset\n",
    "[01] {Printer,Cartridge,Ballpoint} 1000123\n",
    "[02] {Paper,Cartridge} 1000124\n",
    "[03] {Paper,Cartridge} 1000125\n",
    "[04] {Printer,Cartridge} 1000126\n",
    "[05] {Printer, Cartridge} 1000127\n",
    "[06] {Ballpoint} 1000128\n",
    "[07] {Paper,Cartridge,Ballpoint} 1000129\n",
    "[08] {Cartridge} 1000130\n",
    "[09] {Printer,Ballpoint} 1000131\n",
    "[10] {Paper} 1000132"
   ],
   "metadata": {
    "collapsed": false
   },
   "id": "98a46c91e206221"
  },
  {
   "cell_type": "code",
   "outputs": [
    {
     "ename": "FileNotFoundError",
     "evalue": "[Errno 2] No such file or directory: 'CSV/transactions_itemlist.csv'",
     "output_type": "error",
     "traceback": [
      "\u001B[1;31m---------------------------------------------------------------------------\u001B[0m",
      "\u001B[1;31mFileNotFoundError\u001B[0m                         Traceback (most recent call last)",
      "Cell \u001B[1;32mIn[139], line 1\u001B[0m\n\u001B[1;32m----> 1\u001B[0m trans_itemlist \u001B[38;5;241m=\u001B[39m \u001B[43mpd\u001B[49m\u001B[38;5;241;43m.\u001B[39;49m\u001B[43mread_csv\u001B[49m\u001B[43m(\u001B[49m\u001B[38;5;124;43m'\u001B[39;49m\u001B[38;5;124;43mCSV/transactions_itemlist.csv\u001B[39;49m\u001B[38;5;124;43m'\u001B[39;49m\u001B[43m,\u001B[49m\u001B[43m \u001B[49m\u001B[43msep\u001B[49m\u001B[38;5;241;43m=\u001B[39;49m\u001B[38;5;124;43m'\u001B[39;49m\u001B[38;5;124;43m;\u001B[39;49m\u001B[38;5;124;43m'\u001B[39;49m\u001B[43m)\u001B[49m\n\u001B[0;32m      2\u001B[0m \u001B[38;5;28;01mdef\u001B[39;00m \u001B[38;5;21mget_item_list\u001B[39m (string): \n\u001B[0;32m      3\u001B[0m     items \u001B[38;5;241m=\u001B[39m string [\u001B[38;5;241m1\u001B[39m:\u001B[38;5;241m-\u001B[39m\u001B[38;5;241m1\u001B[39m]\n",
      "File \u001B[1;32m~\\AppData\\Local\\Programs\\Python\\Python311\\Lib\\site-packages\\pandas\\io\\parsers\\readers.py:1024\u001B[0m, in \u001B[0;36mread_csv\u001B[1;34m(filepath_or_buffer, sep, delimiter, header, names, index_col, usecols, dtype, engine, converters, true_values, false_values, skipinitialspace, skiprows, skipfooter, nrows, na_values, keep_default_na, na_filter, verbose, skip_blank_lines, parse_dates, infer_datetime_format, keep_date_col, date_parser, date_format, dayfirst, cache_dates, iterator, chunksize, compression, thousands, decimal, lineterminator, quotechar, quoting, doublequote, escapechar, comment, encoding, encoding_errors, dialect, on_bad_lines, delim_whitespace, low_memory, memory_map, float_precision, storage_options, dtype_backend)\u001B[0m\n\u001B[0;32m   1011\u001B[0m kwds_defaults \u001B[38;5;241m=\u001B[39m _refine_defaults_read(\n\u001B[0;32m   1012\u001B[0m     dialect,\n\u001B[0;32m   1013\u001B[0m     delimiter,\n\u001B[1;32m   (...)\u001B[0m\n\u001B[0;32m   1020\u001B[0m     dtype_backend\u001B[38;5;241m=\u001B[39mdtype_backend,\n\u001B[0;32m   1021\u001B[0m )\n\u001B[0;32m   1022\u001B[0m kwds\u001B[38;5;241m.\u001B[39mupdate(kwds_defaults)\n\u001B[1;32m-> 1024\u001B[0m \u001B[38;5;28;01mreturn\u001B[39;00m \u001B[43m_read\u001B[49m\u001B[43m(\u001B[49m\u001B[43mfilepath_or_buffer\u001B[49m\u001B[43m,\u001B[49m\u001B[43m \u001B[49m\u001B[43mkwds\u001B[49m\u001B[43m)\u001B[49m\n",
      "File \u001B[1;32m~\\AppData\\Local\\Programs\\Python\\Python311\\Lib\\site-packages\\pandas\\io\\parsers\\readers.py:618\u001B[0m, in \u001B[0;36m_read\u001B[1;34m(filepath_or_buffer, kwds)\u001B[0m\n\u001B[0;32m    615\u001B[0m _validate_names(kwds\u001B[38;5;241m.\u001B[39mget(\u001B[38;5;124m\"\u001B[39m\u001B[38;5;124mnames\u001B[39m\u001B[38;5;124m\"\u001B[39m, \u001B[38;5;28;01mNone\u001B[39;00m))\n\u001B[0;32m    617\u001B[0m \u001B[38;5;66;03m# Create the parser.\u001B[39;00m\n\u001B[1;32m--> 618\u001B[0m parser \u001B[38;5;241m=\u001B[39m \u001B[43mTextFileReader\u001B[49m\u001B[43m(\u001B[49m\u001B[43mfilepath_or_buffer\u001B[49m\u001B[43m,\u001B[49m\u001B[43m \u001B[49m\u001B[38;5;241;43m*\u001B[39;49m\u001B[38;5;241;43m*\u001B[39;49m\u001B[43mkwds\u001B[49m\u001B[43m)\u001B[49m\n\u001B[0;32m    620\u001B[0m \u001B[38;5;28;01mif\u001B[39;00m chunksize \u001B[38;5;129;01mor\u001B[39;00m iterator:\n\u001B[0;32m    621\u001B[0m     \u001B[38;5;28;01mreturn\u001B[39;00m parser\n",
      "File \u001B[1;32m~\\AppData\\Local\\Programs\\Python\\Python311\\Lib\\site-packages\\pandas\\io\\parsers\\readers.py:1618\u001B[0m, in \u001B[0;36mTextFileReader.__init__\u001B[1;34m(self, f, engine, **kwds)\u001B[0m\n\u001B[0;32m   1615\u001B[0m     \u001B[38;5;28mself\u001B[39m\u001B[38;5;241m.\u001B[39moptions[\u001B[38;5;124m\"\u001B[39m\u001B[38;5;124mhas_index_names\u001B[39m\u001B[38;5;124m\"\u001B[39m] \u001B[38;5;241m=\u001B[39m kwds[\u001B[38;5;124m\"\u001B[39m\u001B[38;5;124mhas_index_names\u001B[39m\u001B[38;5;124m\"\u001B[39m]\n\u001B[0;32m   1617\u001B[0m \u001B[38;5;28mself\u001B[39m\u001B[38;5;241m.\u001B[39mhandles: IOHandles \u001B[38;5;241m|\u001B[39m \u001B[38;5;28;01mNone\u001B[39;00m \u001B[38;5;241m=\u001B[39m \u001B[38;5;28;01mNone\u001B[39;00m\n\u001B[1;32m-> 1618\u001B[0m \u001B[38;5;28mself\u001B[39m\u001B[38;5;241m.\u001B[39m_engine \u001B[38;5;241m=\u001B[39m \u001B[38;5;28;43mself\u001B[39;49m\u001B[38;5;241;43m.\u001B[39;49m\u001B[43m_make_engine\u001B[49m\u001B[43m(\u001B[49m\u001B[43mf\u001B[49m\u001B[43m,\u001B[49m\u001B[43m \u001B[49m\u001B[38;5;28;43mself\u001B[39;49m\u001B[38;5;241;43m.\u001B[39;49m\u001B[43mengine\u001B[49m\u001B[43m)\u001B[49m\n",
      "File \u001B[1;32m~\\AppData\\Local\\Programs\\Python\\Python311\\Lib\\site-packages\\pandas\\io\\parsers\\readers.py:1878\u001B[0m, in \u001B[0;36mTextFileReader._make_engine\u001B[1;34m(self, f, engine)\u001B[0m\n\u001B[0;32m   1876\u001B[0m     \u001B[38;5;28;01mif\u001B[39;00m \u001B[38;5;124m\"\u001B[39m\u001B[38;5;124mb\u001B[39m\u001B[38;5;124m\"\u001B[39m \u001B[38;5;129;01mnot\u001B[39;00m \u001B[38;5;129;01min\u001B[39;00m mode:\n\u001B[0;32m   1877\u001B[0m         mode \u001B[38;5;241m+\u001B[39m\u001B[38;5;241m=\u001B[39m \u001B[38;5;124m\"\u001B[39m\u001B[38;5;124mb\u001B[39m\u001B[38;5;124m\"\u001B[39m\n\u001B[1;32m-> 1878\u001B[0m \u001B[38;5;28mself\u001B[39m\u001B[38;5;241m.\u001B[39mhandles \u001B[38;5;241m=\u001B[39m \u001B[43mget_handle\u001B[49m\u001B[43m(\u001B[49m\n\u001B[0;32m   1879\u001B[0m \u001B[43m    \u001B[49m\u001B[43mf\u001B[49m\u001B[43m,\u001B[49m\n\u001B[0;32m   1880\u001B[0m \u001B[43m    \u001B[49m\u001B[43mmode\u001B[49m\u001B[43m,\u001B[49m\n\u001B[0;32m   1881\u001B[0m \u001B[43m    \u001B[49m\u001B[43mencoding\u001B[49m\u001B[38;5;241;43m=\u001B[39;49m\u001B[38;5;28;43mself\u001B[39;49m\u001B[38;5;241;43m.\u001B[39;49m\u001B[43moptions\u001B[49m\u001B[38;5;241;43m.\u001B[39;49m\u001B[43mget\u001B[49m\u001B[43m(\u001B[49m\u001B[38;5;124;43m\"\u001B[39;49m\u001B[38;5;124;43mencoding\u001B[39;49m\u001B[38;5;124;43m\"\u001B[39;49m\u001B[43m,\u001B[49m\u001B[43m \u001B[49m\u001B[38;5;28;43;01mNone\u001B[39;49;00m\u001B[43m)\u001B[49m\u001B[43m,\u001B[49m\n\u001B[0;32m   1882\u001B[0m \u001B[43m    \u001B[49m\u001B[43mcompression\u001B[49m\u001B[38;5;241;43m=\u001B[39;49m\u001B[38;5;28;43mself\u001B[39;49m\u001B[38;5;241;43m.\u001B[39;49m\u001B[43moptions\u001B[49m\u001B[38;5;241;43m.\u001B[39;49m\u001B[43mget\u001B[49m\u001B[43m(\u001B[49m\u001B[38;5;124;43m\"\u001B[39;49m\u001B[38;5;124;43mcompression\u001B[39;49m\u001B[38;5;124;43m\"\u001B[39;49m\u001B[43m,\u001B[49m\u001B[43m \u001B[49m\u001B[38;5;28;43;01mNone\u001B[39;49;00m\u001B[43m)\u001B[49m\u001B[43m,\u001B[49m\n\u001B[0;32m   1883\u001B[0m \u001B[43m    \u001B[49m\u001B[43mmemory_map\u001B[49m\u001B[38;5;241;43m=\u001B[39;49m\u001B[38;5;28;43mself\u001B[39;49m\u001B[38;5;241;43m.\u001B[39;49m\u001B[43moptions\u001B[49m\u001B[38;5;241;43m.\u001B[39;49m\u001B[43mget\u001B[49m\u001B[43m(\u001B[49m\u001B[38;5;124;43m\"\u001B[39;49m\u001B[38;5;124;43mmemory_map\u001B[39;49m\u001B[38;5;124;43m\"\u001B[39;49m\u001B[43m,\u001B[49m\u001B[43m \u001B[49m\u001B[38;5;28;43;01mFalse\u001B[39;49;00m\u001B[43m)\u001B[49m\u001B[43m,\u001B[49m\n\u001B[0;32m   1884\u001B[0m \u001B[43m    \u001B[49m\u001B[43mis_text\u001B[49m\u001B[38;5;241;43m=\u001B[39;49m\u001B[43mis_text\u001B[49m\u001B[43m,\u001B[49m\n\u001B[0;32m   1885\u001B[0m \u001B[43m    \u001B[49m\u001B[43merrors\u001B[49m\u001B[38;5;241;43m=\u001B[39;49m\u001B[38;5;28;43mself\u001B[39;49m\u001B[38;5;241;43m.\u001B[39;49m\u001B[43moptions\u001B[49m\u001B[38;5;241;43m.\u001B[39;49m\u001B[43mget\u001B[49m\u001B[43m(\u001B[49m\u001B[38;5;124;43m\"\u001B[39;49m\u001B[38;5;124;43mencoding_errors\u001B[39;49m\u001B[38;5;124;43m\"\u001B[39;49m\u001B[43m,\u001B[49m\u001B[43m \u001B[49m\u001B[38;5;124;43m\"\u001B[39;49m\u001B[38;5;124;43mstrict\u001B[39;49m\u001B[38;5;124;43m\"\u001B[39;49m\u001B[43m)\u001B[49m\u001B[43m,\u001B[49m\n\u001B[0;32m   1886\u001B[0m \u001B[43m    \u001B[49m\u001B[43mstorage_options\u001B[49m\u001B[38;5;241;43m=\u001B[39;49m\u001B[38;5;28;43mself\u001B[39;49m\u001B[38;5;241;43m.\u001B[39;49m\u001B[43moptions\u001B[49m\u001B[38;5;241;43m.\u001B[39;49m\u001B[43mget\u001B[49m\u001B[43m(\u001B[49m\u001B[38;5;124;43m\"\u001B[39;49m\u001B[38;5;124;43mstorage_options\u001B[39;49m\u001B[38;5;124;43m\"\u001B[39;49m\u001B[43m,\u001B[49m\u001B[43m \u001B[49m\u001B[38;5;28;43;01mNone\u001B[39;49;00m\u001B[43m)\u001B[49m\u001B[43m,\u001B[49m\n\u001B[0;32m   1887\u001B[0m \u001B[43m\u001B[49m\u001B[43m)\u001B[49m\n\u001B[0;32m   1888\u001B[0m \u001B[38;5;28;01massert\u001B[39;00m \u001B[38;5;28mself\u001B[39m\u001B[38;5;241m.\u001B[39mhandles \u001B[38;5;129;01mis\u001B[39;00m \u001B[38;5;129;01mnot\u001B[39;00m \u001B[38;5;28;01mNone\u001B[39;00m\n\u001B[0;32m   1889\u001B[0m f \u001B[38;5;241m=\u001B[39m \u001B[38;5;28mself\u001B[39m\u001B[38;5;241m.\u001B[39mhandles\u001B[38;5;241m.\u001B[39mhandle\n",
      "File \u001B[1;32m~\\AppData\\Local\\Programs\\Python\\Python311\\Lib\\site-packages\\pandas\\io\\common.py:873\u001B[0m, in \u001B[0;36mget_handle\u001B[1;34m(path_or_buf, mode, encoding, compression, memory_map, is_text, errors, storage_options)\u001B[0m\n\u001B[0;32m    868\u001B[0m \u001B[38;5;28;01melif\u001B[39;00m \u001B[38;5;28misinstance\u001B[39m(handle, \u001B[38;5;28mstr\u001B[39m):\n\u001B[0;32m    869\u001B[0m     \u001B[38;5;66;03m# Check whether the filename is to be opened in binary mode.\u001B[39;00m\n\u001B[0;32m    870\u001B[0m     \u001B[38;5;66;03m# Binary mode does not support 'encoding' and 'newline'.\u001B[39;00m\n\u001B[0;32m    871\u001B[0m     \u001B[38;5;28;01mif\u001B[39;00m ioargs\u001B[38;5;241m.\u001B[39mencoding \u001B[38;5;129;01mand\u001B[39;00m \u001B[38;5;124m\"\u001B[39m\u001B[38;5;124mb\u001B[39m\u001B[38;5;124m\"\u001B[39m \u001B[38;5;129;01mnot\u001B[39;00m \u001B[38;5;129;01min\u001B[39;00m ioargs\u001B[38;5;241m.\u001B[39mmode:\n\u001B[0;32m    872\u001B[0m         \u001B[38;5;66;03m# Encoding\u001B[39;00m\n\u001B[1;32m--> 873\u001B[0m         handle \u001B[38;5;241m=\u001B[39m \u001B[38;5;28mopen\u001B[39m(\n\u001B[0;32m    874\u001B[0m             handle,\n\u001B[0;32m    875\u001B[0m             ioargs\u001B[38;5;241m.\u001B[39mmode,\n\u001B[0;32m    876\u001B[0m             encoding\u001B[38;5;241m=\u001B[39mioargs\u001B[38;5;241m.\u001B[39mencoding,\n\u001B[0;32m    877\u001B[0m             errors\u001B[38;5;241m=\u001B[39merrors,\n\u001B[0;32m    878\u001B[0m             newline\u001B[38;5;241m=\u001B[39m\u001B[38;5;124m\"\u001B[39m\u001B[38;5;124m\"\u001B[39m,\n\u001B[0;32m    879\u001B[0m         )\n\u001B[0;32m    880\u001B[0m     \u001B[38;5;28;01melse\u001B[39;00m:\n\u001B[0;32m    881\u001B[0m         \u001B[38;5;66;03m# Binary mode\u001B[39;00m\n\u001B[0;32m    882\u001B[0m         handle \u001B[38;5;241m=\u001B[39m \u001B[38;5;28mopen\u001B[39m(handle, ioargs\u001B[38;5;241m.\u001B[39mmode)\n",
      "\u001B[1;31mFileNotFoundError\u001B[0m: [Errno 2] No such file or directory: 'CSV/transactions_itemlist.csv'"
     ]
    }
   ],
   "source": [
    "trans_itemlist = pd.read_csv('CSV/transactions_itemlist.csv', sep=';')\n",
    "def get_item_list (string): \n",
    "    items = string [1:-1]\n",
    "    return items.split(',')\n",
    "transactions = trans_itemlist['items'].apply(get_item_list).to_numpy()\n",
    "#transactions = trans_itemlist['items'].apply(lambda row:row[1:-1].split(';')).to_numpy()\n",
    "te = TransactionEncoder()\n",
    "dataset = te.fit(transactions).transform(transactions)\n",
    "transactionstable = pd.DataFrame(dataset, columns=te.columns_, index= trans_itemlist.transactionID)\n",
    "print(transactionstable)"
   ],
   "metadata": {
    "collapsed": false,
    "ExecuteTime": {
     "start_time": "2024-03-28T14:35:34.199515Z"
    }
   },
   "id": "952f1bc009c8a17b",
   "execution_count": 139
  },
  {
   "cell_type": "markdown",
   "source": [
    "### Modeling > Support\n",
    "Support: Hoe vaak komt een combinatie van items voor?\n",
    "\n",
    "Support (A) = #A/#Transacties\n",
    "Support (A&B&...&M) = #(A&B&...&M)/ #Transacties\n",
    "\n",
    "• Een combinatie van 1 item is ook een combinatie\n",
    "• Support(Item) : Aantal keer dat item voorkomt relatief ten opzichte van het aantal transacties\n",
    "\n",
    "Printer wordt verkocht bij 4 sales: De support van printer is 4/10 = 0.4\n",
    " Support(Printer) = 0,4\n",
    "\n",
    "• Support voor een combinatie van meerdere items (itemset)\n",
    "• Support(item1, item2): Relatief aantal keer dat item1 en item2 samen in een transactie voorkomen.\n",
    "Support(printer EN cartridge) = 3/10 = 0,3"
   ],
   "metadata": {
    "collapsed": false
   },
   "id": "47fb443fe0c91ad"
  },
  {
   "cell_type": "markdown",
   "source": [
    "### Itemsets = Combinatie van items: \n",
    "Beschouw een winkel met slechts 4 producten:\n",
    "from scipy.special import comb\n",
    "comb(4,1) # = 4\n",
    "comb(4,2) # = 6\n",
    "comb(4,3) # = 4\n",
    "comb(4,4) # = 1\n",
    "sum([comb(4,i) for i in range(1,5)]) # = 15"
   ],
   "metadata": {
    "collapsed": false
   },
   "id": "6854df8cd0ff845b"
  },
  {
   "cell_type": "code",
   "outputs": [],
   "source": [
    "comb(4,1) # = 4\n",
    "comb(4,2) # = 6\n",
    "comb(4,3) # = 4\n",
    "comb(4,4) # = 1\n",
    "sum([comb(4,i) for i in range(1,5)]) # = 15"
   ],
   "metadata": {
    "collapsed": false,
    "ExecuteTime": {
     "end_time": "2024-03-28T14:35:34.311539400Z",
     "start_time": "2024-03-28T14:35:34.266087Z"
    }
   },
   "id": "78f844bbd5b68456",
   "execution_count": null
  },
  {
   "cell_type": "code",
   "outputs": [
    {
     "name": "stdout",
     "output_type": "stream",
     "text": [
      "1.0715086071867646e+301\n",
      "250   1.8092513943332126e+75\n",
      "251   3.6185027886659254e+75\n",
      "252   7.237005577332468e+75\n",
      "253   1.447401115466327e+76\n",
      "254   2.8948022309327808e+76\n",
      "255   5.789604461866955e+76\n",
      "256   1.1579208923731074e+77\n",
      "257   2.3158417847461918e+77\n",
      "258   4.631683569492936e+77\n",
      "259   9.263367138988058e+77\n",
      "260   1.8526734277969404e+78\n",
      "261   3.705346855594189e+78\n",
      "262   7.410693711187493e+78\n",
      "263   1.4821387422377835e+79\n",
      "264   2.9642774844751363e+79\n",
      "265   5.92855496895105e+79\n",
      "266   1.185710993790014e+80\n",
      "267   2.3714219875802067e+80\n",
      "268   4.74284397516071e+80\n",
      "269   9.485687950319638e+80\n",
      "270   1.8971375900643453e+81\n",
      "271   3.794275180128938e+81\n",
      "272   7.588550360257002e+81\n",
      "273   1.5177100720517926e+82\n",
      "274   3.035420144102721e+82\n"
     ]
    }
   ],
   "source": [
    "# Oefening:\n",
    "# • Bereken hoeveel itemsets je kan maken wanneer de winkel 1000 producten (items) te koop aanbiedt.\n",
    "# Association rules – Itemsets Item sets = Combinatie van items Oefening:\n",
    "print(sum([comb(1000,i) for i in range(1,1001)]))\n",
    "\n",
    "# • Bereken hoeveel producten je in een winkel maximaal kunt aanbieden waarbij het aantal itemsets niet hoger is dan het aantal atomen in het heelal (nl. 10^80 )\n",
    "for j in range(250,275): \n",
    "    print (j, \" \", sum([comb(j,i) for i in range(1,j+1)]))"
   ],
   "metadata": {
    "collapsed": false,
    "ExecuteTime": {
     "end_time": "2024-03-28T14:35:34.409497800Z",
     "start_time": "2024-03-28T14:35:34.289372500Z"
    }
   },
   "id": "4878d793bb2b167a",
   "execution_count": 140
  },
  {
   "cell_type": "markdown",
   "source": [
    " we hebben efficiëntere algorithms nodig om de (interessante) itemsets te bepalen"
   ],
   "metadata": {
    "collapsed": false
   },
   "id": "311f0c1eafbecb9c"
  },
  {
   "cell_type": "markdown",
   "source": [
    "### Itemsets Efficiënte algoritmes\n",
    "#### Efficiëntere algoritmen > Apriori\n",
    "1. Bepaal een minimum support vb. 0,2\n",
    "2. for (i=1; i < aantal mogelijke items; i++)\n",
    "a. Bereken de supports van combinaties van i items. \n",
    "Doe dit enkel voor combinaties waarin geen van de geschrapte combinaties inzitten. \n",
    "Je weet namelijk dat de support nooit hoger zal zijn.\n",
    "b. Schrap supports < minimum support"
   ],
   "metadata": {
    "collapsed": false
   },
   "id": "ff8e6f319afba56a"
  },
  {
   "cell_type": "code",
   "outputs": [
    {
     "ename": "NameError",
     "evalue": "name 'transactionstable' is not defined",
     "output_type": "error",
     "traceback": [
      "\u001B[1;31m---------------------------------------------------------------------------\u001B[0m",
      "\u001B[1;31mNameError\u001B[0m                                 Traceback (most recent call last)",
      "Cell \u001B[1;32mIn[141], line 2\u001B[0m\n\u001B[0;32m      1\u001B[0m \u001B[38;5;66;03m#In phyton\u001B[39;00m\n\u001B[1;32m----> 2\u001B[0m itemsets \u001B[38;5;241m=\u001B[39m apriori(\u001B[43mtransactionstable\u001B[49m, min_support\u001B[38;5;241m=\u001B[39m\u001B[38;5;241m0.2\u001B[39m, use_colnames\u001B[38;5;241m=\u001B[39m\u001B[38;5;28;01mTrue\u001B[39;00m)\n\u001B[0;32m      3\u001B[0m \u001B[38;5;28mprint\u001B[39m(itemsets)\n",
      "\u001B[1;31mNameError\u001B[0m: name 'transactionstable' is not defined"
     ]
    }
   ],
   "source": [
    "#In phyton\n",
    "itemsets = apriori(transactionstable, min_support=0.2, use_colnames=True)\n",
    "print(itemsets)"
   ],
   "metadata": {
    "collapsed": false,
    "ExecuteTime": {
     "end_time": "2024-03-28T14:35:34.411005800Z",
     "start_time": "2024-03-28T14:35:34.323546100Z"
    }
   },
   "id": "866ebb071456688f",
   "execution_count": 141
  },
  {
   "cell_type": "markdown",
   "source": [
    "Pros:\n",
    " Een combinatie (AB) met een lage Support zal door uitbreiding van die combinatie (ABC, ABD, ...) nooit stijgen in Support!\n",
    " Apriori snijdt deze oninteressante combinaties automatisch weg (pruned).\n",
    " Door vanaf het begin combinaties die te weinig voorkomen (een lage Support hebben) te schrappen, worden veel scans van de transacties vermeden!\n",
    "Cons:\n",
    " Hoewel efficiënter, vereist Apriori nog steeds voor elke te onderzoeken combinatie een scan van alle transacties.\n",
    " Bedrijven hebben nood aan het opstellen van associatieregels voor datasets met grote aantallen transacties en items. In dergelijke situaties duurt het Apriori algoritme zeer lang"
   ],
   "metadata": {
    "collapsed": false
   },
   "id": "e3b3d17f6152fcbf"
  },
  {
   "cell_type": "markdown",
   "source": [
    "#### FP-Growth\n",
    "1. Tel de frequenties van alle items. Het algoritme doorloopt een eerste keer de transacties\n",
    "2. Schrap de items met een support kleiner dan minimumsupport\n",
    "3. Sorteer de items van groot naar klein volgens support\n",
    "\n",
    "5. Bouw transactie per transactie een boomstructuur op. Het algoritme doorloopt een tweede keer alle transacties\n",
    "A. Maak een eerste node. Dat is de Null node.\n",
    "B. Neem de eerste transactie en sorteer de items uit die transactie volgens de volgorde uit stap 3\n",
    "=> Cartridge, Printer, Ballpoint\n",
    "C. Plaats de items in die volgorde in de boom.\n",
    "> I. Als er nog geen subnode van het item bestaat dan voeg je die toe met een counter op 1. Aangezien dit de eerste transactie is betreft het hier sowieso nieuwe subnodes.\n",
    "> II. Als het item al wel aan de null gekoppeld is dan verhoog je de counters van de subnodes die overeenkomen met je transactie. Andere voeg je de items toe via een nieuwe tak toe met counter op 1\n",
    "D. Neem de volgende transactie, sorteer en voer de zelfde logica uit als in stap C.\n",
    "Het eerste item (Cartridge) is reeds aan de null node gekoppeld. We verhogen daarom de counter op Cartridge met 1. Paper is nog niet gekoppeld aan die Cartridge\n",
    "node. We voegen daarom een paper node toe met counter op 1.\n",
    "E. Voor elke daaropvolgende transactie volgen we dezelfde logica.\n",
    "\n",
    "5. Extraheer de supports uit de boomstructuur\n",
    "• De boomstructuur bevat alle supports.\n",
    "• De counter op een node geeft aan hoe vaak een combinatie met de bovenliggende nodes voorkomt.\n",
    "Printer komt 3 keer voor met Cartridge.\n",
    "• Het is ook mogelijk dat een bepaalde combinatie meerdere keren voorkomt.\n",
    "“Printer, Ballpoint” komt 1 keer voor onder Cartridge en 1 keer voor onder Null. De combinatie “Printer,Ballpoint” komt dus 2 keer voor.\n",
    "• Je dient ook subnodes te combineren met de parentnode van de parentnode Ballpoint komt 1 keer voor met Cartidge in combinatie met printer en 1 keer\n",
    "in combinatie met Paper. “Cartridge, Ballpoint” komt dus 2 keer voor.\n",
    "• De aantallen kunnen we gebruiken om te kijken welke combinaties voldoen aan de minimumsupport van 0.2 of in dit geval 2 van de 10 transacties:\n",
    "Printer, Cartridge komt 3 keer voor\n",
    "Paper, Cartridge komt 3 keer voor\n",
    "Printer, Ballpoint komt 2 keer voor\n",
    "Ballpoint, Cartridge komt 2 keer voor"
   ],
   "metadata": {
    "collapsed": false
   },
   "id": "8ab61949de119063"
  },
  {
   "cell_type": "code",
   "outputs": [
    {
     "ename": "NameError",
     "evalue": "name 'transactionstable' is not defined",
     "output_type": "error",
     "traceback": [
      "\u001B[1;31m---------------------------------------------------------------------------\u001B[0m",
      "\u001B[1;31mNameError\u001B[0m                                 Traceback (most recent call last)",
      "Cell \u001B[1;32mIn[142], line 2\u001B[0m\n\u001B[0;32m      1\u001B[0m \u001B[38;5;66;03m# In python\u001B[39;00m\n\u001B[1;32m----> 2\u001B[0m itemsets \u001B[38;5;241m=\u001B[39m fpgrowth(\u001B[43mtransactionstable\u001B[49m, min_support\u001B[38;5;241m=\u001B[39m\u001B[38;5;241m0.2\u001B[39m, use_colnames\u001B[38;5;241m=\u001B[39m\u001B[38;5;28;01mTrue\u001B[39;00m)\n\u001B[0;32m      3\u001B[0m \u001B[38;5;28mprint\u001B[39m(itemsets)\n",
      "\u001B[1;31mNameError\u001B[0m: name 'transactionstable' is not defined"
     ]
    }
   ],
   "source": [
    "# In python\n",
    "itemsets = fpgrowth(transactionstable, min_support=0.2, use_colnames=True)\n",
    "print(itemsets)"
   ],
   "metadata": {
    "collapsed": false,
    "ExecuteTime": {
     "start_time": "2024-03-28T14:35:34.391724800Z"
    }
   },
   "id": "2285010e8ad234d1",
   "execution_count": 142
  },
  {
   "cell_type": "markdown",
   "source": [
    "Pros: \n",
    " Met het FP-growth algoritme moeten alle transacties slechts tweemaal doorlopen te worden om alle relevante supports te berekenen.\n",
    " Meer items geven enkel een lineaire groei\n",
    " Het werk kan ook verdeeld worden over verschillende computers. Deze manier van parallel werken maakt het mogelijk om dit algoritme op heel veel transacties uit te voeren.\n",
    "Cons:\n",
    " Het FP-Growth algoritme is omslachtiger en moeilijker (handmatig) uit te voeren dan het Apriori algoritme.\n",
    " De uitvoering van het FP-Growth algoritme kan duur zijn.\n",
    " Wanneer de database groot is, past het algoritme mogelijk niet in het gedeelde geheugen."
   ],
   "metadata": {
    "collapsed": false
   },
   "id": "f553cdba68a700e9"
  },
  {
   "cell_type": "markdown",
   "source": [
    "### Association Rules bepalen\n",
    "#### Identificeren > Confidence\n",
    "Confidence: Hoe zeker zijn we er van dat item B in een transactie zit als we weten dat item A in een transactie zit?\n",
    "Confidence A -> B = (Support A & B)/ Support A\n",
    "\n",
    "#### Identificeren > Hoe regels vastleggen\n",
    "Lift: in welke mate levert een bepaalde regel meer zekerheid op.\n",
    "Lift A -> B = (Confidence A -> B)/ Support B\n",
    "\n",
    "#### Verbanden met kansen\n",
    "Support en Confidence zijn in feite kansen:\n",
    "Support is de kans op gebeurtenis A (voorafgaande aan een verkoop):\n",
    "Support(A) = #A/#Transacties = P(A)\n",
    "\n",
    "Confidence is de voorwaardelijke kans op gebeurtenis B wanneer gebeurtenis A reeds heeft plaast gevonden (na een bepaalde koop):\n",
    "Confidence A -> B = (Support A & B)/ Support A = P(B|A)\n",
    "\n",
    "Wat met Lift?\n",
    "Lift A -> B = (Confidence A -> B)/ Support B =P(B|A)/P(B)"
   ],
   "metadata": {
    "collapsed": false
   },
   "id": "1ae83c9469b0c00a"
  },
  {
   "cell_type": "markdown",
   "source": [
    "Modeling > Hoe regels vastleggen\n",
    "Als het aantal items beperkt is, kan je alle mogelijke itemsets opsommen. \n",
    "Zo niet, gebruik dan het apriori‐algoritme of het FP‐ Growth‐algoritme om het aantal itemsets te beperken.\n",
    "\n",
    "1. Bereken alle mogelijke confidences...\n",
    "a) ... voor itemsets met 2 item: Conf(Printer -> Paper)\n",
    "b) ... voor itemsets met 3 items: Conf(Printer, Paper -> Cartridge)\n",
    "c) ... voor itemsets met 4 items: Conf(Printer, Paper, Cartridge -> Ballpoint)\n",
    "d) ...\n",
    "2. Selecteer rules die je wil gebruiken\n",
    "a) Regels met een confidence > x. Alle confidences groter dan 0,5 zetten we om naar een association rule\n",
    "b) De n hoogste confidences: Als je moeilijk het niveau van de confidences kan inschatten \n",
    "Neem de regels met de hoogste confidences. Bol.com stelt andere items voor op basis van de top 3 confidences ten opzichte van het opgezochte item"
   ],
   "metadata": {
    "collapsed": false
   },
   "id": "b31ed99139fbc62e"
  },
  {
   "cell_type": "code",
   "outputs": [
    {
     "ename": "NameError",
     "evalue": "name 'itemsets' is not defined",
     "output_type": "error",
     "traceback": [
      "\u001B[1;31m---------------------------------------------------------------------------\u001B[0m",
      "\u001B[1;31mNameError\u001B[0m                                 Traceback (most recent call last)",
      "Cell \u001B[1;32mIn[143], line 1\u001B[0m\n\u001B[1;32m----> 1\u001B[0m rules \u001B[38;5;241m=\u001B[39m association_rules(\u001B[43mitemsets\u001B[49m, metric\u001B[38;5;241m=\u001B[39m\u001B[38;5;124m'\u001B[39m\u001B[38;5;124mconfidence\u001B[39m\u001B[38;5;124m'\u001B[39m, min_threshold\u001B[38;5;241m=\u001B[39m\u001B[38;5;241m0.4\u001B[39m)\n\u001B[0;32m      2\u001B[0m \u001B[38;5;28mprint\u001B[39m(rules)\n",
      "\u001B[1;31mNameError\u001B[0m: name 'itemsets' is not defined"
     ]
    }
   ],
   "source": [
    "rules = association_rules(itemsets, metric='confidence', min_threshold=0.4)\n",
    "print(rules)"
   ],
   "metadata": {
    "collapsed": false,
    "ExecuteTime": {
     "end_time": "2024-03-28T14:35:34.539725900Z",
     "start_time": "2024-03-28T14:35:34.489805100Z"
    }
   },
   "id": "8d54afd4a03f770d",
   "execution_count": 143
  },
  {
   "cell_type": "code",
   "outputs": [],
   "source": [],
   "metadata": {
    "collapsed": false,
    "ExecuteTime": {
     "end_time": "2024-03-28T14:35:34.583539900Z",
     "start_time": "2024-03-28T14:35:34.522713400Z"
    }
   },
   "id": "40a920823cfbb496",
   "execution_count": 143
  }
 ],
 "metadata": {
  "kernelspec": {
   "display_name": "Python 3 (ipykernel)",
   "language": "python",
   "name": "python3"
  },
  "language_info": {
   "codemirror_mode": {
    "name": "ipython",
    "version": 3
   },
   "file_extension": ".py",
   "mimetype": "text/x-python",
   "name": "python",
   "nbconvert_exporter": "python",
   "pygments_lexer": "ipython3",
   "version": "3.11.2"
  }
 },
 "nbformat": 4,
 "nbformat_minor": 5
}
