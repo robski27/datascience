{
 "cells": [
  {
   "cell_type": "markdown",
   "id": "d034e295-a915-4c98-8fd1-9ff346aadc76",
   "metadata": {},
   "source": [
    "# P3W1: kansen"
   ]
  },
  {
   "cell_type": "markdown",
   "id": "2f9cab28-3830-4393-9ab9-a396440c8e31",
   "metadata": {},
   "source": [
    "## 1. Laplace"
   ]
  },
  {
   "cell_type": "markdown",
   "id": "18938364-e0df-4323-ba22-65be2ff6d951",
   "metadata": {},
   "source": [
    "P(G) = #G / #U"
   ]
  },
  {
   "cell_type": "markdown",
   "id": "a2bd1775-c10a-4fb8-a486-5cbb7f5f6ccf",
   "metadata": {},
   "source": [
    "## 2. Rekenen met kansen"
   ]
  },
  {
   "cell_type": "markdown",
   "id": "5bacf545-fc09-4e0d-8f85-109f1735bdce",
   "metadata": {},
   "source": [
    "P(niet $G$) = 1 - P($G$)"
   ]
  },
  {
   "cell_type": "markdown",
   "id": "9dd8b494-6506-49b4-939b-aefff3beebd8",
   "metadata": {},
   "source": [
    "<ins>Uitsluitend :</ins> P($G_1$ of $G_2$) = P($G_1 \\cup G_2$) = P($G_1$) + P($G_2$)"
   ]
  },
  {
   "cell_type": "markdown",
   "id": "115fac67-438c-4e02-b71d-2b14691fecee",
   "metadata": {},
   "source": [
    "P($G_1$ of $G_2$) = P($G_1 \\cup G_2$) = P($G_1$) + P($G_2$) - P($G_1 \\cap G_2$)"
   ]
  },
  {
   "cell_type": "markdown",
   "id": "62b39017-11a8-4504-bd22-597961116f30",
   "metadata": {},
   "source": [
    "<ins>Onafhankelijk:</ins> P($G_1$ en $G_2$) = P($G_1 \\cap G_2$) = P($G_1$) * P($G_2$)"
   ]
  },
  {
   "cell_type": "markdown",
   "id": "c3325200-0a9e-4701-a74b-b3311a1fcbd3",
   "metadata": {},
   "source": [
    "P($G_1$ en $G_2$) = P($G_1 \\cap G_2$) = P($G_1$) * P($G_2$ | $G_1$)"
   ]
  },
  {
   "cell_type": "markdown",
   "id": "7065d52d-4dd2-4e50-bc16-45a7be0fdb66",
   "metadata": {},
   "source": [
    "## 3. Voorwaardelijke kansen en kruistabellen"
   ]
  },
  {
   "attachments": {},
   "cell_type": "markdown",
   "id": "ffa26447-e561-462a-b52e-b64e594c5d22",
   "metadata": {},
   "source": [
    "|          | Wit merk | Geen Wit merk |        |\n",
    "|:--------:|:--------:|:-------:|:------:|\n",
    "| Slechte koeling |   1498  | 1513   |  3011   |\n",
    "| Goede koeling   |  504    | 6485   | 6989   |\n",
    "|                 |   2002    |    7998   |  10000   |"
   ]
  },
  {
   "cell_type": "code",
   "execution_count": 1,
   "id": "8a1e5fe0-71a4-4631-b69a-1d67e4f106b7",
   "metadata": {},
   "outputs": [],
   "source": [
    "# P(Slecht en Wit) = 1498 / 10000\n",
    "# P(Slecht | Wit) = 1498 / 2002\n",
    "# P(Slecht) = 3011 / 10000\n",
    "# P(Wit) = 2002 / 10000\n",
    "# P(Slecht en Wit) = P(Wit) * P(Slecht | Wit)"
   ]
  },
  {
   "cell_type": "code",
   "execution_count": 2,
   "id": "28002a8e-c9cd-43e0-b2d9-54a42c96404e",
   "metadata": {},
   "outputs": [],
   "source": [
    "# Onafhankelijk ?\n",
    "# P(Slecht | Wit) ?= P(Slecht)\n",
    "# P(Slecht en Wit) ?= P(Slecht) * P(Wit)\n",
    "# Neen -> afhankelijk"
   ]
  },
  {
   "cell_type": "markdown",
   "id": "672e6f60-9e31-4f46-9a88-f304e206adda",
   "metadata": {},
   "source": [
    "## 4. Wet van totale kans"
   ]
  },
  {
   "cell_type": "code",
   "execution_count": 1,
   "id": "6fb20102-abb7-4bbb-a760-ef7fd61dd9d8",
   "metadata": {},
   "outputs": [],
   "source": [
    "# Kans dat belastingen verlaagd worden\n",
    "#\n",
    "# P(V1 en B  of  V2 en B  of  V3 en B) =\n",
    "# P(V1 en B) + P(V2 en B) + P(V3 en B) =\n",
    "# P(V1) * P(B | V1) + P(V2) * P(B | V2) + P(V3) * P(B | V3) "
   ]
  },
  {
   "cell_type": "markdown",
   "id": "f0e416d3-c804-4201-a4a3-7c8d04ddf014",
   "metadata": {},
   "source": [
    "## 5. Wet van Bayes"
   ]
  },
  {
   "cell_type": "code",
   "execution_count": 3,
   "id": "b5dd7d35-91ef-45bb-882e-37ba32efebea",
   "metadata": {},
   "outputs": [],
   "source": [
    "# Toepassen als de \"omgekeerde\" voorwaarde gekend is\n",
    "# Veel in combinatie met wet van totale kans\n",
    "#\n",
    "# P(V1 en B) = P(V1) * P(B | V1) = P(B) * P(V1 | B)\n",
    "# P(V1 | B) = P(V1) * P(B | V1) / P(B)"
   ]
  }
 ],
 "metadata": {
  "kernelspec": {
   "display_name": "Python 3 (ipykernel)",
   "language": "python",
   "name": "python3"
  },
  "language_info": {
   "codemirror_mode": {
    "name": "ipython",
    "version": 3
   },
   "file_extension": ".py",
   "mimetype": "text/x-python",
   "name": "python",
   "nbconvert_exporter": "python",
   "pygments_lexer": "ipython3",
   "version": "3.11.7"
  }
 },
 "nbformat": 4,
 "nbformat_minor": 5
}
