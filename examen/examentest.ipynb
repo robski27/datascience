{
 "cells": [
  {
   "cell_type": "code",
   "execution_count": null,
   "id": "initial_id",
   "metadata": {
    "collapsed": true
   },
   "outputs": [],
   "source": []
  },
  {
   "cell_type": "code",
   "outputs": [
    {
     "name": "stdout",
     "output_type": "stream",
     "text": [
      "0.75\n",
      "0.07\n",
      "0.28571428571428575\n"
     ]
    },
    {
     "data": {
      "text/plain": "0.28571428571428575"
     },
     "execution_count": 15,
     "metadata": {},
     "output_type": "execute_result"
    }
   ],
   "source": [
    "from mlxtend.frequent_patterns import fpgrowth, association_rules, apriori\n",
    "import pandas as pd\n",
    "import numpy as np\n",
    "import matplotlib.pyplot as plt\n",
    "import math\n",
    "from mlxtend.preprocessing import TransactionEncoder\n",
    "from scipy import stats\n",
    "from scipy.stats import binom ,norm, poisson, chi2,t,ttest_1samp, chisquare\n",
    "from scipy.special import comb\n",
    "\n",
    "def bayes(A,B,A_als_B):\n",
    "    B_als_A = (A*A_als_B)/B\n",
    "    \n",
    "    return B_als_A\n",
    "\n",
    "def totale_kans(kansen : list):\n",
    "    result = 0\n",
    "    for x in kansen:\n",
    "        result += x\n",
    "    return result\n",
    "def factor(p,n):\n",
    "    factorresult = t.ppf((1+p)/2, df=n-1)\n",
    "    return factorresult\n",
    "def tinterval(p_of_a,n,x_bar,s):\n",
    "    result = t.interval(confidence=p_of_a, df=n-1,loc = x_bar, scale=s/math.sqrt(n))\n",
    "    return result\n",
    "def binneninterval(x_bar, tinterval :  list):\n",
    "    result = tinterval[0] < x_bar < tinterval[1]\n",
    "    print(\"binnen interval? \" ,result)\n",
    "\n"
   ],
   "metadata": {
    "collapsed": false,
    "ExecuteTime": {
     "end_time": "2024-03-25T11:42:23.545306700Z",
     "start_time": "2024-03-25T11:42:23.534422900Z"
    }
   },
   "id": "ce2bc4a1ab506513",
   "execution_count": 15
  }
 ],
 "metadata": {
  "kernelspec": {
   "display_name": "Python 3",
   "language": "python",
   "name": "python3"
  },
  "language_info": {
   "codemirror_mode": {
    "name": "ipython",
    "version": 2
   },
   "file_extension": ".py",
   "mimetype": "text/x-python",
   "name": "python",
   "nbconvert_exporter": "python",
   "pygments_lexer": "ipython2",
   "version": "2.7.6"
  }
 },
 "nbformat": 4,
 "nbformat_minor": 5
}
